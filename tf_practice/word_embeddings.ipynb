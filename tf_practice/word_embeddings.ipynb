{
  "nbformat": 4,
  "nbformat_minor": 0,
  "metadata": {
    "colab": {
      "name": "word_embeddings.ipynb",
      "provenance": []
    },
    "kernelspec": {
      "name": "python3",
      "display_name": "Python 3"
    },
    "accelerator": "GPU"
  },
  "cells": [
    {
      "cell_type": "markdown",
      "metadata": {
        "id": "B8kH40_sSa_g",
        "colab_type": "text"
      },
      "source": [
        "This tutorial comtains complete code to train word embeddings from scratch on a small dataset, and to visualize these embeddings using the Embedding Projector"
      ]
    },
    {
      "cell_type": "markdown",
      "metadata": {
        "id": "vlTVNRwhSq2V",
        "colab_type": "text"
      },
      "source": [
        "## Representing text as numbers\n",
        "Machine learning models take vectors (arrays of numbers) as imput. When working with text, the first thing we must do come up with a strategy to convert strings to numbers (or to \"vectorize\" the text) before feeding it to the model. We will look at three strategies for doing so.\n"
      ]
    },
    {
      "cell_type": "markdown",
      "metadata": {
        "id": "UQb7hHI2S7uQ",
        "colab_type": "text"
      },
      "source": [
        "### One-hot encodings\n",
        "As a first idea, we might \"one-hot\" encode each word in our vocabulary. Consider the sentence \"The cat sat on the mat\". The vocabulary (or unique words) in this sentences is (cat, mat, on , sat, the). To represent each word, we will create a zero vector with length equal to the vocabulary, then place a one in the index that corresponds to the word."
      ]
    },
    {
      "cell_type": "markdown",
      "metadata": {
        "id": "TwLSQEx0Tgz1",
        "colab_type": "text"
      },
      "source": [
        "To create a vector that contains the encoding of the sentence, we could then concatenate the one-hot vecotrs for each word.\n",
        "\n",
        "Key point: This approach is inefficient. A one-hot encoded vector is sparse (meaning, most indices are zero). Imagine we have 10,000 words in the vocabulary. To one-hot encode each word, we would create a vector where 99.99% of the elements are zero."
      ]
    },
    {
      "cell_type": "markdown",
      "metadata": {
        "id": "rt_xZiZcT2ha",
        "colab_type": "text"
      },
      "source": [
        "### Encode each word with a unique number\n",
        "A second approach we might try is to encode each word using a unique number. Continuing the example above, we could assign 1 to \"cat\", 2 to \"mat\", and so on. We could then encode the sentence \"The cat sat on the mat\" as a dense vector like [5, 1, 4, 3, 5, 2].  This approach is efficient, Instead of a sparse vector, we not have a dense one (where all elements are full).\n",
        "\n",
        "There are two downsides to this approach, however:\n",
        "- The integer-encoding is arbitrary (it does not capture any relationship between words).\n",
        "- An integer-encoding can be challenging for a model to interpret. A linear classifier, for example, learns a single weights for each feature. Because there is no relationship between the similarity of any two words and the similarity of their encoding, this feature-weight combination is not meaningful."
      ]
    },
    {
      "cell_type": "markdown",
      "metadata": {
        "id": "z65yP1WQUj90",
        "colab_type": "text"
      },
      "source": [
        "### Word embeddings\n",
        "Word embeddings give use a way to use an efficient, dense representation in which similar words have a similar encoding. Importantly, we do not have to specify this encoding by hand.\n",
        "An embedding is a dense vector of floating point values (the length of the vector is a parameter you specify). Instead of specifying the values for the embedding manually, there are trainable parameters (weights learned by the model during training, in the same way a model learns weights for a dense layer). It is common to see word embeddings are that are 9-dimensional (for small dataset), up to 1024-dimensions when working with large datasets. A higher dimensional embedding can capture fine-grained relationships between words, bug take more data to learn."
      ]
    },
    {
      "cell_type": "code",
      "metadata": {
        "id": "WAholiFKSRf1",
        "colab_type": "code",
        "colab": {}
      },
      "source": [
        "from __future__ import absolute_import, division, print_function, unicode_literals\n",
        "%tensorflow_version 2.x\n",
        "import tensorflow as tf"
      ],
      "execution_count": 0,
      "outputs": []
    },
    {
      "cell_type": "code",
      "metadata": {
        "id": "X_fwAQJ4VxCn",
        "colab_type": "code",
        "colab": {}
      },
      "source": [
        "from tensorflow import keras\n",
        "from tensorflow.keras import layers\n",
        "\n",
        "import tensorflow_datasets as tfds\n",
        "tfds.disable_progress_bar()"
      ],
      "execution_count": 0,
      "outputs": []
    },
    {
      "cell_type": "markdown",
      "metadata": {
        "id": "dHdsbj7FV8Ac",
        "colab_type": "text"
      },
      "source": [
        "## Using the Embedding layer\n",
        "The Embedding layer can be understood as a lookup table that maps from integer indices (which stand for specific words) to dense vectors (their embeddings). The dimensionality (or width) of the embedding is a parameter you can experiment with to see what works well for your problem, much in the same way you would experiment with the number of neurons in a Dense layer."
      ]
    },
    {
      "cell_type": "code",
      "metadata": {
        "id": "4GXq4fpjV6cG",
        "colab_type": "code",
        "colab": {}
      },
      "source": [
        "embedding_layer = layers.Embedding(input_dim=1000, output_dim=5)"
      ],
      "execution_count": 0,
      "outputs": []
    },
    {
      "cell_type": "markdown",
      "metadata": {
        "id": "P8pSvM84WzSb",
        "colab_type": "text"
      },
      "source": [
        "When you create an Embedding layer, the weights for the embedding are randomly initialized (just like any other layer). During training they are gradually adjusted via backpropagation. Once trained, the learned word embeddings will roughly encode similarities between words (as they were learned for the specific problem you model is trained on)."
      ]
    },
    {
      "cell_type": "code",
      "metadata": {
        "id": "DANrDfGUXPC2",
        "colab_type": "code",
        "colab": {
          "base_uri": "https://localhost:8080/",
          "height": 85
        },
        "outputId": "e970b137-c26a-4d75-cb74-a8627a7e0102"
      },
      "source": [
        "# If i pass an integer to an embedding layer,\n",
        "# the result replaces each integer with the vector from the\n",
        "# embedding table:\n",
        "result = embedding_layer(tf.constant([1,2,3]))\n",
        "result.numpy()"
      ],
      "execution_count": 4,
      "outputs": [
        {
          "output_type": "execute_result",
          "data": {
            "text/plain": [
              "array([[ 0.03074482,  0.0377298 ,  0.03525838, -0.01288663, -0.02259805],\n",
              "       [ 0.03574159, -0.01797842, -0.00686835, -0.03281524, -0.0320949 ],\n",
              "       [ 0.00695553, -0.0179796 , -0.04896924, -0.03460749,  0.04733371]],\n",
              "      dtype=float32)"
            ]
          },
          "metadata": {
            "tags": []
          },
          "execution_count": 4
        }
      ]
    },
    {
      "cell_type": "markdown",
      "metadata": {
        "id": "X0qGt-BCYDkv",
        "colab_type": "text"
      },
      "source": [
        "For text or sequence problems, the Embedding layer takes a 2D tensor of integers, of shape `(samples, sequence_length)` where each entry is a sequence of integer. It can embed sequences of variable lengths. You could feed into the embedding layer above  batches with shape `(32, 10)` (batch of 32 sequences of length 10) or `(64, 15)` (batch of 64 sequence of length 15).\n",
        "\n",
        "The returned tensor has one more axis than the input, the embedding vectors are aligned along the new las axis. Pass it a `(2, 3)` input batch and the output is `(2, 3, N)`"
      ]
    },
    {
      "cell_type": "code",
      "metadata": {
        "id": "AtF9OMqdXdik",
        "colab_type": "code",
        "colab": {
          "base_uri": "https://localhost:8080/",
          "height": 34
        },
        "outputId": "c54ae096-bc61-4a91-ff19-22bed451697c"
      },
      "source": [
        "result = embedding_layer(tf.constant([[0, 1, 2], [3, 4, 5]]))\n",
        "result.shape"
      ],
      "execution_count": 5,
      "outputs": [
        {
          "output_type": "execute_result",
          "data": {
            "text/plain": [
              "TensorShape([2, 3, 5])"
            ]
          },
          "metadata": {
            "tags": []
          },
          "execution_count": 5
        }
      ]
    },
    {
      "cell_type": "markdown",
      "metadata": {
        "id": "Th3QgAMpYu0u",
        "colab_type": "text"
      },
      "source": [
        "When given a batch of sequences as input, an embedding layer return a 3D floating point tensor, of shape `(samples, sequence_length, embedding_dimensionality)`. (word 하나가 embedding dimension이 되니까, Sequence 가 들어오면 Sequence x embedding dimension이 되겠지.) **To convert from this sequence of variable length to a fixed representation there are a variety of standard approaches. You could use and RNN, Attiention, or pooling layer before passing it to a Dense layer.** This tutorial uses pooling because it's simplest."
      ]
    },
    {
      "cell_type": "markdown",
      "metadata": {
        "id": "2PRZuDV4aPri",
        "colab_type": "text"
      },
      "source": [
        "## Learning embeddings from scratch\n",
        "In this tutorial you will train a sentiment classifier on IMDB movie reviews. In the process, the model will learn embeddings from scratch. We will use to a preprocess dataset."
      ]
    },
    {
      "cell_type": "code",
      "metadata": {
        "id": "D0l6q8P-Yrph",
        "colab_type": "code",
        "colab": {
          "base_uri": "https://localhost:8080/",
          "height": 207
        },
        "outputId": "8a352408-e02c-480c-84a0-03f120ab8477"
      },
      "source": [
        "(train_data, test_data), info = tfds.load(\n",
        "    'imdb_reviews/subwords8k',\n",
        "    split = (tfds.Split.TRAIN, tfds.Split.TEST),\n",
        "    with_info=True, as_supervised=True)"
      ],
      "execution_count": 6,
      "outputs": [
        {
          "output_type": "stream",
          "text": [
            "\u001b[1mDownloading and preparing dataset imdb_reviews (80.23 MiB) to /root/tensorflow_datasets/imdb_reviews/subwords8k/0.1.0...\u001b[0m\n",
            "WARNING:tensorflow:From /usr/local/lib/python3.6/dist-packages/tensorflow_datasets/core/file_format_adapter.py:209: tf_record_iterator (from tensorflow.python.lib.io.tf_record) is deprecated and will be removed in a future version.\n",
            "Instructions for updating:\n",
            "Use eager execution and: \n",
            "`tf.data.TFRecordDataset(path)`\n"
          ],
          "name": "stdout"
        },
        {
          "output_type": "stream",
          "text": [
            "WARNING:tensorflow:From /usr/local/lib/python3.6/dist-packages/tensorflow_datasets/core/file_format_adapter.py:209: tf_record_iterator (from tensorflow.python.lib.io.tf_record) is deprecated and will be removed in a future version.\n",
            "Instructions for updating:\n",
            "Use eager execution and: \n",
            "`tf.data.TFRecordDataset(path)`\n"
          ],
          "name": "stderr"
        },
        {
          "output_type": "stream",
          "text": [
            "\u001b[1mDataset imdb_reviews downloaded and prepared to /root/tensorflow_datasets/imdb_reviews/subwords8k/0.1.0. Subsequent calls will reuse this data.\u001b[0m\n"
          ],
          "name": "stdout"
        }
      ]
    },
    {
      "cell_type": "markdown",
      "metadata": {
        "id": "SvADNbJra-zw",
        "colab_type": "text"
      },
      "source": [
        "Get the encoder (`tfds.features.text.SubwordTextEncoder`), and have a quick look at the vocabulary.\n",
        "\n",
        "The \"_\" in the vocabulary represent spaces. Note how the vocabulary includes whole words (ending with \"_\") and partial words which it can use to build larger words:"
      ]
    },
    {
      "cell_type": "code",
      "metadata": {
        "id": "yLHBYMfGa8Q0",
        "colab_type": "code",
        "colab": {
          "base_uri": "https://localhost:8080/",
          "height": 357
        },
        "outputId": "a525285f-a6f2-4ac5-a0dc-be5a2a2d48a4"
      },
      "source": [
        "encoder = info.features[\"text\"].encoder\n",
        "encoder.subwords[:20]"
      ],
      "execution_count": 7,
      "outputs": [
        {
          "output_type": "execute_result",
          "data": {
            "text/plain": [
              "['the_',\n",
              " ', ',\n",
              " '. ',\n",
              " 'a_',\n",
              " 'and_',\n",
              " 'of_',\n",
              " 'to_',\n",
              " 's_',\n",
              " 'is_',\n",
              " 'br',\n",
              " 'in_',\n",
              " 'I_',\n",
              " 'that_',\n",
              " 'this_',\n",
              " 'it_',\n",
              " ' /><',\n",
              " ' />',\n",
              " 'was_',\n",
              " 'The_',\n",
              " 'as_']"
            ]
          },
          "metadata": {
            "tags": []
          },
          "execution_count": 7
        }
      ]
    },
    {
      "cell_type": "code",
      "metadata": {
        "id": "jOVXMiBLb3XS",
        "colab_type": "code",
        "colab": {}
      },
      "source": [
        "# Movie reviews can be different lengths.\n",
        "# We will use the `padded_batch` method to standadize the lengths of the reivews.\n",
        "padded_shapes = ([None], ())\n",
        "train_batches = train_data.shuffle(1000).padded_batch(10, padded_shapes=padded_shapes)\n",
        "test_batches = test_data.shuffle(1000).padded_batch(10, padded_shapes=padded_shapes)"
      ],
      "execution_count": 0,
      "outputs": []
    },
    {
      "cell_type": "markdown",
      "metadata": {
        "id": "_En2CLC_ckd8",
        "colab_type": "text"
      },
      "source": [
        "As imported, the text of reviews is integer-encoded (each integer represents a specific word or word-part in the vocabulary).\n",
        "\n",
        "Note the trailing zeros, because the batch is padded to the longest example."
      ]
    },
    {
      "cell_type": "code",
      "metadata": {
        "id": "eXwSfuQecQmj",
        "colab_type": "code",
        "colab": {
          "base_uri": "https://localhost:8080/",
          "height": 136
        },
        "outputId": "87a631ed-629d-4c9f-cf1c-332085c0a557"
      },
      "source": [
        "train_batch, train_labels = next(iter(train_batches))\n",
        "train_batch.numpy()"
      ],
      "execution_count": 11,
      "outputs": [
        {
          "output_type": "execute_result",
          "data": {
            "text/plain": [
              "array([[4775, 3912, 8002, ..., 2678, 8038, 7975],\n",
              "       [1397, 1425,  568, ...,    0,    0,    0],\n",
              "       [  19, 1669, 6600, ...,    0,    0,    0],\n",
              "       ...,\n",
              "       [ 518, 4212,   34, ...,    0,    0,    0],\n",
              "       [ 407,   77,   18, ...,    0,    0,    0],\n",
              "       [2517,   97,    4, ...,    0,    0,    0]])"
            ]
          },
          "metadata": {
            "tags": []
          },
          "execution_count": 11
        }
      ]
    },
    {
      "cell_type": "markdown",
      "metadata": {
        "id": "uVDi5H7rdpPt",
        "colab_type": "text"
      },
      "source": [
        "### Create a simple model\n",
        "Create \"Continuous bag of words\" style model.\n",
        "\n",
        "- Next the Embedding layer takes the integer-encoded vocabulary and looks up the embedding vector for each word-index. These vectors learned as the model trains. The vecotrs add a dimension to the output array. The resulting dimensions are `(batch, sequence, embedding)`.\n",
        "- Next, a GlobalAveragePooling1D layer returns a fixed-length output vector for each example by averaging over the sequence dimension. This allows the model to handle input of variable length, in the simplest way possible.\n",
        "- This fixed-length output vector is piped through a fully-connected (Dense) layer with 16 hidden units.\n",
        "- The last layer is densly connected with a single output node. Using the sigmoid activation function, this value is a float between 0 and 1, representing a probability (or confidence level) that the review is positive."
      ]
    },
    {
      "cell_type": "code",
      "metadata": {
        "id": "zaTIjCW3c07z",
        "colab_type": "code",
        "colab": {
          "base_uri": "https://localhost:8080/",
          "height": 255
        },
        "outputId": "fcb644ef-f500-4d31-dced-2ae4f2d387fe"
      },
      "source": [
        "embedding_dim = 16\n",
        "\n",
        "model = keras.Sequential([\n",
        "  layers.Embedding(encoder.vocab_size, embedding_dim),\n",
        "  layers.GlobalAveragePooling1D(),\n",
        "  layers.Dense(1, activation=\"sigmoid\")\n",
        "])\n",
        "\n",
        "model.summary()"
      ],
      "execution_count": 12,
      "outputs": [
        {
          "output_type": "stream",
          "text": [
            "Model: \"sequential\"\n",
            "_________________________________________________________________\n",
            "Layer (type)                 Output Shape              Param #   \n",
            "=================================================================\n",
            "embedding_1 (Embedding)      (None, None, 16)          130960    \n",
            "_________________________________________________________________\n",
            "global_average_pooling1d (Gl (None, 16)                0         \n",
            "_________________________________________________________________\n",
            "dense (Dense)                (None, 1)                 17        \n",
            "=================================================================\n",
            "Total params: 130,977\n",
            "Trainable params: 130,977\n",
            "Non-trainable params: 0\n",
            "_________________________________________________________________\n"
          ],
          "name": "stdout"
        }
      ]
    },
    {
      "cell_type": "code",
      "metadata": {
        "id": "KbTgD1upfJTu",
        "colab_type": "code",
        "colab": {
          "base_uri": "https://localhost:8080/",
          "height": 479
        },
        "outputId": "536f4f35-b2f7-48e3-f5a1-ac292e848770"
      },
      "source": [
        "model.compile(optimizer=\"adam\",\n",
        "              loss=\"binary_crossentropy\",\n",
        "              metrics=[\"accuracy\"])\n",
        "\n",
        "history = model.fit(\n",
        "    train_batches,\n",
        "    epochs=10,\n",
        "    validation_data=test_batches, validation_steps=20)"
      ],
      "execution_count": 13,
      "outputs": [
        {
          "output_type": "stream",
          "text": [
            "Epoch 1/10\n",
            "WARNING:tensorflow:From /tensorflow-2.0.0-rc2/python3.6/tensorflow_core/python/ops/nn_impl.py:183: where (from tensorflow.python.ops.array_ops) is deprecated and will be removed in a future version.\n",
            "Instructions for updating:\n",
            "Use tf.where in 2.0, which has the same broadcast rule as np.where\n"
          ],
          "name": "stdout"
        },
        {
          "output_type": "stream",
          "text": [
            "WARNING:tensorflow:From /tensorflow-2.0.0-rc2/python3.6/tensorflow_core/python/ops/nn_impl.py:183: where (from tensorflow.python.ops.array_ops) is deprecated and will be removed in a future version.\n",
            "Instructions for updating:\n",
            "Use tf.where in 2.0, which has the same broadcast rule as np.where\n"
          ],
          "name": "stderr"
        },
        {
          "output_type": "stream",
          "text": [
            "2500/2500 [==============================] - 35s 14ms/step - loss: 0.6383 - accuracy: 0.6994 - val_loss: 0.0000e+00 - val_accuracy: 0.0000e+00\n",
            "Epoch 2/10\n",
            "2500/2500 [==============================] - 25s 10ms/step - loss: 0.4723 - accuracy: 0.8359 - val_loss: 0.4274 - val_accuracy: 0.8450\n",
            "Epoch 3/10\n",
            "2500/2500 [==============================] - 25s 10ms/step - loss: 0.3671 - accuracy: 0.8753 - val_loss: 0.3426 - val_accuracy: 0.8900\n",
            "Epoch 4/10\n",
            "2500/2500 [==============================] - 25s 10ms/step - loss: 0.3103 - accuracy: 0.8956 - val_loss: 0.3212 - val_accuracy: 0.8650\n",
            "Epoch 5/10\n",
            "2500/2500 [==============================] - 24s 10ms/step - loss: 0.2774 - accuracy: 0.9064 - val_loss: 0.2615 - val_accuracy: 0.9200\n",
            "Epoch 6/10\n",
            "2500/2500 [==============================] - 25s 10ms/step - loss: 0.2500 - accuracy: 0.9148 - val_loss: 0.2738 - val_accuracy: 0.8950\n",
            "Epoch 7/10\n",
            "2500/2500 [==============================] - 25s 10ms/step - loss: 0.2326 - accuracy: 0.9210 - val_loss: 0.2574 - val_accuracy: 0.9050\n",
            "Epoch 8/10\n",
            "2500/2500 [==============================] - 24s 10ms/step - loss: 0.2166 - accuracy: 0.9277 - val_loss: 0.2653 - val_accuracy: 0.9000\n",
            "Epoch 9/10\n",
            "2500/2500 [==============================] - 25s 10ms/step - loss: 0.2029 - accuracy: 0.9313 - val_loss: 0.3524 - val_accuracy: 0.8800\n",
            "Epoch 10/10\n",
            "2500/2500 [==============================] - 25s 10ms/step - loss: 0.1928 - accuracy: 0.9365 - val_loss: 0.2433 - val_accuracy: 0.9100\n"
          ],
          "name": "stdout"
        }
      ]
    },
    {
      "cell_type": "markdown",
      "metadata": {
        "id": "UAhr5Uh_fi1t",
        "colab_type": "text"
      },
      "source": [
        "With this approach our model reaches a validation accuracy of around 88% (note the model is overfitting, training accuracy is significantly higher)."
      ]
    },
    {
      "cell_type": "code",
      "metadata": {
        "id": "SzSR0748fXv4",
        "colab_type": "code",
        "colab": {
          "base_uri": "https://localhost:8080/",
          "height": 1000
        },
        "outputId": "f0ccb261-866d-48d6-ba53-6b02656743fe"
      },
      "source": [
        "import matplotlib.pyplot as plt\n",
        "\n",
        "history_dict = history.history\n",
        "\n",
        "acc = history_dict[\"accuracy\"]\n",
        "val_acc = history_dict[\"val_accuracy\"]\n",
        "loss = history_dict[\"loss\"]\n",
        "val_loss = history_dict[\"val_loss\"]\n",
        "\n",
        "epochs = range(1, len(acc) + 1)\n",
        "\n",
        "plt.figure(figsize=(12, 9))\n",
        "plt.plot(epochs, loss, 'bo', label=\"Training loss\")\n",
        "plt.plot(epochs, val_loss, \"b\", label=\"Validation loss\")\n",
        "plt.title(\"Training and validation loss\")\n",
        "plt.xlabel(\"Epochs\")\n",
        "plt.ylabel(\"Loss\")\n",
        "plt.legend()\n",
        "plt.show()\n",
        "\n",
        "plt.figure(figsize=(12,9))\n",
        "plt.plot(epochs, acc, 'bo', label='Training acc')\n",
        "plt.plot(epochs, val_acc, 'b', label='Validation acc')\n",
        "plt.title('Training and validation accuracy')\n",
        "plt.xlabel('Epochs')\n",
        "plt.ylabel('Accuracy')\n",
        "plt.legend(loc='lower right')\n",
        "plt.ylim((0.5,1))\n",
        "plt.show()"
      ],
      "execution_count": 14,
      "outputs": [
        {
          "output_type": "display_data",
          "data": {
            "image/png": "[encoded data removed]",
            "text/plain": [
              "<Figure size 864x648 with 1 Axes>"
            ]
          },
          "metadata": {
            "tags": []
          }
        },
        {
          "output_type": "display_data",
          "data": {
            "image/png": "[encoded data removed]",
            "text/plain": [
              "<Figure size 864x648 with 1 Axes>"
            ]
          },
          "metadata": {
            "tags": []
          }
        }
      ]
    },
    {
      "cell_type": "markdown",
      "metadata": {
        "id": "CsKPFyQNgpqP",
        "colab_type": "text"
      },
      "source": [
        "### Retrieve the learned embeddings\n",
        "Next, let's retrieve the word embeddings learned during training. This will be a matrix of shape `(vocab_size, embedding-dimension)`."
      ]
    },
    {
      "cell_type": "code",
      "metadata": {
        "id": "hI3iekKAghUJ",
        "colab_type": "code",
        "colab": {
          "base_uri": "https://localhost:8080/",
          "height": 34
        },
        "outputId": "b15c9a92-b642-49bc-c7ba-e33dab5fcf6d"
      },
      "source": [
        "e = model.layers[0]\n",
        "weights = e.get_weights()[0]\n",
        "print(weights.shape)"
      ],
      "execution_count": 15,
      "outputs": [
        {
          "output_type": "stream",
          "text": [
            "(8185, 16)\n"
          ],
          "name": "stdout"
        }
      ]
    },
    {
      "cell_type": "markdown",
      "metadata": {
        "id": "n9hJTnVGhNGv",
        "colab_type": "text"
      },
      "source": [
        "We will now write the weights to disk. To use the `Embedding Projector`, we will upload two files in tab separated format: a file of vectors (containing the embedding), and a file of meta data (containing the words)."
      ]
    },
    {
      "cell_type": "code",
      "metadata": {
        "id": "GrojCeE-hHfd",
        "colab_type": "code",
        "colab": {}
      },
      "source": [
        "encoder = info.features[\"text\"].encoder"
      ],
      "execution_count": 0,
      "outputs": []
    },
    {
      "cell_type": "code",
      "metadata": {
        "id": "iJ1oFDgZhgt1",
        "colab_type": "code",
        "colab": {}
      },
      "source": [
        "import io\n",
        "\n",
        "encoder = info.features[\"text\"].encoder\n",
        "\n",
        "out_v = io.open(\"vecs.tsv\", \"w\", encoding=\"utf-8\")\n",
        "out_m = io.open(\"meta.tsv\", \"w\", encoding=\"utf-8\")\n",
        "\n",
        "for num, word in enumerate(encoder.subwords):\n",
        "  vec = weights[num + 1]\n",
        "  out_m.write(word + \"\\n\")\n",
        "  out_v.write(\"\\t\".join([str(x) for x in vec]) + \"\\n\")\n",
        "out_v.close()\n",
        "out_m.close()"
      ],
      "execution_count": 0,
      "outputs": []
    },
    {
      "cell_type": "code",
      "metadata": {
        "id": "ucQ20uwliB5n",
        "colab_type": "code",
        "colab": {}
      },
      "source": [
        "try:\n",
        "  from google.colab import files\n",
        "except ImportError:\n",
        "   pass\n",
        "else:\n",
        "  files.download('vecs.tsv')\n",
        "  files.download('meta.tsv')"
      ],
      "execution_count": 0,
      "outputs": []
    },
    {
      "cell_type": "markdown",
      "metadata": {
        "id": "2kYfPGKtiQJ-",
        "colab_type": "text"
      },
      "source": [
        "## Visualize the embeddings\n",
        "To visualize our embeddings we will upload them to the embedding projector.\n",
        "\n",
        "Open the Embedding Projector (this can also run in a local TensorBoard instance).\n",
        "\n",
        "Click on \"Load data\".\n",
        "\n",
        "Upload the two files we created above: vecs.tsv and meta.tsv.\n",
        "\n",
        "The embeddings you have trained will now be displayed. You can search for words to find their closest neighbors. For example, try searching for \"beautiful\". You may see neighbors like \"wonderful\"."
      ]
    }
  ]
}