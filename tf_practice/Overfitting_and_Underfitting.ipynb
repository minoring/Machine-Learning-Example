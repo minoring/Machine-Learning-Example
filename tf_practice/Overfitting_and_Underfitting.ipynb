{
  "nbformat": 4,
  "nbformat_minor": 0,
  "metadata": {
    "colab": {
      "name": "Overfitting_and_Underfitting.ipynb",
      "version": "0.3.2",
      "provenance": [],
      "private_outputs": true
    },
    "kernelspec": {
      "name": "python3",
      "display_name": "Python 3"
    },
    "accelerator": "GPU"
  },
  "cells": [
    {
      "cell_type": "markdown",
      "metadata": {
        "id": "-6B-fv-KmSoB",
        "colab_type": "text"
      },
      "source": [
        "It is possible to achive high accuracy on the training set, what we really wnat is to develop models that generalize well to a testing set (or data they haven't seen before).\n",
        "\n",
        "The opposite of overfitting is underfitting. Underfitting occurs when there is still room for improvment on the test data. This can happen for a number of reasons: If the model is not powerful enough, is over-fegularized, or has simply not been trained long enough. This means thae network has not learned the relevant patterns in the training data.\n",
        "\n",
        "If you train for too long though, the model will start to overfit and learn patterns from the training data that do not generalize to the test data. We need to strike a balance.\n",
        "\n",
        "To prevent overfitting, the best solution is to use more training data. A model trained on more data will naturally generalize better. When that is no longer possible, the next best solution is to use techniques like regularization. These place constraints on the quality and type of information your model can store. If a network cna only affort to memorize a small number of patterns, the optimization process will force it to focus on the most prominent patterns, which have a better change of generalizing well.\n",
        "\n",
        "In this notebook, we'll explore two common regularization techniques - weight regularization and dropout- and use them to improve our IMDB movie review classification notebook."
      ]
    },
    {
      "cell_type": "code",
      "metadata": {
        "id": "bVIhXYlVlQPa",
        "colab_type": "code",
        "colab": {}
      },
      "source": [
        "from __future__ import absolute_import, division, print_function, unicode_literals\n",
        "\n",
        "try:\n",
        "    %tensorflow_version 2.x\n",
        "except Exception:\n",
        "    pass\n",
        "\n",
        "import tensorflow as tf\n",
        "from tensorflow import keras\n",
        "\n",
        "import numpy as np\n",
        "import matplotlib.pyplot as plt\n",
        "\n",
        "print(tf.__version__)"
      ],
      "execution_count": 0,
      "outputs": []
    },
    {
      "cell_type": "code",
      "metadata": {
        "id": "X_fBhJOXnu2H",
        "colab_type": "code",
        "colab": {}
      },
      "source": [
        "# Rather than using an embedding as in the previous notebook, here we will\n",
        "# multi-hot encode the sentences. This model will quickly overfit to the training set.\n",
        "# It will be used to demonstrate when overfitting occurs, and how to fight it.\n",
        "\n",
        "# Multi-hot-encoding our lists means turing them into vectors of 0s and 1s.\n",
        "# Concretely, this would mean for instance turning the sequence [3, 5] into a\n",
        "# 10,000-dimensional vector that would be all-zeros except for indices 3 and 5,\n",
        "# which would be ones.\n",
        "\n",
        "NUM_WORDS = 10000\n",
        "\n",
        "(train_data, train_labels), (test_data, test_labels) = keras.datasets.imdb.load_data(num_words=NUM_WORDS)\n",
        "\n",
        "def multi_hot_sequences(sequences, dimension):\n",
        "    # Create an all-zero matrix of shape (len(sequences), dimension)\n",
        "    results = np.zeros((len(sequences), dimension))\n",
        "    for i, word_indices in enumerate(sequences):\n",
        "        results[i, word_indices] = 1.0\n",
        "    return results\n",
        "\n",
        "train_data = multi_hot_sequences(train_data, dimension=NUM_WORDS)\n",
        "test_data = multi_hot_sequences(test_data, dimension=NUM_WORDS)"
      ],
      "execution_count": 0,
      "outputs": []
    },
    {
      "cell_type": "code",
      "metadata": {
        "id": "RtafmcllpOXP",
        "colab_type": "code",
        "colab": {}
      },
      "source": [
        "# Let's look at one of the resulting multi-hot vectors.\n",
        "# The word indices are sorted by frequency, so it is expected that there are more\n",
        "# 1-values near index zero.\n",
        "plt.plot(train_data[0])\n",
        "train_data[0]"
      ],
      "execution_count": 0,
      "outputs": []
    },
    {
      "cell_type": "code",
      "metadata": {
        "id": "jVdTwOaDpoXQ",
        "colab_type": "code",
        "colab": {}
      },
      "source": [
        ""
      ],
      "execution_count": 0,
      "outputs": []
    },
    {
      "cell_type": "markdown",
      "metadata": {
        "id": "ikC8QenEqzGc",
        "colab_type": "text"
      },
      "source": [
        "# Demonstrate overfitting\n",
        "The simplestway to prevent overfitting is to reduce the size of the model, i.e. the number of learnable parameters in the model (which is determined by the number of layers and the numbrer of units per layer). In deep learning, the number of learnable parameters in a model is often reffered to as the model's \"capacity\". Intuitively, a model with more parameters will have more \"memorization capacity\" and therefore will be able to easily learn a perfect dictionary-like mapping between training samples and their target, a mapping without any generalization power, but this would be useless when making predictions on previously unseen data.\n",
        "\n",
        "Always keep this in mind: deep learning models tend to be good at fitting to the training data, but the real challenge is generalization, not fitting.\n",
        "\n",
        "On the other hand, if the network has limited memorization resources, it will not be able to learn the mapping as easily. To minimize its loss, it will have to learn compressed representations that have more predictive power. At the same time, it you make your model too small, it will have difficulty fitting to the training data. There is a balance between \"too much capacity\" and \"not enough capacity\".\n"
      ]
    },
    {
      "cell_type": "code",
      "metadata": {
        "id": "yENt8_gsr5zb",
        "colab_type": "code",
        "colab": {}
      },
      "source": [
        "# Create a baseline model\n",
        "baseline_model = keras.Sequential([\n",
        "    # `input_shape` is only required here so that `.summary` works.\n",
        "    keras.layers.Dense(16, activation='relu', input_shape=(NUM_WORDS, )),\n",
        "    keras.layers.Dense(16, activation='relu'),\n",
        "    keras.layers.Dense(1, activation='sigmoid')\n",
        "])"
      ],
      "execution_count": 0,
      "outputs": []
    },
    {
      "cell_type": "code",
      "metadata": {
        "id": "b1LyJCXTsPmn",
        "colab_type": "code",
        "colab": {}
      },
      "source": [
        "baseline_model.compile(optimizer='adam',\n",
        "                       loss='binary_crossentropy',\n",
        "                       metrics=['accuracy', 'binary_crossentropy'])"
      ],
      "execution_count": 0,
      "outputs": []
    },
    {
      "cell_type": "code",
      "metadata": {
        "id": "hLBbCB3dsYrN",
        "colab_type": "code",
        "colab": {}
      },
      "source": [
        "baseline_model.summary()"
      ],
      "execution_count": 0,
      "outputs": []
    },
    {
      "cell_type": "code",
      "metadata": {
        "id": "vX_0URQjsetJ",
        "colab_type": "code",
        "colab": {}
      },
      "source": [
        "baseline_history = baseline_model.fit(train_data,\n",
        "                             train_labels,\n",
        "                             epochs=20,\n",
        "                             batch_size=512,\n",
        "                             validation_split=0.2,\n",
        "                             verbose=2)"
      ],
      "execution_count": 0,
      "outputs": []
    },
    {
      "cell_type": "code",
      "metadata": {
        "id": "WLF8mYi7sqb_",
        "colab_type": "code",
        "colab": {}
      },
      "source": [
        "# Create a smaller model\n",
        "# Let's create a model with less hidden units to compare against the baseline model\n",
        "smaller_model = keras.Sequential([\n",
        "    keras.layers.Dense(4, activation='relu', input_shape=(NUM_WORDS,)),\n",
        "    keras.layers.Dense(4, activation='relu'),\n",
        "    keras.layers.Dense(1, activation='sigmoid')\n",
        "])\n",
        "\n",
        "smaller_model.summary()"
      ],
      "execution_count": 0,
      "outputs": []
    },
    {
      "cell_type": "code",
      "metadata": {
        "id": "bukPQQlQteSY",
        "colab_type": "code",
        "colab": {}
      },
      "source": [
        "smaller_model.compile(optimizer='adam',\n",
        "                      loss='binary_crossentropy',\n",
        "                      metrics=['accuracy', 'binary_crossentropy'])"
      ],
      "execution_count": 0,
      "outputs": []
    },
    {
      "cell_type": "code",
      "metadata": {
        "id": "Wji-AER1tph6",
        "colab_type": "code",
        "colab": {}
      },
      "source": [
        "smaller_history = smaller_model.fit(train_data,\n",
        "                            train_labels,\n",
        "                            epochs=20,\n",
        "                            batch_size=512,\n",
        "                            validation_split=0.2,\n",
        "                            verbose=2)"
      ],
      "execution_count": 0,
      "outputs": []
    },
    {
      "cell_type": "code",
      "metadata": {
        "id": "5_YyGTcCtxwl",
        "colab_type": "code",
        "colab": {}
      },
      "source": [
        "# Create a bigger model\n",
        "# As an exercise, we can create an even larger model, and see\n",
        "# how quickly it begins overfitting.\n",
        "# Let's add to this benchmark a network that has much more capacity,\n",
        "# far more than the problem would warrent.\n",
        "\n",
        "bigger_model = keras.Sequential([\n",
        "    keras.layers.Dense(512, activation='relu', input_shape=(NUM_WORDS,)),\n",
        "    keras.layers.Dense(512, activation='relu'),\n",
        "    keras.layers.Dense(1, activation='sigmoid')\n",
        "])\n",
        "\n",
        "bigger_model.compile(optimizer='adam',\n",
        "                     loss='binary_crossentropy',\n",
        "                     metrics=['accuracy', 'binary_crossentropy'])\n",
        "\n",
        "bigger_model.summary()"
      ],
      "execution_count": 0,
      "outputs": []
    },
    {
      "cell_type": "code",
      "metadata": {
        "id": "VH46j7ctuk6z",
        "colab_type": "code",
        "colab": {}
      },
      "source": [
        "bigger_history = bigger_model.fit(train_data,\n",
        "                                  train_labels,\n",
        "                                  epochs=20,\n",
        "                                  batch_size=512,\n",
        "                                  validation_split=0.2,\n",
        "                                  verbose=2)"
      ],
      "execution_count": 0,
      "outputs": []
    },
    {
      "cell_type": "code",
      "metadata": {
        "id": "iQQ8n2-YutyE",
        "colab_type": "code",
        "colab": {}
      },
      "source": [
        "# Plot the training and validation loss\n",
        "# Note that smaller network begins overfitting later than the baseline model (after 6 epochs rather than 4)\n",
        "# and its performance degrades much more slowly once it starts overfitting.\n",
        "\n",
        "def plot_history(histories, key='binary_crossentropy'):\n",
        "    plt.figure(figsize=(16, 10))\n",
        "    \n",
        "    for name, history in histories:\n",
        "        val = plt.plot(history.epoch, history.history['val_' + key],\n",
        "                       '--', label=name.title()+'Val')\n",
        "        plt.plot(history.epoch, history.history[key], color=val[0].get_color(),\n",
        "                label=name.title()+'Train')\n",
        "    plt.xlabel('Epochs')\n",
        "    plt.ylabel(key.replace('_', ' ').title())\n",
        "    plt.legend()\n",
        "    \n",
        "    plt.xlim([0, max(history.epoch)])"
      ],
      "execution_count": 0,
      "outputs": []
    },
    {
      "cell_type": "code",
      "metadata": {
        "id": "57qssMa7xy4Q",
        "colab_type": "code",
        "colab": {}
      },
      "source": [
        "plot_history([('baseline', baseline_history),\n",
        "              ('smaller', smaller_history),\n",
        "              ('bigger', bigger_history)])"
      ],
      "execution_count": 0,
      "outputs": []
    },
    {
      "cell_type": "markdown",
      "metadata": {
        "id": "JYvv3H1ByJ8l",
        "colab_type": "text"
      },
      "source": [
        "The more capacity the network has, the quicker it will be able to model the training data (resulting in a low training loss), but the more susceptible it is to overfitting (resulting in a large difference between the training and validation loss)."
      ]
    },
    {
      "cell_type": "markdown",
      "metadata": {
        "id": "2rNp2Tpbyb5T",
        "colab_type": "text"
      },
      "source": [
        "# Strategies to prevent overfitting\n",
        "## Add weight regularization\n",
        "You may be familiar with Occam's Razor principle: given two explanation for something, the explanation most likely to be correct is the \"simplest\" one, the one that makes the least amount of assumptions. This also applies to the models learned by neural networks: given some training data and a network architecture, there are multiple sets of weights values (multiple models) that could explina the data, and simpler models are less likely to overfit than complex ones.\n",
        "\n",
        "A \"simple model\" in this context is a model where the distribution of parameter values has less entropy ( or a model with fewer parameters altogether, as we saw in the section above). Thus a common way to mitigate overfitting is to put constraints on the complexity of a network by forcing its weights only to take small values, which makes the distribution of weight values more \"regular\". This is called \"weight regularization\", and it is done by adding to the loss functin of the network a cost associated with having large weights"
      ]
    },
    {
      "cell_type": "code",
      "metadata": {
        "id": "Foccv3Drx85J",
        "colab_type": "code",
        "colab": {}
      },
      "source": [
        "l2_model = keras.models.Sequential([\n",
        "    keras.layers.Dense(16, kernel_regularizer=keras.regularizers.l2(0.001),\n",
        "                       activation='relu', input_shape=(NUM_WORDS,)),\n",
        "    keras.layers.Dense(16, kernel_regularizer=keras.regularizers.l2(0.001),\n",
        "                      activation='relu'),\n",
        "    keras.layers.Dense(1, activation='sigmoid')\n",
        "])\n",
        "\n",
        "l2_model.compile(optimizer='adam',\n",
        "                 loss='binary_crossentropy',\n",
        "                 metrics=['accuracy', 'binary_crossentropy'])\n",
        "\n",
        "l2_model_history = l2_model.fit(train_data, train_labels, epochs=20,\n",
        "                                batch_size=512, validation_split=0.2, verbose=2)\n"
      ],
      "execution_count": 0,
      "outputs": []
    },
    {
      "cell_type": "code",
      "metadata": {
        "id": "mAHUWPgn3Lj8",
        "colab_type": "code",
        "colab": {}
      },
      "source": [
        "# l2(0.001) means that every coefficient in the weight matrix of the layer\n",
        "# will add 0.001 * weight_coefficient_value **2 to the total loss of the network.\n",
        "\n",
        "plot_history([('baseline', baseline_history),\n",
        "              ('l2', l2_model_history)])"
      ],
      "execution_count": 0,
      "outputs": []
    },
    {
      "cell_type": "markdown",
      "metadata": {
        "id": "c6V9Ll_z4MP4",
        "colab_type": "text"
      },
      "source": [
        "As we can see, the L2 regularized model has become much more resistant to overfitting than the baseline model, even though both models have the same number of parameters."
      ]
    },
    {
      "cell_type": "markdown",
      "metadata": {
        "id": "_u_pqqTt7YE5",
        "colab_type": "text"
      },
      "source": [
        "## Add dropout\n",
        "Dropout is one of the most effective and most commonly used regularization techniques for neural networks. Dropout, applied to a layer, consists of randomly \"dropping out\" (i.e. set to zero) a number of output features of the layer during training. Let's say a given layer would normally have returned a vector [0.2, 0.5, 1.3, 0.8, 1.1] for a given input sample training; after applying dropout, this vector will have a few zero entries distributed at random, e.g. [0, 0.5, 1.3, 0, 1.1]. The \"dropout rate\" is the fraction of the features that are begin zeroed-out; it is usually set between 0.2 and 0.5. At test time, no units are dropped out, and instead the layer's output values are scaled down by a factor equal to the dropout rate, so as to balance for the fac that more units are active than at training time."
      ]
    },
    {
      "cell_type": "code",
      "metadata": {
        "id": "BCffVn_C4Fiq",
        "colab_type": "code",
        "colab": {}
      },
      "source": [
        "dpt_model = keras.models.Sequential([\n",
        "    keras.layers.Dense(16, activation='relu', input_shape=(NUM_WORDS,)),\n",
        "    keras.layers.Dropout(0.5),\n",
        "    keras.layers.Dense(16, activation='relu'),\n",
        "    keras.layers.Dropout(0.5),\n",
        "    keras.layers.Dense(1, activation='sigmoid')\n",
        "])\n",
        "\n",
        "dpt_model.compile(optimizer='adam',\n",
        "                  loss='binary_crossentropy',\n",
        "                  metrics=['accuracy', 'binary_crossentropy'])\n",
        "\n",
        "dpt_model_history = dpt_model.fit(train_data,\n",
        "                                  train_labels,\n",
        "                                  epochs=20,\n",
        "                                  batch_size=512,\n",
        "                                  validation_split=0.2,\n",
        "                                  verbose=2)"
      ],
      "execution_count": 0,
      "outputs": []
    },
    {
      "cell_type": "code",
      "metadata": {
        "id": "MiFTKRsZ9Lad",
        "colab_type": "code",
        "colab": {}
      },
      "source": [
        "plot_history([('baseline', baseline_history),\n",
        "              ('dropout', dpt_model_history)])"
      ],
      "execution_count": 0,
      "outputs": []
    },
    {
      "cell_type": "code",
      "metadata": {
        "id": "9I10pMXL9dLt",
        "colab_type": "code",
        "colab": {}
      },
      "source": [
        "# Recap: here are the most common ways to prevent overfitting in NN.\n",
        "# - Get more training data\n",
        "# - Reduce the capacity of the network\n",
        "# - Add weight regularization\n",
        "# - Add dropout\n",
        "# - batch normalization\n",
        "# - data-augmentation"
      ],
      "execution_count": 0,
      "outputs": []
    }
  ]
}