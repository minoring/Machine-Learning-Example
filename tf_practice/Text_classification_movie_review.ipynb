{
  "nbformat": 4,
  "nbformat_minor": 0,
  "metadata": {
    "colab": {
      "name": "Text_classification_movie_review.ipynb",
      "version": "0.3.2",
      "provenance": [],
      "collapsed_sections": []
    },
    "kernelspec": {
      "name": "python3",
      "display_name": "Python 3"
    },
    "accelerator": "GPU"
  },
  "cells": [
    {
      "cell_type": "code",
      "metadata": {
        "id": "pCoWBnBlPwdV",
        "colab_type": "code",
        "colab": {
          "base_uri": "https://localhost:8080/",
          "height": 136
        },
        "outputId": "ae7e4fa6-64fa-4fb1-8dd5-bc4d78801e91"
      },
      "source": [
        "# This notebook classifies movie reviews as positive or negative using the text of the review. \n",
        "\n",
        "from __future__ import absolute_import, division, print_function, unicode_literals\n",
        "\n",
        "!pip install -q tf-nightly-2.0-preview\n",
        "import tensorflow as tf\n",
        "from tensorflow import keras\n",
        "\n",
        "import numpy as np\n",
        "\n",
        "print(tf.__version__)"
      ],
      "execution_count": 1,
      "outputs": [
        {
          "output_type": "stream",
          "text": [
            "\u001b[K     |████████████████████████████████| 87.5MB 3.3MB/s \n",
            "\u001b[K     |████████████████████████████████| 430kB 40.5MB/s \n",
            "\u001b[K     |████████████████████████████████| 61kB 27.7MB/s \n",
            "\u001b[K     |████████████████████████████████| 3.1MB 32.6MB/s \n",
            "\u001b[?25h  Building wheel for wrapt (setup.py) ... \u001b[?25l\u001b[?25hdone\n",
            "\u001b[31mERROR: thinc 6.12.1 has requirement wrapt<1.11.0,>=1.10.0, but you'll have wrapt 1.11.1 which is incompatible.\u001b[0m\n",
            "2.0.0-dev20190511\n"
          ],
          "name": "stdout"
        }
      ]
    },
    {
      "cell_type": "code",
      "metadata": {
        "id": "ZLlCaj8PQbEE",
        "colab_type": "code",
        "colab": {
          "base_uri": "https://localhost:8080/",
          "height": 51
        },
        "outputId": "137f5b82-7203-487e-c03c-0108774edbd6"
      },
      "source": [
        "# Download the IMDB dataset\n",
        "# reviews(sequence of words) have been converted to sequences of integers,\n",
        "# where each integer represents a specific word in dictionary\n",
        "\n",
        "imdb = keras.datasets.imdb\n",
        "(train_data, train_labels), (test_data, test_labels) = imdb.load_data(num_words=10000)\n",
        "\n",
        "# num_words keeps the top 10,000 most frequently occuring words in the training data.\n",
        "# The rare words are discarded to keep the size of the data manageable.\n"
      ],
      "execution_count": 2,
      "outputs": [
        {
          "output_type": "stream",
          "text": [
            "Downloading data from https://storage.googleapis.com/tensorflow/tf-keras-datasets/imdb.npz\n",
            "17465344/17464789 [==============================] - 0s 0us/step\n"
          ],
          "name": "stdout"
        }
      ]
    },
    {
      "cell_type": "code",
      "metadata": {
        "id": "QskyxJnQRNkn",
        "colab_type": "code",
        "colab": {
          "base_uri": "https://localhost:8080/",
          "height": 34
        },
        "outputId": "989cf9e4-11b5-4335-92d3-1f0d87f84c29"
      },
      "source": [
        "## Explore data\n",
        "\n",
        "# Each example is an array of integers representing the words of the movie review. \n",
        "# Each label is an integer value of either 0 or 1, where 0 is a negative review, \n",
        "# and 1 is a positive review.\n",
        "\n",
        "print('Training entries: {}, labels: {}'.format(len(train_data), len(train_labels)))"
      ],
      "execution_count": 3,
      "outputs": [
        {
          "output_type": "stream",
          "text": [
            "Training entries: 25000, labels: 25000\n"
          ],
          "name": "stdout"
        }
      ]
    },
    {
      "cell_type": "code",
      "metadata": {
        "id": "YScg8sCkRpZ_",
        "colab_type": "code",
        "colab": {
          "base_uri": "https://localhost:8080/",
          "height": 54
        },
        "outputId": "db165fc4-bda0-4eaf-9b9b-818c45d94fd7"
      },
      "source": [
        "# The text of reviews have been converted to integers, where each integer represents a specific word in a dictionary.\n",
        "print(train_data[0])"
      ],
      "execution_count": 4,
      "outputs": [
        {
          "output_type": "stream",
          "text": [
            "[1, 14, 22, 16, 43, 530, 973, 1622, 1385, 65, 458, 4468, 66, 3941, 4, 173, 36, 256, 5, 25, 100, 43, 838, 112, 50, 670, 2, 9, 35, 480, 284, 5, 150, 4, 172, 112, 167, 2, 336, 385, 39, 4, 172, 4536, 1111, 17, 546, 38, 13, 447, 4, 192, 50, 16, 6, 147, 2025, 19, 14, 22, 4, 1920, 4613, 469, 4, 22, 71, 87, 12, 16, 43, 530, 38, 76, 15, 13, 1247, 4, 22, 17, 515, 17, 12, 16, 626, 18, 2, 5, 62, 386, 12, 8, 316, 8, 106, 5, 4, 2223, 5244, 16, 480, 66, 3785, 33, 4, 130, 12, 16, 38, 619, 5, 25, 124, 51, 36, 135, 48, 25, 1415, 33, 6, 22, 12, 215, 28, 77, 52, 5, 14, 407, 16, 82, 2, 8, 4, 107, 117, 5952, 15, 256, 4, 2, 7, 3766, 5, 723, 36, 71, 43, 530, 476, 26, 400, 317, 46, 7, 4, 2, 1029, 13, 104, 88, 4, 381, 15, 297, 98, 32, 2071, 56, 26, 141, 6, 194, 7486, 18, 4, 226, 22, 21, 134, 476, 26, 480, 5, 144, 30, 5535, 18, 51, 36, 28, 224, 92, 25, 104, 4, 226, 65, 16, 38, 1334, 88, 12, 16, 283, 5, 16, 4472, 113, 103, 32, 15, 16, 5345, 19, 178, 32]\n"
          ],
          "name": "stdout"
        }
      ]
    },
    {
      "cell_type": "code",
      "metadata": {
        "id": "x8wJZYoMRu8f",
        "colab_type": "code",
        "colab": {
          "base_uri": "https://localhost:8080/",
          "height": 34
        },
        "outputId": "2edf7208-8219-4ad5-9574-c3917ccfcdd0"
      },
      "source": [
        "# Movie reviews may be different lengths.\n",
        "# Since inputs to a neural network must be the same length, we'll need to resolve this later.\n",
        "\n",
        "len(train_data[0]), len(train_data[1])"
      ],
      "execution_count": 6,
      "outputs": [
        {
          "output_type": "execute_result",
          "data": {
            "text/plain": [
              "(218, 189)"
            ]
          },
          "metadata": {
            "tags": []
          },
          "execution_count": 6
        }
      ]
    },
    {
      "cell_type": "code",
      "metadata": {
        "id": "MEoxLkKVR6SJ",
        "colab_type": "code",
        "colab": {}
      },
      "source": [
        "# Convert the integers back to words\n",
        "# It may be useful to know how to convert integers back to text. \n",
        "\n",
        "# A dictionary mapping words to an integer index\n",
        "word_index = imdb.get_word_index()\n",
        "\n",
        "# The first indices are reserved\n",
        "word_index = { k : (v + 3) for k, v in word_index.items() }\n",
        "word_index['<PAD>'] = 0\n",
        "word_index['<START>'] = 1\n",
        "word_index['<UNK>'] = 2 # unknown\n",
        "word_index['<UNUSED>'] = 3\n",
        "\n",
        "reverse_word_index = dict([(value, key) for (key, value) in word_index.items()])"
      ],
      "execution_count": 0,
      "outputs": []
    },
    {
      "cell_type": "code",
      "metadata": {
        "id": "of9Pj-ZoSacD",
        "colab_type": "code",
        "colab": {}
      },
      "source": [
        "def decode_review(text):\n",
        "    return ' '.join([reverse_word_index.get(i, '?') for i in text])"
      ],
      "execution_count": 0,
      "outputs": []
    },
    {
      "cell_type": "code",
      "metadata": {
        "id": "1rtgeWQ_UA-W",
        "colab_type": "code",
        "colab": {
          "base_uri": "https://localhost:8080/",
          "height": 54
        },
        "outputId": "b69f8883-995c-40a4-9daf-b8517e17d5b9"
      },
      "source": [
        "decode_review(train_data[0])"
      ],
      "execution_count": 14,
      "outputs": [
        {
          "output_type": "execute_result",
          "data": {
            "text/plain": [
              "\"<START> this film was just brilliant casting location scenery story direction everyone's really suited the part they played and you could just imagine being there robert <UNK> is an amazing actor and now the same being director <UNK> father came from the same scottish island as myself so i loved the fact there was a real connection with this film the witty remarks throughout the film were great it was just brilliant so much that i bought the film as soon as it was released for <UNK> and would recommend it to everyone to watch and the fly fishing was amazing really cried at the end it was so sad and you know what they say if you cry at a film it must have been good and this definitely was also <UNK> to the two little boy's that played the <UNK> of norman and paul they were just brilliant children are often left out of the <UNK> list i think because the stars that play them all grown up are such a big profile for the whole film but these children are amazing and should be praised for what they have done don't you think the whole story was so lovely because it was true and was someone's life after all that was shared with us all\""
            ]
          },
          "metadata": {
            "tags": []
          },
          "execution_count": 14
        }
      ]
    },
    {
      "cell_type": "code",
      "metadata": {
        "id": "cVKI7CN7UCt3",
        "colab_type": "code",
        "colab": {}
      },
      "source": [
        "## Prepare the data\n",
        "# The reviews—the arrays of integers\n",
        "# - must be converted to tensors before fed into the neural network.\n",
        "\n",
        "# This conversion can be done a couple of ways:\n",
        "\n",
        "# 1. Convert the arrays into vectors of 0s and 1s indicating word occurrence, similar to a one-hot encoding.\n",
        "# requiring a num_words * num_reviews size matrix.\n",
        "\n",
        "# 2. Alternatively, we can pad the arrays so they all have the same length, \n",
        "# then create an integer tensor of shape max_length * num_reviews.\n",
        "\n",
        "# Use second approach\n",
        "\n",
        "train_data = keras.preprocessing.sequence.pad_sequences(train_data,\n",
        "                                                       value=word_index['<PAD>'],\n",
        "                                                       padding='post',\n",
        "                                                       maxlen=256)\n",
        "test_data = keras.preprocessing.sequence.pad_sequences(test_data,\n",
        "                                                      value=word_index['<PAD>'],\n",
        "                                                      padding='post',\n",
        "                                                      maxlen=256)"
      ],
      "execution_count": 0,
      "outputs": []
    },
    {
      "cell_type": "code",
      "metadata": {
        "id": "De2aOPaCV78K",
        "colab_type": "code",
        "colab": {
          "base_uri": "https://localhost:8080/",
          "height": 34
        },
        "outputId": "1038c297-e85c-49f8-dc49-87bf8c6043ed"
      },
      "source": [
        "len(train_data[0]), len(test_data[0])"
      ],
      "execution_count": 19,
      "outputs": [
        {
          "output_type": "execute_result",
          "data": {
            "text/plain": [
              "(256, 256)"
            ]
          },
          "metadata": {
            "tags": []
          },
          "execution_count": 19
        }
      ]
    },
    {
      "cell_type": "code",
      "metadata": {
        "id": "-qbTCPm2WFyC",
        "colab_type": "code",
        "colab": {
          "base_uri": "https://localhost:8080/",
          "height": 340
        },
        "outputId": "0a4a89a5-17c6-4c2c-a204-c8891aa4e3ad"
      },
      "source": [
        "# inspect the firest review\n",
        "print(train_data[0])"
      ],
      "execution_count": 20,
      "outputs": [
        {
          "output_type": "stream",
          "text": [
            "[   1   14   22   16   43  530  973 1622 1385   65  458 4468   66 3941\n",
            "    4  173   36  256    5   25  100   43  838  112   50  670    2    9\n",
            "   35  480  284    5  150    4  172  112  167    2  336  385   39    4\n",
            "  172 4536 1111   17  546   38   13  447    4  192   50   16    6  147\n",
            " 2025   19   14   22    4 1920 4613  469    4   22   71   87   12   16\n",
            "   43  530   38   76   15   13 1247    4   22   17  515   17   12   16\n",
            "  626   18    2    5   62  386   12    8  316    8  106    5    4 2223\n",
            " 5244   16  480   66 3785   33    4  130   12   16   38  619    5   25\n",
            "  124   51   36  135   48   25 1415   33    6   22   12  215   28   77\n",
            "   52    5   14  407   16   82    2    8    4  107  117 5952   15  256\n",
            "    4    2    7 3766    5  723   36   71   43  530  476   26  400  317\n",
            "   46    7    4    2 1029   13  104   88    4  381   15  297   98   32\n",
            " 2071   56   26  141    6  194 7486   18    4  226   22   21  134  476\n",
            "   26  480    5  144   30 5535   18   51   36   28  224   92   25  104\n",
            "    4  226   65   16   38 1334   88   12   16  283    5   16 4472  113\n",
            "  103   32   15   16 5345   19  178   32    0    0    0    0    0    0\n",
            "    0    0    0    0    0    0    0    0    0    0    0    0    0    0\n",
            "    0    0    0    0    0    0    0    0    0    0    0    0    0    0\n",
            "    0    0    0    0]\n"
          ],
          "name": "stdout"
        }
      ]
    },
    {
      "cell_type": "code",
      "metadata": {
        "id": "HzFvAIPIWKMm",
        "colab_type": "code",
        "colab": {
          "base_uri": "https://localhost:8080/",
          "height": 289
        },
        "outputId": "8059abd6-71b4-4f55-c811-e48b2a8c7913"
      },
      "source": [
        "## Build the model\n",
        "\n",
        "# input shape is the vocabulary count used for the movie reviews (10,000 words)\n",
        "vocab_size = 10000\n",
        "\n",
        "model = keras.Sequential()\n",
        "model.add(keras.layers.Embedding(vocab_size, 16))\n",
        "model.add(keras.layers.GlobalAveragePooling1D())\n",
        "model.add(keras.layers.Dense(16, activation='relu'))\n",
        "model.add(keras.layers.Dense(1, activation='sigmoid'))\n",
        "\n",
        "model.summary()"
      ],
      "execution_count": 23,
      "outputs": [
        {
          "output_type": "stream",
          "text": [
            "Model: \"sequential_2\"\n",
            "_________________________________________________________________\n",
            "Layer (type)                 Output Shape              Param #   \n",
            "=================================================================\n",
            "embedding_1 (Embedding)      (None, None, 16)          160000    \n",
            "_________________________________________________________________\n",
            "global_average_pooling1d (Gl (None, 16)                0         \n",
            "_________________________________________________________________\n",
            "dense (Dense)                (None, 16)                272       \n",
            "_________________________________________________________________\n",
            "dense_1 (Dense)              (None, 1)                 17        \n",
            "=================================================================\n",
            "Total params: 160,289\n",
            "Trainable params: 160,289\n",
            "Non-trainable params: 0\n",
            "_________________________________________________________________\n"
          ],
          "name": "stdout"
        }
      ]
    },
    {
      "cell_type": "code",
      "metadata": {
        "id": "LP8Jr5ucXAl2",
        "colab_type": "code",
        "colab": {}
      },
      "source": [
        "## Loss function and optimizer\n",
        "model.compile(optimizer='adam',\n",
        "              loss='binary_crossentropy',\n",
        "              metrics=['accuracy'])"
      ],
      "execution_count": 0,
      "outputs": []
    },
    {
      "cell_type": "code",
      "metadata": {
        "id": "B4lfb4NpYOzF",
        "colab_type": "code",
        "colab": {}
      },
      "source": [
        "## Create a validation set\n",
        "x_val = train_data[:10000]\n",
        "partial_x_train = train_data[10000:]\n",
        "\n",
        "y_val = train_labels[:10000]\n",
        "partial_y_train = train_labels[10000:]"
      ],
      "execution_count": 0,
      "outputs": []
    },
    {
      "cell_type": "code",
      "metadata": {
        "id": "6IK0lbCcYi9q",
        "colab_type": "code",
        "colab": {
          "base_uri": "https://localhost:8080/",
          "height": 1394
        },
        "outputId": "9d19f571-1f76-4bce-dabb-83913e538647"
      },
      "source": [
        "## Train the model\n",
        "history = model.fit(partial_x_train,\n",
        "                    partial_y_train,\n",
        "                    epochs=40,\n",
        "                    batch_size=512,\n",
        "                    validation_data=(x_val, y_val),\n",
        "                    verbose=1)"
      ],
      "execution_count": 26,
      "outputs": [
        {
          "output_type": "stream",
          "text": [
            "Train on 15000 samples, validate on 10000 samples\n",
            "Epoch 1/40\n",
            "15000/15000 [==============================] - 1s 63us/sample - loss: 0.6919 - accuracy: 0.6095 - val_loss: 0.6900 - val_accuracy: 0.6880\n",
            "Epoch 2/40\n",
            "15000/15000 [==============================] - 1s 47us/sample - loss: 0.6863 - accuracy: 0.6997 - val_loss: 0.6818 - val_accuracy: 0.7311\n",
            "Epoch 3/40\n",
            "15000/15000 [==============================] - 1s 47us/sample - loss: 0.6734 - accuracy: 0.7352 - val_loss: 0.6653 - val_accuracy: 0.7326\n",
            "Epoch 4/40\n",
            "15000/15000 [==============================] - 1s 46us/sample - loss: 0.6509 - accuracy: 0.7549 - val_loss: 0.6396 - val_accuracy: 0.7373\n",
            "Epoch 5/40\n",
            "15000/15000 [==============================] - 1s 46us/sample - loss: 0.6182 - accuracy: 0.7817 - val_loss: 0.6054 - val_accuracy: 0.7756\n",
            "Epoch 6/40\n",
            "15000/15000 [==============================] - 1s 48us/sample - loss: 0.5773 - accuracy: 0.8072 - val_loss: 0.5659 - val_accuracy: 0.8084\n",
            "Epoch 7/40\n",
            "15000/15000 [==============================] - 1s 50us/sample - loss: 0.5315 - accuracy: 0.8309 - val_loss: 0.5230 - val_accuracy: 0.8212\n",
            "Epoch 8/40\n",
            "15000/15000 [==============================] - 1s 46us/sample - loss: 0.4855 - accuracy: 0.8473 - val_loss: 0.4829 - val_accuracy: 0.8340\n",
            "Epoch 9/40\n",
            "15000/15000 [==============================] - 1s 47us/sample - loss: 0.4423 - accuracy: 0.8639 - val_loss: 0.4467 - val_accuracy: 0.8456\n",
            "Epoch 10/40\n",
            "15000/15000 [==============================] - 1s 47us/sample - loss: 0.4036 - accuracy: 0.8735 - val_loss: 0.4152 - val_accuracy: 0.8521\n",
            "Epoch 11/40\n",
            "15000/15000 [==============================] - 1s 46us/sample - loss: 0.3683 - accuracy: 0.8843 - val_loss: 0.3878 - val_accuracy: 0.8604\n",
            "Epoch 12/40\n",
            "15000/15000 [==============================] - 1s 46us/sample - loss: 0.3382 - accuracy: 0.8901 - val_loss: 0.3665 - val_accuracy: 0.8629\n",
            "Epoch 13/40\n",
            "15000/15000 [==============================] - 1s 46us/sample - loss: 0.3139 - accuracy: 0.8961 - val_loss: 0.3486 - val_accuracy: 0.8697\n",
            "Epoch 14/40\n",
            "15000/15000 [==============================] - 1s 46us/sample - loss: 0.2925 - accuracy: 0.9021 - val_loss: 0.3354 - val_accuracy: 0.8733\n",
            "Epoch 15/40\n",
            "15000/15000 [==============================] - 1s 46us/sample - loss: 0.2747 - accuracy: 0.9059 - val_loss: 0.3250 - val_accuracy: 0.8752\n",
            "Epoch 16/40\n",
            "15000/15000 [==============================] - 1s 46us/sample - loss: 0.2589 - accuracy: 0.9113 - val_loss: 0.3161 - val_accuracy: 0.8759\n",
            "Epoch 17/40\n",
            "15000/15000 [==============================] - 1s 45us/sample - loss: 0.2444 - accuracy: 0.9159 - val_loss: 0.3087 - val_accuracy: 0.8780\n",
            "Epoch 18/40\n",
            "15000/15000 [==============================] - 1s 46us/sample - loss: 0.2317 - accuracy: 0.9210 - val_loss: 0.3029 - val_accuracy: 0.8800\n",
            "Epoch 19/40\n",
            "15000/15000 [==============================] - 1s 46us/sample - loss: 0.2203 - accuracy: 0.9233 - val_loss: 0.2976 - val_accuracy: 0.8822\n",
            "Epoch 20/40\n",
            "15000/15000 [==============================] - 1s 46us/sample - loss: 0.2100 - accuracy: 0.9271 - val_loss: 0.2940 - val_accuracy: 0.8825\n",
            "Epoch 21/40\n",
            "15000/15000 [==============================] - 1s 46us/sample - loss: 0.1996 - accuracy: 0.9329 - val_loss: 0.2909 - val_accuracy: 0.8834\n",
            "Epoch 22/40\n",
            "15000/15000 [==============================] - 1s 48us/sample - loss: 0.1909 - accuracy: 0.9365 - val_loss: 0.2889 - val_accuracy: 0.8842\n",
            "Epoch 23/40\n",
            "15000/15000 [==============================] - 1s 45us/sample - loss: 0.1822 - accuracy: 0.9407 - val_loss: 0.2878 - val_accuracy: 0.8838\n",
            "Epoch 24/40\n",
            "15000/15000 [==============================] - 1s 46us/sample - loss: 0.1747 - accuracy: 0.9433 - val_loss: 0.2858 - val_accuracy: 0.8846\n",
            "Epoch 25/40\n",
            "15000/15000 [==============================] - 1s 47us/sample - loss: 0.1669 - accuracy: 0.9465 - val_loss: 0.2849 - val_accuracy: 0.8842\n",
            "Epoch 26/40\n",
            "15000/15000 [==============================] - 1s 46us/sample - loss: 0.1600 - accuracy: 0.9498 - val_loss: 0.2854 - val_accuracy: 0.8843\n",
            "Epoch 27/40\n",
            "15000/15000 [==============================] - 1s 46us/sample - loss: 0.1536 - accuracy: 0.9526 - val_loss: 0.2849 - val_accuracy: 0.8848\n",
            "Epoch 28/40\n",
            "15000/15000 [==============================] - 1s 49us/sample - loss: 0.1474 - accuracy: 0.9547 - val_loss: 0.2852 - val_accuracy: 0.8846\n",
            "Epoch 29/40\n",
            "15000/15000 [==============================] - 1s 47us/sample - loss: 0.1420 - accuracy: 0.9575 - val_loss: 0.2876 - val_accuracy: 0.8827\n",
            "Epoch 30/40\n",
            "15000/15000 [==============================] - 1s 46us/sample - loss: 0.1364 - accuracy: 0.9597 - val_loss: 0.2868 - val_accuracy: 0.8862\n",
            "Epoch 31/40\n",
            "15000/15000 [==============================] - 1s 46us/sample - loss: 0.1307 - accuracy: 0.9616 - val_loss: 0.2881 - val_accuracy: 0.8859\n",
            "Epoch 32/40\n",
            "15000/15000 [==============================] - 1s 46us/sample - loss: 0.1256 - accuracy: 0.9650 - val_loss: 0.2897 - val_accuracy: 0.8861\n",
            "Epoch 33/40\n",
            "15000/15000 [==============================] - 1s 46us/sample - loss: 0.1207 - accuracy: 0.9667 - val_loss: 0.2922 - val_accuracy: 0.8838\n",
            "Epoch 34/40\n",
            "15000/15000 [==============================] - 1s 46us/sample - loss: 0.1163 - accuracy: 0.9673 - val_loss: 0.2939 - val_accuracy: 0.8851\n",
            "Epoch 35/40\n",
            "15000/15000 [==============================] - 1s 47us/sample - loss: 0.1121 - accuracy: 0.9689 - val_loss: 0.2975 - val_accuracy: 0.8843\n",
            "Epoch 36/40\n",
            "15000/15000 [==============================] - 1s 46us/sample - loss: 0.1079 - accuracy: 0.9711 - val_loss: 0.2990 - val_accuracy: 0.8844\n",
            "Epoch 37/40\n",
            "15000/15000 [==============================] - 1s 48us/sample - loss: 0.1037 - accuracy: 0.9721 - val_loss: 0.3014 - val_accuracy: 0.8832\n",
            "Epoch 38/40\n",
            "15000/15000 [==============================] - 1s 46us/sample - loss: 0.0999 - accuracy: 0.9737 - val_loss: 0.3049 - val_accuracy: 0.8835\n",
            "Epoch 39/40\n",
            "15000/15000 [==============================] - 1s 46us/sample - loss: 0.0967 - accuracy: 0.9749 - val_loss: 0.3085 - val_accuracy: 0.8821\n",
            "Epoch 40/40\n",
            "15000/15000 [==============================] - 1s 46us/sample - loss: 0.0928 - accuracy: 0.9769 - val_loss: 0.3106 - val_accuracy: 0.8824\n"
          ],
          "name": "stdout"
        }
      ]
    },
    {
      "cell_type": "code",
      "metadata": {
        "id": "0PLPcX2hYwzZ",
        "colab_type": "code",
        "colab": {
          "base_uri": "https://localhost:8080/",
          "height": 51
        },
        "outputId": "5a878abc-5639-4c3b-d101-09ad1f1f6dff"
      },
      "source": [
        "## Evaluate the mode\n",
        "\n",
        "results = model.evaluate(test_data, test_labels)\n",
        "\n",
        "print(results)"
      ],
      "execution_count": 27,
      "outputs": [
        {
          "output_type": "stream",
          "text": [
            "25000/25000 [==============================] - 1s 36us/sample - loss: 0.3315 - accuracy: 0.8718\n",
            "[0.3314644498348236, 0.87176]\n"
          ],
          "name": "stdout"
        }
      ]
    },
    {
      "cell_type": "code",
      "metadata": {
        "id": "_UX9rL5XY_IL",
        "colab_type": "code",
        "colab": {
          "base_uri": "https://localhost:8080/",
          "height": 34
        },
        "outputId": "21a732bf-681e-4619-bb01-ea955332d82c"
      },
      "source": [
        "## Create a graph of accuracy and loss over time\n",
        "# model.fit() returns a History object that contains a dictionary with everything that happened during training:\n",
        "history_dict = history.history\n",
        "history_dict.keys()"
      ],
      "execution_count": 28,
      "outputs": [
        {
          "output_type": "execute_result",
          "data": {
            "text/plain": [
              "dict_keys(['loss', 'accuracy', 'val_loss', 'val_accuracy'])"
            ]
          },
          "metadata": {
            "tags": []
          },
          "execution_count": 28
        }
      ]
    },
    {
      "cell_type": "code",
      "metadata": {
        "id": "2IiFsINgZSt2",
        "colab_type": "code",
        "colab": {
          "base_uri": "https://localhost:8080/",
          "height": 295
        },
        "outputId": "df832b01-5481-4841-a97a-24505e20564e"
      },
      "source": [
        "import matplotlib.pyplot as plt\n",
        "\n",
        "acc = history_dict['accuracy']\n",
        "val_acc = history_dict['val_accuracy']\n",
        "loss = history_dict['loss']\n",
        "val_loss = history_dict['val_loss']\n",
        "\n",
        "epochs = range(1, len(acc) + 1)\n",
        "\n",
        "plt.plot(epochs, loss, 'bo', label='Training loss')\n",
        "plt.plot(epochs, val_loss, 'b', label='Validation loss')\n",
        "plt.title('Training and valudation loss')\n",
        "plt.xlabel('Epochs')\n",
        "plt.ylabel('Loss')\n",
        "plt.legend()\n",
        "\n",
        "plt.show()"
      ],
      "execution_count": 29,
      "outputs": [
        {
          "output_type": "display_data",
          "data": {
            "image/png": "[encoded data removed]",
            "text/plain": [
              "<Figure size 432x288 with 1 Axes>"
            ]
          },
          "metadata": {
            "tags": []
          }
        }
      ]
    },
    {
      "cell_type": "code",
      "metadata": {
        "id": "539d13UWZ463",
        "colab_type": "code",
        "colab": {
          "base_uri": "https://localhost:8080/",
          "height": 295
        },
        "outputId": "8cdd7aec-9591-4800-87d1-d572a525e1c7"
      },
      "source": [
        "plt.clf() # Clear figure\n",
        "\n",
        "plt.plot(epochs, acc, 'ro', label='Training acc')\n",
        "plt.plot(epochs, val_acc, 'r', label='Validation acc')\n",
        "plt.title('Training and validation accuracy')\n",
        "plt.xlabel('Epochs')\n",
        "plt.ylabel('Accuarcy')\n",
        "plt.legend()\n",
        "\n",
        "plt.show()"
      ],
      "execution_count": 31,
      "outputs": [
        {
          "output_type": "display_data",
          "data": {
            "image/png": "[encoded data removed]",
            "text/plain": [
              "<Figure size 432x288 with 1 Axes>"
            ]
          },
          "metadata": {
            "tags": []
          }
        }
      ]
    },
    {
      "cell_type": "code",
      "metadata": {
        "id": "f9TdtonPa-eG",
        "colab_type": "code",
        "colab": {}
      },
      "source": [
        "# https://www.tensorflow.org/alpha/tutorials/keras/basic_text_classification"
      ],
      "execution_count": 0,
      "outputs": []
    }
  ]
}