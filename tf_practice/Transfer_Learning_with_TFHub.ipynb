{
  "nbformat": 4,
  "nbformat_minor": 0,
  "metadata": {
    "colab": {
      "name": "Transfer_Learning_with_TFHub.ipynb",
      "version": "0.3.2",
      "provenance": [],
      "private_outputs": true,
      "collapsed_sections": []
    },
    "kernelspec": {
      "name": "python3",
      "display_name": "Python 3"
    },
    "accelerator": "GPU"
  },
  "cells": [
    {
      "cell_type": "markdown",
      "metadata": {
        "id": "K0ST4YQHY6lR",
        "colab_type": "text"
      },
      "source": [
        "TensorFlow Hub is a way to share pretrained model components\n",
        "This tutorial demonstrates:\n",
        "1. Hot to use TensorFlow Hub with tf.kears\n",
        "2. How to do image classification using TensorFlow Hub.\n",
        "3. How to do simple transfer learning."
      ]
    },
    {
      "cell_type": "code",
      "metadata": {
        "id": "hfDTNFWIX4nn",
        "colab_type": "code",
        "colab": {}
      },
      "source": [
        "from __future__ import absolute_import, division, print_function, unicode_literals\n",
        "\n",
        "import matplotlib.pyplot as plt\n",
        "\n",
        "try:\n",
        "    %tensorflow_version 2.x\n",
        "except Exception:\n",
        "    pass\n",
        "import tensorflow as tf"
      ],
      "execution_count": 0,
      "outputs": []
    },
    {
      "cell_type": "code",
      "metadata": {
        "id": "lNzsPylmZnB1",
        "colab_type": "code",
        "colab": {}
      },
      "source": [
        "!pip install -q -U tensorflow_hub\n",
        "import tensorflow_hub as hub\n",
        "\n",
        "from tensorflow.keras import layers"
      ],
      "execution_count": 0,
      "outputs": []
    },
    {
      "cell_type": "markdown",
      "metadata": {
        "id": "QxgbIfwyZ27h",
        "colab_type": "text"
      },
      "source": [
        "## Download the classifier\n",
        "Use `hub.module` to load a mobilenet, and `tf.keras.layers.Lambda` to wrap it up as a keras layer."
      ]
    },
    {
      "cell_type": "code",
      "metadata": {
        "id": "JWgA7HI6Z1dx",
        "colab_type": "code",
        "colab": {}
      },
      "source": [
        "classifier_url =\"https://tfhub.dev/google/tf2-preview/mobilenet_v2/classification/2\" #@param {type:\"string\"}"
      ],
      "execution_count": 0,
      "outputs": []
    },
    {
      "cell_type": "code",
      "metadata": {
        "id": "gDJPHJKNaPNh",
        "colab_type": "code",
        "colab": {}
      },
      "source": [
        "IMAGE_SHAPE = (224, 224)\n",
        "\n",
        "classifier = tf.keras.Sequential([\n",
        "    hub.KerasLayer(classifier_url, input_shape=IMAGE_SHAPE+(3, ))\n",
        "])"
      ],
      "execution_count": 0,
      "outputs": []
    },
    {
      "cell_type": "markdown",
      "metadata": {
        "id": "BwHDoAM4aqgk",
        "colab_type": "text"
      },
      "source": [
        "## Run it on a single image\n",
        "Download a single image to try the model on."
      ]
    },
    {
      "cell_type": "code",
      "metadata": {
        "id": "0cJk58kKakJ1",
        "colab_type": "code",
        "colab": {}
      },
      "source": [
        "import numpy as np\n",
        "import PIL.Image as Image\n",
        "\n",
        "grace_hopper = tf.keras.utils.get_file('image.jpg', 'https://storage.googleapis.com/download.tensorflow.org/example_images/grace_hopper.jpg')\n",
        "grace_hopper = Image.open(grace_hopper).resize(IMAGE_SHAPE)\n",
        "grace_hopper"
      ],
      "execution_count": 0,
      "outputs": []
    },
    {
      "cell_type": "code",
      "metadata": {
        "id": "GAm5lqrdbLJM",
        "colab_type": "code",
        "colab": {}
      },
      "source": [
        "grace_hopper = np.array(grace_hopper) / 255.0\n",
        "grace_hopper.shape"
      ],
      "execution_count": 0,
      "outputs": []
    },
    {
      "cell_type": "code",
      "metadata": {
        "id": "y7PgR_ykbbxs",
        "colab_type": "code",
        "colab": {}
      },
      "source": [
        "grace_hopper[np.newaxis, ...].shape"
      ],
      "execution_count": 0,
      "outputs": []
    },
    {
      "cell_type": "code",
      "metadata": {
        "id": "qFJO_p-wbRzI",
        "colab_type": "code",
        "colab": {}
      },
      "source": [
        "result = classifier.predict(grace_hopper[np.newaxis, ...])\n",
        "result.shape"
      ],
      "execution_count": 0,
      "outputs": []
    },
    {
      "cell_type": "markdown",
      "metadata": {
        "id": "-UZEakzdbsSC",
        "colab_type": "text"
      },
      "source": [
        "The result is a 1001 element vector of logits, rating the probability of each class for the image\n",
        "Unnormalized log probability"
      ]
    },
    {
      "cell_type": "code",
      "metadata": {
        "id": "c4v-GEhwbpSw",
        "colab_type": "code",
        "colab": {}
      },
      "source": [
        "# Top class ID can be found with argmax:\n",
        "predicted_class = np.argmax(result[0], axis=-1)\n",
        "predicted_class"
      ],
      "execution_count": 0,
      "outputs": []
    },
    {
      "cell_type": "markdown",
      "metadata": {
        "id": "V2d47yJjfi7Q",
        "colab_type": "text"
      },
      "source": [
        "## Decode the preditions\n",
        "We have the predicted class ID, Fetch the `ImageNet` labels, and decode the predictions"
      ]
    },
    {
      "cell_type": "code",
      "metadata": {
        "id": "CSfUtJzXfgir",
        "colab_type": "code",
        "colab": {}
      },
      "source": [
        "labels_path = tf.keras.utils.get_file('ImageNetLabels.txt', 'https://storage.googleapis.com/download.tensorflow.org/data/ImageNetLabels.txt')\n",
        "imagenet_labels = np.array(open(labels_path).read().splitlines())\n",
        "# string data split '\\n' to array."
      ],
      "execution_count": 0,
      "outputs": []
    },
    {
      "cell_type": "code",
      "metadata": {
        "id": "yGpWbiilgAyV",
        "colab_type": "code",
        "colab": {}
      },
      "source": [
        "imagenet_labels"
      ],
      "execution_count": 0,
      "outputs": []
    },
    {
      "cell_type": "code",
      "metadata": {
        "id": "tWGem28vgErQ",
        "colab_type": "code",
        "colab": {}
      },
      "source": [
        "plt.imshow(grace_hopper)\n",
        "plt.axis('off')\n",
        "predicted_class_name = imagenet_labels[predicted_class]\n",
        "_ = plt.title('Prediction: ' + predicted_class_name.title())"
      ],
      "execution_count": 0,
      "outputs": []
    },
    {
      "cell_type": "markdown",
      "metadata": {
        "id": "Aoak7hXUhRDA",
        "colab_type": "text"
      },
      "source": [
        "## Simple transfer learning\n",
        "Using TF Hub it is simple to retrain the top layer of the model to recognize the classes in our dataset."
      ]
    },
    {
      "cell_type": "code",
      "metadata": {
        "id": "GNCCNVSdgwTm",
        "colab_type": "code",
        "colab": {}
      },
      "source": [
        "# Dataset\n",
        "data_root = tf.keras.utils.get_file(\n",
        "    'flower_photos', 'https://storage.googleapis.com/download.tensorflow.org/example_images/flower_photos.tgz',\n",
        "    untar=True\n",
        ")"
      ],
      "execution_count": 0,
      "outputs": []
    },
    {
      "cell_type": "code",
      "metadata": {
        "id": "-tVWH6oCr_hr",
        "colab_type": "code",
        "colab": {}
      },
      "source": [
        "# All of TensorFlow Hub's image modules expect float inputs in the [0, 1] range.\n",
        "# Use the `ImageDataGenerator`'s rescale parameter to achieve this.\n",
        "\n",
        "image_generator = tf.keras.preprocessing.image.ImageDataGenerator(rescale=1/255)\n",
        "image_data = image_generator.flow_from_directory(str(data_root), target_size=IMAGE_SHAPE,\n",
        "                                                 batch_size=32)"
      ],
      "execution_count": 0,
      "outputs": []
    },
    {
      "cell_type": "code",
      "metadata": {
        "id": "EyH1aueWsz0Z",
        "colab_type": "code",
        "colab": {}
      },
      "source": [
        "# The resulting object is an iterator that returns image_batch, label_batch pairs.\n",
        "for image_batch, label_batch in image_data:\n",
        "    print(\"image batch shape: \", image_batch.shape);\n",
        "    print(\"label batch shape: \", label_batch.shape);\n",
        "    break"
      ],
      "execution_count": 0,
      "outputs": []
    },
    {
      "cell_type": "code",
      "metadata": {
        "id": "Y-famjLgtIrf",
        "colab_type": "code",
        "colab": {}
      },
      "source": [
        "# Run the classifier on a batch of images\n",
        "result_batch = classifier.predict(image_batch)\n",
        "result_batch.shape"
      ],
      "execution_count": 0,
      "outputs": []
    },
    {
      "cell_type": "code",
      "metadata": {
        "id": "J9BiwAn6tPMJ",
        "colab_type": "code",
        
        "colab": {}
      },
      "source": [
        "predicted_class_names = imagenet_labels[np.argmax(result_batch, axis=-1)]\n",
        "predicted_class_names"
      ],
      "execution_count": 0,
      "outputs": []
    },
    {
      "cell_type": "code",
      "metadata": {
        "id": "YTR1g8gktYnB",
        "colab_type": "code",
        "colab": {}
      },
      "source": [
        "plt.figure(figsize=(10, 9))\n",
        "plt.subplots_adjust(hspace=0.5)\n",
        "\n",
        "for i in range(30):\n",
        "    plt.subplot(6, 5, i + 1)\n",
        "    plt.imshow(image_batch[i])\n",
        "    plt.title(predicted_class_names[i])\n",
        "    plt.axis('off')\n",
        "_ = plt.suptitle('ImageNet predictions')"
      ],
      "execution_count": 0,
      "outputs": []
    },
    {
      "cell_type": "markdown",
      "metadata": {
        "id": "yb6KAGxvuoZ6",
        "colab_type": "text"
      },
      "source": [
        "## Download the headless model\n",
        "TensorFlow Hub aslo distributes models without the top classification layer. These can be used to easily do transfer learning"
      ]
    },
    {
      "cell_type": "code",
      "metadata": {
        "id": "fQ6OGXBKuFB3",
        "colab_type": "code",
        "colab": {}
      },
      "source": [
        "feature_extractor_url = \"https://tfhub.dev/google/tf2-preview/mobilenet_v2/feature_vector/2\" #@param {type:\"string\"}"
      ],
      "execution_count": 0,
      "outputs": []
    },
    {
      "cell_type": "code",
      "metadata": {
        "id": "SqRcUPCPu0ug",
        "colab_type": "code",
        "colab": {}
      },
      "source": [
        "# Create the feature extractor\n",
        "feature_extractor_layer = hub.KerasLayer(feature_extractor_url,\n",
        "                                         input_shape=(224, 224, 3))"
      ],
      "execution_count": 0,
      "outputs": []
    },
    {
      "cell_type": "code",
      "metadata": {
        "id": "NTGElhFkvFNw",
        "colab_type": "code",
        "colab": {}
      },
      "source": [
        "# It returns a 1280-length vector for each image\n",
        "feature_batch = feature_extractor_layer(image_batch)\n",
        "print(feature_batch.shape)"
      ],
      "execution_count": 0,
      "outputs": []
    },
    {
      "cell_type": "code",
      "metadata": {
        "id": "_mA43iWDvO1f",
        "colab_type": "code",
        "colab": {}
      },
      "source": [
        "# Freeze the variables in the feature extractor layer, so that\n",
        "# the training only modifies the new classifier layer\n",
        "feature_extractor_layer.trainable = False"
      ],
      "execution_count": 0,
      "outputs": []
    },
    {
      "cell_type": "code",
      "metadata": {
        "id": "hfygL3-jvXxV",
        "colab_type": "code",
        "colab": {}
      },
      "source": [
        "# Attach a classification head\n",
        "# Now wrap the hub layer in a `tf.keras.Sequential` model, and add a new\n",
        "# classification layer.\n",
        "model = tf.keras.Sequential([\n",
        "    feature_extractor_layer,\n",
        "    layers.Dense(image_data.num_classes, activation='softmax')\n",
        "])"
      ],
      "execution_count": 0,
      "outputs": []
    },
    {
      "cell_type": "code",
      "metadata": {
        "id": "758J-4ywzG-C",
        "colab_type": "code",
        "colab": {}
      },
      "source": [
        "model.summary()"
      ],
      "execution_count": 0,
      "outputs": []
    },
    {
      "cell_type": "code",
      "metadata": {
        "id": "N6bIrkU-zJtp",
        "colab_type": "code",
        "colab": {}
      },
      "source": [
        "predictions = model.predict(image_batch)"
      ],
      "execution_count": 0,
      "outputs": []
    },
    {
      "cell_type": "code",
      "metadata": {
        "id": "rKgyLxhTzTSq",
        "colab_type": "code",
        "colab": {}
      },
      "source": [
        "predictions.shape"
      ],
      "execution_count": 0,
      "outputs": []
    },
    {
      "cell_type": "code",
      "metadata": {
        "id": "pLhhHholzUSN",
        "colab_type": "code",
        "colab": {}
      },
      "source": [
        "# Train the model\n",
        "model.compile(\n",
        "    optimizer=tf.keras.optimizers.Adam(),\n",
        "    loss='categorical_crossentropy',\n",
        "    metrics=['acc']\n",
        ")"
      ],
      "execution_count": 0,
      "outputs": []
    },
    {
      "cell_type": "code",
      "metadata": {
        "id": "uJTscZFPzhX_",
        "colab_type": "code",
        "colab": {}
      },
      "source": [
        "# To visualize training process, use a custom callback\n",
        "# to log the loss and accuracy of each batch individualy,\n",
        "# instead of the epoch average.\n",
        "class CollectBatchStats(tf.keras.callbacks.Callback):\n",
        "    def __init__(self):\n",
        "        self.batch_losses = []\n",
        "        self.batch_acc = []\n",
        "\n",
        "    def on_train_batch_end(self, batch, logs=None):\n",
        "        self.batch_losses.append(logs['loss'])\n",
        "        self.batch_acc.append(logs['acc'])\n",
        "        self.model.reset_metrics()"
      ],
      "execution_count": 0,
      "outputs": []
    },
    {
      "cell_type": "code",
      "metadata": {
        "id": "kwD9lYdC0Hse",
        "colab_type": "code",
        "colab": {}
      },
      "source": [
        "steps_per_epoch = np.ceil(image_data.samples / image_data.batch_size)\n",
        "\n",
        "batch_stats_callback = CollectBatchStats()\n",
        "\n",
        "history = model.fit_generator(image_data,\n",
        "                              epochs=15,\n",
        "                              steps_per_epoch=steps_per_epoch,\n",
        "                              callbacks=[batch_stats_callback])"
      ],
      "execution_count": 0,
      "outputs": []
    },
    {
      "cell_type": "code",
      "metadata": {
        "id": "3nousGza0fLM",
        "colab_type": "code",
        "colab": {}
      },
      "source": [
        "plt.figure()\n",
        "plt.ylabel('loss')\n",
        "plt.xlabel('Training Steps')\n",
        "plt.ylim([0, 2])\n",
        "plt.plot(batch_stats_callback.batch_losses)"
      ],
      "execution_count": 0,
      "outputs": []
    },
    {
      "cell_type": "code",
      "metadata": {
        "id": "iggmSOCr4aLg",
        "colab_type": "code",
        "colab": {}
      },
      "source": [
        "plt.figure()\n",
        "plt.ylabel('Accuracy')\n",
        "plt.xlabel('Training Steps')\n",
        "plt.ylim([0, 1])\n",
        "plt.plot(batch_stats_callback.batch_acc)"
      ],
      "execution_count": 0,
      "outputs": []
    },
    {
      "cell_type": "code",
      "metadata": {
        "id": "onZ_-n2-4kZa",
        "colab_type": "code",
        "colab": {}
      },
      "source": [
        "# Check the predictions\n",
        "# To redo the plot from before, first get the ordered list of class names:\n",
        "class_names = sorted(image_data.class_indices.items(), key=lambda pair: pair[1])\n",
        "class_names = np.array([key.title() for key, value in class_names])\n",
        "class_names"
      ],
      "execution_count": 0,
      "outputs": []
    },
    {
      "cell_type": "code",
      "metadata": {
        "id": "I3iHvJDv5Htc",
        "colab_type": "code",
        "colab": {}
      },
      "source": [
        "# Run the image batch through the model\n",
        "# and convert the indices to class names\n",
        "predicted_batch = model.predict(image_batch)\n",
        "predicted_id = np.argmax(predicted_batch, axis=-1)\n",
        "predicted_label_batch = class_names[predicted_id]"
      ],
      "execution_count": 0,
      "outputs": []
    },
    {
      "cell_type": "code",
      "metadata": {
        "id": "uUOrCCKg5wTP",
        "colab_type": "code",
        "colab": {}
      },
      "source": [
        "# Plot the result\n",
        "label_id = np.argmax(label_batch, axis=-1)"
      ],
      "execution_count": 0,
      "outputs": []
    },
    {
      "cell_type": "code",
      "metadata": {
        "id": "-RicA1475_wJ",
        "colab_type": "code",
        "colab": {}
      },
      "source": [
        "plt.figure(figsize=(10, 9))\n",
        "plt.subplots_adjust(hspace=0.5)\n",
        "for i in range(30):\n",
        "    plt.subplot(6, 5, i+1)\n",
        "    plt.imshow(image_batch[i])\n",
        "    color = 'green' if predicted_id[i] == label_id[i] else 'red'\n",
        "    plt.title(predicted_label_batch[i], color=color)\n",
        "    plt.axis('off')\n",
        "_ = plt.suptitle('Model predictions (green: correct, red: incorrect')"
      ],
      "execution_count": 0,
      "outputs": []
    },
    {
      "cell_type": "code",
      "metadata": {
        "id": "kz5j1u8u6x0e",
        "colab_type": "code",
        "colab": {}
      },
      "source": [
        ""
      ],
      "execution_count": 0,
      "outputs": []
    }
  ]
}