{
  "nbformat": 4,
  "nbformat_minor": 0,
  "metadata": {
    "colab": {
      "name": "DatasetIterator.ipynb",
      "provenance": [],
      "collapsed_sections": []
    },
    "kernelspec": {
      "name": "python3",
      "display_name": "Python 3"
    },
    "accelerator": "GPU"
  },
  "cells": [
    {
      "cell_type": "markdown",
      "metadata": {
        "id": "pewDDSoYi5vv",
        "colab_type": "text"
      },
      "source": [
        "Source\n",
        "https://medium.com/ymedialabs-innovation/how-to-use-dataset-and-iterators-in-tensorflow-with-code-samples-3bb98b6b74ab"
      ]
    },
    {
      "cell_type": "code",
      "metadata": {
        "id": "5eUPkKphiuUD",
        "colab_type": "code",
        "colab": {
          "base_uri": "https://localhost:8080/",
          "height": 34
        },
        "outputId": "73cec262-055f-484e-a1c3-1c0da81d847a"
      },
      "source": [
        "%tensorflow_version 2.x\n",
        "import tensorflow as tf\n",
        "import numpy as np"
      ],
      "execution_count": 1,
      "outputs": [
        {
          "output_type": "stream",
          "text": [
            "TensorFlow 2.x selected.\n"
          ],
          "name": "stdout"
        }
      ]
    },
    {
      "cell_type": "markdown",
      "metadata": {
        "id": "xy_Hv7cTjcmq",
        "colab_type": "text"
      },
      "source": [
        "### Dataset Creation"
      ]
    },
    {
      "cell_type": "code",
      "metadata": {
        "id": "kppRUDOSjDVh",
        "colab_type": "code",
        "colab": {}
      },
      "source": [
        "# from_tensor_slices accepts individual (or multiple) Numpy (or Tensor) object.\n",
        "\n",
        "# 하나가 오거나 -> 원소 하나씩 뽑는 Dataset\n",
        "# 튜플이 오거나 -> tuple 로 뽑는 Dataset. Zip처럼\n",
        "\n",
        "# Assume batch isze is 1\n",
        "dataset1 = tf.data.Dataset.from_tensor_slices(tf.range(10, 15))\n",
        "# Emits data of 10, 11, 12, 13, 14, (one element at a time)\n",
        "\n",
        "dataset2 = tf.data.Dataset.from_tensor_slices((tf.range(30, 45, 3), \n",
        "                                               np.arange(60, 70, 2)))\n",
        "# Emits data of (30, 60), (33, 62), (36, 64), (39, 66), (42, 68)\n",
        "# Emit one tuple at a time\n",
        "\n",
        "try:\n",
        "  dataset3 = tf.data.Dataset.from_tensor_slices(tf.range(10), np.arange(5))\n",
        "  # Dataset no possible as zeroth dimension is different at 10 and 5\n",
        "except:\n",
        "  pass"
      ],
      "execution_count": 0,
      "outputs": []
    },
    {
      "cell_type": "code",
      "metadata": {
        "id": "q8BBKPNQjnDK",
        "colab_type": "code",
        "colab": {}
      },
      "source": [
        "# from_tensors\n",
        "# 위에껀 batch가 하나라고 생각해도 되는데\n",
        "# 이건 batching 안해줌. (안 잘라줌)\n",
        "# 데이터가 한번에 다나옴\n",
        "# 그래서 다른 차원의 여러개의 데이터를 한번에 줄 수 있음.\n",
        "\n",
        "# 데이터가 작거나, 한번에 학습시켜야 할때 유용함.\n",
        "\n",
        "dataset4 = tf.data.Dataset.from_tensors(tf.range(10, 15))\n",
        "# Emits data of [10, 11, 12, 13, 14]\n",
        "# Hold entire list as one element.\n",
        "\n",
        "dataset5 = tf.data.Dataset.from_tensors((tf.range(30, 45, 3), \n",
        "                                         np.arange(60, 70, 2)))\n",
        "# Emits data of ([30, 33, 36, 39, 42], [60, 62, 64, 66, 68])\n",
        "\n",
        "dataset6 = tf.data.Dataset.from_tensors((tf.range(10), np.arange(5)))\n",
        "# Possible with from_tensors, regardless of zeroth dimension mismatch of constituent elements.\n",
        "# Emit data of ([0, 1, 2, 3, 4, 5, 6, 7, 8, 9], [0, 1, 2, 3, 4])\n",
        "# Holds entire tuple as one element"
      ],
      "execution_count": 0,
      "outputs": []
    },
    {
      "cell_type": "code",
      "metadata": {
        "id": "paY-t4_xpQ5V",
        "colab_type": "code",
        "colab": {}
      },
      "source": [
        "# from_generators\n",
        "# 런타임에 데이터를 만듬\n",
        "# 데이터가 너무 커서 디스크에 안들어갈때.\n",
        "# data augmentation 방법으로는 비추라고 함.\n",
        "\n",
        "# Assume batch size is 1\n",
        "def generator(sequence_type):\n",
        "  if sequence_type == 1:\n",
        "    for i in range(5):\n",
        "      yield 10 + i\n",
        "  elif sequence_type == 2:\n",
        "    for i in range(5):\n",
        "      yield (30 + 3 * i, 60 + 2 * i)\n",
        "  elif sequence_type == 3:\n",
        "    for i in range(1, 4):\n",
        "      yield (i, ['Hi'] * i)\n",
        "\n",
        "dataset7 = tf.data.Dataset.from_generator(generator, (tf.int32), args=([1]))\n",
        "# Emits data of 10, 11, 12, 13, 14, (One element at a time)\n",
        "\n",
        "dataset8 = tf.data.Dataset.from_generator(generator, (tf.int32, tf.int32), \n",
        "                                          args=([2]))\n",
        "# Emits data of (30, 60), (33, 62), (36, 64), (39, 66), (42, 68), (One at a time)\n",
        "# Emits one tuple at a time\n",
        "\n",
        "dataset9 = tf.data.Dataset.from_generator(generator, (tf.int32, tf.int32), \n",
        "                                          args=([3]))\n",
        "# Emits data of (1, ['Hi']), (2, ['Hi', 'Hi']), (3, ['Hi', 'Hi', 'Hi'])\n",
        "# Emits one tuple at a tim"
      ],
      "execution_count": 0,
      "outputs": []
    },
    {
      "cell_type": "markdown",
      "metadata": {
        "id": "ZZvYN0cAtbPO",
        "colab_type": "text"
      },
      "source": [
        "### Data Transformation\n",
        "- **batch**: Sequentially divide dataset by the specific batch size.\n",
        "\n",
        "01234567 -> batch(3) -> 012 345 67\n",
        "\n",
        "\n",
        "- **repeat**: Whatever Dataset you generated, create duplicates of existing data in your Dataset\n",
        "\n",
        "0123 -> repeat(2) -> 01230123\n",
        "\n",
        "- **shuffle**: Randomly shuffle the data in Dataset.\n",
        "\n",
        "01234567 -> shuffle(4) -> 30154276\n",
        "\n",
        "- **map**: Apply some operation to all individual elements in the Dataset.\n",
        "Particulary useful when applying data augmentation.\n",
        "\n",
        "01234567 -> map(<<add1>>) -> 12345678\n",
        "\n",
        "- **filter**: During course of training, filter our some elements from Dataset.\n",
        "\n",
        "01234567 -> filter(pass only even) -> 0246\n",
        "\n",
        "\n"
      ]
    },
    {
      "cell_type": "code",
      "metadata": {
        "id": "BiTnrxKNryml",
        "colab_type": "code",
        "colab": {
          "base_uri": "https://localhost:8080/",
          "height": 102
        },
        "outputId": "f90a44e2-e93b-4b77-f50e-061b5ab554bb"
      },
      "source": [
        "# Code to try out data present in datasets\n",
        "\n",
        "dataset = dataset1   # Change to required dataset\n",
        "iterator = iter(dataset)\n",
        "\n",
        "for i in iterator:\n",
        "  print(i)"
      ],
      "execution_count": 25,
      "outputs": [
        {
          "output_type": "stream",
          "text": [
            "tf.Tensor(10, shape=(), dtype=int32)\n",
            "tf.Tensor(11, shape=(), dtype=int32)\n",
            "tf.Tensor(12, shape=(), dtype=int32)\n",
            "tf.Tensor(13, shape=(), dtype=int32)\n",
            "tf.Tensor(14, shape=(), dtype=int32)\n"
          ],
          "name": "stdout"
        }
      ]
    },
    {
      "cell_type": "code",
      "metadata": {
        "id": "IEVyZlfKv_FR",
        "colab_type": "code",
        "colab": {}
      },
      "source": [
        "dataset10 = tf.data.Dataset.from_tensor_slices(tf.range(10))\n",
        "# Create a dataset with data of [0, 1, 2, 3, 4, 5, 6, 7, 8, 9]\n",
        "\n",
        "dataset10 = dataset10.repeat(2)\n",
        "# Duplicate the dataset\n",
        "# Data will be [0, 1, 2, 3, 4, 5, 6, 7, 8, 9, 0, 1, 2, 3, 4, 5, 6, 7, 8, 9]\n",
        "\n",
        "dataset10 = dataset10.shuffle(5)\n",
        "# Shuffle the dataset\n",
        "# Assumed shuffling: [3, 0, 7, 9, 4, 2, 5, 0, 1, 7, 5, 9, 4, 6, 2, 8, 6, 8, 1, 3]"
      ],
      "execution_count": 0,
      "outputs": []
    },
    {
      "cell_type": "code",
      "metadata": {
        "id": "huxxUkQgxFSh",
        "colab_type": "code",
        "colab": {}
      },
      "source": [
        "def map_fn(x):\n",
        "  return x * 3"
      ],
      "execution_count": 0,
      "outputs": []
    },
    {
      "cell_type": "code",
      "metadata": {
        "id": "7by0OU_5xH3c",
        "colab_type": "code",
        "colab": {}
      },
      "source": [
        "dataset10 = dataset10.map(map_fn)\n",
        "# Same as dataset = dataset.map(lambda x: x + 3)\n",
        "# Multiply each element with 3 using map transformation\n",
        "# Dataset: [9, 0, 21, 27, 12, 6, 15, 0, 3, 21, 15, 27, 12, 18, 6, 24, 18, 24, 3, 9]"
      ],
      "execution_count": 0,
      "outputs": []
    },
    {
      "cell_type": "code",
      "metadata": {
        "id": "UAFdUbbGxWfI",
        "colab_type": "code",
        "colab": {}
      },
      "source": [
        "def filter_fn(x):\n",
        "  return tf.reshape(tensor=tf.not_equal(x % 5, 1), shape=[]) # 스칼라로 해야지 이어붙지."
      ],
      "execution_count": 0,
      "outputs": []
    },
    {
      "cell_type": "code",
      "metadata": {
        "id": "oiMQWKB1xmdO",
        "colab_type": "code",
        "colab": {}
      },
      "source": [
        "dataset10 = dataset10.filter(filter_fn)\n",
        "# Same as dataset = dataset.filter(lambda x: tf.reshape(x % 5, 1), []))\n",
        "# Filter out all those element whose modules 5 return 1\n",
        "# Dataset: [9, 0, 27, 12, 15, 0, 3, 15, 27, 12, 18, 24, 18, 24, 3, 9]"
      ],
      "execution_count": 0,
      "outputs": []
    },
    {
      "cell_type": "code",
      "metadata": {
        "id": "Gh_ta9Iqx4oi",
        "colab_type": "code",
        "colab": {}
      },
      "source": [
        "dataset10 = dataset10.batch(4)\n",
        "# Batch at every 4 elements\n",
        "# Dataset: [9, 0, 27, 12], [15, 0, 3, 15], [27, 12, 18, 24], [18, 24, 3, 9]"
      ],
      "execution_count": 0,
      "outputs": []
    },
    {
      "cell_type": "code",
      "metadata": {
        "id": "K_WDyss6yEsp",
        "colab_type": "code",
        "colab": {
          "base_uri": "https://localhost:8080/",
          "height": 85
        },
        "outputId": "a6f8a05b-00d6-4469-e1fb-c6fd4882d9ab"
      },
      "source": [
        "iterator = iter(dataset10)\n",
        "for i in iterator:\n",
        "  print(i)"
      ],
      "execution_count": 33,
      "outputs": [
        {
          "output_type": "stream",
          "text": [
            "tf.Tensor([ 9 15  0 18], shape=(4,), dtype=int32)\n",
            "tf.Tensor([12  0 24 27], shape=(4,), dtype=int32)\n",
            "tf.Tensor([ 9 12  3 18], shape=(4,), dtype=int32)\n",
            "tf.Tensor([ 3 15 24 27], shape=(4,), dtype=int32)\n"
          ],
          "name": "stdout"
        }
      ]
    },
    {
      "cell_type": "markdown",
      "metadata": {
        "id": "-IzThn5WzJmW",
        "colab_type": "text"
      },
      "source": [
        "### Ordering of Dataset Transformations\n",
        "Dataset may different ordered differently transformation."
      ]
    },
    {
      "cell_type": "code",
      "metadata": {
        "id": "uXF1KmujyIlE",
        "colab_type": "code",
        "colab": {}
      },
      "source": [
        "# Ordering #1\n",
        "dataset_1 = tf.data.Dataset.from_tensor_slices(tf.range(10))\n",
        "# Dataset: [0, 1, 2, 3, 4, 5, 6, 7, 8, 9]\n",
        "\n",
        "dataset_1 = dataset_1.batch(4)\n",
        "# Dataset: [0, 1, 2, 3], [4, 5, 6, 7], [8, 9]\n",
        "\n",
        "dataset_1 = dataset_1.repeat(2)\n",
        "# Dataset: [0, 1, 2, 3], [4, 5, 6, 7], [8, 9], [0, 1, 2, 3], [4, 5, 6, 7], [8, 9]\n",
        "# Notice 2 elements batch in between\n",
        "\n",
        "dataset_1 = dataset_1.shuffle(4)\n",
        "# Shuffles at batch level.\n",
        "# Dataset: [0, 1, 2, 3], [4, 5, 6, 7], [8, 9], [8, 9], [0, 1, 2, 3], [4, 5, 6, 7]"
      ],
      "execution_count": 0,
      "outputs": []
    },
    {
      "cell_type": "code",
      "metadata": {
        "id": "fuP0lo370MD9",
        "colab_type": "code",
        "colab": {}
      },
      "source": [
        "# Ordering #2\n",
        "dataset_2 = tf.data.Dataset.from_tensor_slices(tf.range(10))\n",
        "# Dataset: [0, 1, 2, 3, 4, 5, 6, 7, 8, 9]\n",
        "\n",
        "dataset_2 = dataset_2.shuffle(4)\n",
        "# Dataset: [3, 1, 0, 4, 5, 8, 6, 9, 7, 2]\n",
        "\n",
        "dataset_2 = dataset_2.repeat(2)\n",
        "# Dataset: [3, 1, 0, 4, 5, 8, 6, 9, 7, 2, 3, 1, 0, 4, 5, 8, 6, 9, 7, 2]\n",
        "\n",
        "dataset_2 = dataset_2.batch(4)\n",
        "# Dataset: [3, 1, 0, 4], [5, 8, 6, 9], [7, 2, 3, 1], [0, 4, 5, 8], [6, 9, 7, 2]\n"
      ],
      "execution_count": 0,
      "outputs": []
    },
    {
      "cell_type": "code",
      "metadata": {
        "id": "mLKnrw5r0o6g",
        "colab_type": "code",
        "colab": {
          "base_uri": "https://localhost:8080/",
          "height": 136
        },
        "outputId": "67f99d99-b67d-422e-89b6-744fc6652e1f"
      },
      "source": [
        "print('Order #1')\n",
        "\n",
        "for i in iter(dataset_1):\n",
        "  print(i)"
      ],
      "execution_count": 42,
      "outputs": [
        {
          "output_type": "stream",
          "text": [
            "Order #1\n",
            "tf.Tensor([8 9], shape=(2,), dtype=int32)\n",
            "tf.Tensor([4 5 6 7], shape=(4,), dtype=int32)\n",
            "tf.Tensor([8 9], shape=(2,), dtype=int32)\n",
            "tf.Tensor([0 1 2 3], shape=(4,), dtype=int32)\n",
            "tf.Tensor([0 1 2 3], shape=(4,), dtype=int32)\n",
            "tf.Tensor([4 5 6 7], shape=(4,), dtype=int32)\n"
          ],
          "name": "stdout"
        }
      ]
    },
    {
      "cell_type": "code",
      "metadata": {
        "id": "vH9SbHXS0wlg",
        "colab_type": "code",
        "colab": {
          "base_uri": "https://localhost:8080/",
          "height": 119
        },
        "outputId": "2a0bfa37-e8f2-4f5f-8551-59b9eb5480a3"
      },
      "source": [
        "print('Order #2')\n",
        "\n",
        "for i in iter(dataset_2):\n",
        "  print(i)"
      ],
      "execution_count": 43,
      "outputs": [
        {
          "output_type": "stream",
          "text": [
            "Order #2\n",
            "tf.Tensor([3 2 5 6], shape=(4,), dtype=int32)\n",
            "tf.Tensor([1 7 8 0], shape=(4,), dtype=int32)\n",
            "tf.Tensor([9 4 2 4], shape=(4,), dtype=int32)\n",
            "tf.Tensor([3 5 6 8], shape=(4,), dtype=int32)\n",
            "tf.Tensor([9 7 1 0], shape=(4,), dtype=int32)\n"
          ],
          "name": "stdout"
        }
      ]
    },
    {
      "cell_type": "code",
      "metadata": {
        "id": "_XV1LwNi08ak",
        "colab_type": "code",
        "colab": {}
      },
      "source": [
        ""
      ],
      "execution_count": 0,
      "outputs": []
    }
  ]
}