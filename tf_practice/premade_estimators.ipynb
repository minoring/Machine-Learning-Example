{
  "nbformat": 4,
  "nbformat_minor": 0,
  "metadata": {
    "colab": {
      "name": "premade_estimators.ipynb",
      "provenance": [],
      "collapsed_sections": []
    },
    "kernelspec": {
      "name": "python3",
      "display_name": "Python 3"
    },
    "accelerator": "GPU"
  },
  "cells": [
    {
      "cell_type": "code",
      "metadata": {
        "id": "5NsERhoHn0_s",
        "colab_type": "code",
        "colab": {}
      },
      "source": [
        "import tensorflow as tf\n",
        "import pandas as pd"
      ],
      "execution_count": 0,
      "outputs": []
    },
    {
      "cell_type": "code",
      "metadata": {
        "id": "fh50bQb4ogl-",
        "colab_type": "code",
        "colab": {}
      },
      "source": [
        "CSV_COLUMN_NAMES = ['SepalLength', 'SepalWidth', 'PetalLength', 'PetalWidth', 'Species']\n",
        "SPECIES = ['Setosa', 'Versicolor', 'Virginica']"
      ],
      "execution_count": 0,
      "outputs": []
    },
    {
      "cell_type": "code",
      "metadata": {
        "id": "McSY1a5FpHct",
        "colab_type": "code",
        "colab": {
          "base_uri": "https://localhost:8080/",
          "height": 105
        },
        "outputId": "2676beb8-dbe7-44f9-a194-3e564d98201e"
      },
      "source": [
        "train_path = tf.keras.utils.get_file(\n",
        "    \"iris_training.csv\", \"https://storage.googleapis.com/download.tensorflow.org/data/iris_training.csv\")\n",
        "test_path = tf.keras.utils.get_file(\n",
        "    \"iris_test.csv\", \"https://storage.googleapis.com/download.tensorflow.org/data/iris_test.csv\")\n",
        "train = pd.read_csv(train_path, names=CSV_COLUMN_NAMES, header=0)\n",
        "test = pd.read_csv(test_path, names=CSV_COLUMN_NAMES, header=0)"
      ],
      "execution_count": 3,
      "outputs": [
        {
          "output_type": "stream",
          "text": [
            "Downloading data from https://storage.googleapis.com/download.tensorflow.org/data/iris_training.csv\n",
            "8192/2194 [================================================================================================================] - 0s 0us/step\n",
            "Downloading data from https://storage.googleapis.com/download.tensorflow.org/data/iris_test.csv\n",
            "8192/573 [============================================================================================================================================================================================================================================================================================================================================================================================================================================] - 0s 0us/step\n"
          ],
          "name": "stdout"
        }
      ]
    },
    {
      "cell_type": "code",
      "metadata": {
        "id": "w0B3_vzGpjs6",
        "colab_type": "code",
        "colab": {
          "base_uri": "https://localhost:8080/",
          "height": 204
        },
        "outputId": "b3785561-80b8-4603-e8b6-d45ce194db2b"
      },
      "source": [
        "train.head()"
      ],
      "execution_count": 4,
      "outputs": [
        {
          "output_type": "execute_result",
          "data": {
            "text/html": [
              "<div>\n",
              "<style scoped>\n",
              "    .dataframe tbody tr th:only-of-type {\n",
              "        vertical-align: middle;\n",
              "    }\n",
              "\n",
              "    .dataframe tbody tr th {\n",
              "        vertical-align: top;\n",
              "    }\n",
              "\n",
              "    .dataframe thead th {\n",
              "        text-align: right;\n",
              "    }\n",
              "</style>\n",
              "<table border=\"1\" class=\"dataframe\">\n",
              "  <thead>\n",
              "    <tr style=\"text-align: right;\">\n",
              "      <th></th>\n",
              "      <th>SepalLength</th>\n",
              "      <th>SepalWidth</th>\n",
              "      <th>PetalLength</th>\n",
              "      <th>PetalWidth</th>\n",
              "      <th>Species</th>\n",
              "    </tr>\n",
              "  </thead>\n",
              "  <tbody>\n",
              "    <tr>\n",
              "      <th>0</th>\n",
              "      <td>6.4</td>\n",
              "      <td>2.8</td>\n",
              "      <td>5.6</td>\n",
              "      <td>2.2</td>\n",
              "      <td>2</td>\n",
              "    </tr>\n",
              "    <tr>\n",
              "      <th>1</th>\n",
              "      <td>5.0</td>\n",
              "      <td>2.3</td>\n",
              "      <td>3.3</td>\n",
              "      <td>1.0</td>\n",
              "      <td>1</td>\n",
              "    </tr>\n",
              "    <tr>\n",
              "      <th>2</th>\n",
              "      <td>4.9</td>\n",
              "      <td>2.5</td>\n",
              "      <td>4.5</td>\n",
              "      <td>1.7</td>\n",
              "      <td>2</td>\n",
              "    </tr>\n",
              "    <tr>\n",
              "      <th>3</th>\n",
              "      <td>4.9</td>\n",
              "      <td>3.1</td>\n",
              "      <td>1.5</td>\n",
              "      <td>0.1</td>\n",
              "      <td>0</td>\n",
              "    </tr>\n",
              "    <tr>\n",
              "      <th>4</th>\n",
              "      <td>5.7</td>\n",
              "      <td>3.8</td>\n",
              "      <td>1.7</td>\n",
              "      <td>0.3</td>\n",
              "      <td>0</td>\n",
              "    </tr>\n",
              "  </tbody>\n",
              "</table>\n",
              "</div>"
            ],
            "text/plain": [
              "   SepalLength  SepalWidth  PetalLength  PetalWidth  Species\n",
              "0          6.4         2.8          5.6         2.2        2\n",
              "1          5.0         2.3          3.3         1.0        1\n",
              "2          4.9         2.5          4.5         1.7        2\n",
              "3          4.9         3.1          1.5         0.1        0\n",
              "4          5.7         3.8          1.7         0.3        0"
            ]
          },
          "metadata": {
            "tags": []
          },
          "execution_count": 4
        }
      ]
    },
    {
      "cell_type": "code",
      "metadata": {
        "id": "7te1go8OpmFg",
        "colab_type": "code",
        "colab": {
          "base_uri": "https://localhost:8080/",
          "height": 204
        },
        "outputId": "d4e98b4e-898c-4798-c4ef-77af7a9970c5"
      },
      "source": [
        "test.head()"
      ],
      "execution_count": 5,
      "outputs": [
        {
          "output_type": "execute_result",
          "data": {
            "text/html": [
              "<div>\n",
              "<style scoped>\n",
              "    .dataframe tbody tr th:only-of-type {\n",
              "        vertical-align: middle;\n",
              "    }\n",
              "\n",
              "    .dataframe tbody tr th {\n",
              "        vertical-align: top;\n",
              "    }\n",
              "\n",
              "    .dataframe thead th {\n",
              "        text-align: right;\n",
              "    }\n",
              "</style>\n",
              "<table border=\"1\" class=\"dataframe\">\n",
              "  <thead>\n",
              "    <tr style=\"text-align: right;\">\n",
              "      <th></th>\n",
              "      <th>SepalLength</th>\n",
              "      <th>SepalWidth</th>\n",
              "      <th>PetalLength</th>\n",
              "      <th>PetalWidth</th>\n",
              "      <th>Species</th>\n",
              "    </tr>\n",
              "  </thead>\n",
              "  <tbody>\n",
              "    <tr>\n",
              "      <th>0</th>\n",
              "      <td>5.9</td>\n",
              "      <td>3.0</td>\n",
              "      <td>4.2</td>\n",
              "      <td>1.5</td>\n",
              "      <td>1</td>\n",
              "    </tr>\n",
              "    <tr>\n",
              "      <th>1</th>\n",
              "      <td>6.9</td>\n",
              "      <td>3.1</td>\n",
              "      <td>5.4</td>\n",
              "      <td>2.1</td>\n",
              "      <td>2</td>\n",
              "    </tr>\n",
              "    <tr>\n",
              "      <th>2</th>\n",
              "      <td>5.1</td>\n",
              "      <td>3.3</td>\n",
              "      <td>1.7</td>\n",
              "      <td>0.5</td>\n",
              "      <td>0</td>\n",
              "    </tr>\n",
              "    <tr>\n",
              "      <th>3</th>\n",
              "      <td>6.0</td>\n",
              "      <td>3.4</td>\n",
              "      <td>4.5</td>\n",
              "      <td>1.6</td>\n",
              "      <td>1</td>\n",
              "    </tr>\n",
              "    <tr>\n",
              "      <th>4</th>\n",
              "      <td>5.5</td>\n",
              "      <td>2.5</td>\n",
              "      <td>4.0</td>\n",
              "      <td>1.3</td>\n",
              "      <td>1</td>\n",
              "    </tr>\n",
              "  </tbody>\n",
              "</table>\n",
              "</div>"
            ],
            "text/plain": [
              "   SepalLength  SepalWidth  PetalLength  PetalWidth  Species\n",
              "0          5.9         3.0          4.2         1.5        1\n",
              "1          6.9         3.1          5.4         2.1        2\n",
              "2          5.1         3.3          1.7         0.5        0\n",
              "3          6.0         3.4          4.5         1.6        1\n",
              "4          5.5         2.5          4.0         1.3        1"
            ]
          },
          "metadata": {
            "tags": []
          },
          "execution_count": 5
        }
      ]
    },
    {
      "cell_type": "code",
      "metadata": {
        "id": "Jaeg2eYfpoC9",
        "colab_type": "code",
        "colab": {
          "base_uri": "https://localhost:8080/",
          "height": 204
        },
        "outputId": "98df9633-803e-425c-9370-8b5d9b73f328"
      },
      "source": [
        "train_y = train.pop('Species')\n",
        "test_y = test.pop('Species')\n",
        "\n",
        "train.head()"
      ],
      "execution_count": 6,
      "outputs": [
        {
          "output_type": "execute_result",
          "data": {
            "text/html": [
              "<div>\n",
              "<style scoped>\n",
              "    .dataframe tbody tr th:only-of-type {\n",
              "        vertical-align: middle;\n",
              "    }\n",
              "\n",
              "    .dataframe tbody tr th {\n",
              "        vertical-align: top;\n",
              "    }\n",
              "\n",
              "    .dataframe thead th {\n",
              "        text-align: right;\n",
              "    }\n",
              "</style>\n",
              "<table border=\"1\" class=\"dataframe\">\n",
              "  <thead>\n",
              "    <tr style=\"text-align: right;\">\n",
              "      <th></th>\n",
              "      <th>SepalLength</th>\n",
              "      <th>SepalWidth</th>\n",
              "      <th>PetalLength</th>\n",
              "      <th>PetalWidth</th>\n",
              "    </tr>\n",
              "  </thead>\n",
              "  <tbody>\n",
              "    <tr>\n",
              "      <th>0</th>\n",
              "      <td>6.4</td>\n",
              "      <td>2.8</td>\n",
              "      <td>5.6</td>\n",
              "      <td>2.2</td>\n",
              "    </tr>\n",
              "    <tr>\n",
              "      <th>1</th>\n",
              "      <td>5.0</td>\n",
              "      <td>2.3</td>\n",
              "      <td>3.3</td>\n",
              "      <td>1.0</td>\n",
              "    </tr>\n",
              "    <tr>\n",
              "      <th>2</th>\n",
              "      <td>4.9</td>\n",
              "      <td>2.5</td>\n",
              "      <td>4.5</td>\n",
              "      <td>1.7</td>\n",
              "    </tr>\n",
              "    <tr>\n",
              "      <th>3</th>\n",
              "      <td>4.9</td>\n",
              "      <td>3.1</td>\n",
              "      <td>1.5</td>\n",
              "      <td>0.1</td>\n",
              "    </tr>\n",
              "    <tr>\n",
              "      <th>4</th>\n",
              "      <td>5.7</td>\n",
              "      <td>3.8</td>\n",
              "      <td>1.7</td>\n",
              "      <td>0.3</td>\n",
              "    </tr>\n",
              "  </tbody>\n",
              "</table>\n",
              "</div>"
            ],
            "text/plain": [
              "   SepalLength  SepalWidth  PetalLength  PetalWidth\n",
              "0          6.4         2.8          5.6         2.2\n",
              "1          5.0         2.3          3.3         1.0\n",
              "2          4.9         2.5          4.5         1.7\n",
              "3          4.9         3.1          1.5         0.1\n",
              "4          5.7         3.8          1.7         0.3"
            ]
          },
          "metadata": {
            "tags": []
          },
          "execution_count": 6
        }
      ]
    },
    {
      "cell_type": "code",
      "metadata": {
        "id": "f1OWMvGip8TI",
        "colab_type": "code",
        "colab": {}
      },
      "source": [
        "def input_evaluation_set():\n",
        "  features = {'SepalLength': np.array([6.4, 5.0]),\n",
        "              'SepalWidth': np.array([2.8, 2.3]),\n",
        "              'PetalLength': np.array([5.6, 3.3]),\n",
        "              'PetalWidth': np.array([2.2, 1.0])}\n",
        "  labels = np.array([2, 1])\n",
        "  return features, labels"
      ],
      "execution_count": 0,
      "outputs": []
    },
    {
      "cell_type": "code",
      "metadata": {
        "id": "MFvICgLzrNiy",
        "colab_type": "code",
        "colab": {}
      },
      "source": [
        "def input_fn(features, labels, training=True, batch_size=256):\n",
        "  dataset = tf.data.Dataset.from_tensor_slices((dict(features), labels))\n",
        "\n",
        "  if training:\n",
        "    dataset = dataset.shuffle(1000).repeat()\n",
        "  \n",
        "  return dataset.batch(batch_size)"
      ],
      "execution_count": 0,
      "outputs": []
    },
    {
      "cell_type": "code",
      "metadata": {
        "id": "GnO9zyXbrzMt",
        "colab_type": "code",
        "colab": {}
      },
      "source": [
        "my_feature_columns = []\n",
        "for key in train.keys():\n",
        "  my_feature_columns.append(tf.feature_column.numeric_column(key=key))"
      ],
      "execution_count": 0,
      "outputs": []
    },
    {
      "cell_type": "code",
      "metadata": {
        "id": "ERsab2jGsleR",
        "colab_type": "code",
        "colab": {
          "base_uri": "https://localhost:8080/",
          "height": 190
        },
        "outputId": "938a8268-5691-45ab-fdd4-7dd5c9a6ee64"
      },
      "source": [
        "classifier = tf.estimator.DNNClassifier(\n",
        "    feature_columns=my_feature_columns,\n",
        "    hidden_units=[30, 10],\n",
        "    n_classes=3)"
      ],
      "execution_count": 10,
      "outputs": [
        {
          "output_type": "stream",
          "text": [
            "INFO:tensorflow:Using default config.\n",
            "WARNING:tensorflow:Using temporary folder as model directory: /tmp/tmpir8q1pjx\n",
            "INFO:tensorflow:Using config: {'_model_dir': '/tmp/tmpir8q1pjx', '_tf_random_seed': None, '_save_summary_steps': 100, '_save_checkpoints_steps': None, '_save_checkpoints_secs': 600, '_session_config': allow_soft_placement: true\n",
            "graph_options {\n",
            "  rewrite_options {\n",
            "    meta_optimizer_iterations: ONE\n",
            "  }\n",
            "}\n",
            ", '_keep_checkpoint_max': 5, '_keep_checkpoint_every_n_hours': 10000, '_log_step_count_steps': 100, '_train_distribute': None, '_device_fn': None, '_protocol': None, '_eval_distribute': None, '_experimental_distribute': None, '_experimental_max_worker_delay_secs': None, '_session_creation_timeout_secs': 7200, '_service': None, '_cluster_spec': ClusterSpec({}), '_task_type': 'worker', '_task_id': 0, '_global_id_in_cluster': 0, '_master': '', '_evaluation_master': '', '_is_chief': True, '_num_ps_replicas': 0, '_num_worker_replicas': 1}\n"
          ],
          "name": "stdout"
        }
      ]
    },
    {
      "cell_type": "code",
      "metadata": {
        "id": "y-oVhPb0s5kY",
        "colab_type": "code",
        "colab": {
          "base_uri": "https://localhost:8080/",
          "height": 1000
        },
        "outputId": "f67b51e4-9cf7-4fe0-97db-4564f4b2cf2d"
      },
      "source": [
        "classifier.train(\n",
        "    input_fn=lambda: input_fn(train, train_y, training=True),\n",
        "    steps=5000\n",
        ")"
      ],
      "execution_count": 13,
      "outputs": [
        {
          "output_type": "stream",
          "text": [
            "WARNING:tensorflow:From /usr/local/lib/python3.6/dist-packages/tensorflow/python/ops/resource_variable_ops.py:1666: calling BaseResourceVariable.__init__ (from tensorflow.python.ops.resource_variable_ops) with constraint is deprecated and will be removed in a future version.\n",
            "Instructions for updating:\n",
            "If using Keras pass *_constraint arguments to layers.\n",
            "WARNING:tensorflow:From /usr/local/lib/python3.6/dist-packages/tensorflow/python/training/training_util.py:236: Variable.initialized_value (from tensorflow.python.ops.variables) is deprecated and will be removed in a future version.\n",
            "Instructions for updating:\n",
            "Use Variable.read_value. Variables in 2.X are initialized automatically both in eager and graph (inside tf.defun) contexts.\n",
            "INFO:tensorflow:Calling model_fn.\n",
            "WARNING:tensorflow:Layer dnn is casting an input tensor from dtype float64 to the layer's dtype of float32, which is new behavior in TensorFlow 2.  The layer has dtype float32 because it's dtype defaults to floatx.\n",
            "\n",
            "If you intended to run this layer in float32, you can safely ignore this warning. If in doubt, this warning is likely only an issue if you are porting a TensorFlow 1.X model to TensorFlow 2.\n",
            "\n",
            "To change all layers to have dtype float64 by default, call `tf.keras.backend.set_floatx('float64')`. To change just this layer, pass dtype='float64' to the layer constructor. If you are the author of this layer, you can disable autocasting by passing autocast=False to the base Layer constructor.\n",
            "\n",
            "WARNING:tensorflow:From /usr/local/lib/python3.6/dist-packages/tensorflow/python/keras/optimizer_v2/adagrad.py:106: calling Constant.__init__ (from tensorflow.python.ops.init_ops) with dtype is deprecated and will be removed in a future version.\n",
            "Instructions for updating:\n",
            "Call initializer instance with the dtype argument instead of passing it to the constructor\n",
            "INFO:tensorflow:Done calling model_fn.\n",
            "INFO:tensorflow:Create CheckpointSaverHook.\n",
            "INFO:tensorflow:Graph was finalized.\n",
            "INFO:tensorflow:Running local_init_op.\n",
            "INFO:tensorflow:Done running local_init_op.\n",
            "INFO:tensorflow:Calling checkpoint listeners before saving checkpoint 0...\n",
            "INFO:tensorflow:Saving checkpoints for 0 into /tmp/tmpir8q1pjx/model.ckpt.\n",
            "INFO:tensorflow:Calling checkpoint listeners after saving checkpoint 0...\n",
            "INFO:tensorflow:loss = 1.5150826, step = 0\n",
            "INFO:tensorflow:global_step/sec: 393.103\n",
            "INFO:tensorflow:loss = 0.94746095, step = 100 (0.257 sec)\n",
            "INFO:tensorflow:global_step/sec: 470.539\n",
            "INFO:tensorflow:loss = 0.86813915, step = 200 (0.212 sec)\n",
            "INFO:tensorflow:global_step/sec: 437.418\n",
            "INFO:tensorflow:loss = 0.8250759, step = 300 (0.227 sec)\n",
            "INFO:tensorflow:global_step/sec: 450.8\n",
            "INFO:tensorflow:loss = 0.7934078, step = 400 (0.224 sec)\n",
            "INFO:tensorflow:global_step/sec: 456.229\n",
            "INFO:tensorflow:loss = 0.7657974, step = 500 (0.219 sec)\n",
            "INFO:tensorflow:global_step/sec: 481.976\n",
            "INFO:tensorflow:loss = 0.74206394, step = 600 (0.207 sec)\n",
            "INFO:tensorflow:global_step/sec: 470.669\n",
            "INFO:tensorflow:loss = 0.7173774, step = 700 (0.213 sec)\n",
            "INFO:tensorflow:global_step/sec: 449.586\n",
            "INFO:tensorflow:loss = 0.69954306, step = 800 (0.223 sec)\n",
            "INFO:tensorflow:global_step/sec: 450.756\n",
            "INFO:tensorflow:loss = 0.67747444, step = 900 (0.222 sec)\n",
            "INFO:tensorflow:global_step/sec: 479.177\n",
            "INFO:tensorflow:loss = 0.6559442, step = 1000 (0.206 sec)\n",
            "INFO:tensorflow:global_step/sec: 479.264\n",
            "INFO:tensorflow:loss = 0.6453545, step = 1100 (0.209 sec)\n",
            "INFO:tensorflow:global_step/sec: 475.127\n",
            "INFO:tensorflow:loss = 0.62578166, step = 1200 (0.212 sec)\n",
            "INFO:tensorflow:global_step/sec: 448.706\n",
            "INFO:tensorflow:loss = 0.613185, step = 1300 (0.223 sec)\n",
            "INFO:tensorflow:global_step/sec: 446.187\n",
            "INFO:tensorflow:loss = 0.61318326, step = 1400 (0.224 sec)\n",
            "INFO:tensorflow:global_step/sec: 463.755\n",
            "INFO:tensorflow:loss = 0.5984747, step = 1500 (0.214 sec)\n",
            "INFO:tensorflow:global_step/sec: 480.779\n",
            "INFO:tensorflow:loss = 0.5717344, step = 1600 (0.209 sec)\n",
            "INFO:tensorflow:global_step/sec: 477.873\n",
            "INFO:tensorflow:loss = 0.5750376, step = 1700 (0.209 sec)\n",
            "INFO:tensorflow:global_step/sec: 446.993\n",
            "INFO:tensorflow:loss = 0.5651998, step = 1800 (0.222 sec)\n",
            "INFO:tensorflow:global_step/sec: 465.491\n",
            "INFO:tensorflow:loss = 0.5417298, step = 1900 (0.215 sec)\n",
            "INFO:tensorflow:global_step/sec: 467.26\n",
            "INFO:tensorflow:loss = 0.5447119, step = 2000 (0.214 sec)\n",
            "INFO:tensorflow:global_step/sec: 477.323\n",
            "INFO:tensorflow:loss = 0.5390112, step = 2100 (0.212 sec)\n",
            "INFO:tensorflow:global_step/sec: 467.33\n",
            "INFO:tensorflow:loss = 0.53371125, step = 2200 (0.214 sec)\n",
            "INFO:tensorflow:global_step/sec: 478.361\n",
            "INFO:tensorflow:loss = 0.5231729, step = 2300 (0.208 sec)\n",
            "INFO:tensorflow:global_step/sec: 453.999\n",
            "INFO:tensorflow:loss = 0.5198096, step = 2400 (0.220 sec)\n",
            "INFO:tensorflow:global_step/sec: 477.059\n",
            "INFO:tensorflow:loss = 0.513999, step = 2500 (0.210 sec)\n",
            "INFO:tensorflow:global_step/sec: 471.055\n",
            "INFO:tensorflow:loss = 0.49688816, step = 2600 (0.210 sec)\n",
            "INFO:tensorflow:global_step/sec: 458.739\n",
            "INFO:tensorflow:loss = 0.5005829, step = 2700 (0.220 sec)\n",
            "INFO:tensorflow:global_step/sec: 461.85\n",
            "INFO:tensorflow:loss = 0.49385363, step = 2800 (0.216 sec)\n",
            "INFO:tensorflow:global_step/sec: 472.664\n",
            "INFO:tensorflow:loss = 0.49354377, step = 2900 (0.211 sec)\n",
            "INFO:tensorflow:global_step/sec: 481.334\n",
            "INFO:tensorflow:loss = 0.47834307, step = 3000 (0.207 sec)\n",
            "INFO:tensorflow:global_step/sec: 458.008\n",
            "INFO:tensorflow:loss = 0.47183263, step = 3100 (0.219 sec)\n",
            "INFO:tensorflow:global_step/sec: 459.208\n",
            "INFO:tensorflow:loss = 0.47380546, step = 3200 (0.218 sec)\n",
            "INFO:tensorflow:global_step/sec: 461.363\n",
            "INFO:tensorflow:loss = 0.4732046, step = 3300 (0.217 sec)\n",
            "INFO:tensorflow:global_step/sec: 478.828\n",
            "INFO:tensorflow:loss = 0.46854866, step = 3400 (0.206 sec)\n",
            "INFO:tensorflow:global_step/sec: 487.21\n",
            "INFO:tensorflow:loss = 0.46830443, step = 3500 (0.207 sec)\n",
            "INFO:tensorflow:global_step/sec: 461.568\n",
            "INFO:tensorflow:loss = 0.4483626, step = 3600 (0.214 sec)\n",
            "INFO:tensorflow:global_step/sec: 464.218\n",
            "INFO:tensorflow:loss = 0.4654035, step = 3700 (0.218 sec)\n",
            "INFO:tensorflow:global_step/sec: 452.589\n",
            "INFO:tensorflow:loss = 0.4451731, step = 3800 (0.219 sec)\n",
            "INFO:tensorflow:global_step/sec: 482.285\n",
            "INFO:tensorflow:loss = 0.4458463, step = 3900 (0.210 sec)\n",
            "INFO:tensorflow:global_step/sec: 470.28\n",
            "INFO:tensorflow:loss = 0.4364962, step = 4000 (0.212 sec)\n",
            "INFO:tensorflow:global_step/sec: 463.718\n",
            "INFO:tensorflow:loss = 0.44471872, step = 4100 (0.217 sec)\n",
            "INFO:tensorflow:global_step/sec: 476.372\n",
            "INFO:tensorflow:loss = 0.4385521, step = 4200 (0.208 sec)\n",
            "INFO:tensorflow:global_step/sec: 468.927\n",
            "INFO:tensorflow:loss = 0.42235702, step = 4300 (0.213 sec)\n",
            "INFO:tensorflow:global_step/sec: 468.951\n",
            "INFO:tensorflow:loss = 0.42160287, step = 4400 (0.215 sec)\n",
            "INFO:tensorflow:global_step/sec: 472.229\n",
            "INFO:tensorflow:loss = 0.42069307, step = 4500 (0.211 sec)\n",
            "INFO:tensorflow:global_step/sec: 467.855\n",
            "INFO:tensorflow:loss = 0.4077368, step = 4600 (0.212 sec)\n",
            "INFO:tensorflow:global_step/sec: 456.085\n",
            "INFO:tensorflow:loss = 0.414553, step = 4700 (0.221 sec)\n",
            "INFO:tensorflow:global_step/sec: 472.226\n",
            "INFO:tensorflow:loss = 0.40805545, step = 4800 (0.211 sec)\n",
            "INFO:tensorflow:global_step/sec: 482.803\n",
            "INFO:tensorflow:loss = 0.4070841, step = 4900 (0.206 sec)\n",
            "INFO:tensorflow:Calling checkpoint listeners before saving checkpoint 5000...\n",
            "INFO:tensorflow:Saving checkpoints for 5000 into /tmp/tmpir8q1pjx/model.ckpt.\n",
            "INFO:tensorflow:Calling checkpoint listeners after saving checkpoint 5000...\n",
            "INFO:tensorflow:Loss for final step: 0.40694648.\n"
          ],
          "name": "stdout"
        },
        {
          "output_type": "execute_result",
          "data": {
            "text/plain": [
              "<tensorflow_estimator.python.estimator.canned.dnn.DNNClassifierV2 at 0x7f9a14e95be0>"
            ]
          },
          "metadata": {
            "tags": []
          },
          "execution_count": 13
        }
      ]
    },
    {
      "cell_type": "code",
      "metadata": {
        "id": "2qXCgYlwtNZj",
        "colab_type": "code",
        "colab": {
          "base_uri": "https://localhost:8080/",
          "height": 377
        },
        "outputId": "3b23eeea-1653-4e1b-bd7e-959fa8763dad"
      },
      "source": [
        "eval_result = classifier.evaluate(\n",
        "    input_fn= lambda: input_fn(test, test_y, training=False))\n",
        "\n",
        "print('\\nTest set accuracy: {accuracy:0.3f}\\n'.format(**eval_result))"
      ],
      "execution_count": 14,
      "outputs": [
        {
          "output_type": "stream",
          "text": [
            "INFO:tensorflow:Calling model_fn.\n",
            "WARNING:tensorflow:Layer dnn is casting an input tensor from dtype float64 to the layer's dtype of float32, which is new behavior in TensorFlow 2.  The layer has dtype float32 because it's dtype defaults to floatx.\n",
            "\n",
            "If you intended to run this layer in float32, you can safely ignore this warning. If in doubt, this warning is likely only an issue if you are porting a TensorFlow 1.X model to TensorFlow 2.\n",
            "\n",
            "To change all layers to have dtype float64 by default, call `tf.keras.backend.set_floatx('float64')`. To change just this layer, pass dtype='float64' to the layer constructor. If you are the author of this layer, you can disable autocasting by passing autocast=False to the base Layer constructor.\n",
            "\n",
            "INFO:tensorflow:Done calling model_fn.\n",
            "INFO:tensorflow:Starting evaluation at 2020-04-21T21:49:29Z\n",
            "INFO:tensorflow:Graph was finalized.\n",
            "INFO:tensorflow:Restoring parameters from /tmp/tmpir8q1pjx/model.ckpt-5000\n",
            "INFO:tensorflow:Running local_init_op.\n",
            "INFO:tensorflow:Done running local_init_op.\n",
            "INFO:tensorflow:Inference Time : 0.23439s\n",
            "INFO:tensorflow:Finished evaluation at 2020-04-21-21:49:29\n",
            "INFO:tensorflow:Saving dict for global step 5000: accuracy = 0.8666667, average_loss = 0.47470555, global_step = 5000, loss = 0.47470555\n",
            "INFO:tensorflow:Saving 'checkpoint_path' summary for global step 5000: /tmp/tmpir8q1pjx/model.ckpt-5000\n",
            "\n",
            "Test set accuracy: 0.867\n",
            "\n"
          ],
          "name": "stdout"
        }
      ]
    },
    {
      "cell_type": "code",
      "metadata": {
        "id": "bMyZfoITt6m8",
        "colab_type": "code",
        "colab": {}
      },
      "source": [
        "expected = ['Setosa', 'Versicolor', 'Virginica']\n",
        "predict_x = {\n",
        "    'SepalLength': [5.1, 5.9, 6.9],\n",
        "    'SepalWidth': [3.3, 3.0, 3.1],\n",
        "    'PetalLength': [1.7, 4.2, 5.4],\n",
        "    'PetalWidth': [0.5, 1.5, 2.1],\n",
        "}\n",
        "\n",
        "def input_fn(features, batch_size=256):\n",
        "  return tf.data.Dataset.from_tensor_slices(dict(features)).batch(batch_size)"
      ],
      "execution_count": 0,
      "outputs": []
    },
    {
      "cell_type": "code",
      "metadata": {
        "id": "jyT4VeXKunqp",
        "colab_type": "code",
        "colab": {}
      },
      "source": [
        "# Generate predictions from the model\n",
        "expected = ['Setosa', 'Versicolor', 'Virginica']\n",
        "predict_x = {\n",
        "    'SepalLength': [5.1, 5.9, 6.9],\n",
        "    'SepalWidth': [3.3, 3.0, 3.1],\n",
        "    'PetalLength': [1.7, 4.2, 5.4],\n",
        "    'PetalWidth': [0.5, 1.5, 2.1],\n",
        "}\n",
        "\n",
        "def input_fn(features, batch_size=256):\n",
        "    \"\"\"An input function for prediction.\"\"\"\n",
        "    # Convert the inputs to a Dataset without labels.\n",
        "    return tf.data.Dataset.from_tensor_slices(dict(features)).batch(batch_size)\n",
        "\n",
        "predictions = classifier.predict(\n",
        "    input_fn=lambda: input_fn(predict_x))"
      ],
      "execution_count": 0,
      "outputs": []
    },
    {
      "cell_type": "code",
      "metadata": {
        "id": "231W0l7_uxc7",
        "colab_type": "code",
        "colab": {}
      },
      "source": [
        "for pred_dict, expec in zip(predictions, expected):\n",
        "    class_id = pred_dict['class_ids'][0]\n",
        "    probability = pred_dict['probabilities'][class_id]\n",
        "\n",
        "    print('Prediction is \"{}\" ({:.1f}%), expected \"{}\"'.format(\n",
        "        SPECIES[class_id], 100 * probability, expec))"
      ],
      "execution_count": 0,
      "outputs": []
    },
    {
      "cell_type": "code",
      "metadata": {
        "id": "k_kbnMKhv1NG",
        "colab_type": "code",
        "colab": {}
      },
      "source": [
        ""
      ],
      "execution_count": 0,
      "outputs": []
    }
  ]
}