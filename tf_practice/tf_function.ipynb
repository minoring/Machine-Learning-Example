{
  "nbformat": 4,
  "nbformat_minor": 0,
  "metadata": {
    "colab": {
      "name": "tf_function.ipynb",
      "provenance": []
    },
    "kernelspec": {
      "name": "python3",
      "display_name": "Python 3"
    }
  },
  "cells": [
    {
      "cell_type": "markdown",
      "metadata": {
        "id": "gCWMZ4j-_uqH",
        "colab_type": "text"
      },
      "source": [
        "## Better performance with tf.function\n",
        "\n",
        "In Tensorflow 2.0, eager execution is turned on by default. The use interface is intuitive and flexible (running one-off operations is much easier and faster), but this can come at the expense of performace and deployability.\n",
        "\n",
        "To get peak performance and to make your model deployable anywhere, use `tf.function` to make graphs out of your programs. Thanks to AutoGraph, a surprising amount of Python code just works with tf.function, but there are still pitfills to be wary of.\n",
        "\n",
        "The main takeawyas and recommendations are:\n",
        "- Don't rely on Python side effects like object mutation or list appends.\n",
        "- tf.function works best with TensorFlow ops, rather than NumPy ops or Python primitives.\n",
        "- When in doubt, use the `for x in y` idiom"
      ]
    },
    {
      "cell_type": "code",
      "metadata": {
        "id": "j6rt24Wc_rU1",
        "colab_type": "code",
        "colab": {
          "base_uri": "https://localhost:8080/",
          "height": 34
        },
        "outputId": "f317dce4-968f-4d5c-93fe-d90cac8c351f"
      },
      "source": [
        "from __future__ import absolute_import, division, print_function\n",
        "\n",
        "%tensorflow_version 2.x\n",
        "\n",
        "import tensorflow as tf"
      ],
      "execution_count": 2,
      "outputs": [
        {
          "output_type": "stream",
          "text": [
            "TensorFlow 2.x selected.\n"
          ],
          "name": "stdout"
        }
      ]
    },
    {
      "cell_type": "code",
      "metadata": {
        "id": "dFJ4c7UVAg6j",
        "colab_type": "code",
        "colab": {}
      },
      "source": [
        "import contextlib\n",
        "\n",
        "# Some helper code to demonstrate the kinds of errors you might encounter.\n",
        "@contextlib.contextmanager\n",
        "def assert_raises(error_class):\n",
        "  try:\n",
        "    yield\n",
        "  except error_class as e:\n",
        "    print('Caught expected exception \\n {}: {}'.format(error_class, e))\n",
        "  except Exception as e:\n",
        "    print('Got unexpected exception \\n {}: {}'.format(type(e), e))\n",
        "  else:\n",
        "    raise Exception('Expected {} to be raised but no error was raised!'.format(\n",
        "        error_class))"
      ],
      "execution_count": 0,
      "outputs": []
    },
    {
      "cell_type": "code",
      "metadata": {
        "id": "50cubp9KBHiw",
        "colab_type": "code",
        "colab": {
          "base_uri": "https://localhost:8080/",
          "height": 68
        },
        "outputId": "d053dd65-820c-4432-afec-f3cae474d06e"
      },
      "source": [
        "# A `tf.function` is just like a core TensorFlow operation\n",
        "# You can execute it eagerly; you can use it in a graph; it has gradients; and so on.\n",
        "\n",
        "# A function is like an op\n",
        "@tf.function\n",
        "def add(a, b):\n",
        "  return a + b\n",
        "add(tf.ones([2, 2]), tf.ones([2, 2]))"
      ],
      "execution_count": 4,
      "outputs": [
        {
          "output_type": "execute_result",
          "data": {
            "text/plain": [
              "<tf.Tensor: id=14, shape=(2, 2), dtype=float32, numpy=\n",
              "array([[2., 2.],\n",
              "       [2., 2.]], dtype=float32)>"
            ]
          },
          "metadata": {
            "tags": []
          },
          "execution_count": 4
        }
      ]
    },
    {
      "cell_type": "code",
      "metadata": {
        "id": "Al_rhGYJBazf",
        "colab_type": "code",
        "colab": {
          "base_uri": "https://localhost:8080/",
          "height": 34
        },
        "outputId": "121cfffd-afd0-405a-a02b-3852ee3c94df"
      },
      "source": [
        "# Functions have gradients\n",
        "\n",
        "v = tf.Variable(1.0)\n",
        "with tf.GradientTape() as tape:\n",
        "  result = add(v, 1.0)\n",
        "tape.gradient(result, v)"
      ],
      "execution_count": 5,
      "outputs": [
        {
          "output_type": "execute_result",
          "data": {
            "text/plain": [
              "<tf.Tensor: id=37, shape=(), dtype=float32, numpy=1.0>"
            ]
          },
          "metadata": {
            "tags": []
          },
          "execution_count": 5
        }
      ]
    },
    {
      "cell_type": "code",
      "metadata": {
        "id": "RwVlTWFgBr3t",
        "colab_type": "code",
        "colab": {
          "base_uri": "https://localhost:8080/",
          "height": 85
        },
        "outputId": "9e22f8fd-9250-4cff-f940-95943b1cbca6"
      },
      "source": [
        "# You can use functions inside functions\n",
        "\n",
        "@tf.function\n",
        "def dense_layer(x, w, b):\n",
        "  return add(tf.matmul(x, w), b)\n",
        "\n",
        "dense_layer(tf.ones([3, 2]), tf.ones([2, 2]), tf.ones([2]))"
      ],
      "execution_count": 6,
      "outputs": [
        {
          "output_type": "execute_result",
          "data": {
            "text/plain": [
              "<tf.Tensor: id=63, shape=(3, 2), dtype=float32, numpy=\n",
              "array([[3., 3.],\n",
              "       [3., 3.],\n",
              "       [3., 3.]], dtype=float32)>"
            ]
          },
          "metadata": {
            "tags": []
          },
          "execution_count": 6
        }
      ]
    },
    {
      "cell_type": "markdown",
      "metadata": {
        "id": "ubYzJehsDXDZ",
        "colab_type": "text"
      },
      "source": [
        "## Tracing and polymorphism\n",
        "Python's dynamic typing means that you can call functions with a variety of argument types, and Python will do something different in each scenario.\n",
        "\n",
        "One the other hand, TensorFlow graphs require static dtypes and shape dimensions. `tf.function` bridges this gap by retracing the function when necessary to generate the correct graphs. Most of the subtlety of `tf.function` usage stems from this retracing behavior.\n"
      ]
    },
    {
      "cell_type": "code",
      "metadata": {
        "id": "-82AMM3zCZtb",
        "colab_type": "code",
        "colab": {
          "base_uri": "https://localhost:8080/",
          "height": 170
        },
        "outputId": "559fc0ae-704b-4ea9-9752-da5186fd985f"
      },
      "source": [
        "# You can call a function with arguments of different types to see\n",
        "# what is happening\n",
        "\n",
        "# Functions are polymorphic\n",
        "\n",
        "@tf.function\n",
        "def double(a):\n",
        "  print('Tracing with', a)\n",
        "  return a + a\n",
        "\n",
        "print(double(tf.constant(1)))\n",
        "print()\n",
        "print(double(tf.constant(1.1)))\n",
        "print()\n",
        "print(double(tf.constant('a')))\n",
        "print()"
      ],
      "execution_count": 8,
      "outputs": [
        {
          "output_type": "stream",
          "text": [
            "Tracing with Tensor(\"a:0\", shape=(), dtype=int32)\n",
            "tf.Tensor(2, shape=(), dtype=int32)\n",
            "\n",
            "Tracing with Tensor(\"a:0\", shape=(), dtype=float32)\n",
            "tf.Tensor(2.2, shape=(), dtype=float32)\n",
            "\n",
            "Tracing with Tensor(\"a:0\", shape=(), dtype=string)\n",
            "tf.Tensor(b'aa', shape=(), dtype=string)\n",
            "\n"
          ],
          "name": "stdout"
        }
      ]
    },
    {
      "cell_type": "markdown",
      "metadata": {
        "id": "s0Zif-j5EeaW",
        "colab_type": "text"
      },
      "source": [
        "To control the tracing behavior, use the following techniques:\n",
        "\n",
        "- Create a new `tf.function`. Separate `tf.function` objects are guaranteed npt to share traces.\n",
        "- Use the `get_concrete_function` method to get a specific trace\n",
        "- Specify `input_signiture` when calling `tf.function` to trace only once per calling graph."
      ]
    },
    {
      "cell_type": "code",
      "metadata": {
        "id": "IJyNzeFNEJLj",
        "colab_type": "code",
        "colab": {
          "base_uri": "https://localhost:8080/",
          "height": 156
        },
        "outputId": "45413404-cc43-4e84-c93f-da8ea5fe4c60"
      },
      "source": [
        "# Traces argument information at compilation time.\n",
        "print('Obtaining concrete trace')\n",
        "double_strings = double.get_concrete_function(tf.TensorSpec(shape=None, dtype=tf.string))\n",
        "print('Executing traced function')\n",
        "print(double_strings(tf.constant('a')))\n",
        "print(double_strings(a=tf.constant('b')))\n",
        "print('Use a concrete trace with imcompatible types will throw an error')\n",
        "with assert_raises(tf.errors.InvalidArgumentError):\n",
        "  double_strings(tf.constant(1))"
      ],
      "execution_count": 10,
      "outputs": [
        {
          "output_type": "stream",
          "text": [
            "Obtaining concrete trace\n",
            "Executing traced function\n",
            "tf.Tensor(b'aa', shape=(), dtype=string)\n",
            "tf.Tensor(b'bb', shape=(), dtype=string)\n",
            "Use a concrete trace with imcompatible types will throw an error\n",
            "Caught expected exception \n",
            " <class 'tensorflow.python.framework.errors_impl.InvalidArgumentError'>: cannot compute __inference_double_94 as input #0(zero-based) was expected to be a string tensor but is a int32 tensor [Op:__inference_double_94]\n"
          ],
          "name": "stdout"
        }
      ]
    },
    {
      "cell_type": "code",
      "metadata": {
        "id": "DzFZOMDUGlnZ",
        "colab_type": "code",
        "colab": {
          "base_uri": "https://localhost:8080/",
          "height": 187
        },
        "outputId": "6a29ed69-abe2-4f0f-af22-18cfa8da2258"
      },
      "source": [
        "@tf.function(input_signature=(tf.TensorSpec(shape=[None], dtype=tf.int32),))\n",
        "def next_collatz(x):\n",
        "  print('Tracing with', x)\n",
        "  return tf.where(x % 2 == 0, x // 2, 3 * x + 1)\n",
        "\n",
        "print(next_collatz(tf.constant([1, 2])))\n",
        "# We specified a 1-D tensor in the input signature, so this should fail.\n",
        "with assert_raises(ValueError):\n",
        "  next_collatz(tf.constant([[1, 2], [3, 4]]))"
      ],
      "execution_count": 13,
      "outputs": [
        {
          "output_type": "stream",
          "text": [
            "Tracing with Tensor(\"x:0\", shape=(None,), dtype=int32)\n",
            "tf.Tensor([4 1], shape=(2,), dtype=int32)\n",
            "Caught expected exception \n",
            " <class 'ValueError'>: Python inputs incompatible with input_signature:\n",
            "  inputs: (\n",
            "    tf.Tensor(\n",
            "[[1 2]\n",
            " [3 4]], shape=(2, 2), dtype=int32))\n",
            "  input_signature: (\n",
            "    TensorSpec(shape=(None,), dtype=tf.int32, name=None))\n"
          ],
          "name": "stdout"
        }
      ]
    },
    {
      "cell_type": "code",
      "metadata": {
        "id": "IRgAjPeBJKfz",
        "colab_type": "code",
        "colab": {
          "base_uri": "https://localhost:8080/",
          "height": 34
        },
        "outputId": "1a8336bf-d559-4919-ad70-d785e9cb1aa1"
      },
      "source": [
        "next_collatz(tf.constant([1, 2, 3, 4]))"
      ],
      "execution_count": 14,
      "outputs": [
        {
          "output_type": "execute_result",
          "data": {
            "text/plain": [
              "<tf.Tensor: id=125, shape=(4,), dtype=int32, numpy=array([ 4,  1, 10,  2], dtype=int32)>"
            ]
          },
          "metadata": {
            "tags": []
          },
          "execution_count": 14
        }
      ]
    },
    {
      "cell_type": "markdown",
      "metadata": {
        "id": "Mdwb4xSKJb8G",
        "colab_type": "text"
      },
      "source": [
        "## When to retrace?\n",
        "A polymorphic `tf.function` keeps a cache of concrete functions generated by tracing. The cache keys are effectively tuples of keys generated from the function args and kwargs. The key generated for a `tf.Tensor` argument is it's shpape and type. The key generated for a Python primitive is its value. For all other Python types, the keys are based on the object `id()` so that methods are traced independently for each instance of class. In the future, TensorFlow may add more sophisticated caching for Python objects that can be safely converted to tensors."
      ]
    },
    {
      "cell_type": "markdown",
      "metadata": {
        "id": "gPOOBqZOLvfl",
        "colab_type": "text"
      },
      "source": [
        "## Python or Tensor args?\n",
        "Often, Python arguments are used to control hypterparameters and graph constructions - for example, `num_layers=10` or `training=True` or `nonlinearity='relu'`. So if the Python argument changes, it make sense that you'd have to retrace the graph.\n",
        "\n",
        "However, it's possible that a Python argument is not being used to control graph construction. In these cases, a change in the Python value can trigger needless retracing."
      ]
    },
    {
      "cell_type": "code",
      "metadata": {
        "id": "4Q_abkceJWzI",
        "colab_type": "code",
        "colab": {
          "base_uri": "https://localhost:8080/",
          "height": 85
        },
        "outputId": "edca977c-f4d6-4f20-c31c-bef2c14a5f64"
      },
      "source": [
        "# Take, for example, this training loop, which AutoGraph will dynamically unrool.\n",
        "# Despite the multiple traces, the generated graph is actually identical, so this is a bit inefficient.\n",
        "def train_one_step():\n",
        "  pass\n",
        "\n",
        "@tf.function()\n",
        "def train(num_steps):\n",
        "  print('tracing with num_steps = {}'.format(num_steps))\n",
        "  print('hi')\n",
        "  for _ in tf.range(num_steps):\n",
        "    train_one_step()\n",
        "train(num_steps=10)\n",
        "train(num_steps=20)"
      ],
      "execution_count": 17,
      "outputs": [
        {
          "output_type": "stream",
          "text": [
            "tracing with num_steps = 10\n",
            "hi\n",
            "tracing with num_steps = 20\n",
            "hi\n"
          ],
          "name": "stdout"
        }
      ]
    },
    {
      "cell_type": "code",
      "metadata": {
        "id": "lBLmz4lTN9DA",
        "colab_type": "code",
        "colab": {
          "base_uri": "https://localhost:8080/",
          "height": 51
        },
        "outputId": "116e8dda-f2be-45e5-d593-e8ddf1a6cf30"
      },
      "source": [
        "# The simple workaround here is to cast your arguments to Tensors\n",
        "# if they do not affect the shape of the generated graph\n",
        "train(num_steps=tf.constant(10))\n",
        "train(num_steps=tf.constant(20)) # Retrace: 다시 만드는거.\n",
        "# 그래프가 만들어지면 print문이 없어지나? oo side effect는 trace에만 일어남."
      ],
      "execution_count": 18,
      "outputs": [
        {
          "output_type": "stream",
          "text": [
            "tracing with num_steps = Tensor(\"num_steps:0\", shape=(), dtype=int32)\n",
            "hi\n"
          ],
          "name": "stdout"
        }
      ]
    },
    {
      "cell_type": "markdown",
      "metadata": {
        "id": "nua5iqTCPCJg",
        "colab_type": "text"
      },
      "source": [
        "## Side effects in tf.function\n",
        "In general, Python side effects (like printing or mutating objects) only happen during tracing.\n",
        "So how can you reliably trigger side effects from `tf.function`?\n",
        "\n",
        "The general rule of thumb is to only use Python side effects to debug your traces. Otherwise, TensorFlow ops like `tf.Variable.assign`, `tf.print`, and `tf.summary` are the best way to ensure your code will be traced and executed by the TensorFlow runtime with each call. In general using a functional style will yield the best results."
      ]
    },
    {
      "cell_type": "code",
      "metadata": {
        "id": "33dR3O7dOMfX",
        "colab_type": "code",
        "colab": {
          "base_uri": "https://localhost:8080/",
          "height": 102
        },
        "outputId": "a233f229-5ff5-46e8-b993-6e1599dd1e93"
      },
      "source": [
        "@tf.function\n",
        "def f(x):\n",
        "  print('Traced with', x)\n",
        "  tf.print('Executed with', x)\n",
        "f(1)\n",
        "f(1)\n",
        "f(3)"
      ],
      "execution_count": 21,
      "outputs": [
        {
          "output_type": "stream",
          "text": [
            "Traced with 1\n",
            "Executed with 1\n",
            "Executed with 1\n",
            "Traced with 3\n",
            "Executed with 3\n"
          ],
          "name": "stdout"
        }
      ]
    },
    {
      "cell_type": "markdown",
      "metadata": {
        "id": "EBX7AEIIQDmx",
        "colab_type": "text"
      },
      "source": [
        "If you would like to execute Python code during each invocation of a `tf.function`, `tf.py_function` is an exit hatch. The drawback of `tf.py_function` is that it's not portable or particularily performant, nor does it work well in distributed (multi-GPU, TPU) setups. Also, since `tf.py_function` has to be wired into the graph, it casts all inputs/outputs to tensors."
      ]
    },
    {
      "cell_type": "code",
      "metadata": {
        "id": "JY29tbqZPuW6",
        "colab_type": "code",
        "colab": {
          "base_uri": "https://localhost:8080/",
          "height": 68
        },
        "outputId": "2996aab7-661d-4286-8615-3a8e148b416a"
      },
      "source": [
        "external_list = []\n",
        "\n",
        "def side_effect(x):\n",
        "  print('Python side effect')\n",
        "  external_list.append(x)\n",
        "\n",
        "@tf.function\n",
        "def f(x):\n",
        "  tf.py_function(side_effect, inp=[x], Tout=[])\n",
        "\n",
        "f(1)\n",
        "f(1)\n",
        "f(1)\n",
        "assert len(external_list) == 3\n",
        "# .numpy() call required because py_function casts 1 to tf.constant(1)\n",
        "assert external_list[0].numpy() == 1"
      ],
      "execution_count": 22,
      "outputs": [
        {
          "output_type": "stream",
          "text": [
            "Python side effect\n",
            "Python side effect\n",
            "Python side effect\n"
          ],
          "name": "stdout"
        }
      ]
    },
    {
      "cell_type": "code",
      "metadata": {
        "id": "HjArKdUqQwFx",
        "colab_type": "code",
        "colab": {
          "base_uri": "https://localhost:8080/",
          "height": 249
        },
        "outputId": "b988ebb7-8461-4d6b-bf04-85547bf653c1"
      },
      "source": [
        "external_list = []\n",
        "\n",
        "def side_effect(x):\n",
        "  print('Python side effect')\n",
        "  external_list.append(x)\n",
        "\n",
        "@tf.function\n",
        "def f(x):\n",
        "  side_effect(1)\n",
        "\n",
        "f(1)\n",
        "f(1)\n",
        "f(1)\n",
        "assert len(external_list) == 3\n",
        "# .numpy() call required because py_function casts 1 to tf.constant(1)\n",
        "assert external_list[0].numpy() == 1"
      ],
      "execution_count": 23,
      "outputs": [
        {
          "output_type": "stream",
          "text": [
            "Python side effect\n"
          ],
          "name": "stdout"
        },
        {
          "output_type": "error",
          "ename": "AssertionError",
          "evalue": "ignored",
          "traceback": [
            "\u001b[0;31m---------------------------------------------------------------------------\u001b[0m",
            "\u001b[0;31mAssertionError\u001b[0m                            Traceback (most recent call last)",
            "\u001b[0;32m<ipython-input-23-f751344a0018>\u001b[0m in \u001b[0;36m<module>\u001b[0;34m()\u001b[0m\n\u001b[1;32m     12\u001b[0m \u001b[0mf\u001b[0m\u001b[0;34m(\u001b[0m\u001b[0;36m1\u001b[0m\u001b[0;34m)\u001b[0m\u001b[0;34m\u001b[0m\u001b[0;34m\u001b[0m\u001b[0m\n\u001b[1;32m     13\u001b[0m \u001b[0mf\u001b[0m\u001b[0;34m(\u001b[0m\u001b[0;36m1\u001b[0m\u001b[0;34m)\u001b[0m\u001b[0;34m\u001b[0m\u001b[0;34m\u001b[0m\u001b[0m\n\u001b[0;32m---> 14\u001b[0;31m \u001b[0;32massert\u001b[0m \u001b[0mlen\u001b[0m\u001b[0;34m(\u001b[0m\u001b[0mexternal_list\u001b[0m\u001b[0;34m)\u001b[0m \u001b[0;34m==\u001b[0m \u001b[0;36m3\u001b[0m\u001b[0;34m\u001b[0m\u001b[0;34m\u001b[0m\u001b[0m\n\u001b[0m\u001b[1;32m     15\u001b[0m \u001b[0;31m# .numpy() call required because py_function casts 1 to tf.constant(1)\u001b[0m\u001b[0;34m\u001b[0m\u001b[0;34m\u001b[0m\u001b[0;34m\u001b[0m\u001b[0m\n\u001b[1;32m     16\u001b[0m \u001b[0;32massert\u001b[0m \u001b[0mexternal_list\u001b[0m\u001b[0;34m[\u001b[0m\u001b[0;36m0\u001b[0m\u001b[0;34m]\u001b[0m\u001b[0;34m.\u001b[0m\u001b[0mnumpy\u001b[0m\u001b[0;34m(\u001b[0m\u001b[0;34m)\u001b[0m \u001b[0;34m==\u001b[0m \u001b[0;36m1\u001b[0m\u001b[0;34m\u001b[0m\u001b[0;34m\u001b[0m\u001b[0m\n",
            "\u001b[0;31mAssertionError\u001b[0m: "
          ]
        }
      ]
    },
    {
      "cell_type": "markdown",
      "metadata": {
        "id": "yATF4pklRIsQ",
        "colab_type": "text"
      },
      "source": [
        "## Beware of Python state\n",
        "Many Python features, such as generators and iterators, rely on Python runtime to keep track of state. In general, while these constructs work as expected in Eager mode, many unexpected things can happen inside a `tf.function` due to tracing behavior."
      ]
    },
    {
      "cell_type": "code",
      "metadata": {
        "id": "LO6IZaxwQ1MA",
        "colab_type": "code",
        "colab": {
          "base_uri": "https://localhost:8080/",
          "height": 68
        },
        "outputId": "bf6e5656-45db-4cf7-ad80-ac649fb7adaf"
      },
      "source": [
        "# To give one example, advancing iterator state is a Python side effect and\n",
        "# and therefor only happens during tracing.\n",
        "external_var = tf.Variable(0)\n",
        "@tf.function\n",
        "def buggy_consume_next(iterator):\n",
        "  external_var.assign_add(next(iterator))\n",
        "  tf.print(\"Value of external_var:\", external_var)\n",
        "\n",
        "iterator = iter([0, 1, 2, 3])\n",
        "buggy_consume_next(iterator)\n",
        "# This reuses the first value from the iterator, rather than consuming the next value.\n",
        "buggy_consume_next(iterator)\n",
        "buggy_consume_next(iterator)"
      ],
      "execution_count": 25,
      "outputs": [
        {
          "output_type": "stream",
          "text": [
            "Value of external_var: 0\n",
            "Value of external_var: 0\n",
            "Value of external_var: 0\n"
          ],
          "name": "stdout"
        }
      ]
    },
    {
      "cell_type": "markdown",
      "metadata": {
        "id": "i-7kkzTuSewa",
        "colab_type": "text"
      },
      "source": [
        "If an iterator is generated and consumed entirely within the tf.function, then it should work correctly. However, the entire iterator is probably being traced, which can lead to a giant graph. This may be what you want. But if you're training on an large in-memory dataset represented as a Python list, then this can generate a very large graph, and `tf.function` is unlikely to yield a speedup.\n",
        "\n",
        "If you want to iterate over Python data, the safest way is to wrap it in a tf.data.Dataset and use the `for x in y` idiom. Autograph has special support for safely converting `for` loops when `y` is a tensor or `tf.data.Dataset`."
      ]
    },
    {
      "cell_type": "code",
      "metadata": {
        "id": "moAQpC6bSIOQ",
        "colab_type": "code",
        "colab": {}
      },
      "source": [
        "def measure_graph_size(f, *args):\n",
        "  g = f.get_concrete_function(*args).graph\n",
        "  print('{}({}) contains {} nodes in its graph'.format(\n",
        "      f.__name__, ', '.join(map(str, args)), len(g.as_graph_def().node)))"
      ],
      "execution_count": 0,
      "outputs": []
    },
    {
      "cell_type": "code",
      "metadata": {
        "id": "N-N_qKHFUB1U",
        "colab_type": "code",
        "colab": {
          "base_uri": "https://localhost:8080/",
          "height": 51
        },
        "outputId": "37ec85a1-d0d7-4348-9ee9-07a763cb71b7"
      },
      "source": [
        "@tf.function\n",
        "def train(dataset):\n",
        "  loss = tf.constant(0)\n",
        "  for x, y in dataset:\n",
        "    loss += tf.abs(y - x) # Some dummy computation\n",
        "  return loss\n",
        "\n",
        "small_data = [(1, 1)] * 2\n",
        "big_data = [(1, 1)] * 10\n",
        "measure_graph_size(train, small_data)\n",
        "measure_graph_size(train, big_data)"
      ],
      "execution_count": 29,
      "outputs": [
        {
          "output_type": "stream",
          "text": [
            "train([(1, 1), (1, 1)]) contains 8 nodes in its graph\n",
            "train([(1, 1), (1, 1), (1, 1), (1, 1), (1, 1), (1, 1), (1, 1), (1, 1), (1, 1), (1, 1)]) contains 32 nodes in its graph\n"
          ],
          "name": "stdout"
        }
      ]
    },
    {
      "cell_type": "code",
      "metadata": {
        "id": "uPvMhRuwUVmS",
        "colab_type": "code",
        "colab": {
          "base_uri": "https://localhost:8080/",
          "height": 51
        },
        "outputId": "815780bf-d631-44c5-9121-6f2aa80a56bf"
      },
      "source": [
        "small_dataset = tf.data.Dataset.from_generator(lambda: small_data, (tf.int32, tf.int32))\n",
        "big_dataset = tf.data.Dataset.from_generator(lambda: big_data, (tf.int32, tf.int32))\n",
        "\n",
        "measure_graph_size(train, small_dataset)\n",
        "measure_graph_size(train, big_dataset)"
      ],
      "execution_count": 32,
      "outputs": [
        {
          "output_type": "stream",
          "text": [
            "train(<DatasetV1Adapter shapes: (<unknown>, <unknown>), types: (tf.int32, tf.int32)>) contains 5 nodes in its graph\n",
            "train(<DatasetV1Adapter shapes: (<unknown>, <unknown>), types: (tf.int32, tf.int32)>) contains 5 nodes in its graph\n"
          ],
          "name": "stdout"
        }
      ]
    },
    {
      "cell_type": "code",
      "metadata": {
        "id": "DFjFGqFWUztS",
        "colab_type": "code",
        "colab": {
          "base_uri": "https://localhost:8080/",
          "height": 34
        },
        "outputId": "a1c33a08-36ee-4b21-9434-b7a3ea5ae96f"
      },
      "source": [
        "print(small_dataset)"
      ],
      "execution_count": 31,
      "outputs": [
        {
          "output_type": "stream",
          "text": [
            "<DatasetV1Adapter shapes: (<unknown>, <unknown>), types: (tf.int32, tf.int32)>\n"
          ],
          "name": "stdout"
        }
      ]
    },
    {
      "cell_type": "markdown",
      "metadata": {
        "id": "cawZUv2_VYYG",
        "colab_type": "text"
      },
      "source": [
        "When wrapping Python/Numpy data in a Dataset, be mindful of `tf.data.Dataset.from_generator` versus `tf.data.Dataset.from_tensors`. The former will keep the data in Python and fetch it via `tf.py_function` which have performance implications, whereas the latter will bundle a copy of the data as one large `tf.constant()` node in graph, which can have memory implications.\n",
        "\n",
        "Reading data from files via TFRecordDataset/CsvDataset"
      ]
    },
    {
      "cell_type": "markdown",
      "metadata": {
        "id": "lNpQj26OWXVv",
        "colab_type": "text"
      },
      "source": [
        "When wrapping Python/Numpy data in a Dataset, be mindful of tf.data.Dataset.from_generator versus tf.data.Dataset.from_tensors. The former will keep the data in Python and fetch it via tf.py_function which can have performance implications, whereas the latter will bundle a copy of the data as one large tf.constant() node in the graph, which can have memory implications.\n",
        "\n",
        "Reading data from files via TFRecordDataset/CsvDataset/etc. is the most effective way to consume data, as then TensorFlow itself can manage the asynchronous loading and prefetching of data, without having to involve Python."
      ]
    },
    {
      "cell_type": "markdown",
      "metadata": {
        "id": "V9H6COgmXZY_",
        "colab_type": "text"
      },
      "source": [
        "## Automatic Control Dependencies\n",
        "A very appealing property of functions as the programming model, over a general dataflow graph, is that functions can give the runtime more information about what was the intended behavior of the code.\n",
        "\n",
        "For example, when writing code which has multiple reads and writes to the same variables, a dataflow graph might not naturally encode the originally intended order of operations. In `tf.function`, we resolve ambiguities in execution order by referring to the execution order of statements in the original Python code. This way, ordering of stateful operations in `tf.function` replicates the semantics of Eager mode.\n",
        "\n",
        "This means there's no noeed to manual control dependencies; `tf.function` is smart enough to add the minimal set of necessary and sufficient control dependencies for your code to run correctly."
      ]
    },
    {
      "cell_type": "code",
      "metadata": {
        "id": "agA9dt86U8nk",
        "colab_type": "code",
        "colab": {
          "base_uri": "https://localhost:8080/",
          "height": 34
        },
        "outputId": "a7b4d347-3e1c-43b0-98a0-381a449bdfe9"
      },
      "source": [
        "# Automatic control dependencies\n",
        "\n",
        "a = tf.Variable(1.0)\n",
        "b = tf.Variable(2.0)\n",
        "\n",
        "@tf.function\n",
        "def f(x, y):\n",
        "  a.assign(y * b)\n",
        "  b.assign_add(x * a)\n",
        "  return a + b\n",
        "f(1.0, 2.0)"
      ],
      "execution_count": 33,
      "outputs": [
        {
          "output_type": "execute_result",
          "data": {
            "text/plain": [
              "<tf.Tensor: id=608, shape=(), dtype=float32, numpy=10.0>"
            ]
          },
          "metadata": {
            "tags": []
          },
          "execution_count": 33
        }
      ]
    },
    {
      "cell_type": "markdown",
      "metadata": {
        "id": "AX1Ed-auY-aR",
        "colab_type": "text"
      },
      "source": [
        "## Variables\n",
        "We can use the same idea of leveraging the intended execution order of the code to make variable creation and utilization very easy in tf.function. There is one very important caveat, though, which is that with variables it's possible to write code which behaves differently in eager mode and graph mode.\n",
        "\n",
        "Specifically, this will happen when you create a new Variable with each call. Due to tracing semantics, tf.function will reuse the same variable each call, but eager mode will create a new variable with each call. To guard against this mistake, tf.function will raise an error if it detects dangerous variable creation behavior."
      ]
    },
    {
      "cell_type": "code",
      "metadata": {
        "id": "WEoi3tWyYgJ6",
        "colab_type": "code",
        "colab": {}
      },
      "source": [
        "@tf.function\n",
        "def f(x):\n",
        "  v = tf.Variable(1.0)\n",
        "  v.assign_add(x)\n",
        "  return v"
      ],
      "execution_count": 0,
      "outputs": []
    },
    {
      "cell_type": "code",
      "metadata": {
        "id": "t9K6rQ0hZqIZ",
        "colab_type": "code",
        "colab": {
          "base_uri": "https://localhost:8080/",
          "height": 360
        },
        "outputId": "e9b6d6b9-86e4-4a01-a875-8140e272bff1"
      },
      "source": [
        "with assert_raises(ValueError):\n",
        "  f(1.0)"
      ],
      "execution_count": 35,
      "outputs": [
        {
          "output_type": "stream",
          "text": [
            "WARNING:tensorflow:From /tensorflow-2.0.0/python3.6/tensorflow_core/python/ops/resource_variable_ops.py:1781: calling BaseResourceVariable.__init__ (from tensorflow.python.ops.resource_variable_ops) with constraint is deprecated and will be removed in a future version.\n",
            "Instructions for updating:\n",
            "If using Keras pass *_constraint arguments to layers.\n",
            "Caught expected exception \n",
            " <class 'ValueError'>: in converted code:\n",
            "\n",
            "    <ipython-input-34-9ce361fb3439>:3 f  *\n",
            "        v = tf.Variable(1.0)\n",
            "    /tensorflow-2.0.0/python3.6/tensorflow_core/python/ops/variables.py:260 __call__\n",
            "        return cls._variable_v2_call(*args, **kwargs)\n",
            "    /tensorflow-2.0.0/python3.6/tensorflow_core/python/ops/variables.py:254 _variable_v2_call\n",
            "        shape=shape)\n",
            "    /tensorflow-2.0.0/python3.6/tensorflow_core/python/ops/variables.py:65 getter\n",
            "        return captured_getter(captured_previous, **kwargs)\n",
            "    /tensorflow-2.0.0/python3.6/tensorflow_core/python/eager/def_function.py:413 invalid_creator_scope\n",
            "        \"tf.function-decorated function tried to create \"\n",
            "\n",
            "    ValueError: tf.function-decorated function tried to create variables on non-first call.\n",
            "\n"
          ],
          "name": "stdout"
        }
      ]
    },
    {
      "cell_type": "code",
      "metadata": {
        "id": "tR8fWU2FZsz8",
        "colab_type": "code",
        "colab": {
          "base_uri": "https://localhost:8080/",
          "height": 51
        },
        "outputId": "7c638d15-bdf0-420c-bd91-f4e0aca3ccb5"
      },
      "source": [
        "# Non-ambiguous code is ok though\n",
        "v = tf.Variable(1.0)\n",
        "\n",
        "@tf.function\n",
        "def f(x):\n",
        "  return v.assign_add(x)\n",
        "\n",
        "print(f(1.0))\n",
        "print(f(2.0))"
      ],
      "execution_count": 36,
      "outputs": [
        {
          "output_type": "stream",
          "text": [
            "tf.Tensor(2.0, shape=(), dtype=float32)\n",
            "tf.Tensor(4.0, shape=(), dtype=float32)\n"
          ],
          "name": "stdout"
        }
      ]
    },
    {
      "cell_type": "code",
      "metadata": {
        "id": "rZew0-E_aKHb",
        "colab_type": "code",
        "colab": {
          "base_uri": "https://localhost:8080/",
          "height": 51
        },
        "outputId": "a171c21a-cd6a-4693-81fd-30ad2f0d9bea"
      },
      "source": [
        "# You can also create variables inside a tf.function as long as we can prove\n",
        "# that those variables are created only the first time the function is executed.\n",
        "\n",
        "class C: pass\n",
        "obj = C()\n",
        "obj.v = None\n",
        "\n",
        "@tf.function\n",
        "def g(x):\n",
        "  if obj.v is None:\n",
        "    obj.v = tf.Variable(1.0)\n",
        "  return obj.v.assign_add(x)\n",
        "\n",
        "print(g(1.0))\n",
        "print(g(2.0))"
      ],
      "execution_count": 37,
      "outputs": [
        {
          "output_type": "stream",
          "text": [
            "tf.Tensor(2.0, shape=(), dtype=float32)\n",
            "tf.Tensor(4.0, shape=(), dtype=float32)\n"
          ],
          "name": "stdout"
        }
      ]
    },
    {
      "cell_type": "code",
      "metadata": {
        "id": "69rf8fuYaiSe",
        "colab_type": "code",
        "colab": {
          "base_uri": "https://localhost:8080/",
          "height": 51
        },
        "outputId": "77d8bbdc-7a46-4f36-c59c-b0c15f7c8a3e"
      },
      "source": [
        "# Variable initializers can depend on function arguments and on values of other\n",
        "# variables. We can figure out the right initialization order using the same\n",
        "# method we use to generate control dependencies.\n",
        "state = []\n",
        "@tf.function\n",
        "def fn(x):\n",
        "  if not state:\n",
        "    state.append(tf.Variable(2.0 * x))\n",
        "    state.append(tf.Variable(state[0] * 3.0))\n",
        "  return state[0] * x * state[1]\n",
        "\n",
        "print(fn(tf.constant(1.0)))\n",
        "print(fn(tf.constant(3.0)))"
      ],
      "execution_count": 38,
      "outputs": [
        {
          "output_type": "stream",
          "text": [
            "tf.Tensor(12.0, shape=(), dtype=float32)\n",
            "tf.Tensor(36.0, shape=(), dtype=float32)\n"
          ],
          "name": "stdout"
        }
      ]
    },
    {
      "cell_type": "markdown",
      "metadata": {
        "id": "4tmefx_Wbv5u",
        "colab_type": "text"
      },
      "source": [
        "## Using AutoGraph\n",
        "The autograph library is fully integrated with `tf.function`, and it will rewrite conditionals and loops which depend on Tensors to run dynamically in the graph.\n",
        "\n",
        "`tf.cond` and `tf.while_loop` continue to work with `tf.function`, but code with control flow is often easier to write and understand when written in imperative style."
      ]
    },
    {
      "cell_type": "code",
      "metadata": {
        "id": "F53Wr44zbmku",
        "colab_type": "code",
        "colab": {
          "base_uri": "https://localhost:8080/",
          "height": 510
        },
        "outputId": "36e2160b-f3be-4d40-c5cf-fc411934fced"
      },
      "source": [
        "# Simple loop\n",
        "\n",
        "@tf.function\n",
        "def f(x):\n",
        "  while tf.reduce_sum(x) > 1:\n",
        "    tf.print(x)\n",
        "    x = tf.tanh(x)\n",
        "  return x\n",
        "\n",
        "f(tf.random.uniform([5]))"
      ],
      "execution_count": 40,
      "outputs": [
        {
          "output_type": "stream",
          "text": [
            "[0.42983079 0.229050159 0.244930744 0.749942541 0.628233671]\n",
            "[0.405179888 0.225126818 0.240147591 0.63511467 0.556834817]\n",
            "[0.384372324 0.221399069 0.235635117 0.561564 0.505625248]\n",
            "[0.36649853 0.217851132 0.231368706 0.509137 0.466529578]\n",
            "[0.350925207 0.214468956 0.227326706 0.469272494 0.435391]\n",
            "[0.337195814 0.211240053 0.223490074 0.437611312 0.409816802]\n",
            "[0.324971616 0.208153114 0.219842 0.411662489 0.388317108]\n",
            "[0.313995332 0.205198035 0.216367453 0.389883369 0.369908512]\n",
            "[0.304067403 0.202365652 0.213053107 0.37125963 0.353911668]\n",
            "[0.295030415 0.19964774 0.209886953 0.355093 0.33984]\n",
            "[0.286758184 0.197036728 0.206858277 0.340884507 0.327334553]\n",
            "[0.27914831 0.194525793 0.203957394 0.328266799 0.316123694]\n",
            "[0.272116601 0.192108706 0.201175541 0.31696254 0.305997729]\n",
            "[0.265593231 0.189779744 0.198504776 0.306757867 0.296791732]\n",
            "[0.259519547 0.187533692 0.195937902 0.297484726 0.288373858]\n",
            "[0.253846079 0.185365707 0.193468347 0.289009094 0.280637413]\n",
            "[0.248530596 0.183271378 0.191090092 0.281222522 0.273494899]\n",
            "[0.24353689 0.181246623 0.188797638 0.274036139 0.266873807]\n",
            "[0.238833696 0.179287657 0.186585948 0.267376423 0.260713488]\n",
            "[0.234393805 0.177391 0.184450373 0.261181891 0.254962742]\n",
            "[0.230193511 0.175553411 0.182386652 0.255400658 0.249578]\n",
            "[0.226211965 0.173771888 0.180390835 0.249988571 0.244521916]\n",
            "[0.222430766 0.172043636 0.178459257 0.244907916 0.239762306]\n",
            "[0.21883364 0.170366049 0.176588565 0.240126088 0.23527123]\n",
            "[0.21540609 0.168736666 0.174775615 0.235614821 0.231024265]\n",
            "[0.212135181 0.167153254 0.173017487 0.231349483 0.227000043]\n"
          ],
          "name": "stdout"
        },
        {
          "output_type": "execute_result",
          "data": {
            "text/plain": [
              "<tf.Tensor: id=865, shape=(5,), dtype=float32, numpy=\n",
              "array([0.2090093 , 0.16561368, 0.17131145, 0.22730848, 0.22317973],\n",
              "      dtype=float32)>"
            ]
          },
          "metadata": {
            "tags": []
          },
          "execution_count": 40
        }
      ]
    },
    {
      "cell_type": "code",
      "metadata": {
        "id": "c3vRt1VmcLMm",
        "colab_type": "code",
        "colab": {
          "base_uri": "https://localhost:8080/",
          "height": 445
        },
        "outputId": "5053adb9-9d51-4e1e-c957-c40282cfb692"
      },
      "source": [
        "# If you're curious you can inspect the code autograph generates.\n",
        "# It feels like reading assembly language, though.\n",
        "\n",
        "def f(x):\n",
        "  while tf.reduce_sum(x) > 1:\n",
        "    tf.print(x)\n",
        "    x = tf.tanh(x)\n",
        "  return x\n",
        "\n",
        "print(tf.autograph.to_code(f))"
      ],
      "execution_count": 42,
      "outputs": [
        {
          "output_type": "stream",
          "text": [
            "def tf__f(x):\n",
            "  do_return = False\n",
            "  retval_ = ag__.UndefinedReturnValue()\n",
            "  with ag__.FunctionScope('f', 'f_scope', ag__.ConversionOptions(recursive=True, user_requested=True, optional_features=(), internal_convert_user_code=True)) as f_scope:\n",
            "\n",
            "    def get_state():\n",
            "      return ()\n",
            "\n",
            "    def set_state(_):\n",
            "      pass\n",
            "\n",
            "    def loop_body(x):\n",
            "      ag__.converted_call(tf.print, f_scope.callopts, (x,), None, f_scope)\n",
            "      x = ag__.converted_call(tf.tanh, f_scope.callopts, (x,), None, f_scope)\n",
            "      return x,\n",
            "\n",
            "    def loop_test(x):\n",
            "      return ag__.converted_call(tf.reduce_sum, f_scope.callopts, (x,), None, f_scope) > 1\n",
            "    x, = ag__.while_stmt(loop_test, loop_body, get_state, set_state, (x,), ('x',), ())\n",
            "    do_return = True\n",
            "    retval_ = f_scope.mark_return_value(x)\n",
            "  do_return,\n",
            "  return ag__.retval(retval_)\n",
            "\n"
          ],
          "name": "stdout"
        }
      ]
    },
    {
      "cell_type": "markdown",
      "metadata": {
        "id": "iCH-ERM6czki",
        "colab_type": "text"
      },
      "source": [
        "## AutoGraph: Conditionals\n",
        "AutoGraph will convert `if` statements to the equivalent `tf.cond` calls.\n",
        "\n",
        "This substitution is made if the condition is a Tensor. Otherwise, the conditional is executed during tracing."
      ]
    },
    {
      "cell_type": "code",
      "metadata": {
        "id": "WE1L6ScRcmBB",
        "colab_type": "code",
        "colab": {}
      },
      "source": [
        "def test_tf_cond(f, *args):\n",
        "  g = f.get_concrete_function(*args).graph\n",
        "  if any(node.name == 'cond' for node in g.as_graph_def().node):\n",
        "    print('{}({}) use tf.cond'.format(\n",
        "        f.__name__, ', '.join(map(str, args))))\n",
        "  else:\n",
        "    print('{}({}) executes normally.'.format(\n",
        "        f.__name__, ', '.join(map(str, args))))"
      ],
      "execution_count": 0,
      "outputs": []
    },
    {
      "cell_type": "code",
      "metadata": {
        "id": "wUVyW-Xtdoo5",
        "colab_type": "code",
        "colab": {}
      },
      "source": [
        "@tf.function\n",
        "def hyperparam_cond(x, training=True):\n",
        "  if training:\n",
        "    x = tf.nn.dropout(x, rate=0.5)\n",
        "  return x"
      ],
      "execution_count": 0,
      "outputs": []
    },
    {
      "cell_type": "code",
      "metadata": {
        "id": "fmpvvu-adxvV",
        "colab_type": "code",
        "colab": {}
      },
      "source": [
        "@tf.function\n",
        "def maybe_tensor_cond(x):\n",
        "  if x < 0:\n",
        "    x = -x\n",
        "  return x"
      ],
      "execution_count": 0,
      "outputs": []
    },
    {
      "cell_type": "code",
      "metadata": {
        "id": "VaAfM4pxd3IN",
        "colab_type": "code",
        "colab": {
          "base_uri": "https://localhost:8080/",
          "height": 34
        },
        "outputId": "ffbf0a17-b3db-4cf1-ea02-353b98ddec49"
      },
      "source": [
        "test_tf_cond(hyperparam_cond, tf.ones([1], dtype=tf.float32))"
      ],
      "execution_count": 47,
      "outputs": [
        {
          "output_type": "stream",
          "text": [
            "hyperparam_cond(tf.Tensor([1.], shape=(1,), dtype=float32)) executes normally.\n"
          ],
          "name": "stdout"
        }
      ]
    },
    {
      "cell_type": "code",
      "metadata": {
        "id": "3j3-LDmjd8SK",
        "colab_type": "code",
        "colab": {
          "base_uri": "https://localhost:8080/",
          "height": 34
        },
        "outputId": "6ae591c1-d214-4703-ff4a-8453300eff8d"
      },
      "source": [
        "test_tf_cond(maybe_tensor_cond, tf.constant(-1))"
      ],
      "execution_count": 49,
      "outputs": [
        {
          "output_type": "stream",
          "text": [
            "maybe_tensor_cond(tf.Tensor(-1, shape=(), dtype=int32)) use tf.cond\n"
          ],
          "name": "stdout"
        }
      ]
    },
    {
      "cell_type": "code",
      "metadata": {
        "id": "_pP53VXmeGaY",
        "colab_type": "code",
        "colab": {
          "base_uri": "https://localhost:8080/",
          "height": 34
        },
        "outputId": "c0c53ad6-24cf-4f18-c3af-c06e995a1493"
      },
      "source": [
        "test_tf_cond(maybe_tensor_cond, -1)"
      ],
      "execution_count": 50,
      "outputs": [
        {
          "output_type": "stream",
          "text": [
            "maybe_tensor_cond(-1) executes normally.\n"
          ],
          "name": "stdout"
        }
      ]
    },
    {
      "cell_type": "markdown",
      "metadata": {
        "id": "If-T2tl5f8oG",
        "colab_type": "text"
      },
      "source": [
        "`tf.cond` has a number of subtleties. - it works by tracing both sides of the conditional, and then choosing the appropriate branch at runtime, depending on the condition. Tracing both sides can result in unexpected execution of Python code - it requires that if one branch creates a tensor used downstream, the other branch must also create that tensor."
      ]
    },
    {
      "cell_type": "code",
      "metadata": {
        "id": "7zsAkNNUeKXe",
        "colab_type": "code",
        "colab": {}
      },
      "source": [
        "@tf.function\n",
        "def f():\n",
        "  x = tf.constant(0)\n",
        "  if tf.constant(True):\n",
        "    x = x + 1\n",
        "    print('Tracing `then` branch')\n",
        "  else:\n",
        "    x = x - 1\n",
        "    print('Tracing `else` branch')\n",
        "  return x"
      ],
      "execution_count": 0,
      "outputs": []
    },
    {
      "cell_type": "code",
      "metadata": {
        "id": "vjPMdf5agha1",
        "colab_type": "code",
        "colab": {
          "base_uri": "https://localhost:8080/",
          "height": 68
        },
        "outputId": "b6f4dd01-9003-4265-9484-e2acac2729df"
      },
      "source": [
        "f()"
      ],
      "execution_count": 52,
      "outputs": [
        {
          "output_type": "stream",
          "text": [
            "Tracing `then` branch\n",
            "Tracing `else` branch\n"
          ],
          "name": "stdout"
        },
        {
          "output_type": "execute_result",
          "data": {
            "text/plain": [
              "<tf.Tensor: id=937, shape=(), dtype=int32, numpy=1>"
            ]
          },
          "metadata": {
            "tags": []
          },
          "execution_count": 52
        }
      ]
    },
    {
      "cell_type": "code",
      "metadata": {
        "id": "hmFGzECpgh6B",
        "colab_type": "code",
        "colab": {}
      },
      "source": [
        "@tf.function\n",
        "def f():\n",
        "  if tf.constant(True):\n",
        "    x = tf.ones([3, 3])\n",
        "  return x"
      ],
      "execution_count": 0,
      "outputs": []
    },
    {
      "cell_type": "code",
      "metadata": {
        "id": "PF3hWX5-hAWN",
        "colab_type": "code",
        "colab": {
          "base_uri": "https://localhost:8080/",
          "height": 459
        },
        "outputId": "269786ac-5c73-4ffe-93c2-b513c57c2184"
      },
      "source": [
        "# Throws an error because both branches need to define `x`.\n",
        "with assert_raises(ValueError):\n",
        "  f()"
      ],
      "execution_count": 54,
      "outputs": [
        {
          "output_type": "stream",
          "text": [
            "Caught expected exception \n",
            " <class 'ValueError'>: in converted code:\n",
            "\n",
            "    <ipython-input-53-a6da8fb68411>:3 f  *\n",
            "        if tf.constant(True):\n",
            "    /tensorflow-2.0.0/python3.6/tensorflow_core/python/autograph/operators/control_flow.py:893 if_stmt\n",
            "        basic_symbol_names, composite_symbol_names)\n",
            "    /tensorflow-2.0.0/python3.6/tensorflow_core/python/autograph/operators/control_flow.py:931 tf_if_stmt\n",
            "        error_checking_orelse)\n",
            "    /tensorflow-2.0.0/python3.6/tensorflow_core/python/util/deprecation.py:507 new_func\n",
            "        return func(*args, **kwargs)\n",
            "    /tensorflow-2.0.0/python3.6/tensorflow_core/python/ops/control_flow_ops.py:1174 cond\n",
            "        return cond_v2.cond_v2(pred, true_fn, false_fn, name)\n",
            "    /tensorflow-2.0.0/python3.6/tensorflow_core/python/ops/cond_v2.py:91 cond_v2\n",
            "        op_return_value=pred)\n",
            "    /tensorflow-2.0.0/python3.6/tensorflow_core/python/framework/func_graph.py:915 func_graph_from_py_func\n",
            "        func_outputs = python_func(*func_args, **func_kwargs)\n",
            "    /tensorflow-2.0.0/python3.6/tensorflow_core/python/autograph/operators/control_flow.py:924 error_checking_orelse\n",
            "        result[orelse_branch] = orelse()\n",
            "    /tensorflow-2.0.0/python3.6/tensorflow_core/python/autograph/operators/control_flow.py:962 wrapper\n",
            "        new_vars = func()\n",
            "    /tensorflow-2.0.0/python3.6/tensorflow_core/python/autograph/operators/control_flow.py:988 wrapper\n",
            "        tuple(s.symbol_name for s in undefined)))\n",
            "\n",
            "    ValueError: The following symbols must also be initialized in the else branch: ('x',). Alternatively, you may initialize them before the if statement.\n",
            "\n"
          ],
          "name": "stdout"
        }
      ]
    },
    {
      "cell_type": "markdown",
      "metadata": {
        "id": "PEON_-Deir7s",
        "colab_type": "text"
      },
      "source": [
        "## AutoGraph and loops\n",
        "AutoGraph has a few simple rules for converting loops.\n",
        "- `for`: Convert if the iterable is a tensor\n",
        "- `while`: Convert if the while condition depends on a tensor\n",
        "If a loop is converted, it will be bynamically unrolled with `tf.while_loop`, or in the special cast of a `for x in tf.data.Dataset`, transformed into `tf.data.Dataset.reduce`.\n",
        "\n",
        "If a loop is not converted, it will be statically unrolled"
      ]
    },
    {
      "cell_type": "code",
      "metadata": {
        "id": "1TXOdBlqhCSa",
        "colab_type": "code",
        "colab": {}
      },
      "source": [
        "def test_dynamically_unrolled(f, *args):\n",
        "  g = f.get_concrete_function(*args).graph\n",
        "  if any(node.name == 'while' for node in g.as_graph_def().node):\n",
        "    print('{}({}) uses tf.while_loop'.format(\n",
        "        f.__name__, ', '.join(map(str, args))))\n",
        "  elif any(node.name == 'ReduceDataset' for node in g.as_graph_def().node):\n",
        "    print('{}({}) uses tf.data.Dataset.reduce'.format(\n",
        "        f.__name__, ', '.join(map(str, args))))\n",
        "  else:\n",
        "    print('{}({}) gets unrolled.'.format(\n",
        "        f.__name__, ', '.join(map(str, args))))"
      ],
      "execution_count": 0,
      "outputs": []
    },
    {
      "cell_type": "code",
      "metadata": {
        "id": "CI5oUOjrjq-_",
        "colab_type": "code",
        "colab": {
          "base_uri": "https://localhost:8080/",
          "height": 34
        },
        "outputId": "25a930ae-a8fe-4ae0-be59-602f2e011396"
      },
      "source": [
        "@tf.function\n",
        "def for_in_range():\n",
        "  x = 0\n",
        "  for i in range(5):\n",
        "    x += i\n",
        "  return x\n",
        "\n",
        "test_dynamically_unrolled(for_in_range)"
      ],
      "execution_count": 57,
      "outputs": [
        {
          "output_type": "stream",
          "text": [
            "for_in_range() gets unrolled.\n"
          ],
          "name": "stdout"
        }
      ]
    },
    {
      "cell_type": "code",
      "metadata": {
        "id": "GM2t3HbvjzKl",
        "colab_type": "code",
        "colab": {
          "base_uri": "https://localhost:8080/",
          "height": 34
        },
        "outputId": "db0503cd-87c7-4ab9-b1eb-2ec9cbdcbffb"
      },
      "source": [
        "@tf.function\n",
        "def for_in_tfrange():\n",
        "  x = tf.constant(0, dtype=tf.int32)\n",
        "  for i in tf.range(5):\n",
        "    x += i\n",
        "  return x\n",
        "\n",
        "test_dynamically_unrolled(for_in_tfrange)"
      ],
      "execution_count": 58,
      "outputs": [
        {
          "output_type": "stream",
          "text": [
            "for_in_tfrange() uses tf.while_loop\n"
          ],
          "name": "stdout"
        }
      ]
    },
    {
      "cell_type": "code",
      "metadata": {
        "id": "iawoTG94j_j1",
        "colab_type": "code",
        "colab": {
          "base_uri": "https://localhost:8080/",
          "height": 34
        },
        "outputId": "9d86d170-cfca-490f-dc59-46e7f085406c"
      },
      "source": [
        "@tf.function\n",
        "def for_in_tfdataset():\n",
        "  x = tf.constant(0, dtype=tf.int64)\n",
        "  for i in tf.data.Dataset.range(5):\n",
        "    x += i\n",
        "  return x\n",
        "\n",
        "test_dynamically_unrolled(for_in_tfdataset)"
      ],
      "execution_count": 60,
      "outputs": [
        {
          "output_type": "stream",
          "text": [
            "for_in_tfdataset() uses tf.data.Dataset.reduce\n"
          ],
          "name": "stdout"
        }
      ]
    },
    {
      "cell_type": "code",
      "metadata": {
        "id": "KwY--Uc8kJrz",
        "colab_type": "code",
        "colab": {
          "base_uri": "https://localhost:8080/",
          "height": 34
        },
        "outputId": "75cf94d1-ca0c-4198-ee35-d14b58e99826"
      },
      "source": [
        "@tf.function\n",
        "def while_py_cond():\n",
        "  x = 5\n",
        "  while x > 0:\n",
        "    x -= 1\n",
        "  return x\n",
        "\n",
        "test_dynamically_unrolled(while_py_cond)"
      ],
      "execution_count": 61,
      "outputs": [
        {
          "output_type": "stream",
          "text": [
            "while_py_cond() gets unrolled.\n"
          ],
          "name": "stdout"
        }
      ]
    },
    {
      "cell_type": "code",
      "metadata": {
        "id": "4fH9KJVAkT31",
        "colab_type": "code",
        "colab": {
          "base_uri": "https://localhost:8080/",
          "height": 34
        },
        "outputId": "98177e54-d677-4e8d-ee26-91d8f056ef3b"
      },
      "source": [
        "@tf.function\n",
        "def while_tf_cond():\n",
        "  x = tf.constant(5)\n",
        "  while x > 0:\n",
        "    x -= 1\n",
        "  return x\n",
        "\n",
        "\n",
        "test_dynamically_unrolled(while_tf_cond)"
      ],
      "execution_count": 62,
      "outputs": [
        {
          "output_type": "stream",
          "text": [
            "while_tf_cond() uses tf.while_loop\n"
          ],
          "name": "stdout"
        }
      ]
    },
    {
      "cell_type": "markdown",
      "metadata": {
        "id": "E1Fm6SwmkX_c",
        "colab_type": "text"
      },
      "source": [
        "If you have a `break` or early `return` clause that depends on a tensor, the top-level condition or iterable should also be a tensor.\n"
      ]
    },
    {
      "cell_type": "code",
      "metadata": {
        "id": "DjH12gvCkVgB",
        "colab_type": "code",
        "colab": {
          "base_uri": "https://localhost:8080/",
          "height": 34
        },
        "outputId": "4aff8825-0b27-4bea-9b21-20d1e30d0b9c"
      },
      "source": [
        "# Compare the following examples:\n",
        "@tf.function\n",
        "def while_py_true_py_break(x):\n",
        "  while True: # py true\n",
        "    if x == 0:\n",
        "      break\n",
        "    x -= 1\n",
        "  return x\n",
        "\n",
        "test_dynamically_unrolled(while_py_true_py_break, 5)"
      ],
      "execution_count": 64,
      "outputs": [
        {
          "output_type": "stream",
          "text": [
            "while_py_true_py_break(5) gets unrolled.\n"
          ],
          "name": "stdout"
        }
      ]
    },
    {
      "cell_type": "code",
      "metadata": {
        "id": "om733aSpku7o",
        "colab_type": "code",
        "colab": {
          "base_uri": "https://localhost:8080/",
          "height": 343
        },
        "outputId": "cd5c051a-d0d4-40bf-8445-94dbeb7528bc"
      },
      "source": [
        "@tf.function\n",
        "def buggy_while_py_true_tf_break(x):\n",
        "  while True: # py True\n",
        "    if tf.equal(x, 0): # tf.break\n",
        "      break\n",
        "    x -= 1\n",
        "  return x\n",
        "\n",
        "with assert_raises(TypeError):\n",
        "  test_dynamically_unrolled(buggy_while_py_true_tf_break, 5)"
      ],
      "execution_count": 65,
      "outputs": [
        {
          "output_type": "stream",
          "text": [
            "Caught expected exception \n",
            " <class 'TypeError'>: in converted code:\n",
            "\n",
            "    <ipython-input-65-df1cc42ceb39>:3 buggy_while_py_true_tf_break  *\n",
            "        while True: # py True\n",
            "    /tensorflow-2.0.0/python3.6/tensorflow_core/python/autograph/operators/control_flow.py:730 while_stmt\n",
            "        return _py_while_stmt(test, body, get_state, set_state, init_vars, opts)\n",
            "    /tensorflow-2.0.0/python3.6/tensorflow_core/python/autograph/operators/control_flow.py:845 _py_while_stmt\n",
            "        while test(*loop_vars):\n",
            "    /tensorflow-2.0.0/python3.6/tensorflow_core/python/framework/ops.py:765 __bool__\n",
            "        self._disallow_bool_casting()\n",
            "    /tensorflow-2.0.0/python3.6/tensorflow_core/python/framework/ops.py:531 _disallow_bool_casting\n",
            "        \"using a `tf.Tensor` as a Python `bool`\")\n",
            "    /tensorflow-2.0.0/python3.6/tensorflow_core/python/framework/ops.py:518 _disallow_when_autograph_enabled\n",
            "        \" decorating it directly with @tf.function.\".format(task))\n",
            "\n",
            "    OperatorNotAllowedInGraphError: using a `tf.Tensor` as a Python `bool` is not allowed: AutoGraph did not convert this function. Try decorating it directly with @tf.function.\n",
            "\n"
          ],
          "name": "stdout"
        }
      ]
    },
    {
      "cell_type": "code",
      "metadata": {
        "id": "y8yMCJR4lF0d",
        "colab_type": "code",
        "colab": {
          "base_uri": "https://localhost:8080/",
          "height": 34
        },
        "outputId": "669cf734-6c4f-47c5-a46e-8a937dc89a24"
      },
      "source": [
        "@tf.function\n",
        "def while_tf_true_tf_break(x):\n",
        "  while tf.constant(True): # tf true\n",
        "    if x == 0: # py break\n",
        "      break\n",
        "    x -= 1\n",
        "  return x\n",
        "\n",
        "test_dynamically_unrolled(while_tf_true_tf_break, 5)"
      ],
      "execution_count": 66,
      "outputs": [
        {
          "output_type": "stream",
          "text": [
            "while_tf_true_tf_break(5) uses tf.while_loop\n"
          ],
          "name": "stdout"
        }
      ]
    },
    {
      "cell_type": "code",
      "metadata": {
        "id": "Tuz-e-qKlRaq",
        "colab_type": "code",
        "colab": {
          "base_uri": "https://localhost:8080/",
          "height": 343
        },
        "outputId": "8479c970-981f-4dc2-9f86-cf6e056be12a"
      },
      "source": [
        "@tf.function\n",
        "def buggy_py_for_tf_break():\n",
        "  x = 0\n",
        "  for i in range(5):  # py for\n",
        "    if tf.equal(i, 3): # tf break\n",
        "      break\n",
        "    x += i\n",
        "  return x\n",
        "\n",
        "with assert_raises(TypeError):\n",
        "  test_dynamically_unrolled(buggy_py_for_tf_break)"
      ],
      "execution_count": 67,
      "outputs": [
        {
          "output_type": "stream",
          "text": [
            "Caught expected exception \n",
            " <class 'TypeError'>: in converted code:\n",
            "\n",
            "    <ipython-input-67-82742b0a14d0>:4 buggy_py_for_tf_break  *\n",
            "        for i in range(5):  # py for\n",
            "    /tensorflow-2.0.0/python3.6/tensorflow_core/python/autograph/operators/control_flow.py:339 for_stmt\n",
            "        return _py_for_stmt(iter_, extra_test, body, get_state, set_state, init_vars)\n",
            "    /tensorflow-2.0.0/python3.6/tensorflow_core/python/autograph/operators/control_flow.py:348 _py_for_stmt\n",
            "        if extra_test is not None and not extra_test(*state):\n",
            "    /tensorflow-2.0.0/python3.6/tensorflow_core/python/framework/ops.py:765 __bool__\n",
            "        self._disallow_bool_casting()\n",
            "    /tensorflow-2.0.0/python3.6/tensorflow_core/python/framework/ops.py:531 _disallow_bool_casting\n",
            "        \"using a `tf.Tensor` as a Python `bool`\")\n",
            "    /tensorflow-2.0.0/python3.6/tensorflow_core/python/framework/ops.py:518 _disallow_when_autograph_enabled\n",
            "        \" decorating it directly with @tf.function.\".format(task))\n",
            "\n",
            "    OperatorNotAllowedInGraphError: using a `tf.Tensor` as a Python `bool` is not allowed: AutoGraph did not convert this function. Try decorating it directly with @tf.function.\n",
            "\n"
          ],
          "name": "stdout"
        }
      ]
    },
    {
      "cell_type": "code",
      "metadata": {
        "id": "OG_BckktlVOZ",
        "colab_type": "code",
        "colab": {
          "base_uri": "https://localhost:8080/",
          "height": 34
        },
        "outputId": "68c71cb4-bafd-4180-b065-c8713274a419"
      },
      "source": [
        "@tf.function\n",
        "def tf_for_py_break():\n",
        "  x = 0\n",
        "  for i in tf.range(5): # tf for\n",
        "    if i == 3:  # py break\n",
        "      break\n",
        "    x += i\n",
        "  return x\n",
        "\n",
        "test_dynamically_unrolled(tf_for_py_break)"
      ],
      "execution_count": 68,
      "outputs": [
        {
          "output_type": "stream",
          "text": [
            "tf_for_py_break() uses tf.while_loop\n"
          ],
          "name": "stdout"
        }
      ]
    },
    {
      "cell_type": "markdown",
      "metadata": {
        "id": "V7nC9gX6lfjI",
        "colab_type": "text"
      },
      "source": [
        "In order to accumulate results from a dynamically unrolled loop, you'll want to use `tf.TensorArray`"
      ]
    },
    {
      "cell_type": "code",
      "metadata": {
        "id": "f5gbOG6ZlXlQ",
        "colab_type": "code",
        "colab": {
          "base_uri": "https://localhost:8080/",
          "height": 153
        },
        "outputId": "85980581-9e13-451f-a4fe-fb31c31d3ae9"
      },
      "source": [
        "batch_size = 2\n",
        "seq_len = 3\n",
        "feature_size = 4\n",
        "\n",
        "def rnn_step(inp, state):\n",
        "  return inp + state\n",
        "\n",
        "@tf.function\n",
        "def dynamic_rnn(rnn_step, input_data, initial_state):\n",
        "  # [batch, time, features] -> [time, batch, features]\n",
        "  input_data = tf.transpose(input_data, [1, 0, 2])\n",
        "  max_seq_len = input_data.shape[0]\n",
        "\n",
        "  states = tf.TensorArray(tf.float32, size=max_seq_len)\n",
        "  state = initial_state\n",
        "  for i in tf.range(max_seq_len):\n",
        "    state = rnn_step(input_data[i], state)\n",
        "    states = states.write(i, state)\n",
        "  return tf.transpose(states.stack(), [1, 0, 2])\n",
        "\n",
        "dynamic_rnn(rnn_step,\n",
        "            tf.random.uniform([batch_size, seq_len, feature_size]),\n",
        "            tf.zeros([batch_size, feature_size]))"
      ],
      "execution_count": 71,
      "outputs": [
        {
          "output_type": "execute_result",
          "data": {
            "text/plain": [
              "<tf.Tensor: id=1447, shape=(2, 3, 4), dtype=float32, numpy=\n",
              "array([[[0.5657548 , 0.949895  , 0.8659004 , 0.08148456],\n",
              "        [1.4895302 , 1.0488229 , 1.7181417 , 0.5329131 ],\n",
              "        [2.223061  , 1.9746397 , 2.582988  , 1.2302521 ]],\n",
              "\n",
              "       [[0.37612522, 0.7070185 , 0.88283277, 0.93872   ],\n",
              "        [0.5033244 , 1.6583909 , 1.1910317 , 1.0369061 ],\n",
              "        [1.0986111 , 2.3352091 , 1.2790189 , 1.2901516 ]]], dtype=float32)>"
            ]
          },
          "metadata": {
            "tags": []
          },
          "execution_count": 71
        }
      ]
    },
    {
      "cell_type": "markdown",
      "metadata": {
        "id": "kvCJLrX2mbVe",
        "colab_type": "text"
      },
      "source": [
        "As with tf.cond, tf.while_loop also comes with a number of subtleties. - Since a loop can execute 0 times, all tensors used downstream of the while_loop must be initialized above the loop - The shape/dtypes of all loop variables must stay consistent with each iteration"
      ]
    },
    {
      "cell_type": "code",
      "metadata": {
        "id": "OY2IUB0plqnt",
        "colab_type": "code",
        "colab": {
          "base_uri": "https://localhost:8080/",
          "height": 275
        },
        "outputId": "b60d8f27-dc2d-410e-a9df-be8f829be684"
      },
      "source": [
        "@tf.function\n",
        "def buggy_loop_var_uninitialized():\n",
        "  for i in tf.range(3):\n",
        "    x = i\n",
        "  return x\n",
        "\n",
        "with assert_raises(ValueError):\n",
        "  buggy_loop_var_uninitialized()"
      ],
      "execution_count": 72,
      "outputs": [
        {
          "output_type": "stream",
          "text": [
            "Caught expected exception \n",
            " <class 'ValueError'>: in converted code:\n",
            "\n",
            "    <ipython-input-72-815fd6bba8cc>:3 buggy_loop_var_uninitialized  *\n",
            "        for i in tf.range(3):\n",
            "    /tensorflow-2.0.0/python3.6/tensorflow_core/python/autograph/operators/control_flow.py:315 for_stmt\n",
            "        composite_symbol_names)\n",
            "    /tensorflow-2.0.0/python3.6/tensorflow_core/python/autograph/operators/control_flow.py:419 _tf_range_for_stmt\n",
            "        _disallow_undefs_into_loop(*init_vars)\n",
            "    /tensorflow-2.0.0/python3.6/tensorflow_core/python/autograph/operators/control_flow.py:97 _disallow_undefs_into_loop\n",
            "        ' before the loop: {}'.format(tuple(s.symbol_name for s in undefined)))\n",
            "\n",
            "    ValueError: TensorFlow requires that the following symbols must be defined before the loop: ('x',)\n",
            "\n"
          ],
          "name": "stdout"
        }
      ]
    },
    {
      "cell_type": "code",
      "metadata": {
        "id": "930R6cQbmjkq",
        "colab_type": "code",
        "colab": {
          "base_uri": "https://localhost:8080/",
          "height": 34
        },
        "outputId": "657d1ccd-3266-41ea-c29b-40df6fb57b2d"
      },
      "source": [
        "@tf.function\n",
        "def f():\n",
        "  x = tf.constant(0)\n",
        "  for i in tf.range(3):\n",
        "    x = i\n",
        "  return x\n",
        "\n",
        "f()"
      ],
      "execution_count": 73,
      "outputs": [
        {
          "output_type": "execute_result",
          "data": {
            "text/plain": [
              "<tf.Tensor: id=1502, shape=(), dtype=int32, numpy=2>"
            ]
          },
          "metadata": {
            "tags": []
          },
          "execution_count": 73
        }
      ]
    },
    {
      "cell_type": "code",
      "metadata": {
        "id": "LY_DzxZrmlJV",
        "colab_type": "code",
        "colab": {
          "base_uri": "https://localhost:8080/",
          "height": 581
        },
        "outputId": "55bc6462-feda-47a3-fb8c-d2d53970da72"
      },
      "source": [
        "@tf.function\n",
        "def buggy_loop_type_changes():\n",
        "  x = tf.constant(0, dtype=tf.float32)\n",
        "  for i in tf.range(3): # Yields tensors of type tf.int32...\n",
        "    x = i\n",
        "  return x\n",
        "\n",
        "with assert_raises(tf.errors.InvalidArgumentError):\n",
        "  buggy_loop_type_changes()"
      ],
      "execution_count": 75,
      "outputs": [
        {
          "output_type": "stream",
          "text": [
            "Got unexpected exception \n",
            " <class 'TypeError'>: in converted code:\n",
            "\n",
            "    <ipython-input-75-46359fb065eb>:4 buggy_loop_type_changes  *\n",
            "        for i in tf.range(3): # Yields tensors of type tf.int32...\n",
            "    /tensorflow-2.0.0/python3.6/tensorflow_core/python/autograph/operators/control_flow.py:315 for_stmt\n",
            "        composite_symbol_names)\n",
            "    /tensorflow-2.0.0/python3.6/tensorflow_core/python/autograph/operators/control_flow.py:478 _tf_range_for_stmt\n",
            "        opts=opts,\n",
            "    /tensorflow-2.0.0/python3.6/tensorflow_core/python/autograph/operators/control_flow.py:769 _tf_while_stmt\n",
            "        aug_init_vars, **opts)\n",
            "    /tensorflow-2.0.0/python3.6/tensorflow_core/python/ops/control_flow_ops.py:2675 while_loop\n",
            "        back_prop=back_prop)\n",
            "    /tensorflow-2.0.0/python3.6/tensorflow_core/python/ops/while_v2.py:198 while_loop\n",
            "        add_control_dependencies=add_control_dependencies)\n",
            "    /tensorflow-2.0.0/python3.6/tensorflow_core/python/framework/func_graph.py:915 func_graph_from_py_func\n",
            "        func_outputs = python_func(*func_args, **func_kwargs)\n",
            "    /tensorflow-2.0.0/python3.6/tensorflow_core/python/ops/while_v2.py:176 wrapped_body\n",
            "        outputs = body(*_pack_sequence_as(orig_loop_vars, args))\n",
            "    /tensorflow-2.0.0/python3.6/tensorflow_core/python/autograph/operators/control_flow.py:759 aug_body\n",
            "        composite_symbol_names)\n",
            "    /tensorflow-2.0.0/python3.6/tensorflow_core/python/autograph/operators/control_flow.py:195 _verify_tf_loop_vars\n",
            "        first_iter_var)\n",
            "    /tensorflow-2.0.0/python3.6/tensorflow_core/python/util/nest.py:535 map_structure\n",
            "        structure[0], [func(*x) for x in entries],\n",
            "    /tensorflow-2.0.0/python3.6/tensorflow_core/python/util/nest.py:535 <listcomp>\n",
            "        structure[0], [func(*x) for x in entries],\n",
            "    /tensorflow-2.0.0/python3.6/tensorflow_core/python/autograph/operators/control_flow.py:179 _check_same_type\n",
            "        first_iter_var.dtype.name,\n",
            "\n",
            "    TypeError: \"x\" has dtype float32 before the loop, but dtype int32 after one iteration. TensorFlow control flow requires it stays the same.\n",
            "\n"
          ],
          "name": "stdout"
        }
      ]
    },
    {
      "cell_type": "code",
      "metadata": {
        "id": "PzIZnE1Tmyo3",
        "colab_type": "code",
        "colab": {
          "base_uri": "https://localhost:8080/",
          "height": 581
        },
        "outputId": "cd5797db-f51c-4fec-85e5-b625c134fbb7"
      },
      "source": [
        "@tf.function\n",
        "def buggy_concat():\n",
        "  x = tf.ones([0, 10])\n",
        "  for i in tf.range(5):\n",
        "    x = tf.concat([x, tf.ones([1, 10])], axis=0)\n",
        "  return x\n",
        "\n",
        "with assert_raises(ValueError):\n",
        "  buggy_concat()"
      ],
      "execution_count": 76,
      "outputs": [
        {
          "output_type": "stream",
          "text": [
            "Caught expected exception \n",
            " <class 'ValueError'>: in converted code:\n",
            "\n",
            "    <ipython-input-76-bae298a1ce41>:4 buggy_concat  *\n",
            "        for i in tf.range(5):\n",
            "    /tensorflow-2.0.0/python3.6/tensorflow_core/python/autograph/operators/control_flow.py:315 for_stmt\n",
            "        composite_symbol_names)\n",
            "    /tensorflow-2.0.0/python3.6/tensorflow_core/python/autograph/operators/control_flow.py:478 _tf_range_for_stmt\n",
            "        opts=opts,\n",
            "    /tensorflow-2.0.0/python3.6/tensorflow_core/python/autograph/operators/control_flow.py:769 _tf_while_stmt\n",
            "        aug_init_vars, **opts)\n",
            "    /tensorflow-2.0.0/python3.6/tensorflow_core/python/ops/control_flow_ops.py:2675 while_loop\n",
            "        back_prop=back_prop)\n",
            "    /tensorflow-2.0.0/python3.6/tensorflow_core/python/ops/while_v2.py:198 while_loop\n",
            "        add_control_dependencies=add_control_dependencies)\n",
            "    /tensorflow-2.0.0/python3.6/tensorflow_core/python/framework/func_graph.py:915 func_graph_from_py_func\n",
            "        func_outputs = python_func(*func_args, **func_kwargs)\n",
            "    /tensorflow-2.0.0/python3.6/tensorflow_core/python/ops/while_v2.py:176 wrapped_body\n",
            "        outputs = body(*_pack_sequence_as(orig_loop_vars, args))\n",
            "    /tensorflow-2.0.0/python3.6/tensorflow_core/python/autograph/operators/control_flow.py:759 aug_body\n",
            "        composite_symbol_names)\n",
            "    /tensorflow-2.0.0/python3.6/tensorflow_core/python/autograph/operators/control_flow.py:195 _verify_tf_loop_vars\n",
            "        first_iter_var)\n",
            "    /tensorflow-2.0.0/python3.6/tensorflow_core/python/util/nest.py:535 map_structure\n",
            "        structure[0], [func(*x) for x in entries],\n",
            "    /tensorflow-2.0.0/python3.6/tensorflow_core/python/util/nest.py:535 <listcomp>\n",
            "        structure[0], [func(*x) for x in entries],\n",
            "    /tensorflow-2.0.0/python3.6/tensorflow_core/python/autograph/operators/control_flow.py:191 _check_same_type\n",
            "        first_iter_shape))\n",
            "\n",
            "    ValueError: \"x\" has shape (0, 10) before the loop, but shape (1, 10) after one iteration. TensorFlow control flow requires it stays the same or be more specific.\n",
            "\n"
          ],
          "name": "stdout"
        }
      ]
    },
    {
      "cell_type": "code",
      "metadata": {
        "id": "ZK9PzMlQm-S9",
        "colab_type": "code",
        "colab": {
          "base_uri": "https://localhost:8080/",
          "height": 34
        },
        "outputId": "a5396d82-d3db-4541-a4fc-1eb02e55683f"
      },
      "source": [
        "x = tf.ones([0, 10])\n",
        "\n",
        "print(x)"
      ],
      "execution_count": 77,
      "outputs": [
        {
          "output_type": "stream",
          "text": [
            "tf.Tensor([], shape=(0, 10), dtype=float32)\n"
          ],
          "name": "stdout"
        }
      ]
    },
    {
      "cell_type": "code",
      "metadata": {
        "id": "y0zyWC0gnFKU",
        "colab_type": "code",
        "colab": {
          "base_uri": "https://localhost:8080/",
          "height": 119
        },
        "outputId": "1af0c38c-3ea0-461f-98cc-7683576134a1"
      },
      "source": [
        "@tf.function\n",
        "def concat_with_padding():\n",
        "  x = tf.zeros([5, 10])\n",
        "  for i in tf.range(5):\n",
        "    x = tf.concat([x[:i], tf.ones([1, 10]), tf.zeros([4-i, 10])], axis=0)\n",
        "    x.set_shape([5, 10])\n",
        "  return x\n",
        "  \n",
        "concat_with_padding()"
      ],
      "execution_count": 78,
      "outputs": [
        {
          "output_type": "execute_result",
          "data": {
            "text/plain": [
              "<tf.Tensor: id=1628, shape=(5, 10), dtype=float32, numpy=\n",
              "array([[1., 1., 1., 1., 1., 1., 1., 1., 1., 1.],\n",
              "       [1., 1., 1., 1., 1., 1., 1., 1., 1., 1.],\n",
              "       [1., 1., 1., 1., 1., 1., 1., 1., 1., 1.],\n",
              "       [1., 1., 1., 1., 1., 1., 1., 1., 1., 1.],\n",
              "       [1., 1., 1., 1., 1., 1., 1., 1., 1., 1.]], dtype=float32)>"
            ]
          },
          "metadata": {
            "tags": []
          },
          "execution_count": 78
        }
      ]
    },
    {
      "cell_type": "code",
      "metadata": {
        "id": "s3NYuvgSnZUN",
        "colab_type": "code",
        "colab": {}
      },
      "source": [
        ""
      ],
      "execution_count": 0,
      "outputs": []
    }
  ]
}