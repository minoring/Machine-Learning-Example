{
  "nbformat": 4,
  "nbformat_minor": 0,
  "metadata": {
    "colab": {
      "name": "Low_Level_API.ipynb",
      "provenance": [],
      "private_outputs": true
    },
    "kernelspec": {
      "name": "python3",
      "display_name": "Python 3"
    },
    "accelerator": "GPU"
  },
  "cells": [
    {
      "cell_type": "markdown",
      "metadata": {
        "id": "o9cRQ5pPJBSM",
        "colab_type": "text"
      },
      "source": [
        "This guide start programming in the low-level TensorFlow APIs (TensorFlow Core), showing:\n",
        "- Manage own TensorFlow program (a `tf.Graph`) and TensorFlow runtime (a `tf.Session`), instead of relying on Estimators to manage them.\n",
        "- Run TensorFlow operations, using a `tf.Session`.\n",
        "- Using high level components (`dataset`, `layers`, and `feature_column`) in this low level environment.\n",
        "- Build own training loop, instead of using the one `provided by Estimators`."
      ]
    },
    {
      "cell_type": "markdown",
      "metadata": {
        "id": "Le1ToATXJ2Nd",
        "colab_type": "text"
      },
      "source": [
        "Recommend using the higher level APIs to build models when possible. Know TensorFlow Core is valuable for the folowwing reasons:\n",
        "- Experimentation and debugging are both more straight forward when you can use low level TensorFlow operations directly.\n",
        "- It gives you a mental model of how things work internally when using the higher level APIs."
      ]
    },
    {
      "cell_type": "code",
      "metadata": {
        "id": "taH_s_8TIsIo",
        "colab_type": "code",
        "colab": {}
      },
      "source": [
        "from __future__ import absolute_import\n",
        "from __future__ import division\n",
        "from __future__ import print_function\n",
        "\n",
        "import numpy as np\n",
        "import tensorflow as tf"
      ],
      "execution_count": 0,
      "outputs": []
    },
    {
      "cell_type": "markdown",
      "metadata": {
        "id": "CfNk_tUgKdke",
        "colab_type": "text"
      },
      "source": [
        "### Tensor values\n",
        "The central unit of data in TensorFlow is the **tensor**. A tensor consists of a set of primitive values shaped into an array of any number of dimensions. A tensor's **rank** is its number of dimension, while its **shape** is a tuple of integers specifying the array's length along each dimension."
      ]
    },
    {
      "cell_type": "code",
      "metadata": {
        "id": "1_UtcrJ_KSgi",
        "colab_type": "code",
        "colab": {}
      },
      "source": [
        "3. # a rank 0 tensor; a scalar with shape [],\n",
        "[1., 2., 3.] # a rank 1 tensor; a vector with shape [3]\n",
        "[[1., 2., 3.], [4., 5., 6.]] # a rank 2 tensor; a matrix with shape [2, 3]\n",
        "[[[1., 2., 3.]], [[7., 8., 9.]]] # a rank 3 tensor with shape [2, 1, 3]"
      ],
      "execution_count": 0,
      "outputs": []
    },
    {
      "cell_type": "markdown",
      "metadata": {
        "id": "yRL8VtwFLUPq",
        "colab_type": "text"
      },
      "source": [
        "TensorFlow uses numpy array to represent tensor **values**."
      ]
    },
    {
      "cell_type": "markdown",
      "metadata": {
        "id": "KUUxWiTJMH3f",
        "colab_type": "text"
      },
      "source": [
        "### TensorFlow Core Walkthrough\n",
        "You might think of TensorFlow Core programs as consisting of two discrete sections:\n",
        "1. Building the computational graph (a `tf.Graph`).\n",
        "2. Running the computational graph (using a `tf.Session`).\n"
      ]
    },
    {
      "cell_type": "markdown",
      "metadata": {
        "id": "1OmMrIS5MXJU",
        "colab_type": "text"
      },
      "source": [
        "### Graph\n",
        "A **computational graph** is a series of TensorFlow operations arranged into a graph. The graph is composed of two types of objects.\n",
        "- `tf.Operation` (or \"obs\"): The nodes of the graph. Operations describe calculations that consume and produce tensors.\n",
        "- `tf.Tensor`: The edges in the graph. These represent the values that will flow through the graph. Most TensorFlow functions return `tf.Tensor`."
      ]
    },
    {
      "cell_type": "markdown",
      "metadata": {
        "id": "AyeXuAp7NIgg",
        "colab_type": "text"
      },
      "source": [
        "**Important**: tf.Tensor do not have values, they are just handles to elements in the computation graph."
      ]
    },
    {
      "cell_type": "markdown",
      "metadata": {
        "id": "gBGavGQRNjiY",
        "colab_type": "text"
      },
      "source": [
        "Let's build a simple computational graph. The most basic operation is a constant. The Python function that builds the operation takes a tensor value as input. The resulting operation takes no input. When run, it outputs the value that was passed to the constructor."
      ]
    },
    {
      "cell_type": "code",
      "metadata": {
        "id": "SGYx069dLTtE",
        "colab_type": "code",
        "colab": {}
      },
      "source": [
        "a = tf.constant(3.0, dtype=tf.float32)\n",
        "b = tf.constant(4.0) # also tf.float 32 implicitly\n",
        "total = a + b\n",
        "print(a)\n",
        "print(b)\n",
        "print(total)"
      ],
      "execution_count": 0,
      "outputs": []
    },
    {
      "cell_type": "markdown",
      "metadata": {
        "id": "ekUgAOn9Ozf_",
        "colab_type": "text"
      },
      "source": [
        "Notice that printing the tensors does not output the values `3.0`, `4.0`, and `7.0` as you might expect. The above statements only build the computational graph. These `tf.Tensor` objects just represent the results of the operations that will be run.\n",
        "\n",
        "Each operation in a graph is given a unique name. This name is independent of the names the objects are assigned to in Python. Tensors are named after the operation that produces them followed by an output index."
      ]
    },
    {
      "cell_type": "markdown",
      "metadata": {
        "id": "0ASE-kIXPlT4",
        "colab_type": "text"
      },
      "source": [
        "### TensorBoard\n",
        "TensorFlow provides a utility called TensorBoard. One of TensorBoard's many capabilities is visualizing a computation graph. You can easily do this with a few simple commands.\n",
        "\n",
        "First you save the computation graph to a TensorBoard summary file as follows:"
      ]
    },
    {
      "cell_type": "code",
      "metadata": {
        "id": "vJ3XTn_3Oimf",
        "colab_type": "code",
        "colab": {}
      },
      "source": [
        "writer = tf.summary.FileWriter('.')\n",
        "writer.add_graph(tf.get_default_graph())\n",
        "writer.flush()"
      ],
      "execution_count": 0,
      "outputs": []
    },
    {
      "cell_type": "markdown",
      "metadata": {
        "id": "TEslG-zlPvBJ",
        "colab_type": "text"
      },
      "source": [
        "This will produce an `event` file in the current directory with a name in the following format:"
      ]
    },
    {
      "cell_type": "code",
      "metadata": {
        "id": "EFcaWrbWQMlF",
        "colab_type": "code",
        "colab": {}
      },
      "source": [
        "events.out.tfevents.{timestamp}.{hostname}\n",
        "tensorboard --logdir ."
      ],
      "execution_count": 0,
      "outputs": []
    },
    {
      "cell_type": "markdown",
      "metadata": {
        "id": "2kSRLOy-QQUl",
        "colab_type": "text"
      },
      "source": [
        "### Session\n",
        "To evaluate tensors, instantiate a `tf.Session` object, informally known as **session**. A session encapsulates the state of the TensorFlow runtime, and runs TensorFlow operations. If a `tf.Graph` is like `.py` file, a `tf.Session` is like the Python executable."
      ]
    },
    {
      "cell_type": "markdown",
      "metadata": {
        "id": "by7_HlZJQm3O",
        "colab_type": "text"
      },
      "source": [
        "The following code create a `tf.Session` object and then invokes its `run` method to evaluate the `total` tensor we create above:"
      ]
    },
    {
      "cell_type": "code",
      "metadata": {
        "id": "jysq6WC5P8Ml",
        "colab_type": "code",
        "colab": {}
      },
      "source": [
        "sess = tf.Session()\n",
        "print(sess.run(total))"
      ],
      "execution_count": 0,
      "outputs": []
    },
    {
      "cell_type": "markdown",
      "metadata": {
        "id": "6xv_miybQ1Wv",
        "colab_type": "text"
      },
      "source": [
        "When you request toe output of a node with `Session.run` TensorFlow backtracks through graph and runs all the nodes that provide input to the requested output node."
      ]
    },
    {
      "cell_type": "markdown",
      "metadata": {
        "id": "5_me-CfqRRkp",
        "colab_type": "text"
      },
      "source": [
        "You can pass multiple tensors to `tf.Session.run`. The `run` method transparently handles any combination of tuples or dictionaries"
      ]
    },
    {
      "cell_type": "code",
      "metadata": {
        "id": "vDBPguiMQxLA",
        "colab_type": "code",
        "colab": {}
      },
      "source": [
        "print(sess.run({'ab': (a, b), 'total': total}))"
      ],
      "execution_count": 0,
      "outputs": []
    },
    {
      "cell_type": "markdown",
      "metadata": {
        "id": "WvC1BMfxR0nm",
        "colab_type": "text"
      },
      "source": [
        "During a call to `tf.Session.run` any `tf.Tensor` only has a single value. For example, the following code call `tf.random_uniform` to produce a `tf.Tensor` that generates a random 3-element vector (with values in [0, 1)):"
      ]
    },
    {
      "cell_type": "code",
      "metadata": {
        "id": "Qihwg4b3RNbo",
        "colab_type": "code",
        "colab": {}
      },
      "source": [
        "vec = tf.random_uniform(shape=(3,))\n",
        "out1 = vec + 1\n",
        "out2 = vec + 2\n",
        "print(sess.run(vec))\n",
        "print(sess.run(vec))\n",
        "print(sess.run((out1, out2)))"
      ],
      "execution_count": 0,
      "outputs": []
    },
    {
      "cell_type": "markdown",
      "metadata": {
        "id": "XFW416QLfsLP",
        "colab_type": "text"
      },
      "source": [
        "Some TensorFlow functions return `tf.Operation` instead of `tf.Tensor`. The result of calling `run` on an Operation is `None`. You run an operation to cause side-effect, not to retrieve a value. Examples of this include the `initialization`, and `training` ops demonstrated later."
      ]
    },
    {
      "cell_type": "markdown",
      "metadata": {
        "id": "bz_n7HrWgB5z",
        "colab_type": "text"
      },
      "source": [
        "### Feeding\n",
        "As it stands, this graph is not especially interesting because it always produces a constant result. A graph can be parameterized to accept external inputs, known as **placeholder**. A placeholder is a promise to provide a value later, like a function argument."
      ]
    },
    {
      "cell_type": "code",
      "metadata": {
        "id": "0Boys79BSMLW",
        "colab_type": "code",
        "colab": {}
      },
      "source": [
        "x = tf.placeholder(tf.float32)\n",
        "y = tf.placeholder(tf.float32)\n",
        "z = x + y"
      ],
      "execution_count": 0,
      "outputs": []
    },
    {
      "cell_type": "code",
      "metadata": {
        "id": "YOKWSMZogYlr",
        "colab_type": "code",
        "colab": {}
      },
      "source": [
        "print(x)\n",
        "print(y)\n",
        "print(z)"
      ],
      "execution_count": 0,
      "outputs": []
    },
    {
      "cell_type": "markdown",
      "metadata": {
        "id": "ImWZQQ4pgjw9",
        "colab_type": "text"
      },
      "source": [
        "The preceding three lines are a bit like a function in which we define two input parameters (x and y) and then an operation on them. We can evaluate this graph with multiple inputs by using the feed_dict argument of the tf.Session.run method to feed concrete values to the placeholders:"
      ]
    },
    {
      "cell_type": "code",
      "metadata": {
        "id": "aIZ8XV9xgaGf",
        "colab_type": "code",
        "colab": {}
      },
      "source": [
        "print(sess.run(z, feed_dict={x: 3, y: 4.5}))\n",
        "print(sess.run(z, feed_dict={x: [1, 3], y: [2, 4]}))"
      ],
      "execution_count": 0,
      "outputs": []
    },
    {
      "cell_type": "markdown",
      "metadata": {
        "id": "VfEbXfiug-ci",
        "colab_type": "text"
      },
      "source": [
        "Also note that the `feed_dict` argument can be used to overwrite any tensor in the graph. The `only` difference between placeholders and other `tf.Tensor` is that placeholders throw an error if no value is feed to them."
      ]
    },
    {
      "cell_type": "markdown",
      "metadata": {
        "id": "dnXoWAFBhSC9",
        "colab_type": "text"
      },
      "source": [
        "### Datasets\n",
        "Placeholders work for simple experiments, but `tf.data` are the preferred method of streaming data into a model.\n",
        "\n",
        "To get a runnable `tf.Tensor` from a Dataset you must first convert it to a `tf.data.Iterator`, and then call the Iterator's `tf.data.Iterator.get_next` method.\n",
        "\n",
        "The simplest way to create an Iterator is with the `tf.data.Dataset.make_one_shot_iterator` method. For example, in the following code the `next_item` tensor will return a row from the `my_data` array on each run call:"
      ]
    },
    {
      "cell_type": "code",
      "metadata": {
        "id": "52dSSV77gz7W",
        "colab_type": "code",
        "colab": {}
      },
      "source": [
        "my_data = [\n",
        "    [0, 1],\n",
        "    [2, 3],\n",
        "    [4, 5],\n",
        "    [6, 7]\n",
        "]\n",
        "slices = tf.data.Dataset.from_tensor_slices(my_data)\n",
        "next_item = slices.make_one_shot_iterator().get_next()"
      ],
      "execution_count": 0,
      "outputs": []
    },
    {
      "cell_type": "markdown",
      "metadata": {
        "id": "ChORaBMCigwG",
        "colab_type": "text"
      },
      "source": [
        "Reaching the end of the data stream causes `Dataset` to throw an `tf.errors.OutOfRangeError`."
      ]
    },
    {
      "cell_type": "code",
      "metadata": {
        "id": "jauOCgFhiHF6",
        "colab_type": "code",
        "colab": {}
      },
      "source": [
        "while True:\n",
        "  try:\n",
        "    print(sess.run(next_item))\n",
        "  except tf.errors.OutOfRangeError:\n",
        "    break"
      ],
      "execution_count": 0,
      "outputs": []
    },
    {
      "cell_type": "markdown",
      "metadata": {
        "id": "EKX1Nr_Vi9Hu",
        "colab_type": "text"
      },
      "source": [
        "If the `Dataset` depends on stateful operations you may need to initialize the iterator before using it."
      ]
    },
    {
      "cell_type": "code",
      "metadata": {
        "id": "QwXMVlhTi2aS",
        "colab_type": "code",
        "colab": {}
      },
      "source": [
        "r = tf.random_normal([10, 3])\n",
        "dataset = tf.data.Dataset.from_tensor_slices(r)\n",
        "iterator = dataset.make_initializable_iterator()\n",
        "next_row = iterator.get_next()\n",
        "\n",
        "sess.run(iterator.initializer)\n",
        "while True:\n",
        "  try:\n",
        "    print(sess.run(next_row))\n",
        "  except tf.errors.OutOfRangeError:\n",
        "    break"
      ],
      "execution_count": 0,
      "outputs": []
    },
    {
      "cell_type": "markdown",
      "metadata": {
        "id": "PJXuHxdYk4zG",
        "colab_type": "text"
      },
      "source": [
        "### Layers\n",
        "A trainable model must modify the values in the graph to get new outputs with the same input. `tf.layers` are the preferred way to add trainable parameters to a graph.\n",
        "\n",
        "Layers package together both the variables and the operations that act on them. For example `densely-connected layer` performs a weighted sum across all inputs for each output and applies an optional `activation function`. The connection weights and biases are managed by the layer object."
      ]
    },
    {
      "cell_type": "markdown",
      "metadata": {
        "id": "ydswPHgBlaXg",
        "colab_type": "text"
      },
      "source": [
        "### Creating layer"
      ]
    },
    {
      "cell_type": "code",
      "metadata": {
        "id": "X0jE8hGtjYTG",
        "colab_type": "code",
        "colab": {}
      },
      "source": [
        "# Takes a batch of input vectors, and produce single value for each.\n",
        "# To apply a layer to an input, call the layer as if it were a function\n",
        "x = tf.placeholder(tf.float32, shape=[None, 3])\n",
        "linear_model = tf.layers.Dense(units=1)\n",
        "y = linear_model(x)"
      ],
      "execution_count": 0,
      "outputs": []
    },
    {
      "cell_type": "markdown",
      "metadata": {
        "id": "v6QxqdsJl3zR",
        "colab_type": "text"
      },
      "source": [
        "The layer inspects its input to determine sizes for its internal variable. So here we must set the shape of the `x` placeholder so that the layer can build a weight matrix of the correct size.\n",
        "\n",
        "Now that we have defined the calculation of the output, y, there is one more detail we need to take care of before we run the calculation."
      ]
    },
    {
      "cell_type": "code",
      "metadata": {
        "id": "-rQ1VrrUmP5-",
        "colab_type": "code",
        "colab": {}
      },
      "source": [
        "sess.run(y, feed_dict={x: [[1, 2, 3]]})"
      ],
      "execution_count": 0,
      "outputs": []
    },
    {
      "cell_type": "markdown",
      "metadata": {
        "id": "oTjJK_TImNmV",
        "colab_type": "text"
      },
      "source": [
        "### Initializing Layers\n",
        "The layer contains variables that must be **initialized** before they can be used. While it is possible to initialize variables individually, hou can easily initialize all the variables in a TensorFlow graph as follows:"
      ]
    },
    {
      "cell_type": "code",
      "metadata": {
        "id": "JcODAiRwlygA",
        "colab_type": "code",
        "colab": {}
      },
      "source": [
        "init = tf.global_variables_initializer()\n",
        "sess.run(init)"
      ],
      "execution_count": 0,
      "outputs": []
    },
    {
      "cell_type": "code",
      "metadata": {
        "id": "y1QuPRqFmubY",
        "colab_type": "code",
        "colab": {}
      },
      "source": [
        "print(sess.run(y, {x: [[1, 2, 3]]}))"
      ],
      "execution_count": 0,
      "outputs": []
    },
    {
      "cell_type": "markdown",
      "metadata": {
        "id": "___MAmkmnQt6",
        "colab_type": "text"
      },
      "source": [
        "### Layer Function shortcuts\n",
        "For each layer class (like tf.layers.Dense) TensorFlow also supplies a shortcut function (like tf.layers.dense). The only difference is that the shortcut function versions create and run the layer in a single call. For example, the following code is equivalent to the earlier version:"
      ]
    },
    {
      "cell_type": "code",
      "metadata": {
        "id": "j3RxWy0cnGTA",
        "colab_type": "code",
        "colab": {}
      },
      "source": [
        "x = tf.placeholder(tf.float32, shape=[None, 3])\n",
        "y = tf.layers.dense(x, units=1)\n",
        "\n",
        "init = tf.global_variables_initializer()\n",
        "sess.run(init)\n",
        "\n",
        "print(sess.run(y, {x: [[1, 2, 3], [4, 5, 6]]}))"
      ],
      "execution_count": 0,
      "outputs": []
    },
    {
      "cell_type": "markdown",
      "metadata": {
        "id": "kmxSjHV4nyww",
        "colab_type": "text"
      },
      "source": [
        "While convenient, this approach allows no access to the tf.layers.Layer object. This makes introspection and debugging more difficult, and layer reuse impossible."
      ]
    },
    {
      "cell_type": "markdown",
      "metadata": {
        "id": "9ohRlRoaojts",
        "colab_type": "text"
      },
      "source": [
        "### Feature columns\n"
      ]
    },
    {
      "cell_type": "code",
      "metadata": {
        "id": "IL-8zu8LnuN8",
        "colab_type": "code",
        "colab": {}
      },
      "source": [
        "features = {\n",
        "    'sales': [[5], [10], [8], [9]],\n",
        "    'department': ['sports', 'sports', 'gardening', 'gardening']}\n",
        "\n",
        "department_column = tf.feature_column.categorical_column_with_vocabulary_list(\n",
        "    'department', ['sports', 'gardening'])\n",
        "department_column = tf.feature_column.indicator_column(department_column)\n",
        "\n",
        "columns = [\n",
        "    tf.feature_column.numeric_column('sales'),\n",
        "    department_column\n",
        "]\n",
        "\n",
        "inputs = tf.feature_column.input_layer(features, columns)\n"
      ],
      "execution_count": 0,
      "outputs": []
    },
    {
      "cell_type": "markdown",
      "metadata": {
        "id": "lnfmyVFppX-G",
        "colab_type": "text"
      },
      "source": [
        "Feature columns can have internal state, like layers, so they often need to be initialized. Categorical columns use tf.contrib.lookup internally and these require a separate initialization op, tf.tables_initializer."
      ]
    },
    {
      "cell_type": "code",
      "metadata": {
        "id": "P2iXeuo4pM8m",
        "colab_type": "code",
        "colab": {}
      },
      "source": [
        "var_init = tf.global_variables_initializer()\n",
        "table_init = tf.tables_initializer()\n",
        "sess = tf.Session()\n",
        "sess.run((var_init, table_init))"
      ],
      "execution_count": 0,
      "outputs": []
    },
    {
      "cell_type": "code",
      "metadata": {
        "id": "3JOojAKmpZZw",
        "colab_type": "code",
        "colab": {}
      },
      "source": [
        "print(sess.run(inputs))"
      ],
      "execution_count": 0,
      "outputs": []
    },
    {
      "cell_type": "code",
      "metadata": {
        "id": "IS7TUHsmpdDm",
        "colab_type": "code",
        "colab": {}
      },
      "source": [
        "x = tf.constant([[1], [2], [3], [4]], dtype=tf.float32)\n",
        "y_true = tf.constant([[0], [-1], [-2], [-3]], dtype=tf.float32)"
      ],
      "execution_count": 0,
      "outputs": []
    },
    {
      "cell_type": "code",
      "metadata": {
        "id": "WIVELuzUpl8A",
        "colab_type": "code",
        "colab": {}
      },
      "source": [
        "linear_model = tf.layers.Dense(units=1)\n",
        "\n",
        "y_pred = linear_model(x)"
      ],
      "execution_count": 0,
      "outputs": []
    },
    {
      "cell_type": "code",
      "metadata": {
        "id": "o57mTWIfpuqs",
        "colab_type": "code",
        "colab": {}
      },
      "source": [
        "sess = tf.Session()\n",
        "init = tf.global_variables_initializer()\n",
        "sess.run(init)\n",
        "\n",
        "print(sess.run(y_pred))"
      ],
      "execution_count": 0,
      "outputs": []
    },
    {
      "cell_type": "code",
      "metadata": {
        "id": "QhRjYnxXpwWx",
        "colab_type": "code",
        "colab": {}
      },
      "source": [
        "loss = tf.losses.mean_squared_error(labels=y_true, predictions=y_pred)\n",
        "\n",
        "print(sess.run(loss))"
      ],
      "execution_count": 0,
      "outputs": []
    },
    {
      "cell_type": "code",
      "metadata": {
        "id": "wXCTiMtxp6jI",
        "colab_type": "code",
        "colab": {}
      },
      "source": [
        "optimizer = tf.train.GradientDescentOptimizer(0.01)\n",
        "train = optimizer.minimize(loss)"
      ],
      "execution_count": 0,
      "outputs": []
    },
    {
      "cell_type": "code",
      "metadata": {
        "id": "nx5e9bCBqJYQ",
        "colab_type": "code",
        "colab": {}
      },
      "source": [
        "for i in range(100):\n",
        "  _, loss_value = sess.run((train, loss))\n",
        "  print(loss_value)"
      ],
      "execution_count": 0,
      "outputs": []
    },
    {
      "cell_type": "code",
      "metadata": {
        "id": "Q_sa9cs4qLzx",
        "colab_type": "code",
        "colab": {}
      },
      "source": [
        "x = tf.constant([[1], [2], [3], [4]],dtype=tf.float32)\n",
        "y_true = tf.constant([[0], [-1], [-2], [-3]], dtype=tf.float32)\n",
        "\n",
        "linear_model = tf.layers.Dense(units=1)\n",
        "\n",
        "y_pred = linear_model(x)\n",
        "loss = tf.losses.mean_squared_error(labels=y_true, predictions=y_pred)\n",
        "\n",
        "optimizer = tf.train.GradientDescentOptimizer(0.01)\n",
        "train = optimizer.minimize(loss)\n",
        "\n",
        "init = tf.global_variables_initializer()\n",
        "\n",
        "sess = tf.Session()\n",
        "sess.run(init)\n",
        "for i in range(100):\n",
        "  _ , loss_value = sess.run((train, loss))\n",
        "  print(loss_value)\n",
        "print(sess.run(y_pred))"
      ],
      "execution_count": 0,
      "outputs": []
    },
    {
      "cell_type": "code",
      "metadata": {
        "id": "SZjYOR8pqyhW",
        "colab_type": "code",
        "colab": {}
      },
      "source": [
        ""
      ],
      "execution_count": 0,
      "outputs": []
    }
  ]
}