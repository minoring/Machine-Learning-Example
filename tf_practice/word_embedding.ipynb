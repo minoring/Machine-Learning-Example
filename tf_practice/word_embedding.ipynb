{
  "nbformat": 4,
  "nbformat_minor": 0,
  "metadata": {
    "colab": {
      "name": "word_embedding.ipynb",
      "version": "0.3.2",
      "provenance": []
    },
    "kernelspec": {
      "name": "python3",
      "display_name": "Python 3"
    },
    "accelerator": "GPU"
  },
  "cells": [
    {
      "cell_type": "code",
      "metadata": {
        "id": "XZ_qu9gvAx1f",
        "colab_type": "code",
        "colab": {}
      },
      "source": [
        "## Representing text as numbers\n",
        "# One-hot encodings -  is sparse\n",
        "# Encode each word with a unique number\n",
        "# - The integer-encoding is arbitrary (it does not capture any relationship between words)\n",
        "# An integer-encoding can be challenging for a model to interpret\n",
        "# Word embeddings - dense representation in which similar words have a similar encoding.\n",
        "# Instead of specifying the values for the embedding manually, they are trainable parameters "
      ],
      "execution_count": 0,
      "outputs": []
    },
    {
      "cell_type": "code",
      "metadata": {
        "id": "qTF4qdrHCS_t",
        "colab_type": "code",
        "colab": {
          "base_uri": "https://localhost:8080/",
          "height": 139
        },
        "outputId": "b770bac0-2c9c-4913-a07a-18150eedf427"
      },
      "source": [
        "# Keras makes it easy to use word embeddings. - Embedding layer\n",
        "from __future__ import absolute_import, division, print_function, unicode_literals\n",
        "\n",
        "!pip install -q tf-nightly-2.0-preview\n",
        "import tensorflow as tf\n",
        "\n",
        "from tensorflow import keras\n",
        "from tensorflow.keras import layers\n",
        "\n",
        "# The Embedding layer takes at least two arguments:\n",
        "# the number of possible words in the vocabulary, here 1000 (1 + maximum word index),\n",
        "# and the dimensionality of the embeddings, here 32.\n",
        "embedding_layer = layers.Embedding(1000, 32)"
      ],
      "execution_count": 2,
      "outputs": [
        {
          "output_type": "stream",
          "text": [
            "\u001b[K     |████████████████████████████████| 88.0MB 42.6MB/s \n",
            "\u001b[K     |████████████████████████████████| 61kB 22.3MB/s \n",
            "\u001b[K     |████████████████████████████████| 430kB 46.2MB/s \n",
            "\u001b[K     |████████████████████████████████| 3.1MB 37.2MB/s \n",
            "\u001b[?25h  Building wheel for wrapt (setup.py) ... \u001b[?25l\u001b[?25hdone\n",
            "\u001b[31mERROR: thinc 6.12.1 has requirement wrapt<1.11.0,>=1.10.0, but you'll have wrapt 1.11.1 which is incompatible.\u001b[0m\n"
          ],
          "name": "stdout"
        }
      ]
    },
    {
      "cell_type": "code",
      "metadata": {
        "id": "pCKs0qmKCw9R",
        "colab_type": "code",
        "colab": {}
      },
      "source": [
        "# Embedding layer maps integer indices(specific word) -> dense vector(their embedding)\n",
        "# Dimensionality is experiment like # of neurons in dense layer\n",
        "# When create Embedding layer, weights for embedding are randomly initialized\n",
        "# During training, gradually adjusted via backpropagation.\n",
        "# Once trained, the learned word embeddings will roughly encode similarities between words \n",
        "# (as they were learned for the specific problem your model is trained on).\n",
        "\n",
        "# As input, the Embedding layer takes a 2D tensor of integers, of shape (samples, sequence_length), where each entry is a sequence of integers.\n",
        "# It can embed sequences of variable lengths. \n",
        "# You could feed into the embedding layer above batches with shapes (32, 10) (batch of 32 sequences of length 10) or (64, 15)\n",
        "#  All sequences in a batch must have the same length, so sequences that are shorter than others should be padded with zeros, and sequences that are longer should be truncated.\n",
        "\n",
        "# As output, the embedding layer returns a 3D floating point tensor, of shape (samples, sequence_length, embedding_dimensionality)\n",
        "# Such a 3D tensor can then be processed by a RNN layer, or can simply be flattened or pooled and processed by a Dense layer"
      ],
      "execution_count": 0,
      "outputs": []
    },
    {
      "cell_type": "code",
      "metadata": {
        "id": "viMsdk1dC_SX",
        "colab_type": "code",
        "colab": {
          "base_uri": "https://localhost:8080/",
          "height": 51
        },
        "outputId": "80058049-9689-49cf-982d-b0289e652430"
      },
      "source": [
        "## Learning embeddings from scratch\n",
        "vocab_size = 10000\n",
        "imdb = keras.datasets.imdb\n",
        "(train_data, train_labels), (test_data, test_labels) = imdb.load_data(num_words=vocab_size)"
      ],
      "execution_count": 5,
      "outputs": [
        {
          "output_type": "stream",
          "text": [
            "Downloading data from https://storage.googleapis.com/tensorflow/tf-keras-datasets/imdb.npz\n",
            "17465344/17464789 [==============================] - 0s 0us/step\n"
          ],
          "name": "stdout"
        }
      ]
    },
    {
      "cell_type": "code",
      "metadata": {
        "id": "nhA6FTtEFCAB",
        "colab_type": "code",
        "colab": {
          "base_uri": "https://localhost:8080/",
          "height": 54
        },
        "outputId": "f93a9fea-8a42-401d-f57d-a526e5e00ed3"
      },
      "source": [
        "# As imported, the text of reviews is integer-encoded (each integer represents a specific word in a dictionary).\n",
        "print(train_data[0])"
      ],
      "execution_count": 6,
      "outputs": [
        {
          "output_type": "stream",
          "text": [
            "[1, 14, 22, 16, 43, 530, 973, 1622, 1385, 65, 458, 4468, 66, 3941, 4, 173, 36, 256, 5, 25, 100, 43, 838, 112, 50, 670, 2, 9, 35, 480, 284, 5, 150, 4, 172, 112, 167, 2, 336, 385, 39, 4, 172, 4536, 1111, 17, 546, 38, 13, 447, 4, 192, 50, 16, 6, 147, 2025, 19, 14, 22, 4, 1920, 4613, 469, 4, 22, 71, 87, 12, 16, 43, 530, 38, 76, 15, 13, 1247, 4, 22, 17, 515, 17, 12, 16, 626, 18, 2, 5, 62, 386, 12, 8, 316, 8, 106, 5, 4, 2223, 5244, 16, 480, 66, 3785, 33, 4, 130, 12, 16, 38, 619, 5, 25, 124, 51, 36, 135, 48, 25, 1415, 33, 6, 22, 12, 215, 28, 77, 52, 5, 14, 407, 16, 82, 2, 8, 4, 107, 117, 5952, 15, 256, 4, 2, 7, 3766, 5, 723, 36, 71, 43, 530, 476, 26, 400, 317, 46, 7, 4, 2, 1029, 13, 104, 88, 4, 381, 15, 297, 98, 32, 2071, 56, 26, 141, 6, 194, 7486, 18, 4, 226, 22, 21, 134, 476, 26, 480, 5, 144, 30, 5535, 18, 51, 36, 28, 224, 92, 25, 104, 4, 226, 65, 16, 38, 1334, 88, 12, 16, 283, 5, 16, 4472, 113, 103, 32, 15, 16, 5345, 19, 178, 32]\n"
          ],
          "name": "stdout"
        }
      ]
    },
    {
      "cell_type": "code",
      "metadata": {
        "id": "d9-iEHG9FHb_",
        "colab_type": "code",
        "colab": {
          "base_uri": "https://localhost:8080/",
          "height": 51
        },
        "outputId": "dd57fdaf-9296-4621-aa55-6067ecfc8ef7"
      },
      "source": [
        "## Convert the integers back to words\n",
        "# It may be useful to know how to convert integers back to text.\n",
        "\n",
        "# A dictionary mapping words to an integer index\n",
        "word_index = imdb.get_word_index()\n",
        "\n",
        "# The first indices are reserved\n",
        "word_index = {k: (v+3) for k, v in word_index.items()}\n",
        "word_index[\"<PAD>\"] = 0\n",
        "word_index[\"<START>\"] = 1\n",
        "word_index[\"<UNK>\"] = 2  # unknown\n",
        "word_index[\"<UNUSED>\"] = 3\n",
        "\n",
        "reverse_word_index = dict([(value, key) for (key, value) in word_index.items()])"
      ],
      "execution_count": 8,
      "outputs": [
        {
          "output_type": "stream",
          "text": [
            "Downloading data from https://storage.googleapis.com/tensorflow/tf-keras-datasets/imdb_word_index.json\n",
            "1646592/1641221 [==============================] - 0s 0us/step\n"
          ],
          "name": "stdout"
        }
      ]
    },
    {
      "cell_type": "code",
      "metadata": {
        "id": "hPx5mg2OFwib",
        "colab_type": "code",
        "colab": {}
      },
      "source": [
        "def decode_review(text):\n",
        "    return ' '.join([reverse_word_index.get(i, '?') for i in text])"
      ],
      "execution_count": 0,
      "outputs": []
    },
    {
      "cell_type": "code",
      "metadata": {
        "id": "BsAYwWOSGC7j",
        "colab_type": "code",
        "colab": {
          "base_uri": "https://localhost:8080/",
          "height": 54
        },
        "outputId": "155fdc78-9029-4989-d376-b55929794086"
      },
      "source": [
        "decode_review(train_data[0])"
      ],
      "execution_count": 10,
      "outputs": [
        {
          "output_type": "execute_result",
          "data": {
            "text/plain": [
              "\"<START> this film was just brilliant casting location scenery story direction everyone's really suited the part they played and you could just imagine being there robert <UNK> is an amazing actor and now the same being director <UNK> father came from the same scottish island as myself so i loved the fact there was a real connection with this film the witty remarks throughout the film were great it was just brilliant so much that i bought the film as soon as it was released for <UNK> and would recommend it to everyone to watch and the fly fishing was amazing really cried at the end it was so sad and you know what they say if you cry at a film it must have been good and this definitely was also <UNK> to the two little boy's that played the <UNK> of norman and paul they were just brilliant children are often left out of the <UNK> list i think because the stars that play them all grown up are such a big profile for the whole film but these children are amazing and should be praised for what they have done don't you think the whole story was so lovely because it was true and was someone's life after all that was shared with us all\""
            ]
          },
          "metadata": {
            "tags": []
          },
          "execution_count": 10
        }
      ]
    },
    {
      "cell_type": "code",
      "metadata": {
        "id": "HHAuWRbOGF7H",
        "colab_type": "code",
        "colab": {}
      },
      "source": [
        "# Movie reviews can be different lengths. We will use the pad_sequences function to standardize the lengths of the reviews.\n",
        "maxlen = 500\n",
        "\n",
        "train_data = keras.preprocessing.sequence.pad_sequences(train_data,\n",
        "                                                       value=word_index['<PAD>'],\n",
        "                                                       padding='post',\n",
        "                                                       maxlen=maxlen)\n",
        "test_data = keras.preprocessing.sequence.pad_sequences(test_data,\n",
        "                                                      value=word_index['<PAD>'],\n",
        "                                                      padding= 'post',\n",
        "                                                      maxlen=maxlen)"
      ],
      "execution_count": 0,
      "outputs": []
    },
    {
      "cell_type": "code",
      "metadata": {
        "id": "wVEtgEMvGldW",
        "colab_type": "code",
        "colab": {
          "base_uri": "https://localhost:8080/",
          "height": 629
        },
        "outputId": "87673e42-fc8d-4046-97d6-0435dcf61a42"
      },
      "source": [
        "print(train_data[0])"
      ],
      "execution_count": 13,
      "outputs": [
        {
          "output_type": "stream",
          "text": [
            "[   1   14   22   16   43  530  973 1622 1385   65  458 4468   66 3941\n",
            "    4  173   36  256    5   25  100   43  838  112   50  670    2    9\n",
            "   35  480  284    5  150    4  172  112  167    2  336  385   39    4\n",
            "  172 4536 1111   17  546   38   13  447    4  192   50   16    6  147\n",
            " 2025   19   14   22    4 1920 4613  469    4   22   71   87   12   16\n",
            "   43  530   38   76   15   13 1247    4   22   17  515   17   12   16\n",
            "  626   18    2    5   62  386   12    8  316    8  106    5    4 2223\n",
            " 5244   16  480   66 3785   33    4  130   12   16   38  619    5   25\n",
            "  124   51   36  135   48   25 1415   33    6   22   12  215   28   77\n",
            "   52    5   14  407   16   82    2    8    4  107  117 5952   15  256\n",
            "    4    2    7 3766    5  723   36   71   43  530  476   26  400  317\n",
            "   46    7    4    2 1029   13  104   88    4  381   15  297   98   32\n",
            " 2071   56   26  141    6  194 7486   18    4  226   22   21  134  476\n",
            "   26  480    5  144   30 5535   18   51   36   28  224   92   25  104\n",
            "    4  226   65   16   38 1334   88   12   16  283    5   16 4472  113\n",
            "  103   32   15   16 5345   19  178   32    0    0    0    0    0    0\n",
            "    0    0    0    0    0    0    0    0    0    0    0    0    0    0\n",
            "    0    0    0    0    0    0    0    0    0    0    0    0    0    0\n",
            "    0    0    0    0    0    0    0    0    0    0    0    0    0    0\n",
            "    0    0    0    0    0    0    0    0    0    0    0    0    0    0\n",
            "    0    0    0    0    0    0    0    0    0    0    0    0    0    0\n",
            "    0    0    0    0    0    0    0    0    0    0    0    0    0    0\n",
            "    0    0    0    0    0    0    0    0    0    0    0    0    0    0\n",
            "    0    0    0    0    0    0    0    0    0    0    0    0    0    0\n",
            "    0    0    0    0    0    0    0    0    0    0    0    0    0    0\n",
            "    0    0    0    0    0    0    0    0    0    0    0    0    0    0\n",
            "    0    0    0    0    0    0    0    0    0    0    0    0    0    0\n",
            "    0    0    0    0    0    0    0    0    0    0    0    0    0    0\n",
            "    0    0    0    0    0    0    0    0    0    0    0    0    0    0\n",
            "    0    0    0    0    0    0    0    0    0    0    0    0    0    0\n",
            "    0    0    0    0    0    0    0    0    0    0    0    0    0    0\n",
            "    0    0    0    0    0    0    0    0    0    0    0    0    0    0\n",
            "    0    0    0    0    0    0    0    0    0    0    0    0    0    0\n",
            "    0    0    0    0    0    0    0    0    0    0    0    0    0    0\n",
            "    0    0    0    0    0    0    0    0    0    0    0    0    0    0\n",
            "    0    0    0    0    0    0    0    0    0    0]\n"
          ],
          "name": "stdout"
        }
      ]
    },
    {
      "cell_type": "code",
      "metadata": {
        "id": "HBJJPNYzGqWr",
        "colab_type": "code",
        "colab": {
          "base_uri": "https://localhost:8080/",
          "height": 289
        },
        "outputId": "326288be-7723-4496-d14d-6358ecfab917"
      },
      "source": [
        "## Create a simple model\n",
        "# 1. Embedding layer - This layer takes the integer-encoded vocabulary and looks up the embedding vector for each word-index\n",
        "# These vectors are learned as the model trains.\n",
        "# The vectors add a dimension to the output array. The resulting dimensions are: (batch, sequence, embedding)`.\n",
        "\n",
        "# 2. Next, a GlobalAveragePooling1D layer returns a fixed-length output vector for each example by averaging over the sequence dimension.\n",
        "# This allows the model to handle input of variable length, in the simplest way possible.\n",
        "\n",
        "# 3. This fixed-length output vector is piped through a fully-connected (Dense) layer with 16 hidden units.\n",
        "\n",
        "# 4. The last layer is densely connected with a single output node. Using the sigmoid activation function, this value is a float between 0 and 1, representing a probability (or confidence level) that the review is positive.\n",
        "\n",
        "embedding_dim = 16\n",
        "\n",
        "model = keras.Sequential([\n",
        "    layers.Embedding(vocab_size, embedding_dim, input_length=maxlen),\n",
        "    layers.GlobalAveragePooling1D(),\n",
        "    layers.Dense(16, activation='relu'),\n",
        "    layers.Dense(1, activation='sigmoid')\n",
        "])\n",
        "\n",
        "model.summary()"
      ],
      "execution_count": 16,
      "outputs": [
        {
          "output_type": "stream",
          "text": [
            "Model: \"sequential\"\n",
            "_________________________________________________________________\n",
            "Layer (type)                 Output Shape              Param #   \n",
            "=================================================================\n",
            "embedding_3 (Embedding)      (None, 500, 16)           160000    \n",
            "_________________________________________________________________\n",
            "global_average_pooling1d (Gl (None, 16)                0         \n",
            "_________________________________________________________________\n",
            "dense (Dense)                (None, 16)                272       \n",
            "_________________________________________________________________\n",
            "dense_1 (Dense)              (None, 1)                 17        \n",
            "=================================================================\n",
            "Total params: 160,289\n",
            "Trainable params: 160,289\n",
            "Non-trainable params: 0\n",
            "_________________________________________________________________\n"
          ],
          "name": "stdout"
        }
      ]
    },
    {
      "cell_type": "code",
      "metadata": {
        "id": "S_R3ktgNH1fD",
        "colab_type": "code",
        "colab": {}
      },
      "source": [
        "model.compile(optimizer='adam',\n",
        "              loss='binary_crossentropy',\n",
        "              metrics=['accuracy'])"
      ],
      "execution_count": 0,
      "outputs": []
    },
    {
      "cell_type": "code",
      "metadata": {
        "id": "oyjriteiIb14",
        "colab_type": "code",
        "colab": {
          "base_uri": "https://localhost:8080/",
          "height": 1142
        },
        "outputId": "f3d61869-cf23-4882-84b0-8f2c31c05be1"
      },
      "source": [
        "history = model.fit(train_data,\n",
        "                    train_labels,\n",
        "                    epochs=30,\n",
        "                    batch_size=512,\n",
        "                    validation_split=0.2)"
      ],
      "execution_count": 19,
      "outputs": [
        {
          "output_type": "stream",
          "text": [
            "WARNING: Logging before flag parsing goes to stderr.\n",
            "W0528 06:30:45.302651 140632280487808 deprecation.py:323] From /usr/local/lib/python3.6/dist-packages/tensorflow/python/ops/math_grad.py:1250: add_dispatch_support.<locals>.wrapper (from tensorflow.python.ops.array_ops) is deprecated and will be removed in a future version.\n",
            "Instructions for updating:\n",
            "Use tf.where in 2.0, which has the same broadcast rule as np.where\n"
          ],
          "name": "stderr"
        },
        {
          "output_type": "stream",
          "text": [
            "Train on 20000 samples, validate on 5000 samples\n",
            "Epoch 1/30\n",
            "20000/20000 [==============================] - 2s 88us/sample - loss: 0.6925 - accuracy: 0.5361 - val_loss: 0.6916 - val_accuracy: 0.6814\n",
            "Epoch 2/30\n",
            "20000/20000 [==============================] - 2s 77us/sample - loss: 0.6896 - accuracy: 0.5870 - val_loss: 0.6865 - val_accuracy: 0.6064\n",
            "Epoch 3/30\n",
            "20000/20000 [==============================] - 2s 76us/sample - loss: 0.6816 - accuracy: 0.7071 - val_loss: 0.6741 - val_accuracy: 0.7422\n",
            "Epoch 4/30\n",
            "20000/20000 [==============================] - 2s 75us/sample - loss: 0.6636 - accuracy: 0.7555 - val_loss: 0.6489 - val_accuracy: 0.7534\n",
            "Epoch 5/30\n",
            "20000/20000 [==============================] - 2s 76us/sample - loss: 0.6318 - accuracy: 0.7852 - val_loss: 0.6110 - val_accuracy: 0.7834\n",
            "Epoch 6/30\n",
            "20000/20000 [==============================] - 2s 77us/sample - loss: 0.5877 - accuracy: 0.8026 - val_loss: 0.5646 - val_accuracy: 0.7986\n",
            "Epoch 7/30\n",
            "20000/20000 [==============================] - 2s 82us/sample - loss: 0.5381 - accuracy: 0.8177 - val_loss: 0.5178 - val_accuracy: 0.8136\n",
            "Epoch 8/30\n",
            "20000/20000 [==============================] - 2s 83us/sample - loss: 0.4866 - accuracy: 0.8413 - val_loss: 0.4731 - val_accuracy: 0.8286\n",
            "Epoch 9/30\n",
            "20000/20000 [==============================] - 2s 83us/sample - loss: 0.4399 - accuracy: 0.8562 - val_loss: 0.4344 - val_accuracy: 0.8460\n",
            "Epoch 10/30\n",
            "20000/20000 [==============================] - 2s 84us/sample - loss: 0.3995 - accuracy: 0.8698 - val_loss: 0.4040 - val_accuracy: 0.8580\n",
            "Epoch 11/30\n",
            "20000/20000 [==============================] - 2s 83us/sample - loss: 0.3666 - accuracy: 0.8781 - val_loss: 0.3797 - val_accuracy: 0.8650\n",
            "Epoch 12/30\n",
            "20000/20000 [==============================] - 2s 82us/sample - loss: 0.3399 - accuracy: 0.8847 - val_loss: 0.3617 - val_accuracy: 0.8666\n",
            "Epoch 13/30\n",
            "20000/20000 [==============================] - 2s 77us/sample - loss: 0.3176 - accuracy: 0.8914 - val_loss: 0.3467 - val_accuracy: 0.8702\n",
            "Epoch 14/30\n",
            "20000/20000 [==============================] - 1s 75us/sample - loss: 0.2986 - accuracy: 0.8977 - val_loss: 0.3350 - val_accuracy: 0.8722\n",
            "Epoch 15/30\n",
            "20000/20000 [==============================] - 1s 75us/sample - loss: 0.2840 - accuracy: 0.9031 - val_loss: 0.3257 - val_accuracy: 0.8756\n",
            "Epoch 16/30\n",
            "20000/20000 [==============================] - 2s 77us/sample - loss: 0.2697 - accuracy: 0.9061 - val_loss: 0.3242 - val_accuracy: 0.8726\n",
            "Epoch 17/30\n",
            "20000/20000 [==============================] - 2s 76us/sample - loss: 0.2575 - accuracy: 0.9107 - val_loss: 0.3120 - val_accuracy: 0.8808\n",
            "Epoch 18/30\n",
            "20000/20000 [==============================] - 2s 75us/sample - loss: 0.2457 - accuracy: 0.9154 - val_loss: 0.3056 - val_accuracy: 0.8820\n",
            "Epoch 19/30\n",
            "20000/20000 [==============================] - 2s 77us/sample - loss: 0.2357 - accuracy: 0.9184 - val_loss: 0.3013 - val_accuracy: 0.8828\n",
            "Epoch 20/30\n",
            "20000/20000 [==============================] - 1s 74us/sample - loss: 0.2263 - accuracy: 0.9204 - val_loss: 0.2977 - val_accuracy: 0.8848\n",
            "Epoch 21/30\n",
            "20000/20000 [==============================] - 2s 76us/sample - loss: 0.2184 - accuracy: 0.9235 - val_loss: 0.2940 - val_accuracy: 0.8870\n",
            "Epoch 22/30\n",
            "20000/20000 [==============================] - 1s 75us/sample - loss: 0.2121 - accuracy: 0.9261 - val_loss: 0.2914 - val_accuracy: 0.8882\n",
            "Epoch 23/30\n",
            "20000/20000 [==============================] - 2s 76us/sample - loss: 0.2039 - accuracy: 0.9293 - val_loss: 0.2903 - val_accuracy: 0.8890\n",
            "Epoch 24/30\n",
            "20000/20000 [==============================] - 2s 78us/sample - loss: 0.1968 - accuracy: 0.9311 - val_loss: 0.2873 - val_accuracy: 0.8910\n",
            "Epoch 25/30\n",
            "20000/20000 [==============================] - 2s 77us/sample - loss: 0.1901 - accuracy: 0.9334 - val_loss: 0.2870 - val_accuracy: 0.8902\n",
            "Epoch 26/30\n",
            "20000/20000 [==============================] - 2s 76us/sample - loss: 0.1850 - accuracy: 0.9352 - val_loss: 0.2856 - val_accuracy: 0.8912\n",
            "Epoch 27/30\n",
            "20000/20000 [==============================] - 2s 75us/sample - loss: 0.1792 - accuracy: 0.9388 - val_loss: 0.2852 - val_accuracy: 0.8912\n",
            "Epoch 28/30\n",
            "20000/20000 [==============================] - 2s 76us/sample - loss: 0.1734 - accuracy: 0.9401 - val_loss: 0.2833 - val_accuracy: 0.8900\n",
            "Epoch 29/30\n",
            "20000/20000 [==============================] - 1s 75us/sample - loss: 0.1678 - accuracy: 0.9434 - val_loss: 0.2828 - val_accuracy: 0.8922\n",
            "Epoch 30/30\n",
            "20000/20000 [==============================] - 2s 75us/sample - loss: 0.1630 - accuracy: 0.9449 - val_loss: 0.2850 - val_accuracy: 0.8922\n"
          ],
          "name": "stdout"
        }
      ]
    },
    {
      "cell_type": "code",
      "metadata": {
        "id": "C5GN6mIyIkg3",
        "colab_type": "code",
        "colab": {
          "base_uri": "https://localhost:8080/",
          "height": 1117
        },
        "outputId": "11553bf5-84b7-417b-e57d-c5e8ab6a58d1"
      },
      "source": [
        "import matplotlib.pyplot as plt\n",
        "\n",
        "history_dict = history.history\n",
        "\n",
        "acc = history_dict['accuracy']\n",
        "val_acc = history_dict['val_accuracy']\n",
        "loss = history_dict['loss']\n",
        "val_loss = history_dict['val_loss']\n",
        "\n",
        "epochs = range(1, len(acc) + 1)\n",
        "\n",
        "plt.figure(figsize=(12,9))\n",
        "plt.plot(epochs, loss, 'bo', label='Training loss')\n",
        "plt.plot(epochs, val_loss, 'b', label='Validation loss')\n",
        "plt.title('Training and validation loss')\n",
        "plt.xlabel('Epochs')\n",
        "plt.ylabel('Loss')\n",
        "plt.legend(loc='lower left')\n",
        "plt.show()\n",
        "\n",
        "plt.figure(figsize=(12,9))\n",
        "plt.plot(epochs, acc, 'bo', label='Training acc')\n",
        "plt.plot(epochs, val_acc, 'b', label='Validation acc')\n",
        "plt.title('Training and validation accuracy')\n",
        "plt.xlabel('Epochs')\n",
        "plt.ylabel('Accuracy')\n",
        "plt.legend(loc='lower left')\n",
        "plt.ylim((0.5,1))\n",
        "plt.show()"
      ],
      "execution_count": 21,
      "outputs": [
        {
          "output_type": "display_data",
          "data": {
            "image/png": "[encoded data removed]",
            "text/plain": [
              "<Figure size 864x648 with 1 Axes>"
            ]
          },
          "metadata": {
            "tags": []
          }
        },
        {
          "output_type": "display_data",
          "data": {
            "image/png": "[encoded data removed]",
            "text/plain": [
              "<Figure size 864x648 with 1 Axes>"
            ]
          },
          "metadata": {
            "tags": []
          }
        }
      ]
    },
    {
      "cell_type": "code",
      "metadata": {
        "id": "HvkTOpVWJrQ3",
        "colab_type": "code",
        "colab": {
          "base_uri": "https://localhost:8080/",
          "height": 34
        },
        "outputId": "34d36731-b29c-46e8-fbbf-fd669c705f46"
      },
      "source": [
        "## Retrieve the learned embeddings\n",
        "# This will be a matrix of shape (vocab_size,embedding-dimension).\n",
        "e = model.layers[0]\n",
        "weights = e.get_weights()[0]\n",
        "print(weights.shape)"
      ],
      "execution_count": 24,
      "outputs": [
        {
          "output_type": "stream",
          "text": [
            "(10000, 16)\n"
          ],
          "name": "stdout"
        }
      ]
    },
    {
      "cell_type": "code",
      "metadata": {
        "id": "7a34ZNRkKLLQ",
        "colab_type": "code",
        "colab": {}
      },
      "source": [
        "# We will now write the weights to disk.\n",
        "# To use the Embedding Projector, we will upload two files in tab separated format: a file of vectors (containing the embedding), and a file of meta data (containing the words).\n",
        "\n",
        "import io\n",
        "\n",
        "out_v = io.open('vecs.tsv', 'w', encoding='utf-8')\n",
        "out_m = io.open('meta.tsv', 'w', encoding='utf-8')\n",
        "\n",
        "for word_num in range(vocab_size):\n",
        "    word = reverse_word_index[word_num]\n",
        "    embeddings = weights[word_num]\n",
        "    out_m.write(word + '\\n')\n",
        "    out_v.write('\\t'.join([str(x) for x in embeddings]) + '\\n')\n",
        "\n",
        "out_v.close()\n",
        "out_m.close()"
      ],
      "execution_count": 0,
      "outputs": []
    },
    {
      "cell_type": "code",
      "metadata": {
        "id": "17_YdvCiLBsj",
        "colab_type": "code",
        "colab": {}
      },
      "source": [
        "# http://projector.tensorflow.org/"
      ],
      "execution_count": 0,
      "outputs": []
    }
  ]
}