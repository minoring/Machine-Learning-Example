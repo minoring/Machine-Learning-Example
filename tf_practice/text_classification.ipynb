{
  "nbformat": 4,
  "nbformat_minor": 0,
  "metadata": {
    "colab": {
      "name": "text_classification.ipynb",
      "version": "0.3.2",
      "provenance": []
    },
    "kernelspec": {
      "name": "python3",
      "display_name": "Python 3"
    },
    "accelerator": "GPU"
  },
  "cells": [
    {
      "cell_type": "code",
      "metadata": {
        "id": "_9wCL3wtE0Lm",
        "colab_type": "code",
        "colab": {
          "base_uri": "https://localhost:8080/",
          "height": 122
        },
        "outputId": "261329ca-aa76-4bcc-839d-729e3618e9ef"
      },
      "source": [
        "!pip install -U tensorflow_hub==0.6.0"
      ],
      "execution_count": 1,
      "outputs": [
        {
          "output_type": "stream",
          "text": [
            "Requirement already up-to-date: tensorflow_hub==0.6.0 in /usr/local/lib/python3.6/dist-packages (0.6.0)\n",
            "Requirement already satisfied, skipping upgrade: six>=1.10.0 in /usr/local/lib/python3.6/dist-packages (from tensorflow_hub==0.6.0) (1.12.0)\n",
            "Requirement already satisfied, skipping upgrade: numpy>=1.12.0 in /usr/local/lib/python3.6/dist-packages (from tensorflow_hub==0.6.0) (1.16.4)\n",
            "Requirement already satisfied, skipping upgrade: protobuf>=3.4.0 in /usr/local/lib/python3.6/dist-packages (from tensorflow_hub==0.6.0) (3.7.1)\n",
            "Requirement already satisfied, skipping upgrade: setuptools in /usr/local/lib/python3.6/dist-packages (from protobuf>=3.4.0->tensorflow_hub==0.6.0) (41.2.0)\n"
          ],
          "name": "stdout"
        }
      ]
    },
    {
      "cell_type": "code",
      "metadata": {
        "id": "Qr1oAQn36xNq",
        "colab_type": "code",
        "colab": {
          "base_uri": "https://localhost:8080/",
          "height": 102
        },
        "outputId": "d5418953-2715-4ad1-e514-e0c8155e5eb6"
      },
      "source": [
        "from __future__ import absolute_import, division, print_function, unicode_literals\n",
        "\n",
        "import numpy as np\n",
        "\n",
        "try:\n",
        "    # %tensorflow_version only exists in Colab.\n",
        "    %tensorflow_version 2.x\n",
        "except Exception:\n",
        "    pass\n",
        "\n",
        "import tensorflow as tf\n",
        "\n",
        "import tensorflow_hub as hub\n",
        "import tensorflow_datasets as tfds\n",
        "\n",
        "print('Version: ', tf.__version__)\n",
        "print('Eager mode: ', tf.executing_eagerly())\n",
        "print('Hub version: ', hub.__version__)\n",
        "print('GPU is ', 'available' if tf.test.is_gpu_available() else 'not available')"
      ],
      "execution_count": 2,
      "outputs": [
        {
          "output_type": "stream",
          "text": [
            "TensorFlow 2.x selected.\n",
            "Version:  2.0.0-rc0\n",
            "Eager mode:  True\n",
            "Hub version:  0.6.0\n",
            "GPU is  available\n"
          ],
          "name": "stdout"
        }
      ]
    },
    {
      "cell_type": "code",
      "metadata": {
        "id": "mPVeW_a175bA",
        "colab_type": "code",
        "colab": {}
      },
      "source": [
        "# Download the IMDB dataset\n",
        "\n",
        "# Split the training st int 60% and 40%.\n",
        "# So we'll end up with 15,000 examples for training,\n",
        "# 10,000 example for validation and 25,000 example for testing\n",
        "\n",
        "train_validation_split = tfds.Split.TRAIN.subsplit([6, 4])\n",
        "(train_data, validation_data), test_data = tfds.load(\n",
        "        name='imdb_reviews',\n",
        "        split=(train_validation_split, tfds.Split.TEST),\n",
        "        as_supervised=True)"
      ],
      "execution_count": 0,
      "outputs": []
    },
    {
      "cell_type": "code",
      "metadata": {
        "id": "4DKzfmlI8tKp",
        "colab_type": "code",
        "colab": {
          "base_uri": "https://localhost:8080/",
          "height": 241
        },
        "outputId": "2223a8e1-4df2-4011-e8ba-a9d2261a518b"
      },
      "source": [
        "# Explore the data\n",
        "train_examples_batch, train_labels_batch = next(iter(train_data.batch(10)))\n",
        "train_examples_batch"
      ],
      "execution_count": 14,
      "outputs": [
        {
          "output_type": "execute_result",
          "data": {
            "text/plain": [
              "<tf.Tensor: id=437, shape=(10,), dtype=string, numpy=\n",
              "array([b\"As a lifelong fan of Dickens, I have invariably been disappointed by adaptations of his novels.<br /><br />Although his works presented an extremely accurate re-telling of human life at every level in Victorian Britain, throughout them all was a pervasive thread of humour that could be both playful or sarcastic as the narrative dictated. In a way, he was a literary caricaturist and cartoonist. He could be serious and hilarious in the same sentence. He pricked pride, lampooned arrogance, celebrated modesty, and empathised with loneliness and poverty. It may be a clich\\xc3\\xa9, but he was a people's writer.<br /><br />And it is the comedy that is so often missing from his interpretations. At the time of writing, Oliver Twist is being dramatised in serial form on BBC television. All of the misery and cruelty is their, but non of the humour, irony, and savage lampoonery. The result is just a dark, dismal experience: the story penned by a journalist rather than a novelist. It's not really Dickens at all.<br /><br />'Oliver!', on the other hand, is much closer to the mark. The mockery of officialdom is perfectly interpreted, from the blustering beadle to the drunken magistrate. The classic stand-off between the beadle and Mr Brownlow, in which the law is described as 'a ass, a idiot' couldn't have been better done. Harry Secombe is an ideal choice.<br /><br />But the blinding cruelty is also there, the callous indifference of the state, the cold, hunger, poverty and loneliness are all presented just as surely as The Master would have wished.<br /><br />And then there is crime. Ron Moody is a treasure as the sleazy Jewish fence, whilst Oliver Reid has Bill Sykes to perfection.<br /><br />Perhaps not surprisingly, Lionel Bart - himself a Jew from London's east-end - takes a liberty with Fagin by re-interpreting him as a much more benign fellow than was Dicken's original. In the novel, he was utterly ruthless, sending some of his own boys to the gallows in order to protect himself (though he was also caught and hanged). Whereas in the movie, he is presented as something of a wayward father-figure, a sort of charitable thief rather than a corrupter of children, the latter being a long-standing anti-semitic sentiment. Otherwise, very few liberties are taken with Dickens's original. All of the most memorable elements are included. Just enough menace and violence is retained to ensure narrative fidelity whilst at the same time allowing for children' sensibilities. Nancy is still beaten to death, Bullseye narrowly escapes drowning, and Bill Sykes gets a faithfully graphic come-uppance.<br /><br />Every song is excellent, though they do incline towards schmaltz. Mark Lester mimes his wonderfully. Both his and my favourite scene is the one in which the world comes alive to 'who will buy'. It's schmaltzy, but it's Dickens through and through.<br /><br />I could go on. I could commend the wonderful set-pieces, the contrast of the rich and poor. There is top-quality acting from more British regulars than you could shake a stick at.<br /><br />I ought to give it 10 points, but I'm feeling more like Scrooge today. Soak it up with your Christmas dinner. No original has been better realised.\",\n",
              "       b\"Oh yeah! Jenna Jameson did it again! Yeah Baby! This movie rocks. It was one of the 1st movies i saw of her. And i have to say i feel in love with her, she was great in this move.<br /><br />Her performance was outstanding and what i liked the most was the scenery and the wardrobe it was amazing you can tell that they put a lot into the movie the girls cloth were amazing.<br /><br />I hope this comment helps and u can buy the movie, the storyline is awesome is very unique and i'm sure u are going to like it. Jenna amazed us once more and no wonder the movie won so many awards. Her make-up and wardrobe is very very sexy and the girls on girls scene is amazing. specially the one where she looks like an angel. It's a must see and i hope u share my interests\",\n",
              "       b\"I saw this film on True Movies (which automatically made me sceptical) but actually - it was good. Why? Not because of the amazing plot twists or breathtaking dialogue (of which there is little) but because actually, despite what people say I thought the film was accurate in it's depiction of teenagers dealing with pregnancy.<br /><br />It's NOT Dawson's Creek, they're not graceful, cool witty characters who breeze through sexuality with effortless knowledge. They're kids and they act like kids would. <br /><br />They're blunt, awkward and annoyingly confused about everything. Yes, this could be by accident and they could just be bad actors but I don't think so. Dermot Mulroney gives (when not trying to be cool) a very believable performance and I loved him for it. Patricia Arquette IS whiny and annoying, but she was pregnant and a teenagers? The combination of the two isn't exactly lavender on your pillow. The plot was VERY predictable and but so what? I believed them, his stress and inability to cope - her brave, yet slightly misguided attempts to bring them closer together. I think the characters, acted by anyone else, WOULD indeed have been annoying and unbelievable but they weren't. It reflects the surreality of the situation they're in, that he's sitting in class and she walks on campus with the baby. I felt angry at her for that, I felt angry at him for being such a child and for blaming her. I felt it all.<br /><br />In the end, I loved it and would recommend it.<br /><br />Watch out for the scene where Dermot Mulroney runs from the disastrous counselling session - career performance.\",\n",
              "       b'This was a wonderfully clever and entertaining movie that I shall never tire of watching many, many times. The casting was magnificent in matching up the young with the older characters. There are those of us out here who really do appreciate good actors and an intelligent story format. As for Judi Dench, she is beautiful and a gift to any kind of production in which she stars. I always make a point to see Judi Dench in all her performances. She is a superb actress and a pleasure to watch as each transformation of her character comes to life. I can only be grateful when I see such an outstanding picture for most of the motion pictures made more recently lack good characters, good scripts and good acting. The movie public needs heroes, not deviant manikins, who lack ingenuity and talent. How wonderful to see old favorites like Leslie Caron, Olympia Dukakis and Cleo Laine. I would like to see this movie win the awards it deserves. Thank you again for a tremendous night of entertainment. I congratulate the writer, director, producer, and all those who did such a fine job.',\n",
              "       b'I have no idea what the other reviewer is talking about- this was a wonderful movie, and created a sense of the era that feels like time travel. The characters are truly young, Mary is a strong match for Byron, Claire is juvenile and a tad annoying, Polidori is a convincing beaten-down sycophant... all are beautiful, curious, and decadent... not the frightening wrecks they are in Gothic.<br /><br />Gothic works as an independent piece of shock film, and I loved it for different reasons, but this works like a Merchant and Ivory film, and was from my readings the best capture of what the summer must have felt like. Romantic, yes, but completely rekindles my interest in the lives of Shelley and Byron every time I think about the film. One of my all-time favorites.',\n",
              "       b\"This was soul-provoking! I am an Iranian, and living in th 21st century, I didn't know that such big tribes have been living in such conditions at the time of my grandfather!<br /><br />You see that today, or even in 1925, on one side of the world a lady or a baby could have everything served for him or her clean and on-demand, but here 80 years ago, people ventured their life to go to somewhere with more grass. It's really interesting that these Persians bear those difficulties to find pasture for their sheep, but they lose many the sheep on their way.<br /><br />I praise the Americans who accompanied this tribe, they were as tough as Bakhtiari people.\",\n",
              "       b'Just because someone is under the age of 10 does not mean they are stupid. If your child likes this film you\\'d better have him/her tested. I am continually amazed at how so many people can be involved in something that turns out so bad. This \"film\" is a showcase for digital wizardry AND NOTHING ELSE. The writing is horrid. I can\\'t remember when I\\'ve heard such bad dialogue. The songs are beyond wretched. The acting is sub-par but then the actors were not given much. Who decided to employ Joey Fatone? He cannot sing and he is ugly as sin.<br /><br />The worst thing is the obviousness of it all. It is as if the writers went out of their way to make it all as stupid as possible. Great children\\'s movies are wicked, smart and full of wit - films like Shrek and Toy Story in recent years, Willie Wonka and The Witches to mention two of the past. But in the continual dumbing-down of American more are flocking to dreck like Finding Nemo (yes, that\\'s right), the recent Charlie & The Chocolate Factory and eye-crossing trash like Red Riding Hood.',\n",
              "       b\"I absolutely LOVED this movie when I was a kid. I cried every time I watched it. It wasn't weird to me. I totally identified with the characters. I would love to see it again (and hope I wont be disappointed!). Pufnstuf rocks!!!! I was really drawn in to the fantasy world. And to me the movie was loooong. I wonder if I ever saw the series and have confused them? The acting I thought was strong. I loved Jack Wilde. He was so dreamy to an 10 year old (when I first saw the movie, not in 1970. I can still remember the characters vividly. The flute was totally believable and I can still 'feel' the evil woods. Witchy poo was scary - I wouldn't want to cross her path.\",\n",
              "       b'A very close and sharp discription of the bubbling and dynamic emotional world of specialy one 18year old guy, that makes his first experiences in his gay love to an other boy, during an vacation with a part of his family.<br /><br />I liked this film because of his extremly clear and surrogated storytelling , with all this \"Sound-close-ups\" and quiet moments wich had been full of intensive moods.<br /><br />',\n",
              "       b\"This is the most depressing film I have ever seen. I first saw it as a child and even thinking about it now really upsets me. I know it was set in a time when life was hard and I know these people were poor and the crops were vital. Yes, I get all that. What I find hard to take is I can't remember one single light moment in the entire film. Maybe it was true to life, I don't know. I'm quite sure the acting was top notch and the direction and quality of filming etc etc was wonderful and I know that every film can't have a happy ending but as a family film it is dire in my opinion.<br /><br />I wouldn't recommend it to anyone who wants to be entertained by a film. I can't stress enough how this film affected me as a child. I was talking about it recently and all the sad memories came flooding back. I think it would have all but the heartless reaching for the Prozac.\"],\n",
              "      dtype=object)>"
            ]
          },
          "metadata": {
            "tags": []
          },
          "execution_count": 14
        }
      ]
    },
    {
      "cell_type": "code",
      "metadata": {
        "id": "xRB4NzoQ9PAK",
        "colab_type": "code",
        "colab": {
          "base_uri": "https://localhost:8080/",
          "height": 34
        },
        "outputId": "3c3b1bb6-f634-4abc-f226-ebf7f3de954f"
      },
      "source": [
        "type(train_data.batch(10))"
      ],
      "execution_count": 15,
      "outputs": [
        {
          "output_type": "execute_result",
          "data": {
            "text/plain": [
              "tensorflow.python.data.ops.dataset_ops.BatchDataset"
            ]
          },
          "metadata": {
            "tags": []
          },
          "execution_count": 15
        }
      ]
    },
    {
      "cell_type": "code",
      "metadata": {
        "id": "9abw_7xB9VnL",
        "colab_type": "code",
        "colab": {
          "base_uri": "https://localhost:8080/",
          "height": 34
        },
        "outputId": "13f135ec-57ed-4e45-c363-e2992daee68c"
      },
      "source": [
        "type(iter(train_data.batch(10)))"
      ],
      "execution_count": 16,
      "outputs": [
        {
          "output_type": "execute_result",
          "data": {
            "text/plain": [
              "tensorflow.python.data.ops.iterator_ops.IteratorV2"
            ]
          },
          "metadata": {
            "tags": []
          },
          "execution_count": 16
        }
      ]
    },
    {
      "cell_type": "code",
      "metadata": {
        "id": "HkpYBKbD9Y-6",
        "colab_type": "code",
        "colab": {
          "base_uri": "https://localhost:8080/",
          "height": 34
        },
        "outputId": "012c445b-47c6-4e90-ec1d-c7f0bb0b1ae9"
      },
      "source": [
        "type(next(iter(train_data.batch(10))))"
      ],
      "execution_count": 17,
      "outputs": [
        {
          "output_type": "execute_result",
          "data": {
            "text/plain": [
              "tuple"
            ]
          },
          "metadata": {
            "tags": []
          },
          "execution_count": 17
        }
      ]
    },
    {
      "cell_type": "code",
      "metadata": {
        "id": "gLMkWnG89fRD",
        "colab_type": "code",
        "colab": {
          "base_uri": "https://localhost:8080/",
          "height": 34
        },
        "outputId": "371a2df2-c841-4ade-f6cf-fc5024831432"
      },
      "source": [
        "type(next(iter(train_data.batch(10)))[0])"
      ],
      "execution_count": 18,
      "outputs": [
        {
          "output_type": "execute_result",
          "data": {
            "text/plain": [
              "tensorflow.python.framework.ops.EagerTensor"
            ]
          },
          "metadata": {
            "tags": []
          },
          "execution_count": 18
        }
      ]
    },
    {
      "cell_type": "code",
      "metadata": {
        "id": "3jbvMphL9k0y",
        "colab_type": "code",
        "colab": {
          "base_uri": "https://localhost:8080/",
          "height": 54
        },
        "outputId": "725c80cb-4cc5-4b55-937c-ce0eaa2ac995"
      },
      "source": [
        "train_labels_batch"
      ],
      "execution_count": 19,
      "outputs": [
        {
          "output_type": "execute_result",
          "data": {
            "text/plain": [
              "<tf.Tensor: id=438, shape=(10,), dtype=int64, numpy=array([1, 1, 1, 1, 1, 1, 0, 1, 1, 0])>"
            ]
          },
          "metadata": {
            "tags": []
          },
          "execution_count": 19
        }
      ]
    },
    {
      "cell_type": "code",
      "metadata": {
        "id": "bd54uGQB9qds",
        "colab_type": "code",
        "colab": {
          "base_uri": "https://localhost:8080/",
          "height": 34
        },
        "outputId": "009e0f5d-8b74-4445-9eda-7110847ab180"
      },
      "source": [
        "train_examples_batch.shape"
      ],
      "execution_count": 20,
      "outputs": [
        {
          "output_type": "execute_result",
          "data": {
            "text/plain": [
              "TensorShape([10])"
            ]
          },
          "metadata": {
            "tags": []
          },
          "execution_count": 20
        }
      ]
    },
    {
      "cell_type": "code",
      "metadata": {
        "id": "RxumXDjm_Jfz",
        "colab_type": "code",
        "colab": {
          "base_uri": "https://localhost:8080/",
          "height": 241
        },
        "outputId": "f64338a1-da32-47e9-ebea-f644a4c072ce"
      },
      "source": [
        "train_examples_batch"
      ],
      "execution_count": 22,
      "outputs": [
        {
          "output_type": "execute_result",
          "data": {
            "text/plain": [
              "<tf.Tensor: id=437, shape=(10,), dtype=string, numpy=\n",
              "array([b\"As a lifelong fan of Dickens, I have invariably been disappointed by adaptations of his novels.<br /><br />Although his works presented an extremely accurate re-telling of human life at every level in Victorian Britain, throughout them all was a pervasive thread of humour that could be both playful or sarcastic as the narrative dictated. In a way, he was a literary caricaturist and cartoonist. He could be serious and hilarious in the same sentence. He pricked pride, lampooned arrogance, celebrated modesty, and empathised with loneliness and poverty. It may be a clich\\xc3\\xa9, but he was a people's writer.<br /><br />And it is the comedy that is so often missing from his interpretations. At the time of writing, Oliver Twist is being dramatised in serial form on BBC television. All of the misery and cruelty is their, but non of the humour, irony, and savage lampoonery. The result is just a dark, dismal experience: the story penned by a journalist rather than a novelist. It's not really Dickens at all.<br /><br />'Oliver!', on the other hand, is much closer to the mark. The mockery of officialdom is perfectly interpreted, from the blustering beadle to the drunken magistrate. The classic stand-off between the beadle and Mr Brownlow, in which the law is described as 'a ass, a idiot' couldn't have been better done. Harry Secombe is an ideal choice.<br /><br />But the blinding cruelty is also there, the callous indifference of the state, the cold, hunger, poverty and loneliness are all presented just as surely as The Master would have wished.<br /><br />And then there is crime. Ron Moody is a treasure as the sleazy Jewish fence, whilst Oliver Reid has Bill Sykes to perfection.<br /><br />Perhaps not surprisingly, Lionel Bart - himself a Jew from London's east-end - takes a liberty with Fagin by re-interpreting him as a much more benign fellow than was Dicken's original. In the novel, he was utterly ruthless, sending some of his own boys to the gallows in order to protect himself (though he was also caught and hanged). Whereas in the movie, he is presented as something of a wayward father-figure, a sort of charitable thief rather than a corrupter of children, the latter being a long-standing anti-semitic sentiment. Otherwise, very few liberties are taken with Dickens's original. All of the most memorable elements are included. Just enough menace and violence is retained to ensure narrative fidelity whilst at the same time allowing for children' sensibilities. Nancy is still beaten to death, Bullseye narrowly escapes drowning, and Bill Sykes gets a faithfully graphic come-uppance.<br /><br />Every song is excellent, though they do incline towards schmaltz. Mark Lester mimes his wonderfully. Both his and my favourite scene is the one in which the world comes alive to 'who will buy'. It's schmaltzy, but it's Dickens through and through.<br /><br />I could go on. I could commend the wonderful set-pieces, the contrast of the rich and poor. There is top-quality acting from more British regulars than you could shake a stick at.<br /><br />I ought to give it 10 points, but I'm feeling more like Scrooge today. Soak it up with your Christmas dinner. No original has been better realised.\",\n",
              "       b\"Oh yeah! Jenna Jameson did it again! Yeah Baby! This movie rocks. It was one of the 1st movies i saw of her. And i have to say i feel in love with her, she was great in this move.<br /><br />Her performance was outstanding and what i liked the most was the scenery and the wardrobe it was amazing you can tell that they put a lot into the movie the girls cloth were amazing.<br /><br />I hope this comment helps and u can buy the movie, the storyline is awesome is very unique and i'm sure u are going to like it. Jenna amazed us once more and no wonder the movie won so many awards. Her make-up and wardrobe is very very sexy and the girls on girls scene is amazing. specially the one where she looks like an angel. It's a must see and i hope u share my interests\",\n",
              "       b\"I saw this film on True Movies (which automatically made me sceptical) but actually - it was good. Why? Not because of the amazing plot twists or breathtaking dialogue (of which there is little) but because actually, despite what people say I thought the film was accurate in it's depiction of teenagers dealing with pregnancy.<br /><br />It's NOT Dawson's Creek, they're not graceful, cool witty characters who breeze through sexuality with effortless knowledge. They're kids and they act like kids would. <br /><br />They're blunt, awkward and annoyingly confused about everything. Yes, this could be by accident and they could just be bad actors but I don't think so. Dermot Mulroney gives (when not trying to be cool) a very believable performance and I loved him for it. Patricia Arquette IS whiny and annoying, but she was pregnant and a teenagers? The combination of the two isn't exactly lavender on your pillow. The plot was VERY predictable and but so what? I believed them, his stress and inability to cope - her brave, yet slightly misguided attempts to bring them closer together. I think the characters, acted by anyone else, WOULD indeed have been annoying and unbelievable but they weren't. It reflects the surreality of the situation they're in, that he's sitting in class and she walks on campus with the baby. I felt angry at her for that, I felt angry at him for being such a child and for blaming her. I felt it all.<br /><br />In the end, I loved it and would recommend it.<br /><br />Watch out for the scene where Dermot Mulroney runs from the disastrous counselling session - career performance.\",\n",
              "       b'This was a wonderfully clever and entertaining movie that I shall never tire of watching many, many times. The casting was magnificent in matching up the young with the older characters. There are those of us out here who really do appreciate good actors and an intelligent story format. As for Judi Dench, she is beautiful and a gift to any kind of production in which she stars. I always make a point to see Judi Dench in all her performances. She is a superb actress and a pleasure to watch as each transformation of her character comes to life. I can only be grateful when I see such an outstanding picture for most of the motion pictures made more recently lack good characters, good scripts and good acting. The movie public needs heroes, not deviant manikins, who lack ingenuity and talent. How wonderful to see old favorites like Leslie Caron, Olympia Dukakis and Cleo Laine. I would like to see this movie win the awards it deserves. Thank you again for a tremendous night of entertainment. I congratulate the writer, director, producer, and all those who did such a fine job.',\n",
              "       b'I have no idea what the other reviewer is talking about- this was a wonderful movie, and created a sense of the era that feels like time travel. The characters are truly young, Mary is a strong match for Byron, Claire is juvenile and a tad annoying, Polidori is a convincing beaten-down sycophant... all are beautiful, curious, and decadent... not the frightening wrecks they are in Gothic.<br /><br />Gothic works as an independent piece of shock film, and I loved it for different reasons, but this works like a Merchant and Ivory film, and was from my readings the best capture of what the summer must have felt like. Romantic, yes, but completely rekindles my interest in the lives of Shelley and Byron every time I think about the film. One of my all-time favorites.',\n",
              "       b\"This was soul-provoking! I am an Iranian, and living in th 21st century, I didn't know that such big tribes have been living in such conditions at the time of my grandfather!<br /><br />You see that today, or even in 1925, on one side of the world a lady or a baby could have everything served for him or her clean and on-demand, but here 80 years ago, people ventured their life to go to somewhere with more grass. It's really interesting that these Persians bear those difficulties to find pasture for their sheep, but they lose many the sheep on their way.<br /><br />I praise the Americans who accompanied this tribe, they were as tough as Bakhtiari people.\",\n",
              "       b'Just because someone is under the age of 10 does not mean they are stupid. If your child likes this film you\\'d better have him/her tested. I am continually amazed at how so many people can be involved in something that turns out so bad. This \"film\" is a showcase for digital wizardry AND NOTHING ELSE. The writing is horrid. I can\\'t remember when I\\'ve heard such bad dialogue. The songs are beyond wretched. The acting is sub-par but then the actors were not given much. Who decided to employ Joey Fatone? He cannot sing and he is ugly as sin.<br /><br />The worst thing is the obviousness of it all. It is as if the writers went out of their way to make it all as stupid as possible. Great children\\'s movies are wicked, smart and full of wit - films like Shrek and Toy Story in recent years, Willie Wonka and The Witches to mention two of the past. But in the continual dumbing-down of American more are flocking to dreck like Finding Nemo (yes, that\\'s right), the recent Charlie & The Chocolate Factory and eye-crossing trash like Red Riding Hood.',\n",
              "       b\"I absolutely LOVED this movie when I was a kid. I cried every time I watched it. It wasn't weird to me. I totally identified with the characters. I would love to see it again (and hope I wont be disappointed!). Pufnstuf rocks!!!! I was really drawn in to the fantasy world. And to me the movie was loooong. I wonder if I ever saw the series and have confused them? The acting I thought was strong. I loved Jack Wilde. He was so dreamy to an 10 year old (when I first saw the movie, not in 1970. I can still remember the characters vividly. The flute was totally believable and I can still 'feel' the evil woods. Witchy poo was scary - I wouldn't want to cross her path.\",\n",
              "       b'A very close and sharp discription of the bubbling and dynamic emotional world of specialy one 18year old guy, that makes his first experiences in his gay love to an other boy, during an vacation with a part of his family.<br /><br />I liked this film because of his extremly clear and surrogated storytelling , with all this \"Sound-close-ups\" and quiet moments wich had been full of intensive moods.<br /><br />',\n",
              "       b\"This is the most depressing film I have ever seen. I first saw it as a child and even thinking about it now really upsets me. I know it was set in a time when life was hard and I know these people were poor and the crops were vital. Yes, I get all that. What I find hard to take is I can't remember one single light moment in the entire film. Maybe it was true to life, I don't know. I'm quite sure the acting was top notch and the direction and quality of filming etc etc was wonderful and I know that every film can't have a happy ending but as a family film it is dire in my opinion.<br /><br />I wouldn't recommend it to anyone who wants to be entertained by a film. I can't stress enough how this film affected me as a child. I was talking about it recently and all the sad memories came flooding back. I think it would have all but the heartless reaching for the Prozac.\"],\n",
              "      dtype=object)>"
            ]
          },
          "metadata": {
            "tags": []
          },
          "execution_count": 22
        }
      ]
    },
    {
      "cell_type": "code",
      "metadata": {
        "id": "4k_F4v0C_MZc",
        "colab_type": "code",
        "colab": {}
      },
      "source": [
        "# Build the model\n",
        "# Decisions\n",
        "# - How to represent the text?\n",
        "# - How many layers to use in the model?\n",
        "# - How many hidden units to use for each layer?\n",
        "\n",
        "# Thiscase, input data consists of sentences\n",
        "# convert sentences into embeddings vectors.\n",
        "# We use pre-trained thext embedding as the first layer.\n",
        "# Advantages\n",
        "# - No worry about text preprocessing\n",
        "# - benefit tranfer learning\n",
        "# - embedding has a fixed size, simpler to process\n",
        "\n",
        "# we use pre-trained text embedding model from tensorflow hub"
      ],
      "execution_count": 0,
      "outputs": []
    },
    {
      "cell_type": "code",
      "metadata": {
        "id": "dY2Z5sydBd99",
        "colab_type": "code",
        "colab": {
          "base_uri": "https://localhost:8080/",
          "height": 1000
        },
        "outputId": "fee36b6c-3257-4e08-fe15-0d4c27215381"
      },
      "source": [
        "# Create Keras layer that uses a TensorFlow Hub model\n",
        "# to embed the sentences, and try it out on a couple of input example\n",
        "# Note: no matter the length of the input text,\n",
        "# the output shape of the embedding is (num_examples, embedding_dimension)\n",
        "\n",
        "\n",
        "module_url = \"https://tfhub.dev/google/tf2-preview/nnlm-en-dim128/1\"\n",
        "embed = hub.KerasLayer(module_url,\n",
        "                       input_shape=[],\n",
        "                       dtype=tf.string,\n",
        "                       trainable=True)\n",
        "\n",
        "embed(train_examples_batch[:3])"
      ],
      "execution_count": 27,
      "outputs": [
        {
          "output_type": "execute_result",
          "data": {
            "text/plain": [
              "<tf.Tensor: id=847, shape=(3, 128), dtype=float32, numpy=\n",
              "array([[ 1.78428471e+00, -2.29856372e-01,  2.45664164e-01,\n",
              "         6.84022367e-01, -1.29306912e-01, -1.57380581e-01,\n",
              "        -1.81604568e-02, -3.73616189e-01, -1.86627433e-01,\n",
              "         2.31135096e-02,  2.92425722e-01, -4.98053074e-01,\n",
              "        -4.21140671e-01, -4.68299031e-01, -3.36686820e-01,\n",
              "        -1.38489604e-01, -3.70901823e-01, -1.46785565e-02,\n",
              "        -4.20534164e-01,  1.43151474e+00,  1.00796312e-01,\n",
              "         4.05581176e-01, -8.53958651e-02, -1.26951560e-01,\n",
              "        -1.08419672e-01, -3.50219727e-01,  4.06883471e-02,\n",
              "        -1.95807740e-01, -1.16975710e-01, -5.78830671e-03,\n",
              "         9.03800651e-02, -9.08162072e-02, -8.68640095e-03,\n",
              "        -1.64070018e-02,  3.24384898e-01, -9.46734697e-02,\n",
              "        -1.63240522e-01, -4.01422143e-01, -4.99349594e-01,\n",
              "         5.78139901e-01, -1.41224876e-01,  3.35231982e-02,\n",
              "        -1.43409833e-01, -1.45958960e-01,  4.64950085e-01,\n",
              "         1.25476301e-01, -1.26240194e-01, -5.81108630e-01,\n",
              "        -5.68617225e-01, -5.33109382e-02,  2.97224056e-02,\n",
              "         1.00028977e-01, -1.60998523e-01,  2.78676033e-01,\n",
              "        -1.76197901e-01, -2.32604537e-02, -1.47374213e-01,\n",
              "        -5.20218499e-02,  9.96384025e-02,  6.47222772e-02,\n",
              "        -4.91372377e-01,  3.49302627e-02,  1.87412929e-02,\n",
              "         2.98345014e-02, -2.20482782e-01, -2.13831589e-01,\n",
              "         1.05455786e-01, -4.06834513e-01,  6.51271582e-01,\n",
              "        -1.12025172e-01, -2.76525766e-01, -8.08413476e-02,\n",
              "         1.85290918e-01, -7.35902339e-02,  3.13230962e-01,\n",
              "         1.84464771e-02, -3.28652471e-01, -7.28982031e-01,\n",
              "        -3.19961131e-01,  2.43486501e-02, -3.96270305e-03,\n",
              "         6.56180317e-03, -1.93619296e-01,  3.44549507e-01,\n",
              "         2.33096201e-02, -1.55579627e-01, -2.46930793e-01,\n",
              "         4.06324655e-01,  1.14332628e+00,  5.60559630e-01,\n",
              "        -4.04113442e-01,  2.57205725e-01, -5.26988646e-03,\n",
              "        -1.69108644e-01, -3.21004614e-02,  3.32291275e-01,\n",
              "         4.83787149e-01, -3.66387784e-01,  3.94804657e-01,\n",
              "         1.54971182e-01,  6.13933839e-02,  1.33159012e-01,\n",
              "         4.30076659e-01,  1.56716734e-01,  1.66296318e-01,\n",
              "        -4.16305691e-01, -5.90783991e-02, -2.07260311e-01,\n",
              "        -1.10032596e-01,  3.96584749e-01, -3.84907544e-01,\n",
              "        -8.79604667e-02, -3.82759959e-01, -1.19376823e-01,\n",
              "         3.70710194e-02, -3.28562647e-01, -1.41198725e-01,\n",
              "         5.35498150e-02,  3.75826843e-02, -3.43399823e-01,\n",
              "         3.75654191e-01, -1.14998557e-01,  1.04310960e-01,\n",
              "        -2.80546308e-01, -2.37718761e-01, -1.67245820e-01,\n",
              "        -1.72836930e-01,  5.21890866e-03],\n",
              "       [ 1.30639291e+00,  2.15636358e-01,  2.52553046e-01,\n",
              "         4.01333451e-01,  9.52525586e-02, -1.09099500e-01,\n",
              "        -1.43316001e-01, -4.25139904e-01, -5.71292685e-03,\n",
              "         1.26360551e-01, -8.78590941e-02, -5.82695782e-01,\n",
              "        -2.54987031e-01, -4.87138778e-01,  2.43245140e-02,\n",
              "         5.69896474e-02, -1.91450566e-01,  3.46337482e-02,\n",
              "        -2.53022373e-01,  8.29160392e-01,  6.58662543e-02,\n",
              "         1.87078957e-02, -2.01614983e-02,  5.53126931e-02,\n",
              "         6.93975240e-02, -2.56403774e-01,  3.20100635e-02,\n",
              "         1.14387184e-01, -1.89641535e-01, -4.70035709e-03,\n",
              "         3.98679860e-02,  7.46696591e-02,  1.31672204e-01,\n",
              "        -2.00103149e-01,  2.21274704e-01, -1.84033185e-01,\n",
              "        -1.88413993e-01, -3.33086610e-01, -3.48428939e-03,\n",
              "         3.83181006e-01, -2.18540385e-01, -1.55606627e-01,\n",
              "        -1.03692524e-01, -3.15814167e-01,  1.07913852e-01,\n",
              "         2.10492257e-02,  1.53989002e-01, -3.53854030e-01,\n",
              "        -3.64826322e-01,  1.70870632e-01,  1.90590741e-03,\n",
              "         1.47076905e-01, -2.22304389e-01,  3.56248796e-01,\n",
              "        -1.59197852e-01, -1.81367189e-01,  1.18759563e-02,\n",
              "        -4.72647876e-01,  1.20462544e-01, -4.38478366e-02,\n",
              "        -2.65062869e-01,  2.08834812e-01,  2.06130862e-01,\n",
              "        -1.86277494e-01, -9.57461447e-02, -4.67533320e-02,\n",
              "        -9.97028276e-02, -2.00832978e-01,  5.66722415e-02,\n",
              "         1.43305557e-02, -2.48545960e-01,  3.10762167e-01,\n",
              "        -1.37933586e-02, -2.56930649e-01,  2.31898770e-01,\n",
              "         7.28177791e-03, -1.47090435e-01, -3.02145392e-01,\n",
              "        -1.89603359e-01,  1.73907578e-01,  1.55956924e-01,\n",
              "         3.57858241e-01, -1.16488077e-01,  1.29601181e-01,\n",
              "        -1.17499188e-01,  6.07273020e-02, -1.74610674e-01,\n",
              "         1.84390292e-01,  8.38793039e-01,  5.49193621e-01,\n",
              "        -1.70267850e-01, -1.30108763e-02, -1.40257729e-02,\n",
              "        -2.54327834e-01,  1.65046409e-01,  2.57099599e-01,\n",
              "         4.91678417e-02, -1.47339821e-01,  2.34244883e-01,\n",
              "         3.36893462e-02, -1.35930657e-01,  8.43299553e-02,\n",
              "         4.62202460e-01,  4.65510339e-02,  6.55746683e-02,\n",
              "        -2.44876906e-01, -1.42890677e-01,  1.52091965e-01,\n",
              "        -3.24811727e-01, -7.05739111e-02, -3.38235945e-01,\n",
              "        -1.01245813e-01, -2.54045278e-01,  8.78512934e-02,\n",
              "        -1.30380228e-01, -1.10611528e-01,  7.68609941e-02,\n",
              "        -2.31346980e-01, -1.63705811e-01,  7.32901916e-02,\n",
              "         3.50779325e-01,  3.46865654e-02, -4.91997935e-02,\n",
              "        -3.90166976e-02, -6.20853268e-02, -1.66505650e-01,\n",
              "        -1.50311157e-01, -6.22885302e-02],\n",
              "       [ 1.39009035e+00, -1.24233151e-02,  1.73032716e-01,\n",
              "         3.64218950e-01,  1.89581942e-02, -2.15706185e-01,\n",
              "         7.70966411e-02, -3.49602014e-01, -8.02621394e-02,\n",
              "         9.80438516e-02, -2.16433983e-02, -5.27792513e-01,\n",
              "        -1.97200626e-01, -4.21411365e-01, -5.54882810e-02,\n",
              "        -1.59532800e-02, -1.38655514e-01, -1.96738001e-02,\n",
              "        -4.23032194e-01,  5.44362426e-01,  1.99000970e-01,\n",
              "         2.79182345e-01, -1.01618990e-01,  9.24108475e-02,\n",
              "        -2.05378518e-01, -1.79526389e-01,  1.53249592e-01,\n",
              "        -4.34277952e-02, -1.84333906e-01, -4.69680838e-02,\n",
              "        -2.69717760e-02,  2.41767943e-01,  2.30204105e-01,\n",
              "         3.03893704e-02,  4.27609652e-01, -4.40914780e-01,\n",
              "         1.77532792e-01, -3.99750382e-01, -4.83735465e-03,\n",
              "         3.63901556e-01, -1.17796920e-01, -3.69470604e-02,\n",
              "        -5.21520153e-02, -3.72650713e-01,  2.79728025e-01,\n",
              "         3.27179283e-01,  1.36164829e-01, -3.51329863e-01,\n",
              "        -3.56583059e-01,  2.38827616e-01, -6.78285584e-02,\n",
              "         1.80842385e-01, -1.30795866e-01,  3.26653093e-01,\n",
              "        -2.16089264e-01, -5.00754297e-01, -1.58174396e-01,\n",
              "        -3.10846716e-01,  3.98884833e-01,  1.57299742e-01,\n",
              "        -3.44290942e-01,  1.72671407e-01,  9.93677825e-02,\n",
              "         7.75117753e-03, -3.61748412e-02, -6.24489114e-02,\n",
              "         1.39656842e-01, -2.04046547e-01,  2.34143004e-01,\n",
              "        -8.13180432e-02, -6.18128419e-01,  2.29767963e-01,\n",
              "         2.86733299e-01, -6.98159412e-02,  9.43954214e-02,\n",
              "         5.05475253e-02,  6.31560087e-02, -4.62375432e-01,\n",
              "        -1.49387240e-01,  1.03374600e-01,  1.67951763e-01,\n",
              "        -1.85189804e-03, -1.34206474e-01,  1.60805434e-01,\n",
              "        -8.10108334e-02, -1.75925761e-01, -3.82833570e-01,\n",
              "         3.30516040e-01,  9.70031202e-01,  3.50215077e-01,\n",
              "        -3.62795174e-01, -1.46536250e-03,  6.86896145e-02,\n",
              "        -6.58190846e-02,  1.25249788e-01,  4.28401738e-01,\n",
              "         3.89115632e-01, -1.15961380e-01,  8.66865441e-02,\n",
              "         1.44602433e-01,  3.74805671e-03,  2.28855550e-01,\n",
              "         4.82299000e-01,  3.60963717e-02,  2.19035491e-01,\n",
              "        -3.54896367e-01, -3.24590415e-01,  1.79979354e-01,\n",
              "        -3.16299736e-01,  2.34235004e-01, -6.06389999e-01,\n",
              "        -1.11702070e-01, -4.91185427e-01, -1.13211572e-01,\n",
              "        -1.51717603e-01, -4.44060177e-01, -3.83998044e-02,\n",
              "         6.53278008e-02,  1.29692182e-01,  3.22775543e-02,\n",
              "         3.60797763e-01,  1.44018922e-02,  9.22192261e-03,\n",
              "         5.41513711e-02, -5.92255704e-02, -4.15380269e-01,\n",
              "        -1.46114677e-01,  1.64895430e-01]], dtype=float32)>"
            ]
          },
          "metadata": {
            "tags": []
          },
          "execution_count": 27
        }
      ]
    },
    {
      "cell_type": "code",
      "metadata": {
        "id": "GN1IEWGnCAaU",
        "colab_type": "code",
        "colab": {}
      },
      "source": [
        "model = tf.keras.Sequential()\n",
        "model.add(embed)\n",
        "model.add(tf.keras.layers.Dense(16, activation='relu'))\n",
        "model.add(tf.keras.layers.Dense(1, activation='sigmoid'))"
      ],
      "execution_count": 0,
      "outputs": []
    },
    {
      "cell_type": "code",
      "metadata": {
        "id": "5oWjs1JICuJ5",
        "colab_type": "code",
        "colab": {
          "base_uri": "https://localhost:8080/",
          "height": 255
        },
        "outputId": "8adce3c5-8df8-44f6-9668-b372bef837a0"
      },
      "source": [
        "model.summary()"
      ],
      "execution_count": 29,
      "outputs": [
        {
          "output_type": "stream",
          "text": [
            "Model: \"sequential_1\"\n",
            "_________________________________________________________________\n",
            "Layer (type)                 Output Shape              Param #   \n",
            "=================================================================\n",
            "keras_layer_2 (KerasLayer)   (None, 128)               124642688 \n",
            "_________________________________________________________________\n",
            "dense_2 (Dense)              (None, 16)                2064      \n",
            "_________________________________________________________________\n",
            "dense_3 (Dense)              (None, 1)                 17        \n",
            "=================================================================\n",
            "Total params: 124,644,769\n",
            "Trainable params: 124,644,769\n",
            "Non-trainable params: 0\n",
            "_________________________________________________________________\n"
          ],
          "name": "stdout"
        }
      ]
    },
    {
      "cell_type": "code",
      "metadata": {
        "id": "swbJMWf-FH7B",
        "colab_type": "code",
        "colab": {}
      },
      "source": [
        "model.compile(optimizer='adam',\n",
        "              loss='binary_crossentropy',\n",
        "              metrics=['accuracy'])"
      ],
      "execution_count": 0,
      "outputs": []
    },
    {
      "cell_type": "code",
      "metadata": {
        "id": "C4wwvDe-Fyys",
        "colab_type": "code",
        "colab": {
          "base_uri": "https://localhost:8080/",
          "height": 819
        },
        "outputId": "40515fb6-56c3-4fe5-9225-261e8f1a0e3a"
      },
      "source": [
        "history = model.fit(train_data.shuffle(10000).batch(512),\n",
        "                    epochs=20,\n",
        "                    validation_data=validation_data.batch(512),\n",
        "                    verbose=1)"
      ],
      "execution_count": 32,
      "outputs": [
        {
          "output_type": "stream",
          "text": [
            "Epoch 1/20\n",
            "WARNING:tensorflow:From /tensorflow-2.0.0-rc0/python3.6/tensorflow_core/python/ops/nn_impl.py:183: where (from tensorflow.python.ops.array_ops) is deprecated and will be removed in a future version.\n",
            "Instructions for updating:\n",
            "Use tf.where in 2.0, which has the same broadcast rule as np.where\n"
          ],
          "name": "stdout"
        },
        {
          "output_type": "stream",
          "text": [
            "WARNING:tensorflow:From /tensorflow-2.0.0-rc0/python3.6/tensorflow_core/python/ops/nn_impl.py:183: where (from tensorflow.python.ops.array_ops) is deprecated and will be removed in a future version.\n",
            "Instructions for updating:\n",
            "Use tf.where in 2.0, which has the same broadcast rule as np.where\n"
          ],
          "name": "stderr"
        },
        {
          "output_type": "stream",
          "text": [
            "30/30 [==============================] - 12s 401ms/step - loss: 0.6452 - accuracy: 0.6851 - val_loss: 0.0000e+00 - val_accuracy: 0.0000e+00\n",
            "Epoch 2/20\n",
            "30/30 [==============================] - 10s 349ms/step - loss: 0.5158 - accuracy: 0.8213 - val_loss: 0.4292 - val_accuracy: 0.8368\n",
            "Epoch 3/20\n",
            "30/30 [==============================] - 10s 344ms/step - loss: 0.3364 - accuracy: 0.8883 - val_loss: 0.3322 - val_accuracy: 0.8672\n",
            "Epoch 4/20\n",
            "30/30 [==============================] - 10s 343ms/step - loss: 0.2222 - accuracy: 0.9313 - val_loss: 0.2972 - val_accuracy: 0.8769\n",
            "Epoch 5/20\n",
            "30/30 [==============================] - 10s 345ms/step - loss: 0.1452 - accuracy: 0.9586 - val_loss: 0.2868 - val_accuracy: 0.8798\n",
            "Epoch 6/20\n",
            "30/30 [==============================] - 10s 346ms/step - loss: 0.0976 - accuracy: 0.9785 - val_loss: 0.2892 - val_accuracy: 0.8792\n",
            "Epoch 7/20\n",
            "30/30 [==============================] - 10s 350ms/step - loss: 0.0630 - accuracy: 0.9902 - val_loss: 0.3006 - val_accuracy: 0.8777\n",
            "Epoch 8/20\n",
            "30/30 [==============================] - 10s 345ms/step - loss: 0.0409 - accuracy: 0.9956 - val_loss: 0.3150 - val_accuracy: 0.8758\n",
            "Epoch 9/20\n",
            "30/30 [==============================] - 10s 346ms/step - loss: 0.0273 - accuracy: 0.9984 - val_loss: 0.3310 - val_accuracy: 0.8763\n",
            "Epoch 10/20\n",
            "30/30 [==============================] - 10s 348ms/step - loss: 0.0190 - accuracy: 0.9993 - val_loss: 0.3486 - val_accuracy: 0.8737\n",
            "Epoch 11/20\n",
            "30/30 [==============================] - 10s 348ms/step - loss: 0.0131 - accuracy: 0.9998 - val_loss: 0.3613 - val_accuracy: 0.8735\n",
            "Epoch 12/20\n",
            "30/30 [==============================] - 11s 352ms/step - loss: 0.0102 - accuracy: 0.9999 - val_loss: 0.3751 - val_accuracy: 0.8715\n",
            "Epoch 13/20\n",
            "30/30 [==============================] - 10s 348ms/step - loss: 0.0073 - accuracy: 0.9999 - val_loss: 0.3890 - val_accuracy: 0.8715\n",
            "Epoch 14/20\n",
            "30/30 [==============================] - 10s 348ms/step - loss: 0.0062 - accuracy: 0.9999 - val_loss: 0.3985 - val_accuracy: 0.8702\n",
            "Epoch 15/20\n",
            "30/30 [==============================] - 10s 347ms/step - loss: 0.0050 - accuracy: 0.9999 - val_loss: 0.4097 - val_accuracy: 0.8703\n",
            "Epoch 16/20\n",
            "30/30 [==============================] - 10s 344ms/step - loss: 0.0039 - accuracy: 0.9999 - val_loss: 0.4193 - val_accuracy: 0.8705\n",
            "Epoch 17/20\n",
            "30/30 [==============================] - 10s 345ms/step - loss: 0.0035 - accuracy: 0.9999 - val_loss: 0.4299 - val_accuracy: 0.8695\n",
            "Epoch 18/20\n",
            "30/30 [==============================] - 11s 351ms/step - loss: 0.0029 - accuracy: 0.9999 - val_loss: 0.4378 - val_accuracy: 0.8692\n",
            "Epoch 19/20\n",
            "30/30 [==============================] - 10s 348ms/step - loss: 0.0024 - accuracy: 1.0000 - val_loss: 0.4460 - val_accuracy: 0.8694\n",
            "Epoch 20/20\n",
            "30/30 [==============================] - 10s 345ms/step - loss: 0.0020 - accuracy: 1.0000 - val_loss: 0.4546 - val_accuracy: 0.8690\n"
          ],
          "name": "stdout"
        }
      ]
    },
    {
      "cell_type": "code",
      "metadata": {
        "id": "yrzBZugxGVql",
        "colab_type": "code",
        "colab": {
          "base_uri": "https://localhost:8080/",
          "height": 51
        },
        "outputId": "d4530af1-7672-44e5-c84a-06e96672ecbb"
      },
      "source": [
        "# Evaluate model\n",
        "results = model.evaluate(test_data.batch(512), verbose=0)\n",
        "for name, value in zip(model.metrics_names, results):\n",
        "    print('%s: %.3f' % (name, value))"
      ],
      "execution_count": 34,
      "outputs": [
        {
          "output_type": "stream",
          "text": [
            "loss: 0.510\n",
            "accuracy: 0.851\n"
          ],
          "name": "stdout"
        }
      ]
    },
    {
      "cell_type": "code",
      "metadata": {
        "id": "9mD5mFIjHkXv",
        "colab_type": "code",
        "colab": {}
      },
      "source": [
        ""
      ],
      "execution_count": 0,
      "outputs": []
    }
  ]
}