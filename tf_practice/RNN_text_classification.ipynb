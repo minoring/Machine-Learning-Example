{
  "nbformat": 4,
  "nbformat_minor": 0,
  "metadata": {
    "colab": {
      "name": "RNN_text_classification.ipynb",
      "version": "0.3.2",
      "provenance": []
    },
    "kernelspec": {
      "name": "python3",
      "display_name": "Python 3"
    },
    "accelerator": "GPU"
  },
  "cells": [
    {
      "cell_type": "code",
      "metadata": {
        "id": "KQzBWY6L5vGB",
        "colab_type": "code",
        "colab": {}
      },
      "source": [
        "from __future__ import absolute_import, division, print_function, unicode_literals\n",
        "\n",
        "!pip install -q tensorflow-gpu==2.0.0-alpha0\n",
        "import tensorflow_datasets as tfds\n",
        "import tensorflow as tf"
      ],
      "execution_count": 0,
      "outputs": []
    },
    {
      "cell_type": "code",
      "metadata": {
        "id": "9wZcZoC86ieO",
        "colab_type": "code",
        "colab": {}
      },
      "source": [
        "import matplotlib.pyplot as plt\n",
        "\n",
        "\n",
        "def plot_graphs(history, string):\n",
        "    plt.plot(history.history[string])\n",
        "    plt.plot(history.history['val_'+string])\n",
        "    plt.xlabel(\"Epochs\")\n",
        "    plt.ylabel(string)\n",
        "    plt.legend([string, 'val_'+string])\n",
        "    plt.show()"
      ],
      "execution_count": 0,
      "outputs": []
    },
    {
      "cell_type": "code",
      "metadata": {
        "id": "H7vQHw557CU3",
        "colab_type": "code",
        "colab": {}
      },
      "source": [
        "dataset, info = tfds.load('imdb_reviews/subwords8k', with_info=True,\n",
        "                          as_supervised=True)\n",
        "train_dataset, test_dataset = dataset['train'], dataset['test']"
      ],
      "execution_count": 0,
      "outputs": []
    },
    {
      "cell_type": "code",
      "metadata": {
        "id": "-srPDGsT7S0y",
        "colab_type": "code",
        "colab": {}
      },
      "source": [
        "tokenizer = info.features['text'].encoder"
      ],
      "execution_count": 0,
      "outputs": []
    },
    {
      "cell_type": "code",
      "metadata": {
        "id": "Zb4UOHmR8aZz",
        "colab_type": "code",
        "colab": {
          "base_uri": "https://localhost:8080/",
          "height": 34
        },
        "outputId": "6b881da4-14da-4013-f62c-f76cb2bba115"
      },
      "source": [
        "print ('Vocabulary size: {}'.format(tokenizer.vocab_size))"
      ],
      "execution_count": 41,
      "outputs": [
        {
          "output_type": "stream",
          "text": [
            "Vocabulary size: 8185\n"
          ],
          "name": "stdout"
        }
      ]
    },
    {
      "cell_type": "code",
      "metadata": {
        "id": "i--TCGb68f81",
        "colab_type": "code",
        "colab": {
          "base_uri": "https://localhost:8080/",
          "height": 51
        },
        "outputId": "8151f193-9614-44fd-c3ad-11cb66558415"
      },
      "source": [
        "sample_string = 'TensorFlow is cool.'\n",
        "\n",
        "tokenized_string = tokenizer.encode(sample_string)\n",
        "print ('Tokenized string is {}'.format(tokenized_string))\n",
        "\n",
        "original_string = tokenizer.decode(tokenized_string)\n",
        "print ('The original string: {}'.format(original_string))\n",
        "\n",
        "assert original_string == sample_string"
      ],
      "execution_count": 42,
      "outputs": [
        {
          "output_type": "stream",
          "text": [
            "Tokenized string is [6307, 2327, 4043, 4265, 9, 2724, 7975]\n",
            "The original string: TensorFlow is cool.\n"
          ],
          "name": "stdout"
        }
      ]
    },
    {
      "cell_type": "code",
      "metadata": {
        "id": "KqAltP2X8w6e",
        "colab_type": "code",
        "colab": {
          "base_uri": "https://localhost:8080/",
          "height": 136
        },
        "outputId": "9464e824-8482-4615-9f1c-76a417006cff"
      },
      "source": [
        "for ts in tokenized_string:\n",
        "    print ('{} ----> {}'.format(ts, tokenizer.decode([ts])))"
      ],
      "execution_count": 43,
      "outputs": [
        {
          "output_type": "stream",
          "text": [
            "6307 ----> Ten\n",
            "2327 ----> sor\n",
            "4043 ----> Fl\n",
            "4265 ----> ow \n",
            "9 ----> is \n",
            "2724 ----> cool\n",
            "7975 ----> .\n"
          ],
          "name": "stdout"
        }
      ]
    },
    {
      "cell_type": "code",
      "metadata": {
        "id": "3NsO2C8c-i6m",
        "colab_type": "code",
        "colab": {}
      },
      "source": [
        "BUFFER_SIZE = 10000\n",
        "BATCH_SIZE = 64"
      ],
      "execution_count": 0,
      "outputs": []
    },
    {
      "cell_type": "code",
      "metadata": {
        "id": "udCmF1ot-piJ",
        "colab_type": "code",
        "colab": {}
      },
      "source": [
        "train_dataset = train_dataset.shuffle(BUFFER_SIZE)\n",
        "train_dataset = train_dataset.padded_batch(BATCH_SIZE, train_dataset.output_shapes)\n",
        "\n",
        "test_dataset = test_dataset.padded_batch(BATCH_SIZE, test_dataset.output_shapes)"
      ],
      "execution_count": 0,
      "outputs": []
    },
    {
      "cell_type": "code",
      "metadata": {
        "id": "aF1PGTzB_27A",
        "colab_type": "code",
        "colab": {
          "base_uri": "https://localhost:8080/",
          "height": 71
        },
        "outputId": "19ebfdd4-0930-4fc0-85e5-2d636b0b42a8"
      },
      "source": [
        "model = tf.keras.Sequential([\n",
        "    tf.keras.layers.Embedding(tokenizer.vocab_size, 64),\n",
        "    tf.keras.layers.Bidirectional(tf.keras.layers.LSTM(64)),\n",
        "    tf.keras.layers.Dense(64, activation='relu'),\n",
        "    tf.keras.layers.Dense(1, activation='sigmoid')\n",
        "])"
      ],
      "execution_count": 46,
      "outputs": [
        {
          "output_type": "stream",
          "text": [
            "W0601 17:17:31.286566 140705278998400 tf_logging.py:161] <tensorflow.python.keras.layers.recurrent.UnifiedLSTM object at 0x7ff8101349e8>: Note that this layer is not optimized for performance. Please use tf.keras.layers.CuDNNLSTM for better performance on GPU.\n",
            "W0601 17:17:31.291764 140705278998400 tf_logging.py:161] <tensorflow.python.keras.layers.recurrent.UnifiedLSTM object at 0x7ff80c33d9e8>: Note that this layer is not optimized for performance. Please use tf.keras.layers.CuDNNLSTM for better performance on GPU.\n"
          ],
          "name": "stderr"
        }
      ]
    },
    {
      "cell_type": "code",
      "metadata": {
        "id": "OjLcQqc3BCOR",
        "colab_type": "code",
        "colab": {}
      },
      "source": [
        "model.compile(loss='binary_crossentropy',\n",
        "              optimizer='adam',\n",
        "              metrics=['accuracy'])"
      ],
      "execution_count": 0,
      "outputs": []
    },
    {
      "cell_type": "code",
      "metadata": {
        "id": "W0baJ6ZBBogc",
        "colab_type": "code",
        "colab": {
          "base_uri": "https://localhost:8080/",
          "height": 377
        },
        "outputId": "ab9220ba-6cdb-4fd8-c6be-7b3ad6dbc388"
      },
      "source": [
        "history = model.fit(train_dataset, epochs=10,\n",
        "                    validation_data=test_dataset)"
      ],
      "execution_count": 48,
      "outputs": [
        {
          "output_type": "stream",
          "text": [
            "Epoch 1/10\n",
            "391/391 [==============================] - 71s 182ms/step - loss: 0.5431 - accuracy: 0.7130 - val_loss: 0.0000e+00 - val_accuracy: 0.0000e+00\n",
            "Epoch 2/10\n",
            "391/391 [==============================] - 64s 165ms/step - loss: 0.3467 - accuracy: 0.8600 - val_loss: 0.4430 - val_accuracy: 0.8112\n",
            "Epoch 3/10\n",
            "391/391 [==============================] - 64s 163ms/step - loss: 0.2854 - accuracy: 0.8900 - val_loss: 0.4142 - val_accuracy: 0.8410\n",
            "Epoch 4/10\n",
            "391/391 [==============================] - 63s 162ms/step - loss: 0.2187 - accuracy: 0.9191 - val_loss: 0.4438 - val_accuracy: 0.8420\n",
            "Epoch 5/10\n",
            "391/391 [==============================] - 64s 163ms/step - loss: 0.2199 - accuracy: 0.9151 - val_loss: 0.4540 - val_accuracy: 0.8168\n",
            "Epoch 6/10\n",
            "391/391 [==============================] - 64s 162ms/step - loss: 0.1436 - accuracy: 0.9497 - val_loss: 0.5037 - val_accuracy: 0.8068\n",
            "Epoch 7/10\n",
            "391/391 [==============================] - 64s 163ms/step - loss: 0.1500 - accuracy: 0.9464 - val_loss: 0.5409 - val_accuracy: 0.8236\n",
            "Epoch 8/10\n",
            "391/391 [==============================] - 65s 166ms/step - loss: 0.1303 - accuracy: 0.9548 - val_loss: 0.5892 - val_accuracy: 0.8346\n",
            "Epoch 9/10\n",
            "391/391 [==============================] - 66s 168ms/step - loss: 0.2020 - accuracy: 0.9219 - val_loss: 0.5348 - val_accuracy: 0.8217\n",
            "Epoch 10/10\n",
            "391/391 [==============================] - 65s 167ms/step - loss: 0.1160 - accuracy: 0.9611 - val_loss: 0.6349 - val_accuracy: 0.8141\n"
          ],
          "name": "stdout"
        }
      ]
    },
    {
      "cell_type": "code",
      "metadata": {
        "id": "6X1wcgvSBvMQ",
        "colab_type": "code",
        "colab": {
          "base_uri": "https://localhost:8080/",
          "height": 71
        },
        "outputId": "13ae4898-befb-4c0e-a8b2-69b6f2bbd0c9"
      },
      "source": [
        "test_loss, test_acc = model.evaluate(test_dataset)\n",
        "\n",
        "print('Test Loss: {}'.format(test_loss))\n",
        "print('test Accuracy: {}'.format(test_acc))"
      ],
      "execution_count": 49,
      "outputs": [
        {
          "output_type": "stream",
          "text": [
            "    391/Unknown - 21s 54ms/step - loss: 0.6349 - accuracy: 0.8141Test Loss: 0.6348672890297288\n",
            "test Accuracy: 0.8141199946403503\n"
          ],
          "name": "stdout"
        }
      ]
    },
    {
      "cell_type": "code",
      "metadata": {
        "id": "6Gg2EdQCF34v",
        "colab_type": "code",
        "colab": {}
      },
      "source": [
        "# The above model does not mask the padding applied to the sequences.\n",
        "# This can lead to skewness if we train on padded sequences and test on un-padded sequences.\n",
        "# Ideally the model would learn to ignore the padding, but as you can see below it does have a small effect on the output.\n",
        "def pad_to_size(vec, size):\n",
        "    zeros = [0] * (size - len(vec))\n",
        "    vec.extend(zeros)\n",
        "    return vec"
      ],
      "execution_count": 0,
      "outputs": []
    },
    {
      "cell_type": "code",
      "metadata": {
        "id": "KNQ9cvrSGXvB",
        "colab_type": "code",
        "colab": {}
      },
      "source": [
        "def sample_predict(sentence, pad):\n",
        "    tokenized_sample_pred_text = tokenizer.encode(sample_pred_text)\n",
        "    \n",
        "    if pad:\n",
        "        tokenized_sample_pred_text = pad_to_size(tokenized_sample_pred_text, 64)\n",
        "        \n",
        "    predictions = model.predict(tf.expand_dims(tokenized_sample_pred_text, 0))\n",
        "    \n",
        "    return (predictions)"
      ],
      "execution_count": 0,
      "outputs": []
    },
    {
      "cell_type": "code",
      "metadata": {
        "id": "Az_TKW8zGuJp",
        "colab_type": "code",
        "colab": {
          "base_uri": "https://localhost:8080/",
          "height": 34
        },
        "outputId": "89d9b299-d429-4ef9-d092-b373e6a74804"
      },
      "source": [
        "# prediction on sample text without padding.\n",
        "\n",
        "sample_pred_text = ('The movie was cool. The animation and the graphics '\n",
        "                    'were out of this world. I would recommend this movie.')\n",
        "\n",
        "predictions = sample_predict(sample_pred_text, pad = False)\n",
        "print(predictions)"
      ],
      "execution_count": 52,
      "outputs": [
        {
          "output_type": "stream",
          "text": [
            "[[0.8890807]]\n"
          ],
          "name": "stdout"
        }
      ]
    },
    {
      "cell_type": "code",
      "metadata": {
        "id": "uckMhZ64G9ll",
        "colab_type": "code",
        "colab": {
          "base_uri": "https://localhost:8080/",
          "height": 34
        },
        "outputId": "95747489-fb4d-42a9-d502-dd14ee4bf9b0"
      },
      "source": [
        "# predict on a sample text with padding\n",
        "\n",
        "sample_pred_text = ('The movie was cool. The animation and the graphics '\n",
        "                    'were out of this world. I would recommend this movie.')\n",
        "predictions = sample_predict(sample_pred_text, pad=True)\n",
        "print (predictions)"
      ],
      "execution_count": 54,
      "outputs": [
        {
          "output_type": "stream",
          "text": [
            "[[0.93186474]]\n"
          ],
          "name": "stdout"
        }
      ]
    },
    {
      "cell_type": "code",
      "metadata": {
        "id": "pfKg3jP1HAar",
        "colab_type": "code",
        "colab": {
          "base_uri": "https://localhost:8080/",
          "height": 283
        },
        "outputId": "5b845ccc-6264-4ca4-ea68-8bc101886661"
      },
      "source": [
        "plot_graphs(history, 'accuracy')"
      ],
      "execution_count": 55,
      "outputs": [
        {
          "output_type": "display_data",
          "data": {
            "image/png": "[encoded data removed]",
            "text/plain": [
              "<Figure size 432x288 with 1 Axes>"
            ]
          },
          "metadata": {
            "tags": []
          }
        }
      ]
    },
    {
      "cell_type": "code",
      "metadata": {
        "id": "vmhcGUOTHGyY",
        "colab_type": "code",
        "colab": {
          "base_uri": "https://localhost:8080/",
          "height": 283
        },
        "outputId": "3748feaf-77a8-4e3a-b124-ea5e81969752"
      },
      "source": [
        "plot_graphs(history, 'loss')"
      ],
      "execution_count": 56,
      "outputs": [
        {
          "output_type": "display_data",
          "data": {
            "image/png": "[encoded data removed]",
            "text/plain": [
              "<Figure size 432x288 with 1 Axes>"
            ]
          },
          "metadata": {
            "tags": []
          }
        }
      ]
    },
    {
      "cell_type": "code",
      "metadata": {
        "id": "ooT1_U5XHJml",
        "colab_type": "code",
        "colab": {
          "base_uri": "https://localhost:8080/",
          "height": 105
        },
        "outputId": "e5e7ad44-1d07-47d1-f05f-ea1146da7481"
      },
      "source": [
        "## Stack two or more LSTM layers\n",
        "\n",
        "model = tf.keras.Sequential([\n",
        "    tf.keras.layers.Embedding(tokenizer.vocab_size, 64),\n",
        "    tf.keras.layers.Bidirectional(tf.keras.layers.LSTM(\n",
        "            64, return_sequences=True)),\n",
        "    tf.keras.layers.Bidirectional(tf.keras.layers.LSTM(32)),\n",
        "    tf.keras.layers.Dense(64, activation='relu'),\n",
        "    tf.keras.layers.Dense(1, activation='sigmoid')\n",
        "])"
      ],
      "execution_count": 57,
      "outputs": [
        {
          "output_type": "stream",
          "text": [
            "W0601 17:39:39.903348 140705278998400 tf_logging.py:161] <tensorflow.python.keras.layers.recurrent.UnifiedLSTM object at 0x7ff80ee70080>: Note that this layer is not optimized for performance. Please use tf.keras.layers.CuDNNLSTM for better performance on GPU.\n",
            "W0601 17:39:39.911477 140705278998400 tf_logging.py:161] <tensorflow.python.keras.layers.recurrent.UnifiedLSTM object at 0x7ff80ee702b0>: Note that this layer is not optimized for performance. Please use tf.keras.layers.CuDNNLSTM for better performance on GPU.\n",
            "W0601 17:39:39.917454 140705278998400 tf_logging.py:161] <tensorflow.python.keras.layers.recurrent.UnifiedLSTM object at 0x7ff80defb470>: Note that this layer is not optimized for performance. Please use tf.keras.layers.CuDNNLSTM for better performance on GPU.\n",
            "W0601 17:39:39.922269 140705278998400 tf_logging.py:161] <tensorflow.python.keras.layers.recurrent.UnifiedLSTM object at 0x7ff80e61f438>: Note that this layer is not optimized for performance. Please use tf.keras.layers.CuDNNLSTM for better performance on GPU.\n"
          ],
          "name": "stderr"
        }
      ]
    },
    {
      "cell_type": "code",
      "metadata": {
        "id": "lIxeQ9g3ICWx",
        "colab_type": "code",
        "colab": {}
      },
      "source": [
        "model.compile(loss='binary_crossentropy',\n",
        "              optimizer='adam',\n",
        "              metrics=['accuracy'])"
      ],
      "execution_count": 0,
      "outputs": []
    },
    {
      "cell_type": "code",
      "metadata": {
        "id": "0nuoh0fiIEZM",
        "colab_type": "code",
        "colab": {
          "base_uri": "https://localhost:8080/",
          "height": 377
        },
        "outputId": "3b7bac20-98f7-46e0-da2b-fafcda3e14ec"
      },
      "source": [
        "history = model.fit(train_dataset, epochs=10,\n",
        "                    validation_data=test_dataset)"
      ],
      "execution_count": 59,
      "outputs": [
        {
          "output_type": "stream",
          "text": [
            "Epoch 1/10\n",
            "391/391 [==============================] - 118s 301ms/step - loss: 0.6363 - accuracy: 0.6332 - val_loss: 0.0000e+00 - val_accuracy: 0.0000e+00\n",
            "Epoch 2/10\n",
            "391/391 [==============================] - 115s 294ms/step - loss: 0.6369 - accuracy: 0.6579 - val_loss: 0.6349 - val_accuracy: 0.6426\n",
            "Epoch 3/10\n",
            "391/391 [==============================] - 114s 291ms/step - loss: 0.4776 - accuracy: 0.7793 - val_loss: 0.4473 - val_accuracy: 0.8047\n",
            "Epoch 4/10\n",
            "391/391 [==============================] - 114s 291ms/step - loss: 0.2993 - accuracy: 0.8802 - val_loss: 0.3464 - val_accuracy: 0.8593\n",
            "Epoch 5/10\n",
            "391/391 [==============================] - 114s 292ms/step - loss: 0.2222 - accuracy: 0.9154 - val_loss: 0.3202 - val_accuracy: 0.8646\n",
            "Epoch 6/10\n",
            "391/391 [==============================] - 115s 293ms/step - loss: 0.1682 - accuracy: 0.9390 - val_loss: 0.3646 - val_accuracy: 0.8593\n",
            "Epoch 7/10\n",
            "391/391 [==============================] - 114s 293ms/step - loss: 0.1226 - accuracy: 0.9584 - val_loss: 0.4338 - val_accuracy: 0.8636\n",
            "Epoch 8/10\n",
            "391/391 [==============================] - 114s 293ms/step - loss: 0.0873 - accuracy: 0.9718 - val_loss: 0.4554 - val_accuracy: 0.8630\n",
            "Epoch 9/10\n",
            "391/391 [==============================] - 115s 295ms/step - loss: 0.0663 - accuracy: 0.9803 - val_loss: 0.4666 - val_accuracy: 0.8607\n",
            "Epoch 10/10\n",
            "391/391 [==============================] - 114s 291ms/step - loss: 0.0499 - accuracy: 0.9861 - val_loss: 0.5361 - val_accuracy: 0.8630\n"
          ],
          "name": "stdout"
        }
      ]
    },
    {
      "cell_type": "code",
      "metadata": {
        "id": "W_nAwuAwIFnp",
        "colab_type": "code",
        "colab": {
          "base_uri": "https://localhost:8080/",
          "height": 71
        },
        "outputId": "600d5c7b-7686-4f42-a2b8-d3b21414fa4c"
      },
      "source": [
        "test_loss, test_acc = model.evaluate(test_dataset)\n",
        "\n",
        "print('Test Loss: {}'.format(test_loss))\n",
        "print('Test Accuracy: {}'.format(test_acc))"
      ],
      "execution_count": 61,
      "outputs": [
        {
          "output_type": "stream",
          "text": [
            "    391/Unknown - 36s 93ms/step - loss: 0.5361 - accuracy: 0.8630Test Loss: 0.5360682791151354\n",
            "Test Accuracy: 0.8629999756813049\n"
          ],
          "name": "stdout"
        }
      ]
    },
    {
      "cell_type": "code",
      "metadata": {
        "id": "vJ4qnWq5NgIF",
        "colab_type": "code",
        "colab": {
          "base_uri": "https://localhost:8080/",
          "height": 34
        },
        "outputId": "50eded93-0ab4-4dd7-ebe6-d1f24d706af9"
      },
      "source": [
        "# predict on a sample text without padding.\n",
        "\n",
        "sample_pred_text = ('The movie was not good. The animation and the graphics '\n",
        "                    'were terrible. I would not recommend this movie.')\n",
        "predictions = sample_predict(sample_pred_text, pad=False)\n",
        "print (predictions)"
      ],
      "execution_count": 62,
      "outputs": [
        {
          "output_type": "stream",
          "text": [
            "[[0.00296192]]\n"
          ],
          "name": "stdout"
        }
      ]
    },
    {
      "cell_type": "code",
      "metadata": {
        "id": "u2563QgaNlJp",
        "colab_type": "code",
        "colab": {
          "base_uri": "https://localhost:8080/",
          "height": 34
        },
        "outputId": "386ef457-e4e6-4173-dad8-000d05198b81"
      },
      "source": [
        "# predict on a sample text with padding\n",
        "\n",
        "sample_pred_text = ('The movie was not good. The animation and the graphics '\n",
        "                    'were terrible. I would not recommend this movie.')\n",
        "predictions = sample_predict(sample_pred_text, pad=True)\n",
        "print (predictions)"
      ],
      "execution_count": 63,
      "outputs": [
        {
          "output_type": "stream",
          "text": [
            "[[0.00227509]]\n"
          ],
          "name": "stdout"
        }
      ]
    },
    {
      "cell_type": "code",
      "metadata": {
        "id": "BvCg6birNmR6",
        "colab_type": "code",
        "colab": {
          "base_uri": "https://localhost:8080/",
          "height": 283
        },
        "outputId": "079f6c5a-f7b1-4d14-f4c8-9e1d65fe40b9"
      },
      "source": [
        "plot_graphs(history, 'accuracy')"
      ],
      "execution_count": 64,
      "outputs": [
        {
          "output_type": "display_data",
          "data": {
            "image/png": "[encoded data removed]",
            "text/plain": [
              "<Figure size 432x288 with 1 Axes>"
            ]
          },
          "metadata": {
            "tags": []
          }
        }
      ]
    },
    {
      "cell_type": "code",
      "metadata": {
        "id": "jHHg4ZYqNoa1",
        "colab_type": "code",
        "colab": {
          "base_uri": "https://localhost:8080/",
          "height": 283
        },
        "outputId": "14629b18-ed04-4bf7-c1ba-325bf5730491"
      },
      "source": [
        "plot_graphs(history, 'loss')"
      ],
      "execution_count": 65,
      "outputs": [
        {
          "output_type": "display_data",
          "data": {
            "image/png": "[encoded data removed]",
            "text/plain": [
              "<Figure size 432x288 with 1 Axes>"
            ]
          },
          "metadata": {
            "tags": []
          }
        }
      ]
    }
  ]
}