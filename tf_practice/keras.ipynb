{
  "nbformat": 4,
  "nbformat_minor": 0,
  "metadata": {
    "colab": {
      "name": "keras.ipynb",
      "provenance": [],
      "private_outputs": true
    },
    "kernelspec": {
      "name": "python3",
      "display_name": "Python 3"
    },
    "accelerator": "GPU"
  },
  "cells": [
    {
      "cell_type": "code",
      "metadata": {
        "id": "KNjIJ6OQFi8b",
        "colab_type": "code",
        "colab": {}
      },
      "source": [
        "# tf.keras is TensorFlow's implementation of the Keras API specification\n",
        "from __future__ import absolute_import, division, print_function, unicode_literals\n",
        "\n",
        "%tensorflow_version 2.x\n",
        "import tensorflow as tf\n",
        "from tensorflow import keras"
      ],
      "execution_count": 0,
      "outputs": []
    },
    {
      "cell_type": "code",
      "metadata": {
        "id": "lZbQYCPRGrj8",
        "colab_type": "code",
        "colab": {}
      },
      "source": [
        "# In keras, you assemble layers to build models.\n",
        "# A model is a graph of layers\n",
        "from tensorflow.keras import layers\n",
        "model = tf.keras.Sequential()\n",
        "model.add(layers.Dense(64, activation='relu'))\n",
        "model.add(layers.Dense(64, activation='relu'))\n",
        "model.add(layers.Dense(10, activation='softmax'))"
      ],
      "execution_count": 0,
      "outputs": []
    },
    {
      "cell_type": "markdown",
      "metadata": {
        "id": "8mCh71akIq3O",
        "colab_type": "text"
      },
      "source": [
        "## Configure the layers\n",
        "There are many `tf.keras.layers` available. Most of them share some common constructor arguments:\n",
        "- `activation`: Set the activation function for the layer. This parameter is specified by the name of a built-in function or as a callable object. By default, no activation is applied.\n",
        "- `kernel_initializer` and `bias_initializer`: The initialization schemes that create the layer's weights (kernel and bias). This parameter is a name or a callable object. This defaults to the `\"Glorot uniform\"` intializer.\n",
        "- `kernel_regularizer` and `bias_regularizer`: The regularization schemes that apply the layer's weights (kernel and bias), such as L1 or L2 regularization. By default, no regularization is applied.\n"
      ]
    },
    {
      "cell_type": "code",
      "metadata": {
        "id": "R7NKNyNdHJBH",
        "colab_type": "code",
        "colab": {}
      },
      "source": [
        "# Sigmoid activation\n",
        "layers.Dense(64, activation='sigmoid')\n",
        "layers.Dense(64, activation=tf.keras.activations.sigmoid)\n",
        "\n",
        "# A linear layer with L1 regularization of factor 0.01 applied to the kernel matrix:\n",
        "layers.Dense(64, kernel_regularizer=tf.keras.regularizers.l1(0.01))\n",
        "\n",
        "# A linear layer with L2 regularization of factor 0.01 applied to the bias vector:\n",
        "layers.Dense(64, bias_regularizer=tf.keras.regularizers.l2(0.01))\n",
        "\n",
        "# A linear layer with a kernel initialized to a random orthogonal matrix\n",
        "layers.Dense(64, kernel_initializer='orthogonal')\n",
        "\n",
        "# A linear layer with a bias vector initialized to 2.0s:\n",
        "layers.Dense(64, bias_initializer=tf.keras.initializers.Constant(2.0))"
      ],
      "execution_count": 0,
      "outputs": []
    },
    {
      "cell_type": "code",
      "metadata": {
        "id": "V0JTnX3eKZMq",
        "colab_type": "code",
        "colab": {}
      },
      "source": [
        "# After model is constructed, configure its learning process by\n",
        "# calling the compile method:\n",
        "model = tf.keras.Sequential([\n",
        "    layers.Dense(64, activation='relu', input_shape=(32, )),\n",
        "    layers.Dense(64, activation='relu'),\n",
        "    layers.Dense(64, activation='relu'),\n",
        "    layers.Dense(64, activation='relu'),\n",
        "    layers.Dense(64, activation='relu'),\n",
        "    layers.Dense(10, activation='softmax')\n",
        "])\n",
        "\n",
        "model.compile(optimizer=tf.keras.optimizers.Adam(0.01),\n",
        "              loss='categorical_crossentropy',\n",
        "              metrics=['accuracy'])"
      ],
      "execution_count": 0,
      "outputs": []
    },
    {
      "cell_type": "markdown",
      "metadata": {
        "id": "AWjUZPchLhuS",
        "colab_type": "text"
      },
      "source": [
        "`tf.keras.Model.compile` takes three important arguments:\n",
        "- `optimizer`: This object specifies the training procedure. Pass it optimizer instances from the `tf.keras.optimizers` module, such as `tf.keras.optimizers.Adam` of `tf.keras.optimizers.SGD`. If you just want to use the default parameter, you can also specify optimizers via strings, such as `'ada,'` or `'sgd'`\n",
        "- `loss`: The function to minimize during optimization. Common choices include mean square error (`mse`), `categorical_crossentropy`, and `binary_crossentropy`. Loss functions are specified by name or by passing callable object from the `tf.keras.losses` module\n",
        "`metrics`: Used to monitor training. These are string names  or callables from the `tf.keras.metrics` module.\n",
        "- Additionally, to make sure the model trains and evaluates eagerly, you can make sure to pass run_eagerly=True as a parameter to compile."
      ]
    },
    {
      "cell_type": "code",
      "metadata": {
        "id": "L_H8qkmpLQW4",
        "colab_type": "code",
        "colab": {}
      },
      "source": [
        "# Configure a model for mean-squared error regression.\n",
        "model.compile(optimizer=tf.keras.optimizers.Adam(0.01),\n",
        "              loss='mse',\n",
        "              metrics=['mse'])\n",
        "\n",
        "# Configure a model for categorical classification\n",
        "model.compile(optimizer=\"adam\",\n",
        "              loss=tf.keras.losses.CategoricalCrossentropy(),\n",
        "              metrics=[tf.keras.metrics.CategoricalAccuracy()])"
      ],
      "execution_count": 0,
      "outputs": []
    },
    {
      "cell_type": "markdown",
      "metadata": {
        "id": "RlOJX-xtNs0w",
        "colab_type": "text"
      },
      "source": [
        "## Train from Numpy data\n",
        "For small datasets, use in-memory Numpy array to train and evaluate a model. The model is \"fit\" to training data using the fit method:"
      ]
    },
    {
      "cell_type": "code",
      "metadata": {
        "id": "ERniBMSAOdBc",
        "colab_type": "code",
        "colab": {}
      },
      "source": [
        "type(model)"
      ],
      "execution_count": 0,
      "outputs": []
    },
    {
      "cell_type": "code",
      "metadata": {
        "id": "3sVwNNXfOg7-",
        "colab_type": "code",
        "colab": {}
      },
      "source": [
        "import numpy as np\n",
        "\n",
        "data = np.random.random((1000, 32))\n",
        "labels = np.random.random((1000, 10))\n",
        "\n",
        "model.fit(data, labels, epochs=10, batch_size=32)"
      ],
      "execution_count": 0,
      "outputs": []
    },
    {
      "cell_type": "markdown",
      "metadata": {
        "id": "9QOY7ggwPvRN",
        "colab_type": "text"
      },
      "source": [
        "`tf.keras.Model.fit` takes three important arguments:\n",
        "- `epochs`: Training is structured into epochs. An epoch is one iteration over the entrie input data (this is done in smaller batches).\n",
        "- `batch_size`: When passed NumPy data, the model slices the data into smaller batches and iterate over these batches during training. This integer specifies the size of each batch. Be aware that the last batch may be smaller if the total numer of sampels is not divisible by the batch size.\n",
        "- `validation_data`: When prototyping a model, you want to easily monitor its performace on some validation data. Passing this argument -a tuple of inputs and labels- allows the model to display the loss and metrics in inference mode for the passed data, at the end of each epoch."
      ]
    },
    {
      "cell_type": "code",
      "metadata": {
        "id": "H7cI9OOOPriW",
        "colab_type": "code",
        "colab": {}
      },
      "source": [
        "# example using validatoin_data\n",
        "\n",
        "data = np.random.random((1000, 32))\n",
        "labels = np.random.random((1000, 10))\n",
        "\n",
        "val_data = np.random.random((100, 32))\n",
        "val_labels = np.random.random((100, 10))\n",
        "\n",
        "model.fit(data, labels, epochs=10, batch_size=32,\n",
        "          validation_data=(val_data, val_labels))"
      ],
      "execution_count": 0,
      "outputs": []
    },
    {
      "cell_type": "markdown",
      "metadata": {
        "id": "_d1Q0Y_V3WS2",
        "colab_type": "text"
      },
      "source": [
        "## Train from tf.data datasets\n",
        "Use the Datasets API to scale to large datasets or multi-device training. Pass a `tf.data.Dataset` instance to the `fit` method"
      ]
    },
    {
      "cell_type": "code",
      "metadata": {
        "id": "thp7-3omQpw5",
        "colab_type": "code",
        "colab": {}
      },
      "source": [
        "dataset = tf.data.Dataset.from_tensor_slices((data, labels))\n",
        "dataset = dataset.batch(32)\n",
        "\n",
        "model.fit(dataset, epochs=10)"
      ],
      "execution_count": 0,
      "outputs": []
    },
    {
      "cell_type": "code",
      "metadata": {
        "id": "mIFS0f5_4Ew-",
        "colab_type": "code",
        "colab": {}
      },
      "source": [
        "# Since the `Dataset` yield batches of data, this snippet does\n",
        "# not require a batch_size\n",
        "# Dagasets can also be used for validation:\n",
        "dataset = tf.data.Dataset.from_tensor_slices((data, labels))\n",
        "dataset = dataset.batch(32)\n",
        "\n",
        "val_dataset = tf.data.Dataset.from_tensor_slices((val_data, val_labels))\n",
        "val_dataset = val_dataset.batch(32)\n",
        "\n",
        "model.fit(dataset, epochs=10,\n",
        "          validation_data=val_dataset)"
      ],
      "execution_count": 0,
      "outputs": []
    },
    {
      "cell_type": "markdown",
      "metadata": {
        "id": "WEoY2GGi5Vu-",
        "colab_type": "text"
      },
      "source": [
        "## Evaluate and predict\n",
        "The `tf.keras.Model.evaluate` and `tf.keras.Model.predict` methods can use NumPy data and a `tf.data.Dataset`."
      ]
    },
    {
      "cell_type": "code",
      "metadata": {
        "id": "4M84BrWw5K42",
        "colab_type": "code",
        "colab": {}
      },
      "source": [
        "# With Numpy arrays\n",
        "data = np.random.random((1000, 32))\n",
        "labels = np.random.random((1000, 10))\n",
        "model.evaluate(data, labels, batch_size=32)\n",
        "\n",
        "# With a Dataset\n",
        "dataset = tf.data.Dataset.from_tensor_slices((data, labels))\n",
        "dataset = dataset.batch(32)\n",
        "model.evaluate(dataset)"
      ],
      "execution_count": 0,
      "outputs": []
    },
    {
      "cell_type": "code",
      "metadata": {
        "id": "DuB4_qtZ5uX7",
        "colab_type": "code",
        "colab": {}
      },
      "source": [
        "result = model.predict(data, batch_size=32)\n",
        "print(result.shape)"
      ],
      "execution_count": 0,
      "outputs": []
    },
    {
      "cell_type": "markdown",
      "metadata": {
        "id": "IsABspXb8OdD",
        "colab_type": "text"
      },
      "source": [
        "## Build complex models.\n",
        "### The functional API\n",
        "The `tf.keras.Sequential` model is a simple stack of layers that cannot represent arbitrary models. Use the `keras functional API` to build complex model topologies such as:\n",
        "- Multi-input models,\n",
        "- Multi-output models.\n",
        "- Models with shared layers (the same layer called several times),\n",
        "- Models with non-sequential data flows (e.g. residual connections).\n",
        "Building a model with the functional API works like this:\n",
        "1. A layer instance is callable and returns a tensor.\n",
        "2. Input tensors and output tensors are used to define a `tf.keras.Model` instance.\n",
        "3. This model is trained just like the Sequential model."
      ]
    },
    {
      "cell_type": "code",
      "metadata": {
        "id": "wdha5LCd6dCf",
        "colab_type": "code",
        "colab": {}
      },
      "source": [
        "# The following example uses the functional API to build a simple, fully-connectd network:\n",
        "\n",
        "inputs = tf.keras.Input(shape=(32,)) # Returns an input placeholder\n",
        "\n",
        "# A layer instance is callable on a tensor, and returns a tensor.\n",
        "x = layers.Dense(64, activation='relu')(inputs)\n",
        "x = layers.Dense(64, activation='relu')(x)\n",
        "predictions = layers.Dense(10, activation='softmax')(x)"
      ],
      "execution_count": 0,
      "outputs": []
    },
    {
      "cell_type": "markdown",
      "metadata": {
        "id": "E5L5h2DG-HOQ",
        "colab_type": "text"
      },
      "source": [
        "Instantiate the model given inputs and outputs"
      ]
    },
    {
      "cell_type": "code",
      "metadata": {
        "id": "0nWLg6gg-DdJ",
        "colab_type": "code",
        "colab": {}
      },
      "source": [
        "model = tf.keras.Model(inputs=inputs, outputs=predictions)\n",
        "\n",
        "# The compile steps specifies the training configuration\n",
        "model.compile(optimizer=tf.keras.optimizers.RMSprop(0.001),\n",
        "              loss='categorical_crossentropy',\n",
        "              metrics=['accuracy'])\n",
        "model.fit(data, labels, batch_size=32, epochs=5)"
      ],
      "execution_count": 0,
      "outputs": []
    },
    {
      "cell_type": "markdown",
      "metadata": {
        "id": "iC0ktJBF-oFF",
        "colab_type": "text"
      },
      "source": [
        "# A layer instance is callable and returns a tensor!"
      ]
    },
    {
      "cell_type": "markdown",
      "metadata": {
        "id": "AsYj8YhZ_aZ3",
        "colab_type": "text"
      },
      "source": [
        "## Model subclassing\n",
        "Build a fully-customizable model by subclassing `tf.keras.Model` and defining your own forward pass. Create layers in the `__init__` method and set them as attributes of the class instance. Define the forward pass in the `call` method.\n",
        "Model subclassing is particularly useful when eager execution is enabled, because it allows the forward pass to be written imperatively."
      ]
    },
    {
      "cell_type": "code",
      "metadata": {
        "id": "xyv2CzM6-i03",
        "colab_type": "code",
        "colab": {}
      },
      "source": [
        "# The following example shows a subclassed `tf.keras.Model` using a custom forward\n",
        "# pass that does not have to be run imperatively:\n",
        "class MyModel(tf.keras.Model):\n",
        "    def __init__(self, num_classes=10):\n",
        "        super(MyModel, self).__init__(name='my_model')\n",
        "        self.num_classes = num_classes\n",
        "        # Define your layers here\n",
        "        self.dense_1 = layers.Dense(32, activation='relu')\n",
        "        self.dense_2 = layers.Dense(num_classes, activation='sigmoid')\n",
        "\n",
        "    def call(self, inputs):\n",
        "        # Define forward pass\n",
        "        # using layers your previously define (in `__init__`).\n",
        "        x = self.dense_1(inputs)\n",
        "        return self.dense_2(x)"
      ],
      "execution_count": 0,
      "outputs": []
    },
    {
      "cell_type": "code",
      "metadata": {
        "id": "nqhCNYLKBpGe",
        "colab_type": "code",
        "colab": {}
      },
      "source": [
        "# Instantiate the new model class:\n",
        "model = MyModel(num_classes=10)\n",
        "\n",
        "# The compile step specifies the training configuration.\n",
        "model.compile(optiizer=tf.keras.optimizers.RMSprop(0.001),\n",
        "              loss='categorical_crossentropy',\n",
        "              metrics=['accuracy'])\n",
        "\n",
        "# Training for 5 epochs.\n",
        "model.fit(data, labels, batch_size=32, epochs=5)"
      ],
      "execution_count": 0,
      "outputs": []
    },
    {
      "cell_type": "markdown",
      "metadata": {
        "id": "ssB9jymcCf5C",
        "colab_type": "text"
      },
      "source": [
        "## Custom layers\n",
        "Create a custom layer by subclassing `tf.keras.layers.Layer` and implementing the following methods:\n",
        "- `__init__`: Optionally define sublayers to be used by this layer.\n",
        "- `build`: Create the weights of the layer. Add weights with the `add_weight` method.\n",
        "- `call`: Define the forward pass.\n",
        "- Optionally, a layer can be serialized by implementing the `get_config` method and the `from_config` class method."
      ]
    },
    {
      "cell_type": "code",
      "metadata": {
        "id": "Xbd65fmaB7n4",
        "colab_type": "code",
        "colab": {}
      },
      "source": [
        "# Here's an example of a custom layer that implements `matmul` of an input with a kernel matrix\n",
        "class MyLayer(layers.Layer):\n",
        "\n",
        "    def __init__(self, output_dim, **kwargs):\n",
        "        self.output_dim = output_dim\n",
        "        super(MyLayer, self).__init__(**kwargs)\n",
        "    \n",
        "    def build(self, input_shape):\n",
        "        # Create a trainable weight variable for this layer.\n",
        "        self.kernel = self.add_weight(name='kernel',\n",
        "                                      shape=(input_shape[1], self.output_dim),\n",
        "                                      initializer='uniform',\n",
        "                                      trainable=True)\n",
        "    def call(self, inputs):\n",
        "        return tf.matmul(inputs, self.kernel)\n",
        "    \n",
        "    def get_config(self):\n",
        "        base_config = super(MyLayer, self).get_config()\n",
        "        base_config['output_dim'] = self.output_dim\n",
        "        return base_config\n",
        "    \n",
        "    @classmethod\n",
        "    def from_config(cls, config):\n",
        "        return cls(**config)"
      ],
      "execution_count": 0,
      "outputs": []
    },
    {
      "cell_type": "code",
      "metadata": {
        "id": "8DHom752Im7W",
        "colab_type": "code",
        "colab": {}
      },
      "source": [
        "# Create a model using your custom layer:\n",
        "model = tf.keras.Sequential([\n",
        "    MyLayer(10),\n",
        "    layers.Activation('softmax')\n",
        "])\n",
        "\n",
        "# The compile step specifies the training configuration\n",
        "model.compile(optimizer=tf.keras.optimizers.RMSprop(0.001),\n",
        "              loss='categorical_crossentropy',\n",
        "              metrics=['accuracy'])\n",
        "              \n",
        "model.fit(data, labels, batch_size=32, epochs=5)"
      ],
      "execution_count": 0,
      "outputs": []
    },
    {
      "cell_type": "markdown",
      "metadata": {
        "id": "8_xdXBWideDW",
        "colab_type": "text"
      },
      "source": [
        "## Callbacks\n",
        "A callback is an object passed to a model to customize and extend its behavior during training. You can write your own custom callback, or use the built-in `tf.keras.callbacks` that include:\n",
        "- `tf.keras.callbacks.ModelCheckpoint`: Save checkpoints of your model at regular intervals\n",
        "- `tf.keras.callbacks.LearningRateSchedular`: Dynamically change the learning rate.\n",
        "- `tf.keras.callbacks.EarlyStopping`: Interrupt training when validation performance has stopped improving.\n",
        "- `tf.keras.callbacks.TensorBoard`: Monitor the model's behavior using TensorBoard."
      ]
    },
    {
      "cell_type": "code",
      "metadata": {
        "id": "J6iqOddJJHzt",
        "colab_type": "code",
        "colab": {}
      },
      "source": [
        "# To use a `tf.keras.callbacks.Callback`, pass it to the model's fit method:\n",
        "callbacks = [\n",
        "  # Interrupt training if `val_loss` stops improving for over 2 epochs.\n",
        "  tf.keras.callbacks.EarlyStopping(patience=2, monitor='val_loss'),\n",
        "  # Write TensorBoard logs to './logs' directory\n",
        "  tf.keras.callbacks.TensorBoard(log_dir='./logs')\n",
        "]\n",
        "model.fit(data, labels, batch_size=32, epochs=5, callbacks=callbacks,\n",
        "          validation_data=(val_data, val_labels))"
      ],
      "execution_count": 0,
      "outputs": []
    },
    {
      "cell_type": "markdown",
      "metadata": {
        "id": "mZMT1jutemGz",
        "colab_type": "text"
      },
      "source": [
        "## Save and restore\n",
        "### Save just the weights values\n",
        "Save and load the weights of a model using `tf.keras.Model.save_weights`:"
      ]
    },
    {
      "cell_type": "code",
      "metadata": {
        "id": "WNg6ddutejAo",
        "colab_type": "code",
        "colab": {}
      },
      "source": [
        "model = tf.keras.Sequential([\n",
        "  layers.Dense(64, activation='relu', input_shape=(32,)),\n",
        "  layers.Dense(10, activation='softmax')\n",
        "])\n",
        "\n",
        "model.compile(optimizer='adam',\n",
        "              loss='categorical_crossentropy',\n",
        "              )"
      ],
      "execution_count": 0,
      "outputs": []
    },
    {
      "cell_type": "code",
      "metadata": {
        "id": "FpzbCMz7e9cj",
        "colab_type": "code",
        "colab": {}
      },
      "source": [
        "# Save weights to a TensorFlow Checkpoint file\n",
        "model.save_weights('./weights/my_model')\n",
        "\n",
        "# Restore the model's state.\n",
        "# this requires a model with the same architecture.\n",
        "model.load_weights('./weights/my_model')"
      ],
      "execution_count": 0,
      "outputs": []
    },
    {
      "cell_type": "markdown",
      "metadata": {
        "id": "lS1fzVcRfQLy",
        "colab_type": "text"
      },
      "source": [
        "By default, this saves the model's weights in the TensorFlow checkpoint file format. Weights can also be saved to the Keras HDF5 format (the default for the multi-backend implementaiton of Keras):"
      ]
    },
    {
      "cell_type": "code",
      "metadata": {
        "id": "OmmzwMlwfL4m",
        "colab_type": "code",
        "colab": {}
      },
      "source": [
        "# Save weights to a HDF5 file\n",
        "model.save_weights('my_model.h5', save_format='h5')\n",
        "\n",
        "# Restore the model's state\n",
        "model.load_weights('my_model.h5')"
      ],
      "execution_count": 0,
      "outputs": []
    },
    {
      "cell_type": "markdown",
      "metadata": {
        "id": "xAwY28RpfmOR",
        "colab_type": "text"
      },
      "source": [
        "## Save just the model configuration\n",
        "A model's configuration can be saved-this serializes the models architecture without any weights. A saved configuration can recreate and initialze the same mode, even without the code that defined the original model. Keras supports JSON and YAML serialization format:"
      ]
    },
    {
      "cell_type": "code",
      "metadata": {
        "id": "5c8up5keflO6",
        "colab_type": "code",
        "colab": {}
      },
      "source": [
        "# Serialize a model to JSON format\n",
        "json_string = model.to_json()\n",
        "json_string"
      ],
      "execution_count": 0,
      "outputs": []
    },
    {
      "cell_type": "code",
      "metadata": {
        "id": "A7NrWJVmf60J",
        "colab_type": "code",
        "colab": {}
      },
      "source": [
        "import json\n",
        "import pprint\n",
        "pprint.pprint(json.loads(json_string))"
      ],
      "execution_count": 0,
      "outputs": []
    },
    {
      "cell_type": "code",
      "metadata": {
        "id": "Y7VZYL0XgD3S",
        "colab_type": "code",
        "colab": {}
      },
      "source": [
        "# Recreate the model (newly initialzed) from the JSON:\n",
        "fresh_model = tf.keras.models.model_from_json(json_string)"
      ],
      "execution_count": 0,
      "outputs": []
    },
    {
      "cell_type": "markdown",
      "metadata": {
        "id": "hTaHtTpigaw7",
        "colab_type": "text"
      },
      "source": [
        "Subclassed model are not serializable because their architecture is defined by the Python code in the body of the call method."
      ]
    },
    {
      "cell_type": "markdown",
      "metadata": {
        "id": "a9V71I25iapJ",
        "colab_type": "text"
      },
      "source": [
        "## Save the entire model in one file\n",
        "The entire model can be saved to a file that contains the weight values, the model's configuration, and even the optimizer's configuration. This allows you to checkpoint a model and resume training later-from the exact same state-without access to the original code"
      ]
    },
    {
      "cell_type": "code",
      "metadata": {
        "id": "D7rv-FAagQC2",
        "colab_type": "code",
        "colab": {}
      },
      "source": [
        "# Create a simple model\n",
        "model = tf.keras.Sequential([\n",
        "  layers.Dense(10, activation='softmax', input_shape=(32,)),\n",
        "  layers.Dense(10, activation='softmax')\n",
        "])\n",
        "model.compile(optimizer='rmsprop',\n",
        "              loss='categorical_crossentropy',\n",
        "              metrics=['accuracy'])\n",
        "model.fit(data, labels, batch_size=32, epochs=5)"
      ],
      "execution_count": 0,
      "outputs": []
    },
    {
      "cell_type": "code",
      "metadata": {
        "id": "6Yac-J6Ni7PA",
        "colab_type": "code",
        "colab": {}
      },
      "source": [
        "# Save entire model to a HDF5 file\n",
        "model.save('my_model.h5')\n",
        "\n",
        "# Recreate the exact same model, including weights and optimizer.\n",
        "model = tf.keras.models.load_model('my_model.h5')"
      ],
      "execution_count": 0,
      "outputs": []
    },
    {
      "cell_type": "markdown",
      "metadata": {
        "id": "8ZQ_3hPJjo9M",
        "colab_type": "text"
      },
      "source": [
        "## Eager execution\n",
        "`Eager execution` is an imperative programming environment that evaluates operations immediately. This is not required for Keras, but is supported by `tf.keras` and useful for inspecting your program and debugging.\n",
        "\n",
        "All of the `tf.keras` model-building APIs are compatible with eager execution. And while the `Sequential` and functional APIs can be used, eager execution especially benefits `model subclassing` and `building custom layers`-the APIS that require you to write the forward pass as code (instead of the APIs that create models by assembling exisiting layers).\n"
      ]
    },
    {
      "cell_type": "markdown",
      "metadata": {
        "id": "_3x4hsz-kOn-",
        "colab_type": "text"
      },
      "source": [
        "## Distribution\n",
        "### Multiple GPUs\n",
        "`tf.keras` models can run on multiple GPUs using `tf.distribute.Strategy`. This API provides distributed training on multiple GPUs with almost no changes to existing code.\n",
        "\n",
        "Currently, `tf.distribute.MirroredStrategy` is the only supported distribution strategy. `MirroredStrategy` does in-graph replication with synchronouns training using all-reduce on a single machine. To use `distribute.Strategy`s, nest the optimizer instantiation and model construction and compliation in a `Strategy`'s `.scope()`, then train the model."
      ]
    },
    {
      "cell_type": "code",
      "metadata": {
        "id": "cUx3uAlRjHZm",
        "colab_type": "code",
        "colab": {}
      },
      "source": [
        "# The following example distributes a `tf.keras.Model`\n",
        "# across multiple GPUs on a single machine.\n",
        "\n",
        "# First, define a model inside the distributed strategy scope:\n",
        "strategy = tf.distribute.MirroredStrategy()\n",
        "\n",
        "with strategy.scope():\n",
        "  model = tf.keras.Sequential()\n",
        "  model.add(layers.Dense(16, activation='relu', input_shape=(10, )))\n",
        "  model.add(layers.Dense(1, activation='sigmoid'))\n",
        "\n",
        "  optimizer = tf.keras.optimizers.SGD(0.2)\n",
        "\n",
        "  model.compile(optimizer=optimizer, loss='binary_crossentropy')\n",
        "\n",
        "model.summary()  "
      ],
      "execution_count": 0,
      "outputs": []
    },
    {
      "cell_type": "code",
      "metadata": {
        "id": "tFfg79GolSeV",
        "colab_type": "code",
        "colab": {}
      },
      "source": [
        "x = np.random.random((1024, 10))\n",
        "y = np.random.randint(2, size=(1024, 1))\n",
        "x = tf.cast(x, tf.float32)\n",
        "dataset = tf.data.Dataset.from_tensor_slices((x, y))\n",
        "dataset = dataset.shuffle(buffer_size=1024).batch(32)\n",
        "\n",
        "model.fit(dataset, epochs=1)"
      ],
      "execution_count": 0,
      "outputs": []
    },
    {
      "cell_type": "code",
      "metadata": {
        "id": "iGO9qEC_l71C",
        "colab_type": "code",
        "colab": {}
      },
      "source": [
        ""
      ],
      "execution_count": 0,
      "outputs": []
    }
  ]
}