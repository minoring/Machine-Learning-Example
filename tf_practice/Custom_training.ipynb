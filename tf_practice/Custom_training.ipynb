{
  "nbformat": 4,
  "nbformat_minor": 0,
  "metadata": {
    "colab": {
      "name": "Custom_training.ipynb",
      "provenance": []
    },
    "kernelspec": {
      "name": "python3",
      "display_name": "Python 3"
    },
    "accelerator": "GPU"
  },
  "cells": [
    {
      "cell_type": "code",
      "metadata": {
        "id": "vuHmmhdrH7pP",
        "colab_type": "code",
        "colab": {
          "base_uri": "https://localhost:8080/",
          "height": 34
        },
        "outputId": "2fd29991-7b12-4a69-9752-e6b516633fc3"
      },
      "source": [
        "from __future__ import absolute_import, division, print_function\n",
        "%tensorflow_version 2.x\n",
        "import tensorflow as tf"
      ],
      "execution_count": 3,
      "outputs": [
        {
          "output_type": "stream",
          "text": [
            "TensorFlow 2.x selected.\n"
          ],
          "name": "stdout"
        }
      ]
    },
    {
      "cell_type": "code",
      "metadata": {
        "id": "8hlZCt6_Iv8Q",
        "colab_type": "code",
        "colab": {
          "base_uri": "https://localhost:8080/",
          "height": 204
        },
        "outputId": "21d3fd94-cc77-4b44-8ca5-73ca88be9fbf"
      },
      "source": [
        "# Tensors in TensorFlow are immutable stateless objects.\n",
        "\n",
        "# Usigng Python state\n",
        "x = tf.zeros([10, 10])\n",
        "x += 2 # Does not mutate the original value of x\n",
        "print(x)"
      ],
      "execution_count": 4,
      "outputs": [
        {
          "output_type": "stream",
          "text": [
            "tf.Tensor(\n",
            "[[2. 2. 2. 2. 2. 2. 2. 2. 2. 2.]\n",
            " [2. 2. 2. 2. 2. 2. 2. 2. 2. 2.]\n",
            " [2. 2. 2. 2. 2. 2. 2. 2. 2. 2.]\n",
            " [2. 2. 2. 2. 2. 2. 2. 2. 2. 2.]\n",
            " [2. 2. 2. 2. 2. 2. 2. 2. 2. 2.]\n",
            " [2. 2. 2. 2. 2. 2. 2. 2. 2. 2.]\n",
            " [2. 2. 2. 2. 2. 2. 2. 2. 2. 2.]\n",
            " [2. 2. 2. 2. 2. 2. 2. 2. 2. 2.]\n",
            " [2. 2. 2. 2. 2. 2. 2. 2. 2. 2.]\n",
            " [2. 2. 2. 2. 2. 2. 2. 2. 2. 2.]], shape=(10, 10), dtype=float32)\n"
          ],
          "name": "stdout"
        }
      ]
    },
    {
      "cell_type": "code",
      "metadata": {
        "id": "JwjRK23tJ4g0",
        "colab_type": "code",
        "colab": {}
      },
      "source": [
        "# TensorFlow has stateful operations built-in,\n",
        "# and these are often easier than using low-level\n",
        "# Python representation for our state.\n",
        "# Use tf.Variable to represent weights in a model.\n",
        "\n",
        "# A tf.Variable objects stores a value and implicitly reads from\n",
        "# this value. There are operations (tf.assign_sub, tf.scatter_update)\n",
        "# that manipulate the value stored in a TensorFlow variable.\n",
        "v = tf.Variable(1.0)\n",
        "# Use Python's `assert` as a debugging statement to test the condition\n",
        "assert v.numpy() == 1.0\n",
        "\n",
        "# Reassign the value `v`\n",
        "v.assign(3.0)\n",
        "assert v.numpy() == 3.0\n",
        "\n",
        "# Use `v` in a TensorFlow `tf.square()` operation and reassign\n",
        "v.assign(tf.square(v))\n",
        "assert v.numpy() == 9.0"
      ],
      "execution_count": 0,
      "outputs": []
    },
    {
      "cell_type": "markdown",
      "metadata": {
        "id": "DDHHM2RRKyof",
        "colab_type": "text"
      },
      "source": [
        "Computing using `tf.Variable` are automatically traced when computing gradients. For variables that representation embeddings, TensorFlow will do sparse updates by default, which are more computation and memory efficient.\n",
        "\n",
        "A `tf.Variable` is also a way to show a reader of your code that a piece of state is mutable."
      ]
    },
    {
      "cell_type": "code",
      "metadata": {
        "id": "FXJ9IHgGKpZJ",
        "colab_type": "code",
        "colab": {}
      },
      "source": [
        "# Define model\n",
        "# encapsulate the variable and the computation\n",
        "class Model(object):\n",
        "  \n",
        "  def __init__(self):\n",
        "    # Initialize the weights to `5.0` and the bias to `0.0`\n",
        "    # In practice, these should be initialized to random values \n",
        "    # (for example, with `tf.random.normal`)\n",
        "    self.W = tf.Variable(5.0)\n",
        "    self.b = tf.Variable(0.0)\n",
        "  \n",
        "  def __call__(self, x):\n",
        "    return self.W * x + self.b"
      ],
      "execution_count": 0,
      "outputs": []
    },
    {
      "cell_type": "code",
      "metadata": {
        "id": "IUsieI_KU20e",
        "colab_type": "code",
        "colab": {}
      },
      "source": [
        "model = Model()\n",
        "\n",
        "assert model(3.0).numpy() == 15.0"
      ],
      "execution_count": 0,
      "outputs": []
    },
    {
      "cell_type": "code",
      "metadata": {
        "id": "Npd0Ln23U53Z",
        "colab_type": "code",
        "colab": {}
      },
      "source": [
        "def loss(predicted_y, target_y):\n",
        "  return tf.reduce_mean(tf.square(predicted_y - target_y))"
      ],
      "execution_count": 0,
      "outputs": []
    },
    {
      "cell_type": "code",
      "metadata": {
        "id": "mXGk2_33VIvp",
        "colab_type": "code",
        "colab": {}
      },
      "source": [
        "# First, synthesize the training data\n",
        "# by adding random Gaussian (Normal) noise to the inputs:\n",
        "TRUE_W = 3.0\n",
        "TRUE_b = 2.0\n",
        "NUM_EXAMPLES = 1000\n",
        "\n",
        "inputs = tf.random.normal(shape=[NUM_EXAMPLES])\n",
        "noise = tf.random.normal(shape=[NUM_EXAMPLES])\n",
        "outputs = inputs * TRUE_W + TRUE_b + noise"
      ],
      "execution_count": 0,
      "outputs": []
    },
    {
      "cell_type": "code",
      "metadata": {
        "id": "yWD-3DXDVjkB",
        "colab_type": "code",
        "colab": {
          "base_uri": "https://localhost:8080/",
          "height": 282
        },
        "outputId": "3ddfd8d7-deda-43da-dfc5-78df5eca6704"
      },
      "source": [
        "# Before training the model, visualize the loss value\n",
        "# by plotting the model's predictions in red\n",
        "# and the training data in blue:\n",
        "import matplotlib.pyplot as plt\n",
        "\n",
        "plt.scatter(inputs, outputs, c='b')\n",
        "plt.scatter(inputs, model(inputs), c='r')\n",
        "plt.show()\n",
        "\n",
        "print('Current loss: %1.6f' % loss(model(inputs), outputs).numpy())"
      ],
      "execution_count": 15,
      "outputs": [
        {
          "output_type": "display_data",
          "data": {
            "image/png": "[encoded data removed]",
            "text/plain": [
              "<Figure size 432x288 with 1 Axes>"
            ]
          },
          "metadata": {
            "tags": []
          }
        },
        {
          "output_type": "stream",
          "text": [
            "Current loss: 9.217091\n"
          ],
          "name": "stdout"
        }
      ]
    },
    {
      "cell_type": "code",
      "metadata": {
        "id": "geudsN5zWvyw",
        "colab_type": "code",
        "colab": {}
      },
      "source": [
        "# Define a training loop\n",
        "def train(model, inputs, outputs, learning_rate):\n",
        "  with tf.GradientTape() as tape:\n",
        "    current_loss = loss(model(inputs), outputs)\n",
        "  dW, db = tape.gradient(current_loss, [model.W, model.b])\n",
        "  model.W.assign_sub(learning_rate * dW) # tf.assign + tf.sub\n",
        "  model.b.assign_sub(learning_rate * db)"
      ],
      "execution_count": 0,
      "outputs": []
    },
    {
      "cell_type": "code",
      "metadata": {
        "id": "a-jTZGBMZ4Lw",
        "colab_type": "code",
        "colab": {
          "base_uri": "https://localhost:8080/",
          "height": 187
        },
        "outputId": "2df1b58e-6f41-466e-ce47-bcaa7e069ccd"
      },
      "source": [
        "# Repeatedly run through the training data and see how W and b evolve.\n",
        "model = Model()\n",
        "\n",
        "# Collect the history of W-values and b-values to plot later\n",
        "Ws, bs = [], []\n",
        "epochs = range(10)\n",
        "for epoch in epochs:\n",
        "  Ws.append(model.W.numpy())\n",
        "  bs.append(model.b.numpy())\n",
        "  current_loss = loss(model(inputs), outputs)\n",
        "\n",
        "  train(model, inputs, outputs, learning_rate=0.1)\n",
        "  print('Epoch %2d: W=%1.2f b=%1.2f, loss=%2.5f' %\n",
        "        (epoch, Ws[-1], bs[-1], current_loss))"
      ],
      "execution_count": 20,
      "outputs": [
        {
          "output_type": "stream",
          "text": [
            "Epoch  0: W=5.00 b=0.00, loss=9.21709\n",
            "Epoch  1: W=4.58 b=0.41, loss=6.16095\n",
            "Epoch  2: W=4.25 b=0.73, loss=4.23819\n",
            "Epoch  3: W=3.99 b=0.99, loss=3.02848\n",
            "Epoch  4: W=3.78 b=1.20, loss=2.26737\n",
            "Epoch  5: W=3.62 b=1.36, loss=1.78851\n",
            "Epoch  6: W=3.49 b=1.48, loss=1.48722\n",
            "Epoch  7: W=3.38 b=1.59, loss=1.29766\n",
            "Epoch  8: W=3.30 b=1.67, loss=1.17839\n",
            "Epoch  9: W=3.23 b=1.73, loss=1.10334\n"
          ],
          "name": "stdout"
        }
      ]
    },
    {
      "cell_type": "code",
      "metadata": {
        "id": "CkgpIxUxaqhU",
        "colab_type": "code",
        "colab": {
          "base_uri": "https://localhost:8080/",
          "height": 265
        },
        "outputId": "870ebd7f-e3cd-493f-d59b-5477ef65c7bf"
      },
      "source": [
        "plt.plot(epochs, Ws, 'r',\n",
        "         epochs, bs, 'b')\n",
        "plt.plot([TRUE_W] * len(epochs), 'r--',\n",
        "         [TRUE_b] * len(epochs), 'b--')\n",
        "plt.legend(['W', 'b', 'True W', 'True b'])\n",
        "plt.show()"
      ],
      "execution_count": 21,
      "outputs": [
        {
          "output_type": "display_data",
          "data": {
            "image/png": "[encoded data removed]",
            "text/plain": [
              "<Figure size 432x288 with 1 Axes>"
            ]
          },
          "metadata": {
            "tags": []
          }
        }
      ]
    },
    {
      "cell_type": "code",
      "metadata": {
        "id": "sPMthZoVbTjl",
        "colab_type": "code",
        "colab": {}
      },
      "source": [
        ""
      ],
      "execution_count": 0,
      "outputs": []
    }
  ]
}