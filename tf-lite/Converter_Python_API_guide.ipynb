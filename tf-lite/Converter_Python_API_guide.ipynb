{
 "cells": [
  {
   "cell_type": "markdown",
   "metadata": {},
   "source": [
    "### Converting a SavedModel\n",
    "The following example shows how to convert a SavedModel into a TensorFlow Lite FlatBuffer."
   ]
  },
  {
   "cell_type": "code",
   "execution_count": 21,
   "metadata": {},
   "outputs": [
    {
     "name": "stdout",
     "output_type": "stream",
     "text": [
      "INFO:tensorflow:Assets written to: /tmp/test_saved_model/assets\n"
     ]
    }
   ],
   "source": [
    "import tensorflow as tf\n",
    "\n",
    "# Construct a basic model.\n",
    "root = tf.train.Checkpoint()\n",
    "root.v1 = tf.Variable(3.)\n",
    "root.v2 = tf.Variable(2.)\n",
    "root.f = tf.function(lambda x: root.v1 * root.v2 * x)\n",
    "\n",
    "# Save the model.\n",
    "export_dir = '/tmp/test_saved_model'\n",
    "input_data = tf.constant(1., shape=[1, 1])\n",
    "to_save = root.f.get_concrete_function(input_data)\n",
    "tf.saved_model.save(root, export_dir, to_save)\n",
    "\n",
    "# Convert the model\n",
    "converter = tf.lite.TFLiteConverter.from_saved_model(export_dir)\n",
    "tflite_model = converter.convert()"
   ]
  },
  {
   "cell_type": "markdown",
   "metadata": {},
   "source": [
    "This API does not have the option of specifying the input shape of any input arrays. If your model requires specifying the input shape, use the `from_concrete_functions` classmethod instead. The code looks similar to the following:"
   ]
  },
  {
   "cell_type": "markdown",
   "metadata": {},
   "source": [
    "### Converting a Keras model\n",
    "The following example shows hot to convert a `tf.keras` model into TensorFlow Lite `FlatBuffer`"
   ]
  },
  {
   "cell_type": "code",
   "execution_count": 4,
   "metadata": {},
   "outputs": [
    {
     "name": "stdout",
     "output_type": "stream",
     "text": [
      "Train on 6 samples\n",
      "Epoch 1/50\n",
      "6/6 [==============================] - 0s 29ms/sample - loss: 36.1476\n",
      "Epoch 2/50\n",
      "6/6 [==============================] - 0s 1ms/sample - loss: 28.7784\n",
      "Epoch 3/50\n",
      "6/6 [==============================] - 0s 2ms/sample - loss: 22.9736\n",
      "Epoch 4/50\n",
      "6/6 [==============================] - 0s 3ms/sample - loss: 18.3998\n",
      "Epoch 5/50\n",
      "6/6 [==============================] - 0s 2ms/sample - loss: 14.7948\n",
      "Epoch 6/50\n",
      "6/6 [==============================] - 0s 3ms/sample - loss: 11.9519\n",
      "Epoch 7/50\n",
      "6/6 [==============================] - 0s 2ms/sample - loss: 9.7089\n",
      "Epoch 8/50\n",
      "6/6 [==============================] - 0s 2ms/sample - loss: 7.9379\n",
      "Epoch 9/50\n",
      "6/6 [==============================] - 0s 2ms/sample - loss: 6.5384\n",
      "Epoch 10/50\n",
      "6/6 [==============================] - 0s 2ms/sample - loss: 5.4314\n",
      "Epoch 11/50\n",
      "6/6 [==============================] - 0s 2ms/sample - loss: 4.5545\n",
      "Epoch 12/50\n",
      "6/6 [==============================] - 0s 2ms/sample - loss: 3.8588\n",
      "Epoch 13/50\n",
      "6/6 [==============================] - 0s 2ms/sample - loss: 3.3059\n",
      "Epoch 14/50\n",
      "6/6 [==============================] - 0s 3ms/sample - loss: 2.8653\n",
      "Epoch 15/50\n",
      "6/6 [==============================] - 0s 3ms/sample - loss: 2.5132\n",
      "Epoch 16/50\n",
      "6/6 [==============================] - 0s 3ms/sample - loss: 2.2309\n",
      "Epoch 17/50\n",
      "6/6 [==============================] - 0s 3ms/sample - loss: 2.0035\n",
      "Epoch 18/50\n",
      "6/6 [==============================] - 0s 2ms/sample - loss: 1.8196\n",
      "Epoch 19/50\n",
      "6/6 [==============================] - 0s 2ms/sample - loss: 1.6699\n",
      "Epoch 20/50\n",
      "6/6 [==============================] - 0s 2ms/sample - loss: 1.5472\n",
      "Epoch 21/50\n",
      "6/6 [==============================] - 0s 3ms/sample - loss: 1.4459\n",
      "Epoch 22/50\n",
      "6/6 [==============================] - 0s 2ms/sample - loss: 1.3615\n",
      "Epoch 23/50\n",
      "6/6 [==============================] - 0s 2ms/sample - loss: 1.2905\n",
      "Epoch 24/50\n",
      "6/6 [==============================] - 0s 2ms/sample - loss: 1.2301\n",
      "Epoch 25/50\n",
      "6/6 [==============================] - 0s 3ms/sample - loss: 1.1782\n",
      "Epoch 26/50\n",
      "6/6 [==============================] - 0s 2ms/sample - loss: 1.1330\n",
      "Epoch 27/50\n",
      "6/6 [==============================] - 0s 3ms/sample - loss: 1.0933\n",
      "Epoch 28/50\n",
      "6/6 [==============================] - 0s 2ms/sample - loss: 1.0578\n",
      "Epoch 29/50\n",
      "6/6 [==============================] - 0s 2ms/sample - loss: 1.0259\n",
      "Epoch 30/50\n",
      "6/6 [==============================] - 0s 2ms/sample - loss: 0.9968\n",
      "Epoch 31/50\n",
      "6/6 [==============================] - 0s 2ms/sample - loss: 0.9700\n",
      "Epoch 32/50\n",
      "6/6 [==============================] - 0s 2ms/sample - loss: 0.9451\n",
      "Epoch 33/50\n",
      "6/6 [==============================] - 0s 2ms/sample - loss: 0.9218\n",
      "Epoch 34/50\n",
      "6/6 [==============================] - 0s 3ms/sample - loss: 0.8998\n",
      "Epoch 35/50\n",
      "6/6 [==============================] - 0s 3ms/sample - loss: 0.8789\n",
      "Epoch 36/50\n",
      "6/6 [==============================] - 0s 2ms/sample - loss: 0.8589\n",
      "Epoch 37/50\n",
      "6/6 [==============================] - 0s 2ms/sample - loss: 0.8398\n",
      "Epoch 38/50\n",
      "6/6 [==============================] - 0s 2ms/sample - loss: 0.8213\n",
      "Epoch 39/50\n",
      "6/6 [==============================] - 0s 2ms/sample - loss: 0.8035\n",
      "Epoch 40/50\n",
      "6/6 [==============================] - 0s 2ms/sample - loss: 0.7863\n",
      "Epoch 41/50\n",
      "6/6 [==============================] - 0s 2ms/sample - loss: 0.7696\n",
      "Epoch 42/50\n",
      "6/6 [==============================] - 0s 2ms/sample - loss: 0.7533\n",
      "Epoch 43/50\n",
      "6/6 [==============================] - 0s 2ms/sample - loss: 0.7375\n",
      "Epoch 44/50\n",
      "6/6 [==============================] - 0s 2ms/sample - loss: 0.7221\n",
      "Epoch 45/50\n",
      "6/6 [==============================] - 0s 2ms/sample - loss: 0.7070\n",
      "Epoch 46/50\n",
      "6/6 [==============================] - 0s 2ms/sample - loss: 0.6923\n",
      "Epoch 47/50\n",
      "6/6 [==============================] - 0s 2ms/sample - loss: 0.6780\n",
      "Epoch 48/50\n",
      "6/6 [==============================] - 0s 2ms/sample - loss: 0.6639\n",
      "Epoch 49/50\n",
      "6/6 [==============================] - 0s 2ms/sample - loss: 0.6502\n",
      "Epoch 50/50\n",
      "6/6 [==============================] - 0s 2ms/sample - loss: 0.6368\n"
     ]
    },
    {
     "data": {
      "text/plain": [
       "<tensorflow.python.keras.callbacks.History at 0x134fc8650>"
      ]
     },
     "execution_count": 4,
     "metadata": {},
     "output_type": "execute_result"
    }
   ],
   "source": [
    "# Create a simple Keras model.\n",
    "x = [-1, 0, 1, 2, 3, 4]\n",
    "y = [-3, -1, 1, 3, 5, 7]\n",
    "\n",
    "model = tf.keras.models.Sequential([\n",
    "    tf.keras.layers.Dense(units=1, input_shape=[1])])\n",
    "model.compile(optimizer='sgd', loss='mean_squared_error')\n",
    "model.fit(x, y, epochs=50)"
   ]
  },
  {
   "cell_type": "code",
   "execution_count": 7,
   "metadata": {},
   "outputs": [],
   "source": [
    "# Convert the model\n",
    "converter = tf.lite.TFLiteConverter.from_keras_model(model)\n",
    "tflite_model = converter.convert()"
   ]
  },
  {
   "cell_type": "code",
   "execution_count": 8,
   "metadata": {},
   "outputs": [
    {
     "data": {
      "text/plain": [
       "732"
      ]
     },
     "execution_count": 8,
     "metadata": {},
     "output_type": "execute_result"
    }
   ],
   "source": [
    "open('converted_model.tflite', 'wb').write(tflite_model)"
   ]
  },
  {
   "cell_type": "markdown",
   "metadata": {},
   "source": [
    "### Converting a concrete function\n",
    "The following example shows how to convert a TensorFlow `concrete function` into a TensorFlow Lite `FlatBuffer`."
   ]
  },
  {
   "cell_type": "code",
   "execution_count": 9,
   "metadata": {},
   "outputs": [],
   "source": [
    "# Construct a basic model.\n",
    "root = tf.train.Checkpoint()\n",
    "root.v1 = tf.Variable(3.)\n",
    "root.v2 = tf.Variable(2.)\n",
    "root.f = tf.function(lambda x: root.v1 * root.v2)\n",
    "\n",
    "# Create the concrete function.\n",
    "input_data = tf.constant(1., shape=[1, 1])\n",
    "concrete_func = root.f.get_concrete_function(input_data)\n",
    "\n",
    "# Convert the model.\n",
    "# `from_concrete_function` takes a list of concrete functions, however,\n",
    "# currently only supports converting one function at a time. Converting multiple\n",
    "# functions is under development.\n",
    "converter = tf.lite.TFLiteConverter.from_concrete_functions([concrete_func])\n",
    "tflite_model = converter.convert()"
   ]
  },
  {
   "cell_type": "markdown",
   "metadata": {},
   "source": [
    "### End-to-end MobileNet conversion\n",
    "The following example shows hot to convert and run inference on pre-trained `tf.keras` MobileNet model to TensorFlow Lite.\n",
    "It compares the results of the TensorFlow and TensorFlow Lite model on random data. In order to load the model from file, use `model_path` instead of `model_content`"
   ]
  },
  {
   "cell_type": "code",
   "execution_count": 10,
   "metadata": {},
   "outputs": [
    {
     "name": "stdout",
     "output_type": "stream",
     "text": [
      "Downloading data from https://github.com/JonathanCMitchell/mobilenet_v2_keras/releases/download/v1.1/mobilenet_v2_weights_tf_dim_ordering_tf_kernels_1.0_224.h5\n",
      "14540800/14536120 [==============================] - 2s 0us/step\n",
      "[{'name': 'input_1', 'index': 1, 'shape': array([  1, 224, 224,   3], dtype=int32), 'dtype': <class 'numpy.float32'>, 'quantization': (0.0, 0)}]\n"
     ]
    }
   ],
   "source": [
    "# Load the MobileNet tf.keras.model.\n",
    "model = tf.keras.applications.MobileNetV2(\n",
    "    weights='imagenet', input_shape=(224, 224, 3))\n",
    "\n",
    "# Convert the model.\n",
    "converter = tf.lite.TFLiteConverter.from_keras_model(model)\n",
    "tflite_model = converter.convert()\n",
    "\n",
    "# Load TFLite model and allocate tensors.\n",
    "interpreter = tf.lite.Interpreter(model_content=tflite_model)\n",
    "interpreter.allocate_tensors() # ???\n",
    "\n",
    "# Get input and output tensors.\n",
    "input_details = interpreter.get_input_details()\n",
    "output_details = interpreter.get_output_details()\n",
    "\n",
    "print(input_details)"
   ]
  },
  {
   "cell_type": "code",
   "execution_count": 14,
   "metadata": {},
   "outputs": [
    {
     "name": "stdout",
     "output_type": "stream",
     "text": [
      "{'name': 'input_1', 'index': 1, 'shape': array([  1, 224, 224,   3], dtype=int32), 'dtype': <class 'numpy.float32'>, 'quantization': (0.0, 0)}\n"
     ]
    }
   ],
   "source": [
    "print(input_details[0])"
   ]
  },
  {
   "cell_type": "code",
   "execution_count": 15,
   "metadata": {},
   "outputs": [],
   "source": [
    "import numpy as np\n",
    "\n",
    "\n",
    "# Test the TensorFlow Lite model on random input data.\n",
    "input_shape = input_details[0]['shape']\n",
    "input_data = np.array(np.random.random_sample(input_shape), dtype=np.float32)\n",
    "interpreter.set_tensor(input_details[0]['index'], input_data)"
   ]
  },
  {
   "cell_type": "code",
   "execution_count": 16,
   "metadata": {},
   "outputs": [],
   "source": [
    "interpreter.invoke()"
   ]
  },
  {
   "cell_type": "code",
   "execution_count": 17,
   "metadata": {},
   "outputs": [],
   "source": [
    "# The function `get_tensor()` returns a copy of the tensor data.\n",
    "# Use `tensor()` in order to get a pointer to the tensor.\n",
    "tflite_results = interpreter.get_tensor(output_details[0]['index'])"
   ]
  },
  {
   "cell_type": "code",
   "execution_count": 19,
   "metadata": {},
   "outputs": [],
   "source": [
    "# Test the TensorFlow model on random input data.\n",
    "tf_results = model(tf.constant(input_data))"
   ]
  },
  {
   "cell_type": "code",
   "execution_count": 20,
   "metadata": {},
   "outputs": [],
   "source": [
    "# Compare the result.\n",
    "for tf_result, tflite_result in zip(tf_results, tflite_results):\n",
    "    np.testing.assert_almost_equal(tf_result, tflite_result, decimal=5)"
   ]
  },
  {
   "cell_type": "code",
   "execution_count": null,
   "metadata": {},
   "outputs": [],
   "source": []
  }
 ],
 "metadata": {
  "kernelspec": {
   "display_name": "Python 3",
   "language": "python",
   "name": "python3"
  },
  "language_info": {
   "codemirror_mode": {
    "name": "ipython",
    "version": 3
   },
   "file_extension": ".py",
   "mimetype": "text/x-python",
   "name": "python",
   "nbconvert_exporter": "python",
   "pygments_lexer": "ipython3",
   "version": "3.7.4"
  }
 },
 "nbformat": 4,
 "nbformat_minor": 2
}
