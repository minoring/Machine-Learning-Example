{
  "nbformat": 4,
  "nbformat_minor": 0,
  "metadata": {
    "colab": {
      "name": "Hello-many-world.ipynb",
      "provenance": []
    },
    "kernelspec": {
      "name": "python3",
      "display_name": "Python 3"
    },
    "accelerator": "GPU"
  },
  "cells": [
    {
      "cell_type": "code",
      "metadata": {
        "id": "PNec9Pl7p9gp",
        "colab_type": "code",
        "colab": {}
      },
      "source": [
        "%tensorflow_version 2.x\n",
        "!pip install -q tensorflow-quantum\n",
        "import tensorflow as tf\n",
        "import tensorflow_quantum as tfq\n",
        "\n",
        "import cirq\n",
        "import sympy\n",
        "import numpy as np\n",
        "\n",
        "%matplotlib inline\n",
        "import matplotlib.pyplot as plt\n",
        "from cirq.contrib.svg import SVGCircuit"
      ],
      "execution_count": 0,
      "outputs": []
    },
    {
      "cell_type": "code",
      "metadata": {
        "id": "IuWekbcUqM7K",
        "colab_type": "code",
        "colab": {}
      },
      "source": [
        "a, b = sympy.symbols('a b')"
      ],
      "execution_count": 0,
      "outputs": []
    },
    {
      "cell_type": "code",
      "metadata": {
        "id": "6IPoeaoEqzIe",
        "colab_type": "code",
        "colab": {
          "base_uri": "https://localhost:8080/",
          "height": 34
        },
        "outputId": "c42db235-286f-4d12-bdd1-1b9e365da934"
      },
      "source": [
        "a"
      ],
      "execution_count": 7,
      "outputs": [
        {
          "output_type": "execute_result",
          "data": {
            "text/latex": "$\\displaystyle a$",
            "text/plain": [
              "a"
            ]
          },
          "metadata": {
            "tags": []
          },
          "execution_count": 7
        }
      ]
    },
    {
      "cell_type": "code",
      "metadata": {
        "id": "qSSmnmEAqzpQ",
        "colab_type": "code",
        "colab": {
          "base_uri": "https://localhost:8080/",
          "height": 34
        },
        "outputId": "c5909582-2f15-4277-f27f-aacf86eda6f1"
      },
      "source": [
        "b"
      ],
      "execution_count": 8,
      "outputs": [
        {
          "output_type": "execute_result",
          "data": {
            "text/latex": "$\\displaystyle b$",
            "text/plain": [
              "b"
            ]
          },
          "metadata": {
            "tags": []
          },
          "execution_count": 8
        }
      ]
    },
    {
      "cell_type": "code",
      "metadata": {
        "id": "LPn2TfWkq0JF",
        "colab_type": "code",
        "colab": {
          "base_uri": "https://localhost:8080/",
          "height": 138
        },
        "outputId": "d4392e80-4c8b-40cb-cf48-afdeddda4a4c"
      },
      "source": [
        "# Create two qubits\n",
        "q0, q1 = cirq.GridQubit.rect(1, 2)\n",
        "\n",
        "# Create a circuit on these qubits using the parameters you created above.\n",
        "circuit = cirq.Circuit(\n",
        "    cirq.rx(a).on(q0),\n",
        "    cirq.ry(b).on(q1), cirq.CNOT(control=q0, target=q1))\n",
        "\n",
        "SVGCircuit(circuit)"
      ],
      "execution_count": 11,
      "outputs": [
        {
          "output_type": "stream",
          "text": [
            "findfont: Font family ['Arial'] not found. Falling back to DejaVu Sans.\n"
          ],
          "name": "stderr"
        },
        {
          "output_type": "execute_result",
          "data": {
            "text/plain": [
              "<cirq.contrib.svg.svg.SVGCircuit at 0x7fb23a18f278>"
            ],
            "image/svg+xml": "<svg xmlns=\"http://www.w3.org/2000/svg\" width=\"234.75343750000002\" height=\"100.0\"><line x1=\"34.7588671875\" x2=\"204.75343750000002\" y1=\"25.0\" y2=\"25.0\" stroke=\"#1967d2\" stroke-width=\"1\" /><line x1=\"34.7588671875\" x2=\"204.75343750000002\" y1=\"75.0\" y2=\"75.0\" stroke=\"#1967d2\" stroke-width=\"1\" /><line x1=\"164.75343750000002\" x2=\"164.75343750000002\" y1=\"25.0\" y2=\"75.0\" stroke=\"black\" stroke-width=\"3\" /><rect x=\"10.0\" y=\"5.0\" width=\"49.517734375\" height=\"40\" stroke=\"black\" fill=\"white\" stroke-width=\"0\" /><text x=\"34.7588671875\" y=\"25.0\" dominant-baseline=\"middle\" text-anchor=\"middle\" font-size=\"14px\">(0, 0): </text><rect x=\"10.0\" y=\"55.0\" width=\"49.517734375\" height=\"40\" stroke=\"black\" fill=\"white\" stroke-width=\"0\" /><text x=\"34.7588671875\" y=\"75.0\" dominant-baseline=\"middle\" text-anchor=\"middle\" font-size=\"14px\">(0, 1): </text><rect x=\"79.517734375\" y=\"5.0\" width=\"45.235703125\" height=\"40\" stroke=\"black\" fill=\"white\" stroke-width=\"1\" /><text x=\"102.1355859375\" y=\"25.0\" dominant-baseline=\"middle\" text-anchor=\"middle\" font-size=\"14px\">Rx(a)</text><rect x=\"79.517734375\" y=\"55.0\" width=\"45.235703125\" height=\"40\" stroke=\"black\" fill=\"white\" stroke-width=\"1\" /><text x=\"102.1355859375\" y=\"75.0\" dominant-baseline=\"middle\" text-anchor=\"middle\" font-size=\"14px\">Ry(b)</text><circle cx=\"164.75343750000002\" cy=\"25.0\" r=\"10.0\" /><rect x=\"144.75343750000002\" y=\"55.0\" width=\"40\" height=\"40\" stroke=\"black\" fill=\"white\" stroke-width=\"1\" /><text x=\"164.75343750000002\" y=\"75.0\" dominant-baseline=\"middle\" text-anchor=\"middle\" font-size=\"18px\">X</text></svg>"
          },
          "metadata": {
            "tags": []
          },
          "execution_count": 11
        }
      ]
    },
    {
      "cell_type": "code",
      "metadata": {
        "id": "RqXM6EVrrGe9",
        "colab_type": "code",
        "colab": {
          "base_uri": "https://localhost:8080/",
          "height": 51
        },
        "outputId": "0d85f00c-6234-43f8-b621-1a061951b5ae"
      },
      "source": [
        "# Calculate a state vector with a=0.5 and b=-0.5\n",
        "resolver = cirq.ParamResolver({a: 0.5, b: -0.5})\n",
        "output_state_vector = cirq.Simulator().simulate(circuit, resolver).final_state\n",
        "output_state_vector"
      ],
      "execution_count": 14,
      "outputs": [
        {
          "output_type": "execute_result",
          "data": {
            "text/plain": [
              "array([ 0.9387913 +0.j        , -0.23971277+0.j        ,\n",
              "        0.        +0.06120872j,  0.        -0.23971277j], dtype=complex64)"
            ]
          },
          "metadata": {
            "tags": []
          },
          "execution_count": 14
        }
      ]
    },
    {
      "cell_type": "code",
      "metadata": {
        "id": "od9Mmn0OrmG8",
        "colab_type": "code",
        "colab": {
          "base_uri": "https://localhost:8080/",
          "height": 34
        },
        "outputId": "919f2166-bf51-404e-895f-6d35f7dbe9f9"
      },
      "source": [
        "z0 = cirq.Z(q0)\n",
        "\n",
        "qubit_map = {q0: 0, q1: 1}\n",
        "z0.expectation_from_wavefunction(output_state_vector, qubit_map).real"
      ],
      "execution_count": 15,
      "outputs": [
        {
          "output_type": "execute_result",
          "data": {
            "text/plain": [
              "0.8775825500488281"
            ]
          },
          "metadata": {
            "tags": []
          },
          "execution_count": 15
        }
      ]
    },
    {
      "cell_type": "code",
      "metadata": {
        "id": "3Vq2xRV_sBD5",
        "colab_type": "code",
        "colab": {
          "base_uri": "https://localhost:8080/",
          "height": 34
        },
        "outputId": "7fea7243-4ea8-4e51-ec68-cc144499bc2f"
      },
      "source": [
        "z0x1 = 0.5 * z0 + cirq.X(q1)\n",
        "\n",
        "z0x1.expectation_from_wavefunction(output_state_vector, qubit_map).real"
      ],
      "execution_count": 16,
      "outputs": [
        {
          "output_type": "execute_result",
          "data": {
            "text/plain": [
              "-0.04063427448272705"
            ]
          },
          "metadata": {
            "tags": []
          },
          "execution_count": 16
        }
      ]
    },
    {
      "cell_type": "code",
      "metadata": {
        "id": "1YVD_dYSsI4X",
        "colab_type": "code",
        "colab": {
          "base_uri": "https://localhost:8080/",
          "height": 51
        },
        "outputId": "678e8f33-b2d6-4612-e4c7-2407d3b9f39a"
      },
      "source": [
        "# Rank 1 tensor containing 1 circuit.\n",
        "circuit_tensor = tfq.convert_to_tensor([circuit])\n",
        "\n",
        "print(circuit_tensor.shape)\n",
        "print(circuit_tensor.dtype)"
      ],
      "execution_count": 17,
      "outputs": [
        {
          "output_type": "stream",
          "text": [
            "(1,)\n",
            "<dtype: 'string'>\n"
          ],
          "name": "stdout"
        }
      ]
    },
    {
      "cell_type": "code",
      "metadata": {
        "id": "suwnDBsIsYnv",
        "colab_type": "code",
        "colab": {
          "base_uri": "https://localhost:8080/",
          "height": 34
        },
        "outputId": "4f729c22-7de9-40b8-bbad-1bb5eac808db"
      },
      "source": [
        "# Rank 1 tensor containing 2 Pauli operators.\n",
        "pauli_tensor = tfq.convert_to_tensor([z0, z0x1])\n",
        "pauli_tensor.shape"
      ],
      "execution_count": 18,
      "outputs": [
        {
          "output_type": "execute_result",
          "data": {
            "text/plain": [
              "TensorShape([2])"
            ]
          },
          "metadata": {
            "tags": []
          },
          "execution_count": 18
        }
      ]
    },
    {
      "cell_type": "code",
      "metadata": {
        "id": "75yEmUObsidl",
        "colab_type": "code",
        "colab": {}
      },
      "source": [
        "batch_vals = np.array(np.random.uniform(0, 2 * np.pi, (5, 2)), dtype=np.float32)"
      ],
      "execution_count": 0,
      "outputs": []
    },
    {
      "cell_type": "code",
      "metadata": {
        "id": "5I2j6NA1sx50",
        "colab_type": "code",
        "colab": {
          "base_uri": "https://localhost:8080/",
          "height": 119
        },
        "outputId": "5806eef7-dd9d-4700-bf25-173ad53a1661"
      },
      "source": [
        "cirq_results = []\n",
        "cirq_simulator = cirq.Simulator()\n",
        "\n",
        "for vals in batch_vals:\n",
        "    resolver = cirq.ParamResolver({a: vals[0], b: vals[1]})\n",
        "    final_state = cirq_simulator.simulate(circuit, resolver).final_state\n",
        "    cirq_results.append(\n",
        "        [z0.expectation_from_wavefunction(final_state, {\n",
        "            q0: 0,\n",
        "            q1: 1\n",
        "        }).real])\n",
        "\n",
        "print('cirq batch results: \\n {}'.format(np.array(cirq_results)))"
      ],
      "execution_count": 26,
      "outputs": [
        {
          "output_type": "stream",
          "text": [
            "cirq batch results: \n",
            " [[ 0.01191249]\n",
            " [ 0.94867182]\n",
            " [ 0.51924688]\n",
            " [-0.65617692]\n",
            " [ 0.98844975]]\n"
          ],
          "name": "stdout"
        }
      ]
    },
    {
      "cell_type": "code",
      "metadata": {
        "id": "0G54NI2FtLKi",
        "colab_type": "code",
        "colab": {
          "base_uri": "https://localhost:8080/",
          "height": 119
        },
        "outputId": "cea8e85a-7704-4375-99af-229d9be30f03"
      },
      "source": [
        "tfq.layers.Expectation()(circuit,\n",
        "                         symbol_names=[a, b],\n",
        "                         symbol_values=batch_vals,\n",
        "                         operators=z0)"
      ],
      "execution_count": 27,
      "outputs": [
        {
          "output_type": "execute_result",
          "data": {
            "text/plain": [
              "<tf.Tensor: shape=(5, 1), dtype=float32, numpy=\n",
              "array([[ 0.01191243],\n",
              "       [ 0.9486718 ],\n",
              "       [ 0.5192468 ],\n",
              "       [-0.65617675],\n",
              "       [ 0.9884497 ]], dtype=float32)>"
            ]
          },
          "metadata": {
            "tags": []
          },
          "execution_count": 27
        }
      ]
    },
    {
      "cell_type": "code",
      "metadata": {
        "id": "bSQkf024tXcb",
        "colab_type": "code",
        "colab": {
          "base_uri": "https://localhost:8080/",
          "height": 71
        },
        "outputId": "a24c78e3-5a45-4dba-99ac-7a36d615a897"
      },
      "source": [
        "# Parameters that the classical NN will feed values into\n",
        "control_params = sympy.symbols('theta_1 theta_2 theta_3')\n",
        "\n",
        "# Create the parameterized circuit.\n",
        "qubit = cirq.GridQubit(0, 0)\n",
        "model_circuit = cirq.Circuit(\n",
        "    cirq.rz(control_params[0])(qubit),\n",
        "    cirq.ry(control_params[1])(qubit),\n",
        "    cirq.rx(control_params[2])(qubit))\n",
        "\n",
        "SVGCircuit(model_circuit)"
      ],
      "execution_count": 28,
      "outputs": [
        {
          "output_type": "execute_result",
          "data": {
            "text/plain": [
              "<cirq.contrib.svg.svg.SVGCircuit at 0x7fb230275390>"
            ],
            "image/svg+xml": "<svg xmlns=\"http://www.w3.org/2000/svg\" width=\"436.5035546875\" height=\"50.0\"><line x1=\"34.7588671875\" x2=\"406.5035546875\" y1=\"25.0\" y2=\"25.0\" stroke=\"#1967d2\" stroke-width=\"1\" /><rect x=\"10.0\" y=\"5.0\" width=\"49.517734375\" height=\"40\" stroke=\"black\" fill=\"white\" stroke-width=\"0\" /><text x=\"34.7588671875\" y=\"25.0\" dominant-baseline=\"middle\" text-anchor=\"middle\" font-size=\"14px\">(0, 0): </text><rect x=\"79.517734375\" y=\"5.0\" width=\"88.37457031250001\" height=\"40\" stroke=\"black\" fill=\"white\" stroke-width=\"1\" /><text x=\"123.70501953125\" y=\"25.0\" dominant-baseline=\"middle\" text-anchor=\"middle\" font-size=\"14px\">Rz(theta_1)</text><rect x=\"187.89230468750003\" y=\"5.0\" width=\"89.30015625\" height=\"40\" stroke=\"black\" fill=\"white\" stroke-width=\"1\" /><text x=\"232.54238281250002\" y=\"25.0\" dominant-baseline=\"middle\" text-anchor=\"middle\" font-size=\"14px\">Ry(theta_2)</text><rect x=\"297.1924609375\" y=\"5.0\" width=\"89.31109375000001\" height=\"40\" stroke=\"black\" fill=\"white\" stroke-width=\"1\" /><text x=\"341.84800781250004\" y=\"25.0\" dominant-baseline=\"middle\" text-anchor=\"middle\" font-size=\"14px\">Rx(theta_3)</text></svg>"
          },
          "metadata": {
            "tags": []
          },
          "execution_count": 28
        }
      ]
    },
    {
      "cell_type": "code",
      "metadata": {
        "id": "5BoRBkcNuDlE",
        "colab_type": "code",
        "colab": {}
      },
      "source": [
        "# Define controller network\n",
        "\n",
        "# the classical neural network layers.\n",
        "controller = tf.keras.Sequential([\n",
        "    tf.keras.layers.Dense(10, activation='relu'),\n",
        "    tf.keras.layers.Dense(3)\n",
        "])"
      ],
      "execution_count": 0,
      "outputs": []
    },
    {
      "cell_type": "code",
      "metadata": {
        "id": "Jvnuvbq6uQrk",
        "colab_type": "code",
        "colab": {
          "base_uri": "https://localhost:8080/",
          "height": 51
        },
        "outputId": "6d54296c-5f6f-46ec-efbc-b80511fb55c1"
      },
      "source": [
        "# Given a batch of commands, the controller outputs a batch of\n",
        "# control signals for the controlled circuit.\n",
        "# The controller is randomly initialized so these output are not useful, yet.\n",
        "controller(tf.constant([[0.0], [1.0]])).numpy()"
      ],
      "execution_count": 31,
      "outputs": [
        {
          "output_type": "execute_result",
          "data": {
            "text/plain": [
              "array([[ 0.        ,  0.        ,  0.        ],\n",
              "       [-0.05786071,  0.20824674, -0.3152286 ]], dtype=float32)"
            ]
          },
          "metadata": {
            "tags": []
          },
          "execution_count": 31
        }
      ]
    },
    {
      "cell_type": "code",
      "metadata": {
        "id": "vH8lpIoiudve",
        "colab_type": "code",
        "colab": {}
      },
      "source": [
        "# This input is the simulated miscalibration that the model will learn to correct.\n",
        "circuits_input = tf.keras.Input(shape=(),\n",
        "                               # The circuit-tensor has dtype `tf.string`\n",
        "                               dtype=tf.string,\n",
        "                               name='circuit_input')\n",
        "\n",
        "# Commands will be either `0` or `1`, specifying the state to set the qubit to.\n",
        "commands_input = tf.keras.Input(shape=(1, ),\n",
        "                                dtype=tf.dtypes.float32,\n",
        "                                name='commands_input')"
      ],
      "execution_count": 0,
      "outputs": []
    },
    {
      "cell_type": "code",
      "metadata": {
        "id": "WcfSCD0_u8fm",
        "colab_type": "code",
        "colab": {}
      },
      "source": [
        "# Apply operations to those inputs, to define the commputation\n",
        "\n",
        "dense_2 = controller(commands_input)\n",
        "\n",
        "# TFQ layer for classifcally controlled circuits.\n",
        "expectation_layer = tfq.layers.ControlledPQC(model_circuit,\n",
        "                                             # Observe Z\n",
        "                                             operators=cirq.Z(qubit))\n",
        "expectation = expectation_layer([circuits_input, dense_2])"
      ],
      "execution_count": 0,
      "outputs": []
    },
    {
      "cell_type": "code",
      "metadata": {
        "id": "P6uKKgIrvPnb",
        "colab_type": "code",
        "colab": {}
      },
      "source": [
        "# Package this compuatation as a `tf.keras.Model`\n",
        "\n",
        "# The full Keras model is built from out layers.\n",
        "model = tf.keras.Model(inputs=[circuits_input, commands_input],\n",
        "                       outputs=expectation)"
      ],
      "execution_count": 0,
      "outputs": []
    },
    {
      "cell_type": "code",
      "metadata": {
        "id": "_Qu1ClUAvdTw",
        "colab_type": "code",
        "colab": {
          "base_uri": "https://localhost:8080/",
          "height": 232
        },
        "outputId": "7debe8fb-18e6-445f-9935-6cb707fa5f44"
      },
      "source": [
        "tf.keras.utils.plot_model(model, show_shapes=True, dpi=70)"
      ],
      "execution_count": 39,
      "outputs": [
        {
          "output_type": "execute_result",
          "data": {
            "image/png": "[encoded data removed]",
            "text/plain": [
              "<IPython.core.display.Image object>"
            ]
          },
          "metadata": {
            "tags": []
          },
          "execution_count": 39
        }
      ]
    },
    {
      "cell_type": "code",
      "metadata": {
        "id": "wSxDxZUyvi_L",
        "colab_type": "code",
        "colab": {}
      },
      "source": [
        "# The command input values to the classical NN.\n",
        "commands = np.array([[0], [1]], dtype=np.float32)\n",
        "\n",
        "# The desired Z expectaiton value at output of quantum circuit.\n",
        "expected_outputs = np.array([[1], [-1]], dtype=np.float32)"
      ],
      "execution_count": 0,
      "outputs": []
    },
    {
      "cell_type": "code",
      "metadata": {
        "id": "GCxtQ_yGv2LL",
        "colab_type": "code",
        "colab": {}
      },
      "source": [
        "# The input-circuit below defines the ranodm miscalibration\n",
        "# the model will learn to correct.\n",
        "random_rotations = np.random.uniform(0, 2 * np.pi, 3)\n",
        "datapoint_circuits = tfq.convert_to_tensor([\n",
        "    cirq.Circuit(\n",
        "        cirq.rx(random_rotations[0])(qubit),\n",
        "        cirq.ry(random_rotations[1])(qubit),\n",
        "        cirq.rz(random_rotations[2])(qubit))\n",
        "    ] * 2) # Make two copied of this circuit"
      ],
      "execution_count": 0,
      "outputs": []
    },
    {
      "cell_type": "code",
      "metadata": {
        "id": "3tXmTKnywUPy",
        "colab_type": "code",
        "colab": {
          "base_uri": "https://localhost:8080/",
          "height": 34
        },
        "outputId": "e6629af9-fd02-4428-e581-3274262427d0"
      },
      "source": [
        "datapoint_circuits.shape"
      ],
      "execution_count": 46,
      "outputs": [
        {
          "output_type": "execute_result",
          "data": {
            "text/plain": [
              "TensorShape([2])"
            ]
          },
          "metadata": {
            "tags": []
          },
          "execution_count": 46
        }
      ]
    },
    {
      "cell_type": "code",
      "metadata": {
        "id": "2d_Cl9OEwZUx",
        "colab_type": "code",
        "colab": {
          "base_uri": "https://localhost:8080/",
          "height": 51
        },
        "outputId": "6e465126-ea8c-4987-c6d4-72edb8ff1e51"
      },
      "source": [
        "model([datapoint_circuits, commands]).numpy()"
      ],
      "execution_count": 47,
      "outputs": [
        {
          "output_type": "execute_result",
          "data": {
            "text/plain": [
              "array([[0.22775443],\n",
              "       [0.38682213]], dtype=float32)"
            ]
          },
          "metadata": {
            "tags": []
          },
          "execution_count": 47
        }
      ]
    },
    {
      "cell_type": "code",
      "metadata": {
        "id": "xqn0E2hBwjNH",
        "colab_type": "code",
        "colab": {}
      },
      "source": [
        "# Run a standard training process to adjust these values\n",
        "# towards the `expected_outputs`.\n",
        "optimizer = tf.keras.optimizers.Adam(learning_rate=0.05)\n",
        "loss = tf.keras.losses.MeanSquaredError()\n",
        "model.compile(optimizer=optimizer, loss=loss)\n",
        "history = model.fit(x=[datapoint_circuits, commands],\n",
        "                    y=expected_outputs,\n",
        "                    epochs=30,\n",
        "                    verbose=0)"
      ],
      "execution_count": 0,
      "outputs": []
    },
    {
      "cell_type": "code",
      "metadata": {
        "id": "xk_0sksGw1vy",
        "colab_type": "code",
        "colab": {
          "base_uri": "https://localhost:8080/",
          "height": 295
        },
        "outputId": "c76201bc-7b7d-498c-e6b6-1f63e776fef7"
      },
      "source": [
        "plt.plot(history.history['loss'])\n",
        "plt.title('Learning to Control a Qubit')\n",
        "plt.xlabel('Iterations')\n",
        "plt.ylabel('Error in Control')\n",
        "plt.show()"
      ],
      "execution_count": 49,
      "outputs": [
        {
          "output_type": "display_data",
          "data": {
            "image/png": "[encoded data removed]",
            "text/plain": [
              "<Figure size 432x288 with 1 Axes>"
            ]
          },
          "metadata": {
            "tags": []
          }
        }
      ]
    },
    {
      "cell_type": "code",
      "metadata": {
        "id": "2QTSAyJCxCSV",
        "colab_type": "code",
        "colab": {}
      },
      "source": [
        "# Define inputs.\n",
        "commands_input = tf.keras.layers.Input(shape=(1),\n",
        "                                       dtype=tf.dtypes.float32,\n",
        "                                       name='commands_input')\n",
        "circuits_input = tf.keras.Input(shape=(),\n",
        "                                dtype=tf.dtypes.string,\n",
        "                                name='circuits_input')\n",
        "operators_input = tf.keras.Input(shape=(1,),\n",
        "                                 dtype=tf.dtypes.string,\n",
        "                                 name='operators_input')"
      ],
      "execution_count": 0,
      "outputs": []
    },
    {
      "cell_type": "code",
      "metadata": {
        "id": "JkwxZY8Dxe2Z",
        "colab_type": "code",
        "colab": {}
      },
      "source": [
        "controller = tf.keras.Sequential([\n",
        "    tf.keras.layers.Dense(10, activation='relu'),\n",
        "    tf.keras.layers.Dense(3)])"
      ],
      "execution_count": 0,
      "outputs": []
    },
    {
      "cell_type": "code",
      "metadata": {
        "id": "tP3gwF4jxpyZ",
        "colab_type": "code",
        "colab": {}
      },
      "source": [
        "dense_2 = controller(commands_input)\n",
        "\n",
        "# Since you aren't using a PQC or ControlledPQC you must append\n",
        "# your model circuit onto the datapoint circuit tensor manually.\n",
        "full_circuit = tfq.layers.AddCircuit()(circuits_input, append=model_circuit)\n",
        "expectation_output = tfq.layers.Expectation()(full_circuit,\n",
        "                                              symbol_names=control_params,\n",
        "                                              symbol_values=dense_2,\n",
        "                                              operators=operators_input)\n",
        "\n",
        "# Contruct your Keras model.\n",
        "two_axis_control_model = tf.keras.Model(\n",
        "    inputs=[circuits_input, commands_input, operators_input],\n",
        "    outputs=[expectation_output])"
      ],
      "execution_count": 0,
      "outputs": []
    },
    {
      "cell_type": "code",
      "metadata": {
        "id": "0HXoRnxkyMmn",
        "colab_type": "code",
        "colab": {}
      },
      "source": [
        "# The operators to measure, for each command.\n",
        "operator_data = tfq.convert_to_tensor([[cirq.X(qubit)], [cirq.Z(qubit)]])\n",
        "\n",
        "# The command input values to the classical NN.\n",
        "commands = np.array([[0], [1]], dtype=np.float32)\n",
        "\n",
        "# The desired expectation value at output of quantum circuit.\n",
        "expected_outputs = np.array([[1], [-1]], dtype=np.float32)"
      ],
      "execution_count": 0,
      "outputs": []
    },
    {
      "cell_type": "code",
      "metadata": {
        "id": "f6MJyEysyxUc",
        "colab_type": "code",
        "colab": {
          "base_uri": "https://localhost:8080/",
          "height": 1000
        },
        "outputId": "0ccf60f2-48b0-4818-aad2-eed4afe3eafb"
      },
      "source": [
        "optimizer = tf.keras.optimizers.Adam(lr=0.05)\n",
        "\n",
        "loss = tf.keras.losses.MeanSquaredError()\n",
        "\n",
        "two_axis_control_model.compile(optimizer=optimizer, loss=loss)\n",
        "\n",
        "history = two_axis_control_model.fit(\n",
        "    x=[datapoint_circuits, commands, operator_data],\n",
        "    y=expected_outputs,\n",
        "    epochs=30,\n",
        "    verbose=1)"
      ],
      "execution_count": 59,
      "outputs": [
        {
          "output_type": "stream",
          "text": [
            "Train on 2 samples\n",
            "Epoch 1/30\n",
            "2/2 [==============================] - 1s 337ms/sample - loss: 0.7628\n",
            "Epoch 2/30\n",
            "2/2 [==============================] - 0s 7ms/sample - loss: 0.4598\n",
            "Epoch 3/30\n",
            "2/2 [==============================] - 0s 9ms/sample - loss: 0.2637\n",
            "Epoch 4/30\n",
            "2/2 [==============================] - 0s 8ms/sample - loss: 0.1541\n",
            "Epoch 5/30\n",
            "2/2 [==============================] - 0s 11ms/sample - loss: 0.1029\n",
            "Epoch 6/30\n",
            "2/2 [==============================] - 0s 11ms/sample - loss: 0.0861\n",
            "Epoch 7/30\n",
            "2/2 [==============================] - 0s 6ms/sample - loss: 0.0890\n",
            "Epoch 8/30\n",
            "2/2 [==============================] - 0s 6ms/sample - loss: 0.0925\n",
            "Epoch 9/30\n",
            "2/2 [==============================] - 0s 8ms/sample - loss: 0.0904\n",
            "Epoch 10/30\n",
            "2/2 [==============================] - 0s 7ms/sample - loss: 0.0852\n",
            "Epoch 11/30\n",
            "2/2 [==============================] - 0s 6ms/sample - loss: 0.0807\n",
            "Epoch 12/30\n",
            "2/2 [==============================] - 0s 6ms/sample - loss: 0.0781\n",
            "Epoch 13/30\n",
            "2/2 [==============================] - 0s 8ms/sample - loss: 0.0758\n",
            "Epoch 14/30\n",
            "2/2 [==============================] - 0s 8ms/sample - loss: 0.0723\n",
            "Epoch 15/30\n",
            "2/2 [==============================] - 0s 8ms/sample - loss: 0.0670\n",
            "Epoch 16/30\n",
            "2/2 [==============================] - 0s 7ms/sample - loss: 0.0601\n",
            "Epoch 17/30\n",
            "2/2 [==============================] - 0s 8ms/sample - loss: 0.0522\n",
            "Epoch 18/30\n",
            "2/2 [==============================] - 0s 8ms/sample - loss: 0.0440\n",
            "Epoch 19/30\n",
            "2/2 [==============================] - 0s 6ms/sample - loss: 0.0360\n",
            "Epoch 20/30\n",
            "2/2 [==============================] - 0s 7ms/sample - loss: 0.0288\n",
            "Epoch 21/30\n",
            "2/2 [==============================] - 0s 9ms/sample - loss: 0.0228\n",
            "Epoch 22/30\n",
            "2/2 [==============================] - 0s 7ms/sample - loss: 0.0181\n",
            "Epoch 23/30\n",
            "2/2 [==============================] - 0s 8ms/sample - loss: 0.0147\n",
            "Epoch 24/30\n",
            "2/2 [==============================] - 0s 9ms/sample - loss: 0.0125\n",
            "Epoch 25/30\n",
            "2/2 [==============================] - 0s 8ms/sample - loss: 0.0112\n",
            "Epoch 26/30\n",
            "2/2 [==============================] - 0s 7ms/sample - loss: 0.0106\n",
            "Epoch 27/30\n",
            "2/2 [==============================] - 0s 8ms/sample - loss: 0.0105\n",
            "Epoch 28/30\n",
            "2/2 [==============================] - 0s 7ms/sample - loss: 0.0106\n",
            "Epoch 29/30\n",
            "2/2 [==============================] - 0s 9ms/sample - loss: 0.0105\n",
            "Epoch 30/30\n",
            "2/2 [==============================] - 0s 8ms/sample - loss: 0.0102\n"
          ],
          "name": "stdout"
        }
      ]
    },
    {
      "cell_type": "code",
      "metadata": {
        "id": "47tTGGqCzBqe",
        "colab_type": "code",
        "colab": {
          "base_uri": "https://localhost:8080/",
          "height": 295
        },
        "outputId": "c672ac04-efbc-4205-f0cd-04195bdd92a5"
      },
      "source": [
        "plt.plot(history.history['loss'])\n",
        "plt.title('Learning to Control a Qubit')\n",
        "plt.xlabel('Iteraitons')\n",
        "plt.ylabel('Error in Control')\n",
        "plt.show()"
      ],
      "execution_count": 60,
      "outputs": [
        {
          "output_type": "display_data",
          "data": {
            "image/png": "[encoded data removed]",
            "text/plain": [
              "<Figure size 432x288 with 1 Axes>"
            ]
          },
          "metadata": {
            "tags": []
          }
        }
      ]
    },
    {
      "cell_type": "code",
      "metadata": {
        "id": "SqcXeabyzMDM",
        "colab_type": "code",
        "colab": {
          "base_uri": "https://localhost:8080/",
          "height": 51
        },
        "outputId": "fef2da75-1703-4399-dcc3-9a26d0d3ad5e"
      },
      "source": [
        "controller.predict(np.array([0, 1]))"
      ],
      "execution_count": 61,
      "outputs": [
        {
          "output_type": "execute_result",
          "data": {
            "text/plain": [
              "array([[0.8095469 , 0.45488256, 0.26843196],\n",
              "       [0.45753503, 1.2286007 , 0.71723163]], dtype=float32)"
            ]
          },
          "metadata": {
            "tags": []
          },
          "execution_count": 61
        }
      ]
    },
    {
      "cell_type": "code",
      "metadata": {
        "id": "YhG97wsfzSHr",
        "colab_type": "code",
        "colab": {}
      },
      "source": [
        ""
      ],
      "execution_count": 0,
      "outputs": []
    }
  ]
}