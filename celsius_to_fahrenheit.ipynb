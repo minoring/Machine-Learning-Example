{
  "nbformat": 4,
  "nbformat_minor": 0,
  "metadata": {
    "colab": {
      "name": "celsius_to_fahrenheit.ipynb",
      "version": "0.3.2",
      "provenance": [],
      "include_colab_link": true
    },
    "kernelspec": {
      "name": "python3",
      "display_name": "Python 3"
    }
  },
  "cells": [
    {
      "cell_type": "markdown",
      "metadata": {
        "id": "view-in-github",
        "colab_type": "text"
      },
      "source": [
        "<a href=\"https://colab.research.google.com/github/minoring/Machine-Learning-Example/blob/master/celsius_to_fahrenheit.ipynb\" target=\"_parent\"><img src=\"https://colab.research.google.com/assets/colab-badge.svg\" alt=\"Open In Colab\"/></a>"
      ]
    },
    {
      "metadata": {
        "id": "tLp9CS4VHj6f",
        "colab_type": "code",
        "colab": {}
      },
      "cell_type": "code",
      "source": [
        "from __future__ import absolute_import, division, print_function\n",
        "import tensorflow as tf\n",
        "tf.logging.set_verbosity(tf.logging.ERROR)\n",
        "\n",
        "import numpy as np"
      ],
      "execution_count": 0,
      "outputs": []
    },
    {
      "metadata": {
        "id": "2iv9p60nID4W",
        "colab_type": "code",
        "colab": {
          "base_uri": "https://localhost:8080/",
          "height": 136
        },
        "outputId": "f4ea42a7-5cf0-4e2b-8d5f-c8d6dc4d07d4"
      },
      "cell_type": "code",
      "source": [
        "celsius_q    = np.array([-40, -10,  0,  8, 15, 22,  38],  dtype=float)\n",
        "fahrenheit_a = np.array([-40,  14, 32, 46, 59, 72, 100],  dtype=float)\n",
        "\n",
        "for i, c in enumerate(celsius_q):\n",
        "  print(\"{} degrees Celsius = {} degrees Fahrenheit\".format(c, fahrenheit_a[i]))"
      ],
      "execution_count": 2,
      "outputs": [
        {
          "output_type": "stream",
          "text": [
            "-40.0 degrees Celsius = -40.0 degrees Fahrenheit\n",
            "-10.0 degrees Celsius = 14.0 degrees Fahrenheit\n",
            "0.0 degrees Celsius = 32.0 degrees Fahrenheit\n",
            "8.0 degrees Celsius = 46.0 degrees Fahrenheit\n",
            "15.0 degrees Celsius = 59.0 degrees Fahrenheit\n",
            "22.0 degrees Celsius = 72.0 degrees Fahrenheit\n",
            "38.0 degrees Celsius = 100.0 degrees Fahrenheit\n"
          ],
          "name": "stdout"
        }
      ]
    },
    {
      "metadata": {
        "id": "QuWioU0JIldo",
        "colab_type": "code",
        "colab": {}
      },
      "cell_type": "code",
      "source": [
        "# Create single layer, with single neuron\n",
        "l0 = tf.keras.layers.Dense(units=1, input_shape=[1])"
      ],
      "execution_count": 0,
      "outputs": []
    },
    {
      "metadata": {
        "id": "zMKvsmqeJn4G",
        "colab_type": "code",
        "colab": {}
      },
      "cell_type": "code",
      "source": [
        "# Assemble layers into the model\n",
        "# Sequential model definition takes a list of layers as argument,\n",
        "# specifying the calculation order from the input to output\n",
        "model = tf.keras.Sequential([l0])"
      ],
      "execution_count": 0,
      "outputs": []
    },
    {
      "metadata": {
        "id": "G5I-MD_-KJlL",
        "colab_type": "code",
        "colab": {}
      },
      "cell_type": "code",
      "source": [
        "# Loss function - A way of measuring how far off predictions are\n",
        "# from the desired outcome\n",
        "# Optimizer function - A way of adjusting internal values\n",
        "# in order to reduce the loss\n",
        "model.compile(loss='mean_squared_error',\n",
        "             optimizer=tf.keras.optimizers.Adam(0.1))"
      ],
      "execution_count": 0,
      "outputs": []
    },
    {
      "metadata": {
        "id": "teC75fntKjub",
        "colab_type": "code",
        "colab": {
          "base_uri": "https://localhost:8080/",
          "height": 34
        },
        "outputId": "06461d94-0fc5-4d90-8c60-1875e52a6a0b"
      },
      "cell_type": "code",
      "source": [
        "history = model.fit(celsius_q, fahrenheit_a, epochs=500, verbose=False)\n",
        "print(\"Finished training the model\")"
      ],
      "execution_count": 9,
      "outputs": [
        {
          "output_type": "stream",
          "text": [
            "Finished training the model\n"
          ],
          "name": "stdout"
        }
      ]
    },
    {
      "metadata": {
        "id": "YhFrX3ELLc0U",
        "colab_type": "code",
        "colab": {
          "base_uri": "https://localhost:8080/",
          "height": 378
        },
        "outputId": "c200f109-42f0-4488-a9eb-fe274dd4e88d"
      },
      "cell_type": "code",
      "source": [
        "# The fit method returns a history object. \n",
        "# We can use this object to plot how the loss of our model goes down \n",
        "# after each training epoch\n",
        "\n",
        "import matplotlib.pyplot as plt\n",
        "plt.xlabel('Epoch Number')\n",
        "plt.ylabel('Loss Magnitude')\n",
        "plt.plot(history.history['loss'])"
      ],
      "execution_count": 10,
      "outputs": [
        {
          "output_type": "execute_result",
          "data": {
            "text/plain": [
              "[<matplotlib.lines.Line2D at 0x7f3852893358>]"
            ]
          },
          "metadata": {
            "tags": []
          },
          "execution_count": 10
        },
        {
          "output_type": "display_data",
          "data": {
            "image/png": "[encoded data removed]",
            "text/plain": [
              "<Figure size 576x396 with 1 Axes>"
            ]
          },
          "metadata": {
            "tags": []
          }
        }
      ]
    },
    {
      "metadata": {
        "id": "k5oDpGjILxL_",
        "colab_type": "code",
        "colab": {
          "base_uri": "https://localhost:8080/",
          "height": 34
        },
        "outputId": "468f2029-ec40-4896-904b-3e14fda0e72e"
      },
      "cell_type": "code",
      "source": [
        "print(model.predict([100.0]))"
      ],
      "execution_count": 11,
      "outputs": [
        {
          "output_type": "stream",
          "text": [
            "[[211.33841]]\n"
          ],
          "name": "stdout"
        }
      ]
    },
    {
      "metadata": {
        "id": "nwwIClfdL5LS",
        "colab_type": "code",
        "colab": {
          "base_uri": "https://localhost:8080/",
          "height": 54
        },
        "outputId": "9fb5666e-56bc-4d72-83ab-99c959789499"
      },
      "cell_type": "code",
      "source": [
        "# Looking at the layer weights\n",
        "print(\"These are the layer variables: {}\".format(l0.get_weights()))"
      ],
      "execution_count": 13,
      "outputs": [
        {
          "output_type": "stream",
          "text": [
            "These are the layer variables: [array([[1.8202863]], dtype=float32), array([29.309792], dtype=float32)]\n"
          ],
          "name": "stdout"
        }
      ]
    },
    {
      "metadata": {
        "id": "Zu08tjPaME5_",
        "colab_type": "code",
        "colab": {
          "base_uri": "https://localhost:8080/",
          "height": 275
        },
        "outputId": "4b674b66-223c-4b30-ab16-de829a7fe356"
      },
      "cell_type": "code",
      "source": [
        "# l0 and l1 layers, they are nothing even close to ~1.8 and ~32\n",
        "l0 = tf.keras.layers.Dense(units=4, input_shape=[1])  \n",
        "l1 = tf.keras.layers.Dense(units=4)  \n",
        "l2 = tf.keras.layers.Dense(units=1)  \n",
        "model = tf.keras.Sequential([l0, l1, l2])\n",
        "model.compile(loss='mean_squared_error', optimizer=tf.keras.optimizers.Adam(0.1))\n",
        "model.fit(celsius_q, fahrenheit_a, epochs=500, verbose=False)\n",
        "print(\"Finished training the model\")\n",
        "print(model.predict([100.0]))\n",
        "print(\"Model predicts that 100 degrees Celsius is: {} degrees Fahrenheit\".format(model.predict([100.0])))\n",
        "print(\"These are the l0 variables: {}\".format(l0.get_weights()))\n",
        "print(\"These are the l1 variables: {}\".format(l1.get_weights()))\n",
        "print(\"These are the l2 variables: {}\".format(l2.get_weights()))"
      ],
      "execution_count": 15,
      "outputs": [
        {
          "output_type": "stream",
          "text": [
            "Finished training the model\n",
            "[[211.7474]]\n",
            "Model predicts that 100 degrees Celsius is: [[211.7474]] degrees Fahrenheit\n",
            "These are the l0 variables: [array([[ 0.1884271 ,  0.15087335, -0.08057491, -0.633731  ]],\n",
            "      dtype=float32), array([ 3.287896  ,  3.277387  ,  0.76193964, -3.5563145 ], dtype=float32)]\n",
            "These are the l1 variables: [array([[ 5.2722327e-02,  2.8070763e-01,  1.1227096e+00,  1.8223482e-01],\n",
            "       [-2.4540168e-01,  3.8360041e-01,  1.0444280e+00, -6.0754251e-01],\n",
            "       [-8.8194084e-01,  1.0423455e+00, -2.1365704e-01,  1.4120340e-01],\n",
            "       [ 4.9079669e-01, -3.5700153e-04, -1.0499102e+00,  4.4893247e-01]],\n",
            "      dtype=float32), array([-3.2053256,  2.095668 ,  3.4425116, -2.8885162], dtype=float32)]\n",
            "These are the l2 variables: [array([[-0.5908371 ],\n",
            "       [ 0.51633674],\n",
            "       [ 1.3828241 ],\n",
            "       [-0.4866782 ]], dtype=float32), array([3.2948985], dtype=float32)]\n"
          ],
          "name": "stdout"
        }
      ]
    }
  ]
}