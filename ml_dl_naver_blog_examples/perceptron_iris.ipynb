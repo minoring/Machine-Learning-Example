{
 "cells": [
  {
   "cell_type": "code",
   "execution_count": null,
   "metadata": {},
   "outputs": [],
   "source": [
    "import pandas as pd\n",
    "import matplotlib\n",
    "import matplotlib.pyplot as plt\n",
    "import numpy as np\n",
    "\n",
    "from matplotlib import style\n",
    "from perceptron import Perceptron\n",
    "\n",
    "%matplotlib inline"
   ]
  },
  {
   "cell_type": "code",
   "execution_count": null,
   "metadata": {},
   "outputs": [],
   "source": [
    "if __name__ == '__main__':\n",
    "    style.use('seaborn-talk')\n",
    "    \n",
    "    df = pd.read_csv(\n",
    "        'https://archive.ics.uci.edu/ml/machine-learning-databases/iris/iris.data',\n",
    "        header=None)\n",
    "    \n",
    "    y = df.iloc[0:100, 4].to_numpy()\n",
    "    y = np.where(y == 'iris-seatosa', -1, 1)\n",
    "    X = df.iloc[0:100, [0, 2]].to_numpy()\n",
    "    \n",
    "    plt.scatter(X[:50, 0], X[:50, 1], color='r', marker='o', label='seatosa')\n",
    "    plt.scatter(X[50:100, 0], X[50:100, 1], color='b', marker='x', label='versicolor')\n",
    "    plt.xlabel('petal length (cm)')\n",
    "    plt.ylabel('calyx length(cm)')\n",
    "    plt.legend(loc=4)\n",
    "    \n",
    "    print(ppn.w_)\n",
    "    x1 = np.arange(-5, 5, 0.1)\n",
    "    x2 = np.arange(-5, 5, 0.1)\n",
    "    \n",
    "    xx = zip(x1, x2)\n",
    "    print(xx)\n",
    "    \n",
    "    y_draw = ppn.w_[0] + ppn.w_[1]*xx[0] + ppn.w_[2]*xx[1]\n",
    "    plt.plot(xx, y_draw, 'bo')\n",
    "\n",
    "    plt.show()\n",
    "    \n",
    "    ppn = Perceptron(eta=0.1)\n",
    "    ppn.fit(X, y)\n",
    "    print(ppn.errors_)\n"
   ]
  },
  {
   "cell_type": "code",
   "execution_count": null,
   "metadata": {},
   "outputs": [],
   "source": []
  }
 ],
 "metadata": {
  "kernelspec": {
   "display_name": "Python 3",
   "language": "python",
   "name": "python3"
  }
 },
 "nbformat": 4,
 "nbformat_minor": 2
}
