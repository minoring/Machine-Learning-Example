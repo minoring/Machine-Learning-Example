{
  "nbformat": 4,
  "nbformat_minor": 0,
  "metadata": {
    "colab": {
      "name": "text_classification.ipynb",
      "version": "0.3.2",
      "provenance": []
    },
    "kernelspec": {
      "name": "python3",
      "display_name": "Python 3"
    },
    "accelerator": "GPU"
  },
  "cells": [
    {
      "cell_type": "code",
      "metadata": {
        "id": "jZHFUwVBszGn",
        "colab_type": "code",
        "colab": {
          "base_uri": "https://localhost:8080/",
          "height": 136
        },
        "outputId": "9a70d9de-00ca-4306-e091-2a99a697bc6d"
      },
      "source": [
        "# This notebook classifies movie reviews as positive or negative using the text of the review.\n",
        "# These are split into 25,000 reviews for training and 25,000 reviews for testing\n",
        "# The training and testing sets are balanced, meaning they contain an equal number of positive and negative reviews.\n",
        "\n",
        "from __future__ import absolute_import, division, print_function, unicode_literals\n",
        "!pip install -q tf-nightly-2.0-preview\n",
        "import tensorflow as tf\n",
        "from tensorflow import keras\n",
        "\n",
        "import numpy as np\n",
        "\n",
        "print(tf.__version__)"
      ],
      "execution_count": 1,
      "outputs": [
        {
          "output_type": "stream",
          "text": [
            "\u001b[K     |████████████████████████████████| 88.0MB 49.6MB/s \n",
            "\u001b[K     |████████████████████████████████| 430kB 38.1MB/s \n",
            "\u001b[K     |████████████████████████████████| 61kB 25.1MB/s \n",
            "\u001b[K     |████████████████████████████████| 3.1MB 42.6MB/s \n",
            "\u001b[?25h  Building wheel for wrapt (setup.py) ... \u001b[?25l\u001b[?25hdone\n",
            "\u001b[31mERROR: thinc 6.12.1 has requirement wrapt<1.11.0,>=1.10.0, but you'll have wrapt 1.11.1 which is incompatible.\u001b[0m\n",
            "2.0.0-dev20190530\n"
          ],
          "name": "stdout"
        }
      ]
    },
    {
      "cell_type": "code",
      "metadata": {
        "id": "2EBuZle7tbfn",
        "colab_type": "code",
        "colab": {
          "base_uri": "https://localhost:8080/",
          "height": 51
        },
        "outputId": "707afa0e-71ee-42c6-d12b-ef81c91c478d"
      },
      "source": [
        "# It has already been preprocessed such that the reviews \n",
        "# (sequences of words) have been converted to sequences of integers, where each integer represents a specific word in a dictionary.\n",
        "imdb = keras.datasets.imdb\n",
        "(train_data, train_labels), (test_data, test_labels) = imdb.load_data(num_words=10000) # keeps the top 10,000 most frequently occurring words in the training data."
      ],
      "execution_count": 2,
      "outputs": [
        {
          "output_type": "stream",
          "text": [
            "Downloading data from https://storage.googleapis.com/tensorflow/tf-keras-datasets/imdb.npz\n",
            "17465344/17464789 [==============================] - 0s 0us/step\n"
          ],
          "name": "stdout"
        }
      ]
    },
    {
      "cell_type": "code",
      "metadata": {
        "id": "gUxrKIt1tyIy",
        "colab_type": "code",
        "colab": {
          "base_uri": "https://localhost:8080/",
          "height": 34
        },
        "outputId": "72c290e9-13b3-4da6-c3e1-1863504d37f1"
      },
      "source": [
        "## Explore the data\n",
        "print(\"Training entries: {}, labels: {}\".format(len(train_data), len(train_labels)))"
      ],
      "execution_count": 3,
      "outputs": [
        {
          "output_type": "stream",
          "text": [
            "Training entries: 25000, labels: 25000\n"
          ],
          "name": "stdout"
        }
      ]
    },
    {
      "cell_type": "code",
      "metadata": {
        "id": "GrItm2WauL1w",
        "colab_type": "code",
        "colab": {
          "base_uri": "https://localhost:8080/",
          "height": 54
        },
        "outputId": "ab9dad0f-7689-4a5a-e54f-eab9c11309a8"
      },
      "source": [
        "# The text of reviews have been converted to integers, where each integer represents a specific word in a dictionary.\n",
        "print(train_data[0])"
      ],
      "execution_count": 4,
      "outputs": [
        {
          "output_type": "stream",
          "text": [
            "[1, 14, 22, 16, 43, 530, 973, 1622, 1385, 65, 458, 4468, 66, 3941, 4, 173, 36, 256, 5, 25, 100, 43, 838, 112, 50, 670, 2, 9, 35, 480, 284, 5, 150, 4, 172, 112, 167, 2, 336, 385, 39, 4, 172, 4536, 1111, 17, 546, 38, 13, 447, 4, 192, 50, 16, 6, 147, 2025, 19, 14, 22, 4, 1920, 4613, 469, 4, 22, 71, 87, 12, 16, 43, 530, 38, 76, 15, 13, 1247, 4, 22, 17, 515, 17, 12, 16, 626, 18, 2, 5, 62, 386, 12, 8, 316, 8, 106, 5, 4, 2223, 5244, 16, 480, 66, 3785, 33, 4, 130, 12, 16, 38, 619, 5, 25, 124, 51, 36, 135, 48, 25, 1415, 33, 6, 22, 12, 215, 28, 77, 52, 5, 14, 407, 16, 82, 2, 8, 4, 107, 117, 5952, 15, 256, 4, 2, 7, 3766, 5, 723, 36, 71, 43, 530, 476, 26, 400, 317, 46, 7, 4, 2, 1029, 13, 104, 88, 4, 381, 15, 297, 98, 32, 2071, 56, 26, 141, 6, 194, 7486, 18, 4, 226, 22, 21, 134, 476, 26, 480, 5, 144, 30, 5535, 18, 51, 36, 28, 224, 92, 25, 104, 4, 226, 65, 16, 38, 1334, 88, 12, 16, 283, 5, 16, 4472, 113, 103, 32, 15, 16, 5345, 19, 178, 32]\n"
          ],
          "name": "stdout"
        }
      ]
    },
    {
      "cell_type": "code",
      "metadata": {
        "id": "jdUHkjwGuRhY",
        "colab_type": "code",
        "colab": {
          "base_uri": "https://localhost:8080/",
          "height": 34
        },
        "outputId": "f0f87659-0ae4-4098-e8c9-642160dc6336"
      },
      "source": [
        "# Movie reviews may be different lengths\n",
        "# Since inputs to a neural network must be the same length, we'll need to resolve this later.\n",
        "len(train_data[0]), len(train_data[1])"
      ],
      "execution_count": 5,
      "outputs": [
        {
          "output_type": "execute_result",
          "data": {
            "text/plain": [
              "(218, 189)"
            ]
          },
          "metadata": {
            "tags": []
          },
          "execution_count": 5
        }
      ]
    },
    {
      "cell_type": "code",
      "metadata": {
        "id": "BTqEB3yruahF",
        "colab_type": "code",
        "colab": {}
      },
      "source": [
        "# A dictionary mapping words to an integer index\n",
        "word_index = imdb.get_word_index()\n",
        "\n",
        "# The first indices are reserved\n",
        "word_index = {k:(v+3) for k,v in word_index.items()}\n",
        "word_index[\"<PAD>\"] = 0\n",
        "word_index[\"<START>\"] = 1\n",
        "word_index[\"<UNK>\"] = 2  # unknown\n",
        "word_index[\"<UNUSED>\"] = 3\n",
        "\n",
        "reverse_word_index = dict([(value, key) for (key, value) in word_index.items()])\n",
        "\n",
        "def decode_review(text):\n",
        "    return ' '.join([reverse_word_index.get(i, '?') for i in text])"
      ],
      "execution_count": 0,
      "outputs": []
    },
    {
      "cell_type": "code",
      "metadata": {
        "id": "GEZQJmaYufJS",
        "colab_type": "code",
        "colab": {
          "base_uri": "https://localhost:8080/",
          "height": 54
        },
        "outputId": "cb6fe2d1-babc-4163-8bb1-5ec71076e46c"
      },
      "source": [
        "decode_review(train_data[0])"
      ],
      "execution_count": 8,
      "outputs": [
        {
          "output_type": "execute_result",
          "data": {
            "text/plain": [
              "\"<START> this film was just brilliant casting location scenery story direction everyone's really suited the part they played and you could just imagine being there robert <UNK> is an amazing actor and now the same being director <UNK> father came from the same scottish island as myself so i loved the fact there was a real connection with this film the witty remarks throughout the film were great it was just brilliant so much that i bought the film as soon as it was released for <UNK> and would recommend it to everyone to watch and the fly fishing was amazing really cried at the end it was so sad and you know what they say if you cry at a film it must have been good and this definitely was also <UNK> to the two little boy's that played the <UNK> of norman and paul they were just brilliant children are often left out of the <UNK> list i think because the stars that play them all grown up are such a big profile for the whole film but these children are amazing and should be praised for what they have done don't you think the whole story was so lovely because it was true and was someone's life after all that was shared with us all\""
            ]
          },
          "metadata": {
            "tags": []
          },
          "execution_count": 8
        }
      ]
    },
    {
      "cell_type": "code",
      "metadata": {
        "id": "QY3WJ0xFu6hC",
        "colab_type": "code",
        "colab": {}
      },
      "source": [
        "train_data = keras.preprocessing.sequence.pad_sequences(train_data,\n",
        "                                                        value=word_index[\"<PAD>\"],\n",
        "                                                        padding=\"post\",\n",
        "                                                        maxlen=256)\n",
        "\n",
        "test_data = keras.preprocessing.sequence.pad_sequences(test_data,\n",
        "                                                        value=word_index[\"<PAD>\"],\n",
        "                                                        padding=\"post\",\n",
        "                                                        maxlen=256)"
      ],
      "execution_count": 0,
      "outputs": []
    },
    {
      "cell_type": "code",
      "metadata": {
        "id": "cGsiLhChvYsT",
        "colab_type": "code",
        "colab": {
          "base_uri": "https://localhost:8080/",
          "height": 34
        },
        "outputId": "d4121714-aaad-4ede-8258-223093004e08"
      },
      "source": [
        "len(train_data[0]), len(train_data[1])"
      ],
      "execution_count": 10,
      "outputs": [
        {
          "output_type": "execute_result",
          "data": {
            "text/plain": [
              "(256, 256)"
            ]
          },
          "metadata": {
            "tags": []
          },
          "execution_count": 10
        }
      ]
    },
    {
      "cell_type": "code",
      "metadata": {
        "id": "XcgXFo2FvblP",
        "colab_type": "code",
        "colab": {
          "base_uri": "https://localhost:8080/",
          "height": 340
        },
        "outputId": "455f9d8e-630e-475c-e1d8-e9e58000a990"
      },
      "source": [
        "print(train_data[0])"
      ],
      "execution_count": 11,
      "outputs": [
        {
          "output_type": "stream",
          "text": [
            "[   1   14   22   16   43  530  973 1622 1385   65  458 4468   66 3941\n",
            "    4  173   36  256    5   25  100   43  838  112   50  670    2    9\n",
            "   35  480  284    5  150    4  172  112  167    2  336  385   39    4\n",
            "  172 4536 1111   17  546   38   13  447    4  192   50   16    6  147\n",
            " 2025   19   14   22    4 1920 4613  469    4   22   71   87   12   16\n",
            "   43  530   38   76   15   13 1247    4   22   17  515   17   12   16\n",
            "  626   18    2    5   62  386   12    8  316    8  106    5    4 2223\n",
            " 5244   16  480   66 3785   33    4  130   12   16   38  619    5   25\n",
            "  124   51   36  135   48   25 1415   33    6   22   12  215   28   77\n",
            "   52    5   14  407   16   82    2    8    4  107  117 5952   15  256\n",
            "    4    2    7 3766    5  723   36   71   43  530  476   26  400  317\n",
            "   46    7    4    2 1029   13  104   88    4  381   15  297   98   32\n",
            " 2071   56   26  141    6  194 7486   18    4  226   22   21  134  476\n",
            "   26  480    5  144   30 5535   18   51   36   28  224   92   25  104\n",
            "    4  226   65   16   38 1334   88   12   16  283    5   16 4472  113\n",
            "  103   32   15   16 5345   19  178   32    0    0    0    0    0    0\n",
            "    0    0    0    0    0    0    0    0    0    0    0    0    0    0\n",
            "    0    0    0    0    0    0    0    0    0    0    0    0    0    0\n",
            "    0    0    0    0]\n"
          ],
          "name": "stdout"
        }
      ]
    },
    {
      "cell_type": "code",
      "metadata": {
        "id": "a2JTlkaGvdm4",
        "colab_type": "code",
        "colab": {
          "base_uri": "https://localhost:8080/",
          "height": 289
        },
        "outputId": "201009f1-2db5-49c8-8bd6-7cb7da481ecc"
      },
      "source": [
        "# input shape is the vocabulary count used for the movie reviews (10,000 words)\n",
        "vocab_size = 10000\n",
        "\n",
        "model = keras.Sequential([\n",
        "    keras.layers.Embedding(vocab_size, 16),\n",
        "    keras.layers.GlobalAveragePooling1D(),\n",
        "    keras.layers.Dense(16, activation='relu'),\n",
        "    keras.layers.Dense(1, activation='sigmoid')\n",
        "])\n",
        "\n",
        "model.summary()"
      ],
      "execution_count": 12,
      "outputs": [
        {
          "output_type": "stream",
          "text": [
            "Model: \"sequential\"\n",
            "_________________________________________________________________\n",
            "Layer (type)                 Output Shape              Param #   \n",
            "=================================================================\n",
            "embedding (Embedding)        (None, None, 16)          160000    \n",
            "_________________________________________________________________\n",
            "global_average_pooling1d (Gl (None, 16)                0         \n",
            "_________________________________________________________________\n",
            "dense (Dense)                (None, 16)                272       \n",
            "_________________________________________________________________\n",
            "dense_1 (Dense)              (None, 1)                 17        \n",
            "=================================================================\n",
            "Total params: 160,289\n",
            "Trainable params: 160,289\n",
            "Non-trainable params: 0\n",
            "_________________________________________________________________\n"
          ],
          "name": "stdout"
        }
      ]
    },
    {
      "cell_type": "code",
      "metadata": {
        "id": "YMt5Eh8_wGAW",
        "colab_type": "code",
        "colab": {}
      },
      "source": [
        "model.compile(optimizer='adam',\n",
        "              loss='binary_crossentropy',\n",
        "              metrics=['accuracy'])"
      ],
      "execution_count": 0,
      "outputs": []
    },
    {
      "cell_type": "code",
      "metadata": {
        "id": "cE8UTeMQwv6D",
        "colab_type": "code",
        "colab": {}
      },
      "source": [
        "x_val = train_data[:10000]\n",
        "partial_x_train = train_data[10000:]\n",
        "\n",
        "y_val = train_labels[:10000]\n",
        "partial_y_train = train_labels[10000:]"
      ],
      "execution_count": 0,
      "outputs": []
    },
    {
      "cell_type": "code",
      "metadata": {
        "id": "abVQJFLyw_DL",
        "colab_type": "code",
        "colab": {
          "base_uri": "https://localhost:8080/",
          "height": 1482
        },
        "outputId": "495b9c84-5944-4a3f-b858-a10a7d389e09"
      },
      "source": [
        "history = model.fit(partial_x_train,\n",
        "                    partial_y_train,\n",
        "                    epochs=40,\n",
        "                    batch_size=512,\n",
        "                    validation_data=(x_val, y_val),\n",
        "                    verbose=1)"
      ],
      "execution_count": 15,
      "outputs": [
        {
          "output_type": "stream",
          "text": [
            "WARNING: Logging before flag parsing goes to stderr.\n",
            "W0530 17:23:36.706277 140496055302016 deprecation.py:323] From /usr/local/lib/python3.6/dist-packages/tensorflow/python/ops/math_grad.py:1250: add_dispatch_support.<locals>.wrapper (from tensorflow.python.ops.array_ops) is deprecated and will be removed in a future version.\n",
            "Instructions for updating:\n",
            "Use tf.where in 2.0, which has the same broadcast rule as np.where\n"
          ],
          "name": "stderr"
        },
        {
          "output_type": "stream",
          "text": [
            "Train on 15000 samples, validate on 10000 samples\n",
            "Epoch 1/40\n",
            "15000/15000 [==============================] - 1s 66us/sample - loss: 0.6920 - accuracy: 0.5053 - val_loss: 0.6896 - val_accuracy: 0.5211\n",
            "Epoch 2/40\n",
            "15000/15000 [==============================] - 1s 48us/sample - loss: 0.6858 - accuracy: 0.5839 - val_loss: 0.6809 - val_accuracy: 0.6797\n",
            "Epoch 3/40\n",
            "15000/15000 [==============================] - 1s 42us/sample - loss: 0.6723 - accuracy: 0.6873 - val_loss: 0.6630 - val_accuracy: 0.7182\n",
            "Epoch 4/40\n",
            "15000/15000 [==============================] - 1s 41us/sample - loss: 0.6472 - accuracy: 0.7519 - val_loss: 0.6341 - val_accuracy: 0.7421\n",
            "Epoch 5/40\n",
            "15000/15000 [==============================] - 1s 42us/sample - loss: 0.6107 - accuracy: 0.7847 - val_loss: 0.5964 - val_accuracy: 0.7884\n",
            "Epoch 6/40\n",
            "15000/15000 [==============================] - 1s 42us/sample - loss: 0.5657 - accuracy: 0.8157 - val_loss: 0.5531 - val_accuracy: 0.8166\n",
            "Epoch 7/40\n",
            "15000/15000 [==============================] - 1s 41us/sample - loss: 0.5163 - accuracy: 0.8404 - val_loss: 0.5075 - val_accuracy: 0.8279\n",
            "Epoch 8/40\n",
            "15000/15000 [==============================] - 1s 42us/sample - loss: 0.4677 - accuracy: 0.8583 - val_loss: 0.4661 - val_accuracy: 0.8417\n",
            "Epoch 9/40\n",
            "15000/15000 [==============================] - 1s 41us/sample - loss: 0.4234 - accuracy: 0.8711 - val_loss: 0.4299 - val_accuracy: 0.8519\n",
            "Epoch 10/40\n",
            "15000/15000 [==============================] - 1s 42us/sample - loss: 0.3847 - accuracy: 0.8806 - val_loss: 0.4003 - val_accuracy: 0.8570\n",
            "Epoch 11/40\n",
            "15000/15000 [==============================] - 1s 42us/sample - loss: 0.3521 - accuracy: 0.8882 - val_loss: 0.3761 - val_accuracy: 0.8641\n",
            "Epoch 12/40\n",
            "15000/15000 [==============================] - 1s 41us/sample - loss: 0.3247 - accuracy: 0.8947 - val_loss: 0.3570 - val_accuracy: 0.8671\n",
            "Epoch 13/40\n",
            "15000/15000 [==============================] - 1s 41us/sample - loss: 0.3022 - accuracy: 0.9007 - val_loss: 0.3410 - val_accuracy: 0.8724\n",
            "Epoch 14/40\n",
            "15000/15000 [==============================] - 1s 42us/sample - loss: 0.2821 - accuracy: 0.9071 - val_loss: 0.3289 - val_accuracy: 0.8745\n",
            "Epoch 15/40\n",
            "15000/15000 [==============================] - 1s 42us/sample - loss: 0.2653 - accuracy: 0.9106 - val_loss: 0.3195 - val_accuracy: 0.8771\n",
            "Epoch 16/40\n",
            "15000/15000 [==============================] - 1s 43us/sample - loss: 0.2502 - accuracy: 0.9155 - val_loss: 0.3114 - val_accuracy: 0.8771\n",
            "Epoch 17/40\n",
            "15000/15000 [==============================] - 1s 41us/sample - loss: 0.2362 - accuracy: 0.9201 - val_loss: 0.3046 - val_accuracy: 0.8803\n",
            "Epoch 18/40\n",
            "15000/15000 [==============================] - 1s 43us/sample - loss: 0.2241 - accuracy: 0.9242 - val_loss: 0.2998 - val_accuracy: 0.8816\n",
            "Epoch 19/40\n",
            "15000/15000 [==============================] - 1s 43us/sample - loss: 0.2130 - accuracy: 0.9271 - val_loss: 0.2948 - val_accuracy: 0.8822\n",
            "Epoch 20/40\n",
            "15000/15000 [==============================] - 1s 42us/sample - loss: 0.2031 - accuracy: 0.9309 - val_loss: 0.2914 - val_accuracy: 0.8848\n",
            "Epoch 21/40\n",
            "15000/15000 [==============================] - 1s 42us/sample - loss: 0.1928 - accuracy: 0.9367 - val_loss: 0.2887 - val_accuracy: 0.8843\n",
            "Epoch 22/40\n",
            "15000/15000 [==============================] - 1s 41us/sample - loss: 0.1844 - accuracy: 0.9409 - val_loss: 0.2872 - val_accuracy: 0.8850\n",
            "Epoch 23/40\n",
            "15000/15000 [==============================] - 1s 42us/sample - loss: 0.1760 - accuracy: 0.9443 - val_loss: 0.2865 - val_accuracy: 0.8840\n",
            "Epoch 24/40\n",
            "15000/15000 [==============================] - 1s 42us/sample - loss: 0.1686 - accuracy: 0.9470 - val_loss: 0.2847 - val_accuracy: 0.8857\n",
            "Epoch 25/40\n",
            "15000/15000 [==============================] - 1s 42us/sample - loss: 0.1612 - accuracy: 0.9495 - val_loss: 0.2842 - val_accuracy: 0.8851\n",
            "Epoch 26/40\n",
            "15000/15000 [==============================] - 1s 42us/sample - loss: 0.1544 - accuracy: 0.9529 - val_loss: 0.2852 - val_accuracy: 0.8846\n",
            "Epoch 27/40\n",
            "15000/15000 [==============================] - 1s 42us/sample - loss: 0.1482 - accuracy: 0.9560 - val_loss: 0.2848 - val_accuracy: 0.8852\n",
            "Epoch 28/40\n",
            "15000/15000 [==============================] - 1s 41us/sample - loss: 0.1422 - accuracy: 0.9575 - val_loss: 0.2855 - val_accuracy: 0.8850\n",
            "Epoch 29/40\n",
            "15000/15000 [==============================] - 1s 42us/sample - loss: 0.1369 - accuracy: 0.9601 - val_loss: 0.2881 - val_accuracy: 0.8838\n",
            "Epoch 30/40\n",
            "15000/15000 [==============================] - 1s 41us/sample - loss: 0.1314 - accuracy: 0.9617 - val_loss: 0.2875 - val_accuracy: 0.8861\n",
            "Epoch 31/40\n",
            "15000/15000 [==============================] - 1s 42us/sample - loss: 0.1259 - accuracy: 0.9643 - val_loss: 0.2890 - val_accuracy: 0.8857\n",
            "Epoch 32/40\n",
            "15000/15000 [==============================] - 1s 42us/sample - loss: 0.1209 - accuracy: 0.9671 - val_loss: 0.2909 - val_accuracy: 0.8852\n",
            "Epoch 33/40\n",
            "15000/15000 [==============================] - 1s 42us/sample - loss: 0.1162 - accuracy: 0.9683 - val_loss: 0.2936 - val_accuracy: 0.8839\n",
            "Epoch 34/40\n",
            "15000/15000 [==============================] - 1s 43us/sample - loss: 0.1120 - accuracy: 0.9694 - val_loss: 0.2954 - val_accuracy: 0.8847\n",
            "Epoch 35/40\n",
            "15000/15000 [==============================] - 1s 45us/sample - loss: 0.1078 - accuracy: 0.9713 - val_loss: 0.2993 - val_accuracy: 0.8838\n",
            "Epoch 36/40\n",
            "15000/15000 [==============================] - 1s 42us/sample - loss: 0.1038 - accuracy: 0.9731 - val_loss: 0.3009 - val_accuracy: 0.8839\n",
            "Epoch 37/40\n",
            "15000/15000 [==============================] - 1s 42us/sample - loss: 0.0997 - accuracy: 0.9739 - val_loss: 0.3035 - val_accuracy: 0.8834\n",
            "Epoch 38/40\n",
            "15000/15000 [==============================] - 1s 42us/sample - loss: 0.0961 - accuracy: 0.9759 - val_loss: 0.3071 - val_accuracy: 0.8830\n",
            "Epoch 39/40\n",
            "15000/15000 [==============================] - 1s 42us/sample - loss: 0.0929 - accuracy: 0.9767 - val_loss: 0.3111 - val_accuracy: 0.8814\n",
            "Epoch 40/40\n",
            "15000/15000 [==============================] - 1s 43us/sample - loss: 0.0891 - accuracy: 0.9787 - val_loss: 0.3130 - val_accuracy: 0.8825\n"
          ],
          "name": "stdout"
        }
      ]
    },
    {
      "cell_type": "code",
      "metadata": {
        "id": "90NrXb39xKXN",
        "colab_type": "code",
        "colab": {
          "base_uri": "https://localhost:8080/",
          "height": 71
        },
        "outputId": "bb14a56e-cac9-464e-ba95-e53a8785c7d2"
      },
      "source": [
        "results = model.evaluate(test_data, test_labels)\n",
        "\n",
        "print(results)"
      ],
      "execution_count": 16,
      "outputs": [
        {
          "output_type": "stream",
          "text": [
            "25000/25000 [==============================] - 1s 37us/sample - loss: 0.3346 - accuracy: 0.8714\n",
            "[0.33460698120594023, 0.87144]\n"
          ],
          "name": "stdout"
        }
      ]
    },
    {
      "cell_type": "code",
      "metadata": {
        "id": "aMzIFnDpxcIK",
        "colab_type": "code",
        "colab": {
          "base_uri": "https://localhost:8080/",
          "height": 34
        },
        "outputId": "b6e6498d-75b2-429a-f53e-4dddb60b0977"
      },
      "source": [
        "history_dict = history.history\n",
        "history_dict.keys()"
      ],
      "execution_count": 17,
      "outputs": [
        {
          "output_type": "execute_result",
          "data": {
            "text/plain": [
              "dict_keys(['loss', 'accuracy', 'val_loss', 'val_accuracy'])"
            ]
          },
          "metadata": {
            "tags": []
          },
          "execution_count": 17
        }
      ]
    },
    {
      "cell_type": "code",
      "metadata": {
        "id": "vzaIZ1qaxf5w",
        "colab_type": "code",
        "colab": {
          "base_uri": "https://localhost:8080/",
          "height": 295
        },
        "outputId": "52fcf164-6612-44e6-dd64-e085f2e2cd8b"
      },
      "source": [
        "import matplotlib.pyplot as plt\n",
        "\n",
        "acc = history_dict['accuracy']\n",
        "val_acc = history_dict['val_accuracy']\n",
        "loss = history_dict['loss']\n",
        "val_loss = history_dict['val_loss']\n",
        "\n",
        "epochs = range(1, len(acc) + 1)\n",
        "\n",
        "plt.plot(epochs, loss, 'bo', label='Training loss')\n",
        "plt.plot(epochs, val_loss, 'b', label='Validation loss')\n",
        "plt.title('Training and validation loss')\n",
        "plt.xlabel('Epochs')\n",
        "plt.ylabel('Loss')\n",
        "plt.legend()\n",
        "\n",
        "plt.show()"
      ],
      "execution_count": 18,
      "outputs": [
        {
          "output_type": "display_data",
          "data": {
            "image/png": "[encoded data removed]",
            "text/plain": [
              "<Figure size 432x288 with 1 Axes>"
            ]
          },
          "metadata": {
            "tags": []
          }
        }
      ]
    },
    {
      "cell_type": "code",
      "metadata": {
        "id": "Iwx-sLA9x_-4",
        "colab_type": "code",
        "colab": {
          "base_uri": "https://localhost:8080/",
          "height": 295
        },
        "outputId": "51581125-0dae-452e-eb23-e2eb77b4283d"
      },
      "source": [
        "plt.clf()\n",
        "\n",
        "plt.plot(epochs, acc, 'bo', label='Training acc')\n",
        "plt.plot(epochs, val_acc, 'b', label='Validation acc')\n",
        "plt.title('Training and validation accuracy')\n",
        "plt.xlabel('Epochs')\n",
        "plt.ylabel('Accuracy')\n",
        "plt.legend()\n",
        "\n",
        "plt.show()"
      ],
      "execution_count": 19,
      "outputs": [
        {
          "output_type": "display_data",
          "data": {
            "image/png": "[encoded data removed]",
            "text/plain": [
              "<Figure size 432x288 with 1 Axes>"
            ]
          },
          "metadata": {
            "tags": []
          }
        }
      ]
    }
  ]
}