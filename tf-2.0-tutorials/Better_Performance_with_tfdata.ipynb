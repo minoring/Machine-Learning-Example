{
  "nbformat": 4,
  "nbformat_minor": 0,
  "metadata": {
    "colab": {
      "name": "Better_Performance_with_tfdata.ipynb",
      "provenance": [],
      "private_outputs": true
    },
    "kernelspec": {
      "name": "python3",
      "display_name": "Python 3"
    },
    "accelerator": "GPU"
  },
  "cells": [
    {
      "cell_type": "code",
      "metadata": {
        "id": "SmTP2YwMo0Dm",
        "colab_type": "code",
        "colab": {}
      },
      "source": [
        "%tensorflow_version 2.x\n",
        "import tensorflow as tf\n",
        "import time"
      ],
      "execution_count": 0,
      "outputs": []
    },
    {
      "cell_type": "markdown",
      "metadata": {
        "id": "jtx9SeEWpwFm",
        "colab_type": "text"
      },
      "source": [
        "Making reproducible performance benchmarks can be difficults, different factors impacting it:\n",
        "- the current CPU load,\n",
        "- the network traffic,\n",
        "- complex mechanisms like cache, etc.\n",
        "Hence, provide a reproducible benchmark, build an artificial example.\n"
      ]
    },
    {
      "cell_type": "markdown",
      "metadata": {
        "id": "VIMqX_xMp-KG",
        "colab_type": "text"
      },
      "source": [
        "Define a class inheriting from `tf.data.Dataset` called `ArtificialDataset`,\n",
        "This dataset:\n",
        "- Generates `num_samples` samples (default is 3)\n",
        "- Sleeps for some time before the first item to simulate opening a file\n",
        "- Sleeps for some time before producing each item to simulate reading data from a file"
      ]
    },
    {
      "cell_type": "code",
      "metadata": {
        "id": "_C0EUo6fpWfT",
        "colab_type": "code",
        "colab": {}
      },
      "source": [
        "class ArtificialDataset(tf.data.Dataset):\n",
        "  def _generator(num_samples):\n",
        "    # Opening the file\n",
        "    time.sleep(0.03)\n",
        "\n",
        "    for sample_idx in range(num_samples):\n",
        "      # Reading data (line, record) from the file\n",
        "      time.sleep(0.015)\n",
        "\n",
        "      yield(sample_idx, )\n",
        "  \n",
        "  def __new__(cls, num_samples=3):\n",
        "    return tf.data.Dataset.from_generator(\n",
        "        cls._generator,\n",
        "        output_types=tf.dtypes.int64,\n",
        "        output_shapes=(1, ),\n",
        "        args=(num_samples, ))"
      ],
      "execution_count": 0,
      "outputs": []
    },
    {
      "cell_type": "code",
      "metadata": {
        "id": "p9mWSlTzrGKm",
        "colab_type": "code",
        "colab": {}
      },
      "source": [
        "def benchmark(dataset, num_epochs=2):\n",
        "  \"\"\"Write a dummy training loop that measures how long it takes to iterate over a dataset.\n",
        "  Training time is simulated.\"\"\"\n",
        "  start_time = time.perf_counter()\n",
        "  for epoch_num in range(num_epochs):\n",
        "    for sample in dataset:\n",
        "      # Performing a training step\n",
        "      time.sleep(0.01)\n",
        "  tf.print('Execution time:', time.perf_counter() - start_time)"
      ],
      "execution_count": 0,
      "outputs": []
    },
    {
      "cell_type": "markdown",
      "metadata": {
        "id": "IXXdolOArv-4",
        "colab_type": "text"
      },
      "source": [
        "## Optimize performance\n",
        "To exhibit how performance can be optimized, you will improve the performance of the `ArtificialDataset`."
      ]
    },
    {
      "cell_type": "markdown",
      "metadata": {
        "id": "fXGsQ_A1r5R9",
        "colab_type": "text"
      },
      "source": [
        "### The naive approach\n",
        "Start with a naive pipeline using no tricks, iterating over the dataset as-is."
      ]
    },
    {
      "cell_type": "code",
      "metadata": {
        "id": "1mY2BFoJrqgn",
        "colab_type": "code",
        "colab": {}
      },
      "source": [
        "benchmark(ArtificialDataset())"
      ],
      "execution_count": 0,
      "outputs": []
    },
    {
      "cell_type": "markdown",
      "metadata": {
        "id": "DJPE5Erps4b2",
        "colab_type": "text"
      },
      "source": [
        "### Prefetching\n",
        "Prefetching overlaps the processing and model execution of a training step. While the model is executing training step `s`, the input pipeline is reading the data for step `s+1`. Doing so reduces the step time to the maximum (as opposed to the sum) of the training and the time it takes to extract the data.\n",
        "\n",
        "The `tf.data` API provides the `tf.data.Dataset.prefetch` transformation. It can be used to decouple the time when data is produced from the time when data is consumed. In particular, the transformation uses a background thread and an internal buffer to prefetch elements from the input dataset ahead of the time they are requested. The number of elements to prefetch should be equal to (or possibly greater than) the number of batches consumed by a single training step. You could either manually tune this value, or set it to `tf.data.experimental.AUTOTUNE` which will prompt the `tf.data` runtime to tune the value dynamically at runtime.\n",
        "\n",
        "Note that the prefetch transformation provides benefits any time there is opportunity to overlap the work of a \"producer\" with the work of a \"consumer\""
      ]
    },
    {
      "cell_type": "code",
      "metadata": {
        "id": "yeBzrj0rsGAJ",
        "colab_type": "code",
        "colab": {}
      },
      "source": [
        "benchmark(\n",
        "    ArtificialDataset()\n",
        "    .prefetch(tf.data.experimental.AUTOTUNE))"
      ],
      "execution_count": 0,
      "outputs": []
    },
    {
      "cell_type": "markdown",
      "metadata": {
        "id": "ovsGBRSox2QN",
        "colab_type": "text"
      },
      "source": [
        "### Parallelizing data extraction\n",
        "In a real-world setting, the input data may be stored remotely (for example, GCS or HDFS). A dataset pipeline that works well when reading data locally might become bottlenecked on I/O when reading data remotely because of the following differences between local and remote storate:\n",
        "- **Time-to-first-byte**: Reading the first byte of a file from remote storate can take orders of magnitude longer than from local storate.\n",
        "- **Read throughput**: While remote storate typically offers large aggregate bandwidth, reading a single file might only be able to utilize a small fraction of this bandwidth.\n"
      ]
    },
    {
      "cell_type": "markdown",
      "metadata": {
        "id": "vEN4Fi4izxYt",
        "colab_type": "text"
      },
      "source": [
        "### Sequential interleave\n",
        "The default arguments of the `tf.data.Dataset.interleave` transformation make it interleave single samples from two datasets sequentially."
      ]
    },
    {
      "cell_type": "code",
      "metadata": {
        "id": "5POLkSuKvrfg",
        "colab_type": "code",
        "colab": {}
      },
      "source": [
        "# Feching samples alternatively from the two datasets available.\n",
        "# No performance improvement is involved here.\n",
        "benchmark(\n",
        "    tf.data.Dataset.range(2)\n",
        "    .interleave(ArtificialDataset)\n",
        ")"
      ],
      "execution_count": 0,
      "outputs": []
    },
    {
      "cell_type": "markdown",
      "metadata": {
        "id": "F5WmNnWL0QV7",
        "colab_type": "text"
      },
      "source": [
        "### Parallel interleave\n",
        "="
      ]
    },
    {
      "cell_type": "code",
      "metadata": {
        "id": "EwenVY3o0H6Y",
        "colab_type": "code",
        "colab": {}
      },
      "source": [
        "# Now use the `num_parallel_calls` argument of the `interleave` transformation. This loads\n",
        "# multiple datasets in parallel, reducing the time waiting for the files to be opened.\n",
        "benchmark(\n",
        "    tf.data.Dataset.range(2)\n",
        "    .interleave(\n",
        "        ArtificialDataset,\n",
        "        num_parallel_calls=tf.data.experimental.AUTOTUNE\n",
        "    )\n",
        ")"
      ],
      "execution_count": 0,
      "outputs": []
    },
    {
      "cell_type": "code",
      "metadata": {
        "id": "m7l5ObkC0wB3",
        "colab_type": "code",
        "colab": {}
      },
      "source": [
        ""
      ],
      "execution_count": 0,
      "outputs": []
    }
  ]
}