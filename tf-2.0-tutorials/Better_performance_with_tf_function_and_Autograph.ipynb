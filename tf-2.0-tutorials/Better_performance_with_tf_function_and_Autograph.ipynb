{
  "nbformat": 4,
  "nbformat_minor": 0,
  "metadata": {
    "colab": {
      "name": "Better_performance_with_tf_function_and_Autograph.ipynb",
      "provenance": [],
      "private_outputs": true
    },
    "kernelspec": {
      "name": "python3",
      "display_name": "Python 3"
    },
    "accelerator": "GPU"
  },
  "cells": [
    {
      "cell_type": "markdown",
      "metadata": {
        "id": "GGdwMT-Sw1ur",
        "colab_type": "text"
      },
      "source": [
        "TF 2.0 brings together the ease of eager execution and the power of TF 1.0. At the center of this merger is `tf.function`, which allows you to transform a subset of Python syntax into portable, high-performance TensorFlow graphs.\n",
        "\n",
        "A cool new feature of `tf.function` is Autograph Autograph: Conversion of plain Python into TensorFlow graph code.,\n",
        "which lets you write graph code using natural Python syntax. for a list of the Python features tha t you can use with AutoGraph, see AutoGraph Capabilities and Limitations. For more details about `tf.function`, see the RFC `TF2.0: Functions, not Sessions. For more details about AutoGraph, ses `tf.autograph`.\n",
        "\n",
        "This tutorial will walk you through the basic features of `tf.function` and AutoGraph.\n",
        "\n"
      ]
    },
    {
      "cell_type": "code",
      "metadata": {
        "id": "0D_iBbk4wZ8l",
        "colab_type": "code",
        "colab": {}
      },
      "source": [
        "%tensorflow_version 2.x\n",
        "import numpy as np\n",
        "import tensorflow as tf"
      ],
      "execution_count": 0,
      "outputs": []
    },
    {
      "cell_type": "markdown",
      "metadata": {
        "id": "ShHNq1Ipx-eq",
        "colab_type": "text"
      },
      "source": [
        "## The `tf.function` decorater\n",
        "When you annotate a function with `tf.function`, you can still call it like any other function. But it will be compiled into a graph, which means you get the benefits of faster execution, running on GPU or TPY, or exporting to SaveModel."
      ]
    },
    {
      "cell_type": "code",
      "metadata": {
        "id": "AYT0G0h8x1m-",
        "colab_type": "code",
        "colab": {}
      },
      "source": [
        "@tf.function\n",
        "def simple_nn_layer(x, y):\n",
        "  return tf.nn.relu(tf.matmul(x, y))\n",
        "\n",
        "x = tf.random.uniform((3, 3))\n",
        "y = tf.random.uniform((3, 3))\n",
        "\n",
        "simple_nn_layer(x, y)"
      ],
      "execution_count": 0,
      "outputs": []
    },
    {
      "cell_type": "markdown",
      "metadata": {
        "id": "A1ilP_gWyjlN",
        "colab_type": "text"
      },
      "source": [
        "If we examine the result of the annotation, we can see that it's a special callable that handles all interations with the TensorFlow runtime."
      ]
    },
    {
      "cell_type": "code",
      "metadata": {
        "id": "JnF2r9XjyWqG",
        "colab_type": "code",
        "colab": {}
      },
      "source": [
        "simple_nn_layer"
      ],
      "execution_count": 0,
      "outputs": []
    },
    {
      "cell_type": "markdown",
      "metadata": {
        "id": "ac4K8zuYyxtE",
        "colab_type": "text"
      },
      "source": [
        "If your code uses multiple functions, you don't need to annotate them all - any functions called from an annotated function will also run in graph mode."
      ]
    },
    {
      "cell_type": "code",
      "metadata": {
        "id": "NY9U5bmqys2U",
        "colab_type": "code",
        "colab": {}
      },
      "source": [
        "def linear_layer(x):\n",
        "  return 2 * x + 1\n",
        "\n",
        "@tf.function\n",
        "def deep_net(x):\n",
        "  return tf.nn.relu(linear_layer(x))\n",
        "\n",
        "deep_net(tf.constant((1, 2, 3)))"
      ],
      "execution_count": 0,
      "outputs": []
    },
    {
      "cell_type": "markdown",
      "metadata": {
        "id": "2pByhpkmzHYp",
        "colab_type": "text"
      },
      "source": [
        "Functions can be faster than eager code, for graphs with many small ops. But for graphs with a few expensive ops (like convolutions), you may not see much speedup."
      ]
    },
    {
      "cell_type": "code",
      "metadata": {
        "id": "vqNgiJn9zEbS",
        "colab_type": "code",
        "colab": {}
      },
      "source": [
        "import timeit\n",
        "\n",
        "conv_layer = tf.keras.layers.Conv2D(100, 3)\n",
        "\n",
        "@tf.function\n",
        "def conv_fn(image):\n",
        "  return conv_layer(image)\n",
        "  \n",
        "image = tf.zeros([1, 200, 200, 100])\n",
        "\n",
        "# warm up\n",
        "conv_layer(image); conv_fn(image)\n",
        "\n",
        "print(\"Eager conv:\", timeit.timeit(lambda: conv_layer(image), number=10))\n",
        "print('Function conv:', timeit.timeit(lambda: conv_fn(image), number=10))\n",
        "print(\"Note how there's not much difference in performance for convolutions\")"
      ],
      "execution_count": 0,
      "outputs": []
    },
    {
      "cell_type": "code",
      "metadata": {
        "id": "I4QXi8h2zw5e",
        "colab_type": "code",
        "colab": {}
      },
      "source": [
        "lstm_cell = tf.keras.layers.LSTMCell(10)\n",
        "\n",
        "@tf.function\n",
        "def lstm_fn(input, state):\n",
        "  return lstm_cell(input, state)\n",
        "\n",
        "input = tf.ones([10, 10])\n",
        "state = [tf.ones([10, 10])] * 2\n",
        "\n",
        "# Warm up\n",
        "# lstm_cell(input, state); lstm_fn(input, state)\n",
        "\n",
        "print('eager lstm:', timeit.timeit(lambda: lstm_cell(input, state), number=10))\n",
        "print('function lstm:', timeit.timeit(lambda: lstm_fn(input, state), number=10))"
      ],
      "execution_count": 0,
      "outputs": []
    },
    {
      "cell_type": "code",
      "metadata": {
        "id": "keg_fzY20TOM",
        "colab_type": "code",
        "colab": {}
      },
      "source": [
        "# After warm up\n",
        "\n",
        "print('eager lstm:', timeit.timeit(lambda: lstm_cell(input, state), number=10))\n",
        "print('function lstm:', timeit.timeit(lambda: lstm_fn(input, state), number=10))"
      ],
      "execution_count": 0,
      "outputs": []
    },
    {
      "cell_type": "markdown",
      "metadata": {
        "id": "WWxcaRqp0xw_",
        "colab_type": "text"
      },
      "source": [
        "## Use Python control flow\n",
        "When using data-dependent control flow inside `tf.function`, you can use Python control flow statements and AutoGraph will convert them into appropriate TensorFlow ops. For example, `if` statements will be converted into `tf.cond()` if they depend on a `Tensor`."
      ]
    },
    {
      "cell_type": "code",
      "metadata": {
        "id": "mdqpoyrR0jXe",
        "colab_type": "code",
        "colab": {}
      },
      "source": [
        "# In the example below, `x` is a `Tensor` but the `if` statement works as expected\n",
        "@tf.function\n",
        "def square_if_positive(x):\n",
        "  if x > 0:\n",
        "    x = x * x\n",
        "  else:\n",
        "    x = 0\n",
        "  return x\n",
        "\n",
        "print(square_if_positive(tf.constant(2)))\n",
        "print(square_if_positive(tf.constant(-2)))"
      ],
      "execution_count": 0,
      "outputs": []
    },
    {
      "cell_type": "markdown",
      "metadata": {
        "id": "ZGSOZD0a1WOm",
        "colab_type": "text"
      },
      "source": [
        "Note: The previous uses simple conditional with scalar values. Batching is typically used in real-world code."
      ]
    },
    {
      "cell_type": "markdown",
      "metadata": {
        "id": "RxZDUZZo1de8",
        "colab_type": "text"
      },
      "source": [
        "AutoGraph support common Python statements like `while`, `for`, `if`, `break`, `continue`, and `return`, with support for nesting. That means you can use `Tensor` expressions in the condition of `while` and `if` statements, or iterate over a `Tensor` in a `for` loop"
      ]
    },
    {
      "cell_type": "code",
      "metadata": {
        "id": "VG-ZTL6r1SXn",
        "colab_type": "code",
        "colab": {}
      },
      "source": [
        "@tf.function\n",
        "def sum_even(items):\n",
        "  s = 0\n",
        "  for c in items:\n",
        "    if c % 2 > 0:\n",
        "      continue\n",
        "    s += c\n",
        "  return s\n",
        "\n",
        "sum_even(tf.constant([10, 12, 15, 20]))"
      ],
      "execution_count": 0,
      "outputs": []
    },
    {
      "cell_type": "markdown",
      "metadata": {
        "id": "cEKEbEYH2BlW",
        "colab_type": "text"
      },
      "source": [
        "AutoGraph also provides a low-level API for advanced users. For example we can use it to have a look at the generated code."
      ]
    },
    {
      "cell_type": "code",
      "metadata": {
        "id": "2auHmanR1we7",
        "colab_type": "code",
        "colab": {}
      },
      "source": [
        "print(tf.autograph.to_code(sum_even.python_function))"
      ],
      "execution_count": 0,
      "outputs": []
    },
    {
      "cell_type": "code",
      "metadata": {
        "id": "zG3rfczu2KUQ",
        "colab_type": "code",
        "colab": {}
      },
      "source": [
        "# Here's an example of more complicated control flow\n",
        "@tf.function\n",
        "def fizzbuzz(n):\n",
        "  for i in tf.range(n):\n",
        "    if i % 3 == 0:\n",
        "      tf.print('Fizz')\n",
        "    elif i % 5 == 0:\n",
        "      tf.print('Buzz')\n",
        "    else:\n",
        "      tf.print(i)\n",
        "\n",
        "fizzbuzz(tf.constant(15))"
      ],
      "execution_count": 0,
      "outputs": []
    },
    {
      "cell_type": "markdown",
      "metadata": {
        "id": "JmzbHRKR2nZ2",
        "colab_type": "text"
      },
      "source": [
        "## Keras and AutoGraph\n",
        "AutoGraph is available by default in non-dynamic Keras model. For more information, see `tf.keras`."
      ]
    },
    {
      "cell_type": "code",
      "metadata": {
        "id": "y7qNEBkc2eNg",
        "colab_type": "code",
        "colab": {}
      },
      "source": [
        "class CustomModel(tf.keras.models.Model):\n",
        "  \n",
        "  @tf.function\n",
        "  def call(self, input_data):\n",
        "    if tf.reduce_mean(input_data) > 0:\n",
        "      return input_data\n",
        "    else:\n",
        "      return input_data // 2\n",
        "\n",
        "model = CustomModel()\n",
        "\n",
        "model(tf.constant([-2, -4]))"
      ],
      "execution_count": 0,
      "outputs": []
    },
    {
      "cell_type": "markdown",
      "metadata": {
        "id": "LLFhJeoe3IP3",
        "colab_type": "text"
      },
      "source": [
        "## Side effects\n",
        "Just like in eager mode, you can use operations with side effects, like `tf.assign` or `tf.print` normally inside `tf.function`, and it will insert the necessary control dependencies to ensure they execute in order."
      ]
    },
    {
      "cell_type": "code",
      "metadata": {
        "id": "BTy4fkML3G21",
        "colab_type": "code",
        "colab": {}
      },
      "source": [
        "v = tf.Variable(5)\n",
        "\n",
        "@tf.function\n",
        "def find_next_odd():\n",
        "  v.assign(v + 1)\n",
        "  if v % 2 == 0:\n",
        "    v.assign(v + 1)\n",
        "\n",
        "find_next_odd()\n",
        "v"
      ],
      "execution_count": 0,
      "outputs": []
    },
    {
      "cell_type": "markdown",
      "metadata": {
        "id": "_L5oq10R3mKq",
        "colab_type": "text"
      },
      "source": [
        "## Debugging\n",
        "`tf.function` and AutoGraph work by generating code and tracing it into TensorFlow graphs. This mechanism does not yet support step-by-step debuggers like `pdb`. However, you can call `tf.config.run_functions_eagerly(True)` to temporarily enable eager execution inside the `tf.function` and use your favorate debugger:"
      ]
    },
    {
      "cell_type": "code",
      "metadata": {
        "id": "HdiLmsGy3b-o",
        "colab_type": "code",
        "colab": {}
      },
      "source": [
        "@tf.function\n",
        "def f(x):\n",
        "  if x > 0:\n",
        "    import pdb\n",
        "     pdb.set_trace()\n",
        "     x = x + 1\n",
        "  return x\n",
        "\n",
        "tf.config.experimental_run_functions_eagerly(True)\n",
        "\n",
        "# You can now set breakpoints and run the code in a debugger.\n",
        "f(tf.constant(1))\n",
        "\n",
        "tf.config.experimental_run_functions_eagerly(False)"
      ],
      "execution_count": 0,
      "outputs": []
    },
    {
      "cell_type": "markdown",
      "metadata": {
        "id": "YenSh9O-47IK",
        "colab_type": "text"
      },
      "source": [
        "## Advanced example: An in-graph training loop\n",
        "\n",
        "The previous section showed that AutoGraph can be used inside Keras layers and models. Keras models can also be used in AutoGraph code.\n",
        "\n",
        "This example shows how to train a simple Keras model on MNIST with the entire training process - loading batches, calculating gradients, updating parameters, calculating validation accuracy, and repeating untill convergence - is performed in-graph"
      ]
    },
    {
      "cell_type": "code",
      "metadata": {
        "id": "8iC_yVEr4qPV",
        "colab_type": "code",
        "colab": {}
      },
      "source": [
        "# Download data\n",
        "def prepare_mnist_features_and_labels(x, y):\n",
        "  x = tf.cast(x, tf.float32) / 255.0\n",
        "  y = tf.cast(y, tf.int64)\n",
        "  return x, y\n",
        "\n",
        "def mnist_dataset():\n",
        "  (x, y), _ = tf.keras.datasets.mnist.load_data()\n",
        "  ds = tf.data.Dataset.from_tensor_slices((x, y))\n",
        "  ds = ds.map(prepare_mnist_features_and_labels)\n",
        "  ds = ds.take(20000).shuffle(20000).batch(100)\n",
        "  return ds\n",
        "\n",
        "train_dataset = mnist_dataset()"
      ],
      "execution_count": 0,
      "outputs": []
    },
    {
      "cell_type": "code",
      "metadata": {
        "id": "YJRRFE2759_T",
        "colab_type": "code",
        "colab": {}
      },
      "source": [
        "# Define the model\n",
        "model = tf.keras.Sequential((\n",
        "    tf.keras.layers.Reshape(target_shape=(28 * 28,), input_shape=(28, 28)),\n",
        "    tf.keras.layers.Dense(100, activation='relu'),\n",
        "    tf.keras.layers.Dense(100, activation='relu'),\n",
        "    tf.keras.layers.Dense(10)))\n",
        "\n",
        "model.build()\n",
        "optimizer = tf.keras.optimizers.Adam()"
      ],
      "execution_count": 0,
      "outputs": []
    },
    {
      "cell_type": "code",
      "metadata": {
        "id": "Gh2LBJAR7cth",
        "colab_type": "code",
        "colab": {}
      },
      "source": [
        "print(type(1))\n",
        "print((1))\n",
        "print(type(1,))\n",
        "print((1,))"
      ],
      "execution_count": 0,
      "outputs": []
    },
    {
      "cell_type": "markdown",
      "metadata": {
        "id": "q5M75nm37mCK",
        "colab_type": "text"
      },
      "source": [
        "### Define the training loop"
      ]
    },
    {
      "cell_type": "code",
      "metadata": {
        "id": "v_TxGBDv7hi5",
        "colab_type": "code",
        "colab": {}
      },
      "source": [
        "compute_loss = tf.keras.losses.SparseCategoricalCrossentropy(from_logits=True)\n",
        "\n",
        "compute_accuracy = tf.keras.metrics.SparseCategoricalAccuracy()\n",
        "\n",
        "\n",
        "def train_one_step(model, optimizer, x, y):\n",
        "  with tf.GradientTape() as tape:\n",
        "    logits = model(x)\n",
        "    loss = compute_loss(y, logits)\n",
        "\n",
        "  grads = tape.gradient(loss, model.trainable_variables)\n",
        "  optimizer.apply_gradients(zip(grads, model.trainable_variables))\n",
        "\n",
        "  compute_accuracy(y, logits)\n",
        "  return loss\n",
        "\n",
        "\n",
        "@tf.function\n",
        "def train(model, optimizer):\n",
        "  train_ds = mnist_dataset()\n",
        "  step = 0\n",
        "  loss = 0.0\n",
        "  accuracy = 0.0\n",
        "  for x, y in train_ds:\n",
        "    step += 1\n",
        "    loss = train_one_step(model, optimizer, x, y)\n",
        "    if step % 10 == 0:\n",
        "      tf.print('Step', step, ': loss', loss, '; accuracy', compute_accuracy.result())\n",
        "  return step, loss, accuracy\n",
        "\n",
        "step, loss, accuracy = train(model, optimizer)\n",
        "print('Final step', step, ': loss', loss, '; accuracy', compute_accuracy.result())"
      ],
      "execution_count": 0,
      "outputs": []
    },
    {
      "cell_type": "markdown",
      "metadata": {
        "id": "WQPFcvHb9Xzd",
        "colab_type": "text"
      },
      "source": [
        "## Batching\n",
        "\n",
        "In real applications batching is essential for performance. The best code to convert to AutoGraph is code where the control flow is decided at the batch level. If making decisions at the individual example level, try to use batch APIs to maintain performace."
      ]
    },
    {
      "cell_type": "code",
      "metadata": {
        "id": "MGz3X7t483VU",
        "colab_type": "code",
        "colab": {}
      },
      "source": [
        "# For example, if you have the follwing code in Python\n",
        "def square_if_positive(x):\n",
        "  return [i ** 2 if i > 0 else i for i in x]\n",
        "\n",
        "square_if_positive(range(-5, 5))"
      ],
      "execution_count": 0,
      "outputs": []
    },
    {
      "cell_type": "code",
      "metadata": {
        "id": "Y5JaeN5y93vh",
        "colab_type": "code",
        "colab": {}
      },
      "source": [
        "# You may be tempted to write it in TensorFlow as such (and this would work!):\n",
        "@tf.function\n",
        "def square_if_positive_naive(x):\n",
        "  result = tf.TensorArray(tf.int32, size=x.shape[0])\n",
        "  for i in tf.range(x.shape[0]):\n",
        "    if x[i] > 0:\n",
        "      result = result.write(i, x[i] ** 2)\n",
        "    else:\n",
        "      result = result.write(i, x[i])\n",
        "  return result.stack()\n",
        "\n",
        "\n",
        "square_if_positive_naive(tf.range(-5, 5))"
      ],
      "execution_count": 0,
      "outputs": []
    },
    {
      "cell_type": "code",
      "metadata": {
        "id": "Uyq_gFhv-QAr",
        "colab_type": "code",
        "colab": {}
      },
      "source": [
        "# But in this case, it turns out you can write the following\n",
        "def square_if_positive_vectorized(x):\n",
        "  return tf.where(x > 0, x ** 2, x)\n",
        "\n",
        "square_if_positive_vectorized(tf.range(-5, 5))"
      ],
      "execution_count": 0,
      "outputs": []
    },
    {
      "cell_type": "code",
      "metadata": {
        "id": "WYjUI37f-gks",
        "colab_type": "code",
        "colab": {}
      },
      "source": [
        ""
      ],
      "execution_count": 0,
      "outputs": []
    }
  ]
}