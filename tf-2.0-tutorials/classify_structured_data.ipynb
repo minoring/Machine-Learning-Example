{
  "nbformat": 4,
  "nbformat_minor": 0,
  "metadata": {
    "colab": {
      "name": "classify_structured_data.ipynb",
      "version": "0.3.2",
      "provenance": []
    },
    "kernelspec": {
      "name": "python3",
      "display_name": "Python 3"
    }
  },
  "cells": [
    {
      "cell_type": "code",
      "metadata": {
        "id": "K_t3J---qdm-",
        "colab_type": "code",
        "colab": {}
      },
      "source": [
        "## classify structured data (taular data in csv)\n",
        "\n",
        "# Load a CSV file using Pandas.\n",
        "# Build an input pipeline to batch and shuffle the rows using tf.data.\n",
        "# Map from columns in the CSV to features used to train the model using feature columns.\n",
        "# Build, train, and evaluate a model using Keras.\n",
        "\n",
        "# Predict whether a patient has heart disease"
      ],
      "execution_count": 0,
      "outputs": []
    },
    {
      "cell_type": "code",
      "metadata": {
        "id": "vYsJqRecregh",
        "colab_type": "code",
        "colab": {}
      },
      "source": [
        "!pip install -q sklearn"
      ],
      "execution_count": 0,
      "outputs": []
    },
    {
      "cell_type": "code",
      "metadata": {
        "id": "LvkP-hNyrfnS",
        "colab_type": "code",
        "colab": {
          "base_uri": "https://localhost:8080/",
          "height": 85
        },
        "outputId": "ed6ab054-d4f5-42ca-95b6-5c0e7866d375"
      },
      "source": [
        "from __future__ import absolute_import, division, print_function, unicode_literals\n",
        "\n",
        "import numpy as np\n",
        "import pandas as pd\n",
        "\n",
        "!pip install -q tensorflow==2.0.0-alpha0\n",
        "import tensorflow as tf\n",
        "\n",
        "from tensorflow import feature_column\n",
        "from tensorflow.keras import layers\n",
        "from sklearn.model_selection import train_test_split"
      ],
      "execution_count": 3,
      "outputs": [
        {
          "output_type": "stream",
          "text": [
            "\u001b[K     |████████████████████████████████| 79.9MB 458kB/s \n",
            "\u001b[K     |████████████████████████████████| 61kB 23.9MB/s \n",
            "\u001b[K     |████████████████████████████████| 3.0MB 31.5MB/s \n",
            "\u001b[K     |████████████████████████████████| 419kB 53.6MB/s \n",
            "\u001b[?25h"
          ],
          "name": "stdout"
        }
      ]
    },
    {
      "cell_type": "code",
      "metadata": {
        "id": "jI0PZL7hryYB",
        "colab_type": "code",
        "colab": {
          "base_uri": "https://localhost:8080/",
          "height": 221
        },
        "outputId": "73bd50f6-28a1-4150-f77f-d89f558ea7a0"
      },
      "source": [
        "URL = 'https://storage.googleapis.com/applied-dl/heart.csv'\n",
        "dataframe = pd.read_csv(URL)\n",
        "print(dataframe.shape)\n",
        "dataframe.head()"
      ],
      "execution_count": 9,
      "outputs": [
        {
          "output_type": "stream",
          "text": [
            "(303, 14)\n"
          ],
          "name": "stdout"
        },
        {
          "output_type": "execute_result",
          "data": {
            "text/html": [
              "<div>\n",
              "<style scoped>\n",
              "    .dataframe tbody tr th:only-of-type {\n",
              "        vertical-align: middle;\n",
              "    }\n",
              "\n",
              "    .dataframe tbody tr th {\n",
              "        vertical-align: top;\n",
              "    }\n",
              "\n",
              "    .dataframe thead th {\n",
              "        text-align: right;\n",
              "    }\n",
              "</style>\n",
              "<table border=\"1\" class=\"dataframe\">\n",
              "  <thead>\n",
              "    <tr style=\"text-align: right;\">\n",
              "      <th></th>\n",
              "      <th>age</th>\n",
              "      <th>sex</th>\n",
              "      <th>cp</th>\n",
              "      <th>trestbps</th>\n",
              "      <th>chol</th>\n",
              "      <th>fbs</th>\n",
              "      <th>restecg</th>\n",
              "      <th>thalach</th>\n",
              "      <th>exang</th>\n",
              "      <th>oldpeak</th>\n",
              "      <th>slope</th>\n",
              "      <th>ca</th>\n",
              "      <th>thal</th>\n",
              "      <th>target</th>\n",
              "    </tr>\n",
              "  </thead>\n",
              "  <tbody>\n",
              "    <tr>\n",
              "      <th>0</th>\n",
              "      <td>63</td>\n",
              "      <td>1</td>\n",
              "      <td>1</td>\n",
              "      <td>145</td>\n",
              "      <td>233</td>\n",
              "      <td>1</td>\n",
              "      <td>2</td>\n",
              "      <td>150</td>\n",
              "      <td>0</td>\n",
              "      <td>2.3</td>\n",
              "      <td>3</td>\n",
              "      <td>0</td>\n",
              "      <td>fixed</td>\n",
              "      <td>0</td>\n",
              "    </tr>\n",
              "    <tr>\n",
              "      <th>1</th>\n",
              "      <td>67</td>\n",
              "      <td>1</td>\n",
              "      <td>4</td>\n",
              "      <td>160</td>\n",
              "      <td>286</td>\n",
              "      <td>0</td>\n",
              "      <td>2</td>\n",
              "      <td>108</td>\n",
              "      <td>1</td>\n",
              "      <td>1.5</td>\n",
              "      <td>2</td>\n",
              "      <td>3</td>\n",
              "      <td>normal</td>\n",
              "      <td>1</td>\n",
              "    </tr>\n",
              "    <tr>\n",
              "      <th>2</th>\n",
              "      <td>67</td>\n",
              "      <td>1</td>\n",
              "      <td>4</td>\n",
              "      <td>120</td>\n",
              "      <td>229</td>\n",
              "      <td>0</td>\n",
              "      <td>2</td>\n",
              "      <td>129</td>\n",
              "      <td>1</td>\n",
              "      <td>2.6</td>\n",
              "      <td>2</td>\n",
              "      <td>2</td>\n",
              "      <td>reversible</td>\n",
              "      <td>0</td>\n",
              "    </tr>\n",
              "    <tr>\n",
              "      <th>3</th>\n",
              "      <td>37</td>\n",
              "      <td>1</td>\n",
              "      <td>3</td>\n",
              "      <td>130</td>\n",
              "      <td>250</td>\n",
              "      <td>0</td>\n",
              "      <td>0</td>\n",
              "      <td>187</td>\n",
              "      <td>0</td>\n",
              "      <td>3.5</td>\n",
              "      <td>3</td>\n",
              "      <td>0</td>\n",
              "      <td>normal</td>\n",
              "      <td>0</td>\n",
              "    </tr>\n",
              "    <tr>\n",
              "      <th>4</th>\n",
              "      <td>41</td>\n",
              "      <td>0</td>\n",
              "      <td>2</td>\n",
              "      <td>130</td>\n",
              "      <td>204</td>\n",
              "      <td>0</td>\n",
              "      <td>2</td>\n",
              "      <td>172</td>\n",
              "      <td>0</td>\n",
              "      <td>1.4</td>\n",
              "      <td>1</td>\n",
              "      <td>0</td>\n",
              "      <td>normal</td>\n",
              "      <td>0</td>\n",
              "    </tr>\n",
              "  </tbody>\n",
              "</table>\n",
              "</div>"
            ],
            "text/plain": [
              "   age  sex  cp  trestbps  chol  fbs  restecg  thalach  exang  oldpeak  slope  \\\n",
              "0   63    1   1       145   233    1        2      150      0      2.3      3   \n",
              "1   67    1   4       160   286    0        2      108      1      1.5      2   \n",
              "2   67    1   4       120   229    0        2      129      1      2.6      2   \n",
              "3   37    1   3       130   250    0        0      187      0      3.5      3   \n",
              "4   41    0   2       130   204    0        2      172      0      1.4      1   \n",
              "\n",
              "   ca        thal  target  \n",
              "0   0       fixed       0  \n",
              "1   3      normal       1  \n",
              "2   2  reversible       0  \n",
              "3   0      normal       0  \n",
              "4   0      normal       0  "
            ]
          },
          "metadata": {
            "tags": []
          },
          "execution_count": 9
        }
      ]
    },
    {
      "cell_type": "code",
      "metadata": {
        "id": "ojTUwT0HsCpj",
        "colab_type": "code",
        "colab": {
          "base_uri": "https://localhost:8080/",
          "height": 68
        },
        "outputId": "a5fb7f15-31c2-4770-d20a-e54379ba5c29"
      },
      "source": [
        "## Split the dataframe into train, val, test\n",
        "\n",
        "train, test = train_test_split(dataframe, test_size=0.2)\n",
        "train, val = train_test_split(train, test_size=0.2)\n",
        "\n",
        "print(len(train), 'train examples')\n",
        "print(len(val), 'validation examples')\n",
        "print(len(test), 'test examples')"
      ],
      "execution_count": 10,
      "outputs": [
        {
          "output_type": "stream",
          "text": [
            "193 train examples\n",
            "49 validation examples\n",
            "61 test examples\n"
          ],
          "name": "stdout"
        }
      ]
    },
    {
      "cell_type": "code",
      "metadata": {
        "id": "uCmZ9AX7shyE",
        "colab_type": "code",
        "colab": {}
      },
      "source": [
        "## Create an input pipeline using tf.data\n",
        "\n",
        "# wrap the dataframes with tf.data\n",
        "# enable to use feature columns as a bridge to map\n",
        "# from the colums in the Pandas dataframe to features\n",
        "# used to train model\n",
        "\n",
        "# A utility method to create a tf.data dataset from a Pandas Dataframe\n",
        "def df_to_dataset(dataframe, shuffle=True, batch_size=32):\n",
        "    dataframe = dataframe.copy()\n",
        "    labels = dataframe.pop('target')\n",
        "    ds = tf.data.Dataset.from_tensor_slices(\n",
        "        (dict(dataframe), labels))\n",
        "    \n",
        "    if shuffle:\n",
        "        ds = ds.shuffle(buffer_size=len(dataframe))\n",
        "        \n",
        "    ds = ds.batch(batch_size)\n",
        "    return ds"
      ],
      "execution_count": 0,
      "outputs": []
    },
    {
      "cell_type": "code",
      "metadata": {
        "id": "FK2h7kPyuPlQ",
        "colab_type": "code",
        "colab": {}
      },
      "source": [
        "batch_size = 5\n",
        "train_ds = df_to_dataset(train, batch_size=batch_size)\n",
        "val_ds = df_to_dataset(val, shuffle=False, batch_size=batch_size)\n",
        "test_ds = df_to_dataset(test, shuffle=False, batch_size=batch_size)"
      ],
      "execution_count": 0,
      "outputs": []
    },
    {
      "cell_type": "code",
      "metadata": {
        "id": "CToUVvxLufPO",
        "colab_type": "code",
        "colab": {
          "base_uri": "https://localhost:8080/",
          "height": 68
        },
        "outputId": "b110ffe0-bb80-4274-89eb-74c10b8049c9"
      },
      "source": [
        "## Understand the input pipelines\n",
        "\n",
        "for feature_batch, label_batch in train_ds.take(1): # take starts with 1. (not zero)\n",
        "    print('Every feature: ', list(feature_batch.keys()))\n",
        "    print('A batch of ages: ', feature_batch['age'])\n",
        "    print('A batch of target: ', label_batch)\n",
        "\n",
        "# We can see that the dataset returns a dictionary of column names (from the dataframe)\n",
        "# that map to column value from rows in the dataframe"
      ],
      "execution_count": 18,
      "outputs": [
        {
          "output_type": "stream",
          "text": [
            "Every feature:  ['age', 'sex', 'cp', 'trestbps', 'chol', 'fbs', 'restecg', 'thalach', 'exang', 'oldpeak', 'slope', 'ca', 'thal']\n",
            "A batch of ages:  tf.Tensor([41 56 66 67 62], shape=(5,), dtype=int32)\n",
            "A batch of target:  tf.Tensor([0 0 1 1 1], shape=(5,), dtype=int32)\n"
          ],
          "name": "stdout"
        }
      ]
    },
    {
      "cell_type": "code",
      "metadata": {
        "id": "b7wBYRbkurd-",
        "colab_type": "code",
        "colab": {}
      },
      "source": [
        "## Demonstrate several types of feature column\n",
        "\n",
        "# We will use this batch to demonstrate several types of feature columns\n",
        "example_batch = next(iter(train_ds))[0]"
      ],
      "execution_count": 0,
      "outputs": []
    },
    {
      "cell_type": "code",
      "metadata": {
        "id": "JisxLWn5v8z-",
        "colab_type": "code",
        "colab": {}
      },
      "source": [
        "# A utility method to create a feature column\n",
        "# and to transform a batch of data\n",
        "\n",
        "def demo(feature_column):\n",
        "    feature_layer = layers.DenseFeatures(feature_column)\n",
        "    print(feature_layer(example_batch).numpy())"
      ],
      "execution_count": 0,
      "outputs": []
    },
    {
      "cell_type": "code",
      "metadata": {
        "id": "k_c8f3lqwZDu",
        "colab_type": "code",
        "colab": {
          "base_uri": "https://localhost:8080/",
          "height": 190
        },
        "outputId": "91d89b84-3481-47bd-b7d1-19af4fd9f1d0"
      },
      "source": [
        "# The output of a feature column becomes the input to the model\n",
        "age = feature_column.numeric_column('age')\n",
        "demo(age)"
      ],
      "execution_count": 21,
      "outputs": [
        {
          "output_type": "stream",
          "text": [
            "WARNING: Logging before flag parsing goes to stderr.\n",
            "W0512 11:16:53.085058 139800794097536 deprecation.py:323] From /usr/local/lib/python3.6/dist-packages/tensorflow/python/feature_column/feature_column_v2.py:2758: to_float (from tensorflow.python.ops.math_ops) is deprecated and will be removed in a future version.\n",
            "Instructions for updating:\n",
            "Use `tf.cast` instead.\n"
          ],
          "name": "stderr"
        },
        {
          "output_type": "stream",
          "text": [
            "[[41.]\n",
            " [56.]\n",
            " [66.]\n",
            " [67.]\n",
            " [62.]]\n"
          ],
          "name": "stdout"
        }
      ]
    },
    {
      "cell_type": "code",
      "metadata": {
        "id": "U93vJHxdwoPf",
        "colab_type": "code",
        "colab": {
          "base_uri": "https://localhost:8080/",
          "height": 173
        },
        "outputId": "36ca1d97-d270-42de-94c2-2339ce09e651"
      },
      "source": [
        "# Instead of representing age as a numeric column, we could split the age \n",
        "# into several buckets using a bucketized column. \n",
        "boundaries = [ 18, 25, 30, 35, 40, 45, 50, 55, 60, 65]\n",
        "age_buckets = feature_column.bucketized_column(age, \n",
        "                                               boundaries=boundaries)\n",
        "demo(age_buckets)"
      ],
      "execution_count": 27,
      "outputs": [
        {
          "output_type": "stream",
          "text": [
            "W0512 11:20:04.100256 139800794097536 deprecation.py:323] From /usr/local/lib/python3.6/dist-packages/tensorflow/python/feature_column/feature_column_v2.py:2902: to_int64 (from tensorflow.python.ops.math_ops) is deprecated and will be removed in a future version.\n",
            "Instructions for updating:\n",
            "Use `tf.cast` instead.\n"
          ],
          "name": "stderr"
        },
        {
          "output_type": "stream",
          "text": [
            "[[0. 0. 0. 0. 0. 1. 0. 0. 0. 0. 0.]\n",
            " [0. 0. 0. 0. 0. 0. 0. 0. 1. 0. 0.]\n",
            " [0. 0. 0. 0. 0. 0. 0. 0. 0. 0. 1.]\n",
            " [0. 0. 0. 0. 0. 0. 0. 0. 0. 0. 1.]\n",
            " [0. 0. 0. 0. 0. 0. 0. 0. 0. 1. 0.]]\n"
          ],
          "name": "stdout"
        }
      ]
    },
    {
      "cell_type": "code",
      "metadata": {
        "id": "6Jgn_7aaxBkm",
        "colab_type": "code",
        "colab": {
          "base_uri": "https://localhost:8080/",
          "height": 224
        },
        "outputId": "14c1346f-4c15-462f-8991-0624b1ab14fd"
      },
      "source": [
        "# In this dataset, thal is represented as a string (e.g. 'fixed', 'normal', or 'reversible').\n",
        "# We cannot feed strings directly to a model.\n",
        "# The categorical vocabulary columns provide a way to represent strings as a one-hot vector\n",
        "thal = feature_column.categorical_column_with_vocabulary_list(\n",
        "        'thal', ['fixed', 'normal', 'reversible'])\n",
        "thal_one_hot = feature_column.indicator_column(thal)\n",
        "demo(thal_one_hot)"
      ],
      "execution_count": 28,
      "outputs": [
        {
          "output_type": "stream",
          "text": [
            "W0512 11:22:35.660559 139800794097536 deprecation.py:323] From /usr/local/lib/python3.6/dist-packages/tensorflow/python/feature_column/feature_column_v2.py:4307: IndicatorColumn._variable_shape (from tensorflow.python.feature_column.feature_column_v2) is deprecated and will be removed in a future version.\n",
            "Instructions for updating:\n",
            "The old _FeatureColumn APIs are being deprecated. Please use the new FeatureColumn APIs instead.\n",
            "W0512 11:22:35.661881 139800794097536 deprecation.py:323] From /usr/local/lib/python3.6/dist-packages/tensorflow/python/feature_column/feature_column_v2.py:4362: VocabularyListCategoricalColumn._num_buckets (from tensorflow.python.feature_column.feature_column_v2) is deprecated and will be removed in a future version.\n",
            "Instructions for updating:\n",
            "The old _FeatureColumn APIs are being deprecated. Please use the new FeatureColumn APIs instead.\n"
          ],
          "name": "stderr"
        },
        {
          "output_type": "stream",
          "text": [
            "[[0. 0. 1.]\n",
            " [1. 0. 0.]\n",
            " [1. 0. 0.]\n",
            " [0. 1. 0.]\n",
            " [0. 0. 1.]]\n"
          ],
          "name": "stdout"
        }
      ]
    },
    {
      "cell_type": "code",
      "metadata": {
        "id": "Nq3CGzkZx74l",
        "colab_type": "code",
        "colab": {
          "base_uri": "https://localhost:8080/",
          "height": 187
        },
        "outputId": "ad7d7f8b-3043-45e6-e830-93cc04fb72b7"
      },
      "source": [
        "## Embedding columns\n",
        "# Suppose instead of having just a few possible strings, \n",
        "# we have thousands (or more) values per category. \n",
        "# For a number of reasons, as the number of categories grow large, it becomes \n",
        "# infeasible to train a neural network using one-hot encodings\n",
        "# represents that data as a lower-dimensional, dense vector \n",
        "# in which each cell can contain any number, not just 0 or 1\n",
        "\n",
        "thal_embedding = feature_column.embedding_column(thal, dimension=8)\n",
        "demo(thal_embedding)"
      ],
      "execution_count": 29,
      "outputs": [
        {
          "output_type": "stream",
          "text": [
            "[[-0.19893801  0.28358492  0.14529227 -0.23582691  0.26606533 -0.05954123\n",
            "   0.17855044 -0.20925531]\n",
            " [-0.01416214  0.4585956  -0.03341193  0.26013473 -0.285252    0.14049746\n",
            "  -0.56033534 -0.47582766]\n",
            " [-0.01416214  0.4585956  -0.03341193  0.26013473 -0.285252    0.14049746\n",
            "  -0.56033534 -0.47582766]\n",
            " [-0.2588154   0.05537464 -0.01283331 -0.0233634   0.21912993 -0.5541235\n",
            "  -0.09415239 -0.19263671]\n",
            " [-0.19893801  0.28358492  0.14529227 -0.23582691  0.26606533 -0.05954123\n",
            "   0.17855044 -0.20925531]]\n"
          ],
          "name": "stdout"
        }
      ]
    },
    {
      "cell_type": "code",
      "metadata": {
        "id": "xMnYR1J9y5i2",
        "colab_type": "code",
        "colab": {
          "base_uri": "https://localhost:8080/",
          "height": 173
        },
        "outputId": "68c4b5b6-fc5a-4752-ce6d-8e9b9a7f190b"
      },
      "source": [
        "## Hashed feature columns\n",
        "# Another way to represent a categorical column with a large number of values is \n",
        "# to use a categorical_column_with_hash_bucket.\n",
        "# This feature column calculates a hash value of the input, then selects \n",
        "# one of the hash_bucket_size buckets to encode a string\n",
        "# Key point: An important downside of this technique is that \n",
        "# there may be collisions in which different strings are mapped to the same bucket.\n",
        "# In practice, this can work well for some datasets regardless.\n",
        "\n",
        "thal_hashed = feature_column.categorical_column_with_hash_bucket(\n",
        "        'thal', hash_bucket_size=1000)\n",
        "demo(feature_column.indicator_column(thal_hashed))"
      ],
      "execution_count": 31,
      "outputs": [
        {
          "output_type": "stream",
          "text": [
            "W0512 11:30:36.917069 139800794097536 deprecation.py:323] From /usr/local/lib/python3.6/dist-packages/tensorflow/python/feature_column/feature_column_v2.py:4362: HashedCategoricalColumn._num_buckets (from tensorflow.python.feature_column.feature_column_v2) is deprecated and will be removed in a future version.\n",
            "Instructions for updating:\n",
            "The old _FeatureColumn APIs are being deprecated. Please use the new FeatureColumn APIs instead.\n"
          ],
          "name": "stderr"
        },
        {
          "output_type": "stream",
          "text": [
            "[[0. 0. 0. ... 0. 0. 0.]\n",
            " [0. 0. 0. ... 0. 0. 0.]\n",
            " [0. 0. 0. ... 0. 0. 0.]\n",
            " [0. 0. 0. ... 0. 0. 0.]\n",
            " [0. 0. 0. ... 0. 0. 0.]]\n"
          ],
          "name": "stdout"
        }
      ]
    },
    {
      "cell_type": "code",
      "metadata": {
        "id": "8kSBC9gVzvEL",
        "colab_type": "code",
        "colab": {
          "base_uri": "https://localhost:8080/",
          "height": 173
        },
        "outputId": "123bdd05-2177-411b-8f46-305f110ced2a"
      },
      "source": [
        "## Crossed feature columns\n",
        "# Combining features into a single feature, better known as feature crosses\n",
        "# enables a model to learn separate weights for each combination of features\n",
        "# Here, we will create a new feature that is the cross of age and thal.\n",
        "# Note that crossed_column does not build the full table of \n",
        "# all possible combinations (which could be very large)\n",
        "# Instead, it is backed by a hashed_column, so you can choose how large the table is.\n",
        "crossed_feature = feature_column.crossed_column([age_buckets, thal],\n",
        "                                                hash_bucket_size=1000)\n",
        "demo(feature_column.indicator_column(crossed_feature))"
      ],
      "execution_count": 32,
      "outputs": [
        {
          "output_type": "stream",
          "text": [
            "W0512 11:33:23.722586 139800794097536 deprecation.py:323] From /usr/local/lib/python3.6/dist-packages/tensorflow/python/feature_column/feature_column_v2.py:4362: CrossedColumn._num_buckets (from tensorflow.python.feature_column.feature_column_v2) is deprecated and will be removed in a future version.\n",
            "Instructions for updating:\n",
            "The old _FeatureColumn APIs are being deprecated. Please use the new FeatureColumn APIs instead.\n"
          ],
          "name": "stderr"
        },
        {
          "output_type": "stream",
          "text": [
            "[[0. 0. 0. ... 0. 0. 0.]\n",
            " [0. 0. 0. ... 0. 0. 0.]\n",
            " [0. 0. 0. ... 0. 0. 0.]\n",
            " [0. 0. 0. ... 0. 0. 0.]\n",
            " [0. 0. 0. ... 0. 0. 0.]]\n"
          ],
          "name": "stdout"
        }
      ]
    },
    {
      "cell_type": "code",
      "metadata": {
        "id": "8kZQBVcT0aFM",
        "colab_type": "code",
        "colab": {}
      },
      "source": [
        "## Choose which columns to use\n",
        "feature_columns = []\n",
        "\n",
        "# numeric cols\n",
        "for header in ['age', 'trestbps', 'chol', 'thalach', 'oldpeak', 'slope', 'ca']:\n",
        "    feature_columns.append(feature_column.numeric_column(header))\n",
        "\n",
        "# bucketized cols\n",
        "age_buckets = feature_column.bucketized_column(age, \n",
        "                                               boundaries=[18, 25, 30, 35, 40, 45, 50, 55, 60, 65])\n",
        "feature_columns.append(age_buckets)\n",
        "\n",
        "# indicator cols\n",
        "thal = feature_column.categorical_column_with_vocabulary_list(\n",
        "        'thal', ['fixed', 'normal', 'reversible'])\n",
        "thal_one_hot = feature_column.indicator_column(thal)\n",
        "feature_columns.append(thal_one_hot)\n",
        "\n",
        "# embedding cols\n",
        "thal_embedding = feature_column.embedding_column(thal, dimension=8)\n",
        "feature_columns.append(thal_embedding)\n",
        "\n",
        "# crossed cols\n",
        "crossed_feature = feature_column.crossed_column([age_buckets, thal],\n",
        "                                                hash_bucket_size=1000)\n",
        "crossed_feature = feature_column.indicator_column(crossed_feature)\n",
        "feature_columns.append(crossed_feature)"
      ],
      "execution_count": 0,
      "outputs": []
    },
    {
      "cell_type": "code",
      "metadata": {
        "id": "khU5kzmP2dYS",
        "colab_type": "code",
        "colab": {}
      },
      "source": [
        "# Create a feature layer\n",
        "# Now that we have defined our feature columns, we will use a DenseFeatures layer to input them to our Keras model.\n",
        "feature_layer = tf.keras.layers.DenseFeatures(feature_columns)"
      ],
      "execution_count": 0,
      "outputs": []
    },
    {
      "cell_type": "code",
      "metadata": {
        "id": "H2Zr59CK2nkf",
        "colab_type": "code",
        "colab": {}
      },
      "source": [
        "batch_size = 32\n",
        "train_ds = df_to_dataset(train, batch_size=batch_size)\n",
        "val_ds = df_to_dataset(val, shuffle=False, batch_size=batch_size)\n",
        "test_ds = df_to_dataset(test, shuffle=False, batch_size=batch_size)"
      ],
      "execution_count": 0,
      "outputs": []
    },
    {
      "cell_type": "code",
      "metadata": {
        "id": "jxvm19co2tTb",
        "colab_type": "code",
        "colab": {}
      },
      "source": [
        "model = tf.keras.Sequential([\n",
        "    feature_layer,\n",
        "    layers.Dense(128, activation='relu'),\n",
        "    layers.Dense(128, activation='relu'),\n",
        "    layers.Dense(1, activation='sigmoid')\n",
        "])"
      ],
      "execution_count": 0,
      "outputs": []
    },
    {
      "cell_type": "code",
      "metadata": {
        "id": "cHH5mIYt238q",
        "colab_type": "code",
        "colab": {}
      },
      "source": [
        "model.compile(optimizer='adam',\n",
        "              loss='binary_crossentropy',\n",
        "              metrics=['accuracy'])"
      ],
      "execution_count": 0,
      "outputs": []
    },
    {
      "cell_type": "code",
      "metadata": {
        "id": "SKQ-JEgL3H2m",
        "colab_type": "code",
        "colab": {
          "base_uri": "https://localhost:8080/",
          "height": 204
        },
        "outputId": "6339f0dd-d410-4dac-cdbc-ca680d6c4371"
      },
      "source": [
        "model.fit(train_ds,\n",
        "          validation_data=val_ds,\n",
        "          epochs=5)"
      ],
      "execution_count": 40,
      "outputs": [
        {
          "output_type": "stream",
          "text": [
            "Epoch 1/5\n",
            "7/7 [==============================] - 1s 77ms/step - loss: 1.4603 - accuracy: 0.5756 - val_loss: 0.6849 - val_accuracy: 0.6327\n",
            "Epoch 2/5\n",
            "7/7 [==============================] - 0s 28ms/step - loss: 0.5153 - accuracy: 0.6716 - val_loss: 0.4635 - val_accuracy: 0.7959\n",
            "Epoch 3/5\n",
            "7/7 [==============================] - 0s 28ms/step - loss: 0.4444 - accuracy: 0.7642 - val_loss: 0.4814 - val_accuracy: 0.7755\n",
            "Epoch 4/5\n",
            "7/7 [==============================] - 0s 28ms/step - loss: 0.5336 - accuracy: 0.7300 - val_loss: 0.4398 - val_accuracy: 0.8571\n",
            "Epoch 5/5\n",
            "7/7 [==============================] - 0s 26ms/step - loss: 0.4873 - accuracy: 0.7541 - val_loss: 0.4487 - val_accuracy: 0.7755\n"
          ],
          "name": "stdout"
        },
        {
          "output_type": "execute_result",
          "data": {
            "text/plain": [
              "<tensorflow.python.keras.callbacks.History at 0x7f25a946f550>"
            ]
          },
          "metadata": {
            "tags": []
          },
          "execution_count": 40
        }
      ]
    },
    {
      "cell_type": "code",
      "metadata": {
        "id": "CkEs1dhE3Nh7",
        "colab_type": "code",
        "colab": {
          "base_uri": "https://localhost:8080/",
          "height": 51
        },
        "outputId": "1ac54fe9-ddec-424a-f1f7-bcf222f813e2"
      },
      "source": [
        "loss, accuracy = model.evaluate(test_ds)\n",
        "print('Accuracy', accuracy)"
      ],
      "execution_count": 41,
      "outputs": [
        {
          "output_type": "stream",
          "text": [
            "2/2 [==============================] - 0s 17ms/step - loss: 0.4469 - accuracy: 0.7869\n",
            "Accuracy 0.78688526\n"
          ],
          "name": "stdout"
        }
      ]
    }
  ]
}