{
  "nbformat": 4,
  "nbformat_minor": 0,
  "metadata": {
    "colab": {
      "name": "save_restore_models.ipynb",
      "version": "0.3.2",
      "provenance": []
    },
    "kernelspec": {
      "name": "python3",
      "display_name": "Python 3"
    },
    "accelerator": "GPU"
  },
  "cells": [
    {
      "cell_type": "code",
      "metadata": {
        "id": "mnr_HqpDE7T-",
        "colab_type": "code",
        "colab": {}
      },
      "source": [
        "!pip install -q h5py pyyaml"
      ],
      "execution_count": 0,
      "outputs": []
    },
    {
      "cell_type": "code",
      "metadata": {
        "id": "ueJtcrkJFfGY",
        "colab_type": "code",
        "colab": {
          "base_uri": "https://localhost:8080/",
          "height": 102
        },
        "outputId": "302f5de9-218c-46f4-97b3-e16d8c3978a0"
      },
      "source": [
        "# We'll use the MNIST dataset to train our model to demonstrate saving weights. \n",
        "# To speed up these demonstration runs, only use the first 1000 examples:\n",
        "\n",
        "from __future__ import absolute_import, division, print_function, unicode_literals\n",
        "\n",
        "import os\n",
        "\n",
        "!pip install -q tensorflow==2.0.0-alpha0\n",
        "import tensorflow as tf\n",
        "from tensorflow import keras\n",
        "\n",
        "tf.__version__"
      ],
      "execution_count": 2,
      "outputs": [
        {
          "output_type": "stream",
          "text": [
            "\u001b[K     |████████████████████████████████| 79.9MB 2.0MB/s \n",
            "\u001b[K     |████████████████████████████████| 419kB 42.3MB/s \n",
            "\u001b[K     |████████████████████████████████| 61kB 22.0MB/s \n",
            "\u001b[K     |████████████████████████████████| 3.0MB 35.8MB/s \n",
            "\u001b[?25h"
          ],
          "name": "stdout"
        },
        {
          "output_type": "execute_result",
          "data": {
            "text/plain": [
              "'2.0.0-alpha0'"
            ]
          },
          "metadata": {
            "tags": []
          },
          "execution_count": 2
        }
      ]
    },
    {
      "cell_type": "code",
      "metadata": {
        "id": "GIT-ebK8F3C0",
        "colab_type": "code",
        "colab": {
          "base_uri": "https://localhost:8080/",
          "height": 51
        },
        "outputId": "6ba68248-80f9-43ea-d103-f314c7612b6e"
      },
      "source": [
        "(train_images, train_labels), (test_images, test_labels) = \\\n",
        "    tf.keras.datasets.mnist.load_data()\n",
        "\n",
        "train_labels = train_labels[:1000]\n",
        "test_labels = test_labels[:1000]\n",
        "\n",
        "train_images = train_images[:1000].reshape(-1, 28*28) / 255.0\n",
        "test_images = test_images[:1000].reshape(-1, 28*28) / 255.0"
      ],
      "execution_count": 3,
      "outputs": [
        {
          "output_type": "stream",
          "text": [
            "Downloading data from https://storage.googleapis.com/tensorflow/tf-keras-datasets/mnist.npz\n",
            "11493376/11490434 [==============================] - 0s 0us/step\n"
          ],
          "name": "stdout"
        }
      ]
    },
    {
      "cell_type": "code",
      "metadata": {
        "id": "R5FBEW8XG3Vm",
        "colab_type": "code",
        "colab": {}
      },
      "source": [
        "def create_model():\n",
        "    model = tf.keras.models.Sequential([\n",
        "        keras.layers.Dense(512, activation='relu', input_shape=(784,)),\n",
        "        keras.layers.Dropout(0.2),\n",
        "        keras.layers.Dense(10, activation='softmax')\n",
        "    ])\n",
        "    \n",
        "    model.compile(optimizer='adam',\n",
        "                  loss='sparse_categorical_crossentropy',\n",
        "                  metrics=['accuracy'])\n",
        "    \n",
        "    return model"
      ],
      "execution_count": 0,
      "outputs": []
    },
    {
      "cell_type": "code",
      "metadata": {
        "id": "BohGZO9pHLTL",
        "colab_type": "code",
        "colab": {
          "base_uri": "https://localhost:8080/",
          "height": 255
        },
        "outputId": "8ed3d95f-09ba-4189-efe5-b824311e1ee5"
      },
      "source": [
        "model = create_model()\n",
        "model.summary()"
      ],
      "execution_count": 8,
      "outputs": [
        {
          "output_type": "stream",
          "text": [
            "Model: \"sequential\"\n",
            "_________________________________________________________________\n",
            "Layer (type)                 Output Shape              Param #   \n",
            "=================================================================\n",
            "dense_1 (Dense)              (None, 512)               401920    \n",
            "_________________________________________________________________\n",
            "dropout (Dropout)            (None, 512)               0         \n",
            "_________________________________________________________________\n",
            "dense_2 (Dense)              (None, 10)                5130      \n",
            "=================================================================\n",
            "Total params: 407,050\n",
            "Trainable params: 407,050\n",
            "Non-trainable params: 0\n",
            "_________________________________________________________________\n"
          ],
          "name": "stdout"
        }
      ]
    },
    {
      "cell_type": "code",
      "metadata": {
        "id": "hIJzH9PYHaP4",
        "colab_type": "code",
        "colab": {}
      },
      "source": [
        "## Save checkpoints during training\n",
        "# The primary use case is to automatically save checkpoints during and at the end of training.\n",
        "checkpoint_path = 'training_1/cp.ckpt'\n",
        "checkpoint_dir = os.path.dirname(checkpoint_path)\n",
        "\n",
        "# Create checkpoint callback\n",
        "cp_callback = tf.keras.callbacks.ModelCheckpoint(checkpoint_path,\n",
        "                                                 save_weights_only=True,\n",
        "                                                 verbose=1)"
      ],
      "execution_count": 0,
      "outputs": []
    },
    {
      "cell_type": "code",
      "metadata": {
        "id": "TiIcYGp-IaKH",
        "colab_type": "code",
        "colab": {
          "base_uri": "https://localhost:8080/",
          "height": 731
        },
        "outputId": "340d8acb-2548-420d-de66-59269b83b5b5"
      },
      "source": [
        "model.fit(train_images,\n",
        "          train_labels,\n",
        "          epochs=10,\n",
        "          validation_data=(test_images, test_labels),\n",
        "          callbacks=[cp_callback])"
      ],
      "execution_count": 11,
      "outputs": [
        {
          "output_type": "stream",
          "text": [
            "Train on 1000 samples, validate on 1000 samples\n",
            "Epoch 1/10\n",
            " 736/1000 [=====================>........] - ETA: 0s - loss: 1.3232 - accuracy: 0.6196\n",
            "Epoch 00001: saving model to training_1/cp.ckpt\n",
            "1000/1000 [==============================] - 0s 497us/sample - loss: 1.1645 - accuracy: 0.6610 - val_loss: 0.6941 - val_accuracy: 0.7920\n",
            "Epoch 2/10\n",
            " 736/1000 [=====================>........] - ETA: 0s - loss: 0.4313 - accuracy: 0.8845\n",
            "Epoch 00002: saving model to training_1/cp.ckpt\n",
            "1000/1000 [==============================] - 0s 253us/sample - loss: 0.4213 - accuracy: 0.8830 - val_loss: 0.5338 - val_accuracy: 0.8390\n",
            "Epoch 3/10\n",
            " 704/1000 [====================>.........] - ETA: 0s - loss: 0.2891 - accuracy: 0.9318\n",
            "Epoch 00003: saving model to training_1/cp.ckpt\n",
            "1000/1000 [==============================] - 0s 245us/sample - loss: 0.2778 - accuracy: 0.9320 - val_loss: 0.4580 - val_accuracy: 0.8670\n",
            "Epoch 4/10\n",
            " 736/1000 [=====================>........] - ETA: 0s - loss: 0.2003 - accuracy: 0.9565\n",
            "Epoch 00004: saving model to training_1/cp.ckpt\n",
            "1000/1000 [==============================] - 0s 245us/sample - loss: 0.2100 - accuracy: 0.9510 - val_loss: 0.4477 - val_accuracy: 0.8540\n",
            "Epoch 5/10\n",
            " 704/1000 [====================>.........] - ETA: 0s - loss: 0.1365 - accuracy: 0.9730\n",
            "Epoch 00005: saving model to training_1/cp.ckpt\n",
            "1000/1000 [==============================] - 0s 238us/sample - loss: 0.1597 - accuracy: 0.9630 - val_loss: 0.4394 - val_accuracy: 0.8530\n",
            "Epoch 6/10\n",
            " 704/1000 [====================>.........] - ETA: 0s - loss: 0.1453 - accuracy: 0.9716\n",
            "Epoch 00006: saving model to training_1/cp.ckpt\n",
            "1000/1000 [==============================] - 0s 236us/sample - loss: 0.1384 - accuracy: 0.9710 - val_loss: 0.4258 - val_accuracy: 0.8680\n",
            "Epoch 7/10\n",
            " 736/1000 [=====================>........] - ETA: 0s - loss: 0.0884 - accuracy: 0.9891\n",
            "Epoch 00007: saving model to training_1/cp.ckpt\n",
            "1000/1000 [==============================] - 0s 240us/sample - loss: 0.0836 - accuracy: 0.9910 - val_loss: 0.4450 - val_accuracy: 0.8540\n",
            "Epoch 8/10\n",
            " 704/1000 [====================>.........] - ETA: 0s - loss: 0.0677 - accuracy: 0.9929\n",
            "Epoch 00008: saving model to training_1/cp.ckpt\n",
            "1000/1000 [==============================] - 0s 247us/sample - loss: 0.0641 - accuracy: 0.9950 - val_loss: 0.4146 - val_accuracy: 0.8740\n",
            "Epoch 9/10\n",
            " 736/1000 [=====================>........] - ETA: 0s - loss: 0.0453 - accuracy: 0.9973\n",
            "Epoch 00009: saving model to training_1/cp.ckpt\n",
            "1000/1000 [==============================] - 0s 246us/sample - loss: 0.0476 - accuracy: 0.9980 - val_loss: 0.4193 - val_accuracy: 0.8610\n",
            "Epoch 10/10\n",
            " 672/1000 [===================>..........] - ETA: 0s - loss: 0.0363 - accuracy: 0.9955\n",
            "Epoch 00010: saving model to training_1/cp.ckpt\n",
            "1000/1000 [==============================] - 0s 252us/sample - loss: 0.0404 - accuracy: 0.9960 - val_loss: 0.4097 - val_accuracy: 0.8730\n"
          ],
          "name": "stdout"
        },
        {
          "output_type": "execute_result",
          "data": {
            "text/plain": [
              "<tensorflow.python.keras.callbacks.History at 0x7f5105025eb8>"
            ]
          },
          "metadata": {
            "tags": []
          },
          "execution_count": 11
        }
      ]
    },
    {
      "cell_type": "code",
      "metadata": {
        "id": "h0iW-5AzIksW",
        "colab_type": "code",
        "colab": {
          "base_uri": "https://localhost:8080/",
          "height": 34
        },
        "outputId": "f4424937-b3b9-4abd-e357-583afa64ea64"
      },
      "source": [
        "!ls {checkpoint_dir}"
      ],
      "execution_count": 12,
      "outputs": [
        {
          "output_type": "stream",
          "text": [
            "checkpoint  cp.ckpt.data-00000-of-00001  cp.ckpt.index\n"
          ],
          "name": "stdout"
        }
      ]
    },
    {
      "cell_type": "code",
      "metadata": {
        "id": "oKI5bjtdIsSs",
        "colab_type": "code",
        "colab": {
          "base_uri": "https://localhost:8080/",
          "height": 51
        },
        "outputId": "6090769a-c304-4b60-e072-9dcc902b4871"
      },
      "source": [
        "# Create a new, untrained model.\n",
        "# When restoring a model from only weights, you must have a model with the same architecture as the original model.\n",
        "# Since it's the same model architecture, we can share weights despite that it's a different instance of the model.\n",
        "\n",
        "# Now rebuild a fresh, untrained model, and evaluate it on the test set. An untrained model will perform at chance levels (~10% accuracy):\n",
        "model = create_model()\n",
        "\n",
        "loss, acc = model.evaluate(test_images, test_labels)\n",
        "\n",
        "print('Untrained model, accuracy: {:5.2f}%'.format(100*acc))"
      ],
      "execution_count": 13,
      "outputs": [
        {
          "output_type": "stream",
          "text": [
            "1000/1000 [==============================] - 0s 111us/sample - loss: 2.3531 - accuracy: 0.0900\n",
            "Untrained model, accuracy:  9.00%\n"
          ],
          "name": "stdout"
        }
      ]
    },
    {
      "cell_type": "code",
      "metadata": {
        "id": "COhDbetyJGB2",
        "colab_type": "code",
        "colab": {
          "base_uri": "https://localhost:8080/",
          "height": 51
        },
        "outputId": "05060cd2-7766-4979-eb76-6dab71fdba48"
      },
      "source": [
        "# Then load the weights from the checkpoint, and re-evaluate:\n",
        "\n",
        "model.load_weights(checkpoint_path)\n",
        "\n",
        "loss, acc = model.evaluate(test_images, test_labels)\n",
        "print('Untrained model, accuracy: {:5.2f}%'.format(100*acc))"
      ],
      "execution_count": 14,
      "outputs": [
        {
          "output_type": "stream",
          "text": [
            "1000/1000 [==============================] - 0s 73us/sample - loss: 0.4097 - accuracy: 0.8730\n",
            "Untrained model, accuracy: 87.30%\n"
          ],
          "name": "stdout"
        }
      ]
    },
    {
      "cell_type": "code",
      "metadata": {
        "id": "bvDgcohFJRld",
        "colab_type": "code",
        "colab": {}
      },
      "source": [
        "## Checkpoint callback options\n",
        "# The callback provides several options to give the resulting checkpoints unique names, and adjust the checkpointing frequency.\n",
        "# Train a new model, and save uniquely named checkpoints once every 5-epochs:\n",
        "\n",
        "# Include the epoch in the file name. (uses `str.fotmat`)\n",
        "checkpoint_path = 'training_2/cp-{epoch:04d}.ckpt'\n",
        "checkpoint_dir = os.path.dirname(checkpoint_path)\n",
        "\n",
        "cp_callback = \\\n",
        "        tf.keras.callbacks.ModelCheckpoint(checkpoint_path,\n",
        "                                           verbose=1,\n",
        "                                           save_weights_only=True,\n",
        "                                           # Save weights, every 5-epochs\n",
        "                                           period=5)"
      ],
      "execution_count": 0,
      "outputs": []
    },
    {
      "cell_type": "code",
      "metadata": {
        "id": "OapPCEyuKKAD",
        "colab_type": "code",
        "colab": {
          "base_uri": "https://localhost:8080/",
          "height": 374
        },
        "outputId": "40d930e7-024f-4e72-90a8-845a5461d401"
      },
      "source": [
        "model = create_model()\n",
        "model.save_weights(checkpoint_path.format(epoch=0))\n",
        "model.fit(train_images,\n",
        "          train_labels,\n",
        "          epochs=50,\n",
        "          callbacks=[cp_callback],\n",
        "          validation_data=(test_images, test_labels),\n",
        "          verbose=0)"
      ],
      "execution_count": 21,
      "outputs": [
        {
          "output_type": "stream",
          "text": [
            "\n",
            "Epoch 00005: saving model to training_2/cp-0005.ckpt\n",
            "\n",
            "Epoch 00010: saving model to training_2/cp-0010.ckpt\n",
            "\n",
            "Epoch 00015: saving model to training_2/cp-0015.ckpt\n",
            "\n",
            "Epoch 00020: saving model to training_2/cp-0020.ckpt\n",
            "\n",
            "Epoch 00025: saving model to training_2/cp-0025.ckpt\n",
            "\n",
            "Epoch 00030: saving model to training_2/cp-0030.ckpt\n",
            "\n",
            "Epoch 00035: saving model to training_2/cp-0035.ckpt\n",
            "\n",
            "Epoch 00040: saving model to training_2/cp-0040.ckpt\n",
            "\n",
            "Epoch 00045: saving model to training_2/cp-0045.ckpt\n",
            "\n",
            "Epoch 00050: saving model to training_2/cp-0050.ckpt\n"
          ],
          "name": "stdout"
        },
        {
          "output_type": "execute_result",
          "data": {
            "text/plain": [
              "<tensorflow.python.keras.callbacks.History at 0x7f50faf81278>"
            ]
          },
          "metadata": {
            "tags": []
          },
          "execution_count": 21
        }
      ]
    },
    {
      "cell_type": "code",
      "metadata": {
        "id": "LInTtErNKOpT",
        "colab_type": "code",
        "colab": {
          "base_uri": "https://localhost:8080/",
          "height": 221
        },
        "outputId": "50ac5e6b-ad71-4264-8601-02321820da69"
      },
      "source": [
        "!ls {checkpoint_dir}"
      ],
      "execution_count": 22,
      "outputs": [
        {
          "output_type": "stream",
          "text": [
            "checkpoint\t\t\t  cp-0025.ckpt.index\n",
            "cp-0000.ckpt.data-00000-of-00001  cp-0030.ckpt.data-00000-of-00001\n",
            "cp-0000.ckpt.index\t\t  cp-0030.ckpt.index\n",
            "cp-0005.ckpt.data-00000-of-00001  cp-0035.ckpt.data-00000-of-00001\n",
            "cp-0005.ckpt.index\t\t  cp-0035.ckpt.index\n",
            "cp-0010.ckpt.data-00000-of-00001  cp-0040.ckpt.data-00000-of-00001\n",
            "cp-0010.ckpt.index\t\t  cp-0040.ckpt.index\n",
            "cp-0015.ckpt.data-00000-of-00001  cp-0045.ckpt.data-00000-of-00001\n",
            "cp-0015.ckpt.index\t\t  cp-0045.ckpt.index\n",
            "cp-0020.ckpt.data-00000-of-00001  cp-0050.ckpt.data-00000-of-00001\n",
            "cp-0020.ckpt.index\t\t  cp-0050.ckpt.index\n",
            "cp-0025.ckpt.data-00000-of-00001\n"
          ],
          "name": "stdout"
        }
      ]
    },
    {
      "cell_type": "code",
      "metadata": {
        "id": "9YnF-xyFLwMf",
        "colab_type": "code",
        "colab": {
          "base_uri": "https://localhost:8080/",
          "height": 34
        },
        "outputId": "2bf4f7ae-da15-4427-f94c-277e17b233b4"
      },
      "source": [
        "latest = tf.train.latest_checkpoint(checkpoint_dir)\n",
        "latest"
      ],
      "execution_count": 23,
      "outputs": [
        {
          "output_type": "execute_result",
          "data": {
            "text/plain": [
              "'training_2/cp-0050.ckpt'"
            ]
          },
          "metadata": {
            "tags": []
          },
          "execution_count": 23
        }
      ]
    },
    {
      "cell_type": "code",
      "metadata": {
        "id": "KRj2-zWzL1_Z",
        "colab_type": "code",
        "colab": {
          "base_uri": "https://localhost:8080/",
          "height": 51
        },
        "outputId": "01bc4a63-eae1-4bb7-8cc1-9dbb72afd0fe"
      },
      "source": [
        "model = create_model()\n",
        "model.load_weights(latest)\n",
        "loss, acc = model.evaluate(test_images, test_labels)\n",
        "print('Restored model, accurcay: {:5.2f}'.format(100*acc))"
      ],
      "execution_count": 25,
      "outputs": [
        {
          "output_type": "stream",
          "text": [
            "1000/1000 [==============================] - 0s 111us/sample - loss: 0.4814 - accuracy: 0.8770\n",
            "Restored model, accurcay: 87.70\n"
          ],
          "name": "stdout"
        }
      ]
    },
    {
      "cell_type": "code",
      "metadata": {
        "id": "6_Itv-S2MBt7",
        "colab_type": "code",
        "colab": {
          "base_uri": "https://localhost:8080/",
          "height": 51
        },
        "outputId": "f5b6d699-43f9-4e5d-f890-559d3cb363d2"
      },
      "source": [
        "## Manually save weights\n",
        "\n",
        "# Save the weights\n",
        "model.save_weights('./checkpoints/my_checkpoint')\n",
        "\n",
        "# Restore the weight\n",
        "model = create_model()\n",
        "model.load_weights('./checkpoints/my_checkpoint')\n",
        "\n",
        "loss,acc = model.evaluate(test_images, test_labels)\n",
        "print(\"Restored model, accuracy: {:5.2f}%\".format(100*acc))"
      ],
      "execution_count": 26,
      "outputs": [
        {
          "output_type": "stream",
          "text": [
            "1000/1000 [==============================] - 0s 115us/sample - loss: 0.4814 - accuracy: 0.8770\n",
            "Restored model, accuracy: 87.70%\n"
          ],
          "name": "stdout"
        }
      ]
    },
    {
      "cell_type": "code",
      "metadata": {
        "id": "_bFly5u7MwwW",
        "colab_type": "code",
        "colab": {
          "base_uri": "https://localhost:8080/",
          "height": 187
        },
        "outputId": "20aae3cd-1962-4096-c417-06e27c2738a9"
      },
      "source": [
        "# The model and optimizer can be saved to a file that contains both their state (weights and variables), and the model configuration.\n",
        "# This allows you to export a model so it can be used without access to the original python code.\n",
        "# Since the optimizer-state is recovered you can even resume training from exactly where you left off\n",
        "# Saving a fully-functional model is very useful—you can load them in TensorFlow.js \n",
        "# and then train and run them in web browsers, or convert them to run on mobile devices using TensorFlow Lite\n",
        "\n",
        "# Keras provides a basic save format using the HDF5 standard. \n",
        "\n",
        "model = create_model()\n",
        "\n",
        "model.fit(train_images, train_labels, epochs=5)\n",
        "\n",
        "# Save entire model to a HDF5 file\n",
        "model.save('my_model.h5')"
      ],
      "execution_count": 27,
      "outputs": [
        {
          "output_type": "stream",
          "text": [
            "Epoch 1/5\n",
            "1000/1000 [==============================] - 0s 246us/sample - loss: 1.1391 - accuracy: 0.6830\n",
            "Epoch 2/5\n",
            "1000/1000 [==============================] - 0s 156us/sample - loss: 0.4258 - accuracy: 0.8790\n",
            "Epoch 3/5\n",
            "1000/1000 [==============================] - 0s 150us/sample - loss: 0.2789 - accuracy: 0.9240\n",
            "Epoch 4/5\n",
            "1000/1000 [==============================] - 0s 147us/sample - loss: 0.2087 - accuracy: 0.9500\n",
            "Epoch 5/5\n",
            "1000/1000 [==============================] - 0s 157us/sample - loss: 0.1568 - accuracy: 0.9630\n"
          ],
          "name": "stdout"
        }
      ]
    },
    {
      "cell_type": "code",
      "metadata": {
        "id": "saTwC6LgNTHo",
        "colab_type": "code",
        "colab": {
          "base_uri": "https://localhost:8080/",
          "height": 255
        },
        "outputId": "949c2c08-00f0-4b2a-fc45-6dfe0f16158f"
      },
      "source": [
        "# Recreate the exact same model, including weights and optimizer.\n",
        "new_model = keras.models.load_model('my_model.h5')\n",
        "new_model.summary()"
      ],
      "execution_count": 29,
      "outputs": [
        {
          "output_type": "stream",
          "text": [
            "Model: \"sequential_6\"\n",
            "_________________________________________________________________\n",
            "Layer (type)                 Output Shape              Param #   \n",
            "=================================================================\n",
            "dense_13 (Dense)             (None, 512)               401920    \n",
            "_________________________________________________________________\n",
            "dropout_6 (Dropout)          (None, 512)               0         \n",
            "_________________________________________________________________\n",
            "dense_14 (Dense)             (None, 10)                5130      \n",
            "=================================================================\n",
            "Total params: 407,050\n",
            "Trainable params: 407,050\n",
            "Non-trainable params: 0\n",
            "_________________________________________________________________\n"
          ],
          "name": "stdout"
        }
      ]
    },
    {
      "cell_type": "code",
      "metadata": {
        "id": "-98maVzFNcI_",
        "colab_type": "code",
        "colab": {
          "base_uri": "https://localhost:8080/",
          "height": 51
        },
        "outputId": "b76fce98-2015-47e2-87f3-4401c3603024"
      },
      "source": [
        "loss, acc = new_model.evaluate(test_images, test_labels)\n",
        "print(\"Restored model, accuracy: {:5.2f}%\".format(100*acc))"
      ],
      "execution_count": 30,
      "outputs": [
        {
          "output_type": "stream",
          "text": [
            "1000/1000 [==============================] - 0s 104us/sample - loss: 0.4183 - accuracy: 0.8580\n",
            "Restored model, accuracy: 85.80%\n"
          ],
          "name": "stdout"
        }
      ]
    },
    {
      "cell_type": "code",
      "metadata": {
        "id": "zeCg2gPYNgR0",
        "colab_type": "code",
        "colab": {
          "base_uri": "https://localhost:8080/",
          "height": 204
        },
        "outputId": "8454758b-fcf5-43bc-ee96-da15e0e2d0aa"
      },
      "source": [
        "# This technique saves everything:\n",
        "\n",
        "# The weight values\n",
        "# The model's configuration(architecture)\n",
        "# The optimizer configuration\n",
        "\n",
        "# saved_model\n",
        "model = create_model()\n",
        "model.fit(train_images, train_labels, epochs=5)"
      ],
      "execution_count": 31,
      "outputs": [
        {
          "output_type": "stream",
          "text": [
            "Epoch 1/5\n",
            "1000/1000 [==============================] - 0s 243us/sample - loss: 1.1501 - accuracy: 0.6730\n",
            "Epoch 2/5\n",
            "1000/1000 [==============================] - 0s 156us/sample - loss: 0.4092 - accuracy: 0.8820\n",
            "Epoch 3/5\n",
            "1000/1000 [==============================] - 0s 142us/sample - loss: 0.2942 - accuracy: 0.9250\n",
            "Epoch 4/5\n",
            "1000/1000 [==============================] - 0s 143us/sample - loss: 0.2112 - accuracy: 0.9550\n",
            "Epoch 5/5\n",
            "1000/1000 [==============================] - 0s 146us/sample - loss: 0.1460 - accuracy: 0.9680\n"
          ],
          "name": "stdout"
        },
        {
          "output_type": "execute_result",
          "data": {
            "text/plain": [
              "<tensorflow.python.keras.callbacks.History at 0x7f50da361198>"
            ]
          },
          "metadata": {
            "tags": []
          },
          "execution_count": 31
        }
      ]
    },
    {
      "cell_type": "code",
      "metadata": {
        "id": "swMY7VCwN8FU",
        "colab_type": "code",
        "colab": {
          "base_uri": "https://localhost:8080/",
          "height": 156
        },
        "outputId": "d25e8c8a-d7d1-4bbd-dee9-80c0f33f626a"
      },
      "source": [
        "# Create a saved_model, and place it in a time-stamped directory:\n",
        "\n",
        "import time\n",
        "saved_model_path = './saved_models/{}'.format(int(time.time()))\n",
        "\n",
        "tf.keras.experimental.export_saved_model(model, saved_model_path)\n",
        "saved_model_path"
      ],
      "execution_count": 33,
      "outputs": [
        {
          "output_type": "stream",
          "text": [
            "WARNING: Logging before flag parsing goes to stderr.\n",
            "W0519 13:12:22.392745 139987019732864 deprecation.py:323] From /usr/local/lib/python3.6/dist-packages/tensorflow/python/saved_model/signature_def_utils_impl.py:253: build_tensor_info (from tensorflow.python.saved_model.utils_impl) is deprecated and will be removed in a future version.\n",
            "Instructions for updating:\n",
            "This function will only be available through the v1 compatibility library as tf.compat.v1.saved_model.utils.build_tensor_info or tf.compat.v1.saved_model.build_tensor_info.\n",
            "W0519 13:12:22.395452 139987019732864 tf_logging.py:161] Export includes no default signature!\n",
            "W0519 13:12:22.928089 139987019732864 tf_logging.py:161] Export includes no default signature!\n"
          ],
          "name": "stderr"
        },
        {
          "output_type": "execute_result",
          "data": {
            "text/plain": [
              "'./saved_models/1558271541'"
            ]
          },
          "metadata": {
            "tags": []
          },
          "execution_count": 33
        }
      ]
    },
    {
      "cell_type": "code",
      "metadata": {
        "id": "bjT00ktyOJ_h",
        "colab_type": "code",
        "colab": {
          "base_uri": "https://localhost:8080/",
          "height": 34
        },
        "outputId": "9fd6a986-a11a-4455-c3b0-1c1eaf577572"
      },
      "source": [
        "!ls saved_models/"
      ],
      "execution_count": 34,
      "outputs": [
        {
          "output_type": "stream",
          "text": [
            "1558271541\n"
          ],
          "name": "stdout"
        }
      ]
    },
    {
      "cell_type": "code",
      "metadata": {
        "id": "ZaSxXHsbOOE1",
        "colab_type": "code",
        "colab": {
          "base_uri": "https://localhost:8080/",
          "height": 255
        },
        "outputId": "74736fbb-492a-41b6-c712-57ace447ae41"
      },
      "source": [
        "# Reload a fresh keras model from the saved model.\n",
        "new_model = tf.keras.experimental.load_from_saved_model(saved_model_path)\n",
        "new_model.summary()"
      ],
      "execution_count": 35,
      "outputs": [
        {
          "output_type": "stream",
          "text": [
            "Model: \"sequential_7\"\n",
            "_________________________________________________________________\n",
            "Layer (type)                 Output Shape              Param #   \n",
            "=================================================================\n",
            "dense_15 (Dense)             (None, 512)               401920    \n",
            "_________________________________________________________________\n",
            "dropout_7 (Dropout)          (None, 512)               0         \n",
            "_________________________________________________________________\n",
            "dense_16 (Dense)             (None, 10)                5130      \n",
            "=================================================================\n",
            "Total params: 407,050\n",
            "Trainable params: 407,050\n",
            "Non-trainable params: 0\n",
            "_________________________________________________________________\n"
          ],
          "name": "stdout"
        }
      ]
    },
    {
      "cell_type": "code",
      "metadata": {
        "id": "UMmirlG0OX4B",
        "colab_type": "code",
        "colab": {
          "base_uri": "https://localhost:8080/",
          "height": 34
        },
        "outputId": "a9e6e62f-0b6c-4a2e-e664-382e66f2b4c1"
      },
      "source": [
        "model.predict(test_images).shape"
      ],
      "execution_count": 36,
      "outputs": [
        {
          "output_type": "execute_result",
          "data": {
            "text/plain": [
              "(1000, 10)"
            ]
          },
          "metadata": {
            "tags": []
          },
          "execution_count": 36
        }
      ]
    },
    {
      "cell_type": "code",
      "metadata": {
        "id": "dcoQeJi1OaXT",
        "colab_type": "code",
        "colab": {
          "base_uri": "https://localhost:8080/",
          "height": 51
        },
        "outputId": "03a9d014-0bce-4bfb-a01a-bd578a5fd3a7"
      },
      "source": [
        "# The model has to be compiled before evaluating.\n",
        "# This step is not required if the saved model is only being deployed.\n",
        "\n",
        "new_model.compile(optimizer=model.optimizer,  # keep the optimizer that was loaded\n",
        "              loss='sparse_categorical_crossentropy',\n",
        "              metrics=['accuracy'])\n",
        "\n",
        "# Evaluate the restored model.\n",
        "loss, acc = new_model.evaluate(test_images, test_labels)\n",
        "print(\"Restored model, accuracy: {:5.2f}%\".format(100*acc))"
      ],
      "execution_count": 37,
      "outputs": [
        {
          "output_type": "stream",
          "text": [
            "1000/1000 [==============================] - 0s 112us/sample - loss: 0.4143 - accuracy: 0.8670\n",
            "Restored model, accuracy: 86.70%\n"
          ],
          "name": "stdout"
        }
      ]
    }
  ]
}