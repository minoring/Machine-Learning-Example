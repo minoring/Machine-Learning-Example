{
  "nbformat": 4,
  "nbformat_minor": 0,
  "metadata": {
    "colab": {
      "name": "tensors_operations.ipynb",
      "version": "0.3.2",
      "provenance": []
    },
    "kernelspec": {
      "name": "python3",
      "display_name": "Python 3"
    },
    "accelerator": "GPU"
  },
  "cells": [
    {
      "cell_type": "code",
      "metadata": {
        "id": "4PqosoWNU5P8",
        "colab_type": "code",
        "colab": {}
      },
      "source": [
        "from __future__ import absolute_import, division, print_function\n",
        "\n",
        "!pip install -q tensorflow-gpu==2.0.0-beta1"
      ],
      "execution_count": 0,
      "outputs": []
    },
    {
      "cell_type": "code",
      "metadata": {
        "id": "CsTI-zjZVH5D",
        "colab_type": "code",
        "colab": {}
      },
      "source": [
        "import tensorflow as tf"
      ],
      "execution_count": 0,
      "outputs": []
    },
    {
      "cell_type": "markdown",
      "metadata": {
        "id": "pURSMo27Xxoy",
        "colab_type": "text"
      },
      "source": [
        ""
      ]
    },
    {
      "cell_type": "code",
      "metadata": {
        "id": "Dwl73CiaVRLD",
        "colab_type": "code",
        "outputId": "427fe2ac-8764-4c17-ebc1-9dec4c44c6e6",
        "colab": {
          "base_uri": "https://localhost:8080/",
          "height": 102
        }
      },
      "source": [
        "print(tf.add(1, 2))\n",
        "print(tf.add([1, 2], [3, 4]))\n",
        "print(tf.square(5))\n",
        "print(tf.reduce_sum([1, 2, 3]))\n",
        "\n",
        "print(tf.square(2) + tf.square(3))"
      ],
      "execution_count": 3,
      "outputs": [
        {
          "output_type": "stream",
          "text": [
            "tf.Tensor(3, shape=(), dtype=int32)\n",
            "tf.Tensor([4 6], shape=(2,), dtype=int32)\n",
            "tf.Tensor(25, shape=(), dtype=int32)\n",
            "tf.Tensor(6, shape=(), dtype=int32)\n",
            "tf.Tensor(13, shape=(), dtype=int32)\n"
          ],
          "name": "stdout"
        }
      ]
    },
    {
      "cell_type": "code",
      "metadata": {
        "id": "3kgzXjeAVzEF",
        "colab_type": "code",
        "outputId": "e409d82f-11ba-4f84-e466-5d326479fa4e",
        "colab": {
          "base_uri": "https://localhost:8080/",
          "height": 68
        }
      },
      "source": [
        "# tf.Tensor has a shape and a datatype\n",
        "x = tf.matmul([[1]], [[2, 3]])\n",
        "print(x)\n",
        "print(x.shape)\n",
        "print(x.dtype)"
      ],
      "execution_count": 4,
      "outputs": [
        {
          "output_type": "stream",
          "text": [
            "tf.Tensor([[2 3]], shape=(1, 2), dtype=int32)\n",
            "(1, 2)\n",
            "<dtype: 'int32'>\n"
          ],
          "name": "stdout"
        }
      ]
    },
    {
      "cell_type": "code",
      "metadata": {
        "id": "zBYPDjy5WC79",
        "colab_type": "code",
        "outputId": "ad2e0b37-98a8-4c71-8846-3d4024ddf407",
        "colab": {
          "base_uri": "https://localhost:8080/",
          "height": 238
        }
      },
      "source": [
        "import numpy as np\n",
        "\n",
        "ndarray = np.ones([3, 3])\n",
        "print('TensorFlow operations convert numpy arrays to Tensors automatically')\n",
        "tensor = tf.multiply(ndarray, 42)\n",
        "print(tensor)\n",
        "\n",
        "print('And Numpy operations convert Tensors to numpy arrays automatically')\n",
        "print(np.add(tensor, 1))\n",
        "\n",
        "print('The .numpy() method explicitly converts a Tensor to a numpy array')\n",
        "print(tensor.numpy())"
      ],
      "execution_count": 5,
      "outputs": [
        {
          "output_type": "stream",
          "text": [
            "TensorFlow operations convert numpy arrays to Tensors automatically\n",
            "tf.Tensor(\n",
            "[[42. 42. 42.]\n",
            " [42. 42. 42.]\n",
            " [42. 42. 42.]], shape=(3, 3), dtype=float64)\n",
            "And Numpy operations convert Tensors to numpy arrays automatically\n",
            "[[43. 43. 43.]\n",
            " [43. 43. 43.]\n",
            " [43. 43. 43.]]\n",
            "The .numpy() method explicitly converts a Tensor to a numpy array\n",
            "[[42. 42. 42.]\n",
            " [42. 42. 42.]\n",
            " [42. 42. 42.]]\n"
          ],
          "name": "stdout"
        }
      ]
    },
    {
      "cell_type": "code",
      "metadata": {
        "id": "Yjso2lLIXEBe",
        "colab_type": "code",
        "outputId": "21fe4eb7-5f0e-4b9c-e6f4-509152d94265",
        "colab": {
          "base_uri": "https://localhost:8080/",
          "height": 85
        }
      },
      "source": [
        "## GPU acceleration\n",
        "x = tf.random.uniform([3, 3])\n",
        "\n",
        "print('Is there a GPU available: ')\n",
        "print(tf.test.is_gpu_available())\n",
        "\n",
        "print('Is the Tensor on GPU #0: ')\n",
        "print(x.device.endswith('GPU:0'))"
      ],
      "execution_count": 6,
      "outputs": [
        {
          "output_type": "stream",
          "text": [
            "Is there a GPU available: \n",
            "True\n",
            "Is the Tensor on GPU #0: \n",
            "True\n"
          ],
          "name": "stdout"
        }
      ]
    },
    {
      "cell_type": "code",
      "metadata": {
        "id": "qJauh7FiXij7",
        "colab_type": "code",
        "outputId": "93ba08ff-70fe-44a4-8122-9358f4609015",
        "colab": {
          "base_uri": "https://localhost:8080/",
          "height": 85
        }
      },
      "source": [
        "import time\n",
        "\n",
        "def time_matmul(x):\n",
        "    start = time.time()\n",
        "    for loop in range(10):\n",
        "        tf.matmul(x, x)\n",
        "    result = time.time() - start\n",
        "    \n",
        "    print('10 loops: {:0.2f}ms'.format(1000 * result))\n",
        "    \n",
        "# Force execution on CPU\n",
        "print('On CPU:')\n",
        "with tf.device('CPU:0'):\n",
        "    x = tf.random.uniform([1000, 1000])\n",
        "    assert x.device.endswith('CPU:0')\n",
        "    time_matmul(x)\n",
        "    \n",
        "# Force execution on GPU #0 if available\n",
        "if tf.test.is_gpu_available():\n",
        "    print('On GPU:')\n",
        "    with tf.device('GPU:0'):\n",
        "        x = tf.random.uniform([1000, 1000])\n",
        "        assert x.device.endswith('GPU:0')\n",
        "        time_matmul(x)"
      ],
      "execution_count": 7,
      "outputs": [
        {
          "output_type": "stream",
          "text": [
            "On CPU:\n",
            "10 loops: 315.67ms\n",
            "On GPU:\n",
            "10 loops: 367.13ms\n"
          ],
          "name": "stdout"
        }
      ]
    },
    {
      "cell_type": "code",
      "metadata": {
        "id": "kWMocfbuYxs2",
        "colab_type": "code",
        "colab": {}
      },
      "source": [
        "# tf.data.Dataset API to build a pipeline for feeding data to your model.\n",
        "\n",
        "# Create a source Dataset using factory function like\n",
        "# Dataset.from_tensors, Dataset.from_tensor_slices\n",
        "# or using objects TextLineDataset, TFRecordDataset\n",
        "\n",
        "ds_tensors = tf.data.Dataset.from_tensor_slices([1, 2, 3, 4, 5, 6])\n",
        "\n",
        "# Create a CSV file\n",
        "import tempfile\n",
        "_, filename = tempfile.mkstemp()\n",
        "\n",
        "with open(filename, 'w') as f:\n",
        "    f.write('''Line1\n",
        "    Line2\n",
        "    Line3\n",
        "    ''')\n",
        "\n",
        "ds_file = tf.data.TextLineDataset(filename)"
      ],
      "execution_count": 0,
      "outputs": []
    },
    {
      "cell_type": "code",
      "metadata": {
        "id": "sPRyJNzxaEGi",
        "colab_type": "code",
        "colab": {}
      },
      "source": [
        "# Apply transformations\n",
        "# Use transformations like map, batch, shuffle to apply\n",
        "# transofrmations to dataset records\n",
        "\n",
        "ds_tensors = ds_tensors.map(tf.square).shuffle(2).batch(2)\n",
        "\n",
        "ds_file= ds_file.batch(2)"
      ],
      "execution_count": 0,
      "outputs": []
    },
    {
      "cell_type": "code",
      "metadata": {
        "id": "knUp15raapej",
        "colab_type": "code",
        "colab": {
          "base_uri": "https://localhost:8080/",
          "height": 153
        },
        "outputId": "4fcbb1e3-3a11-4b9f-b3b5-ba6159293c01"
      },
      "source": [
        "# tf.data.Dataset support iteration to loop over records\n",
        "print('Elements of ds_tensors')\n",
        "for x in ds_tensors:\n",
        "    print(x)\n",
        "\n",
        "print('\\nElements in ds_file:')\n",
        "for x in ds_file:\n",
        "    print(x)"
      ],
      "execution_count": 14,
      "outputs": [
        {
          "output_type": "stream",
          "text": [
            "Elements of ds_tensors\n",
            "tf.Tensor([1 9], shape=(2,), dtype=int32)\n",
            "tf.Tensor([16  4], shape=(2,), dtype=int32)\n",
            "tf.Tensor([36 25], shape=(2,), dtype=int32)\n",
            "\n",
            "Elements in ds_file:\n",
            "tf.Tensor([b'Line1' b'    Line2'], shape=(2,), dtype=string)\n",
            "tf.Tensor([b'    Line3' b'    '], shape=(2,), dtype=string)\n"
          ],
          "name": "stdout"
        }
      ]
    }
  ]
}