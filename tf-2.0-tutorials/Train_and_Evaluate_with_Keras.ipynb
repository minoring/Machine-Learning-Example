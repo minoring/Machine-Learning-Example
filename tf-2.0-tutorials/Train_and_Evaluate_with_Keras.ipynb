{
  "nbformat": 4,
  "nbformat_minor": 0,
  "metadata": {
    "colab": {
      "name": "Train_and_Evaluate_with_Keras.ipynb",
      "provenance": [],
      "private_outputs": true,
      "collapsed_sections": []
    },
    "kernelspec": {
      "name": "python3",
      "display_name": "Python 3"
    },
    "accelerator": "GPU"
  },
  "cells": [
    {
      "cell_type": "markdown",
      "metadata": {
        "id": "MzEdxzkF3eHa",
        "colab_type": "text"
      },
      "source": [
        "- \"Using build-in training & evaluation loops\" with `model.fit() model.evaluate(), model.predict()`\n",
        "- Writing your own training & evaluation loops from scratch using eager execution and the `GradientTape` object.\n",
        "\n",
        "In general, whether you are using built-in loops or writing your own, model training & evaluation works strictly in the same way across every kind of Keras model -- Sequential models, models built with the Functional API, and models written from scratch via model subclassing"
      ]
    },
    {
      "cell_type": "code",
      "metadata": {
        "id": "6ZawPb8x2WqD",
        "colab_type": "code",
        "colab": {}
      },
      "source": [
        "from __future__ import absolute_import, division, print_function, unicode_literals\n",
        "\n",
        "%tensorflow_version 2.x\n",
        "import tensorflow as tf\n",
        "\n",
        "tf.keras.backend.clear_session() # For easy reset of notebook state."
      ],
      "execution_count": 0,
      "outputs": []
    },
    {
      "cell_type": "markdown",
      "metadata": {
        "id": "FEppwnzq4_zL",
        "colab_type": "text"
      },
      "source": [
        "## Part 1: Using build in training & evaluation loops\n",
        "When passing data to the built-in training loops of a model, you should either use **Numpy arrays* (if your data is small and fits in memory) or **tf.Dataset** objects. In the next few paragraphs, we'll user the MNIST dataset as Numpy array, in order to demonstrate how to user optimizers, losses and metrics"
      ]
    },
    {
      "cell_type": "markdown",
      "metadata": {
        "id": "PVQIuGy75Yn1",
        "colab_type": "text"
      },
      "source": [
        "### API overview: a first end-to-end example\n",
        "Let's consider the following model (here, we build in with the Functional API, but it could be a Sequential model or a subclassed model as well):"
      ]
    },
    {
      "cell_type": "code",
      "metadata": {
        "id": "y9u_h_iK49D0",
        "colab_type": "code",
        "colab": {}
      },
      "source": [
        "from tensorflow import keras\n",
        "from tensorflow.keras import layers\n",
        "\n",
        "inputs = layers.Input(shape=(784, ), name='digits')\n",
        "x = layers.Dense(64, activation='relu', name='dense_1')(inputs)\n",
        "x = layers.Dense(64, activation='relu', name='dense_2')(x)\n",
        "outputs = layers.Dense(10, activation='softmax', name='predicitons')(x)\n",
        "\n",
        "model = keras.Model(inputs=inputs, outputs=outputs)"
      ],
      "execution_count": 0,
      "outputs": []
    },
    {
      "cell_type": "code",
      "metadata": {
        "id": "mT4idOka56Ae",
        "colab_type": "code",
        "colab": {}
      },
      "source": [
        "# Here's what the typical end-to-end workflow looks like, consisting of training,\n",
        "# validation on a holdout set generated from the original training data,\n",
        "# and finally evaluation on the test data:\n",
        "\n",
        "(x_train, y_train), (x_test, y_test) = keras.datasets.mnist.load_data()\n",
        "\n",
        "# Preprocess the data (theses are Numpy arrays)\n",
        "x_train = x_train.reshape(x_train.shape[0], -1).astype('float32') / 255.0\n",
        "x_test = x_test.reshape(x_test.shape[0], -1).astype('float32') / 255.0\n",
        "\n",
        "y_train = y_train.astype('float32')\n",
        "y_test = y_test.astype('float32')\n",
        "\n",
        "# Reserve 10,000 samples for validation\n",
        "x_val = x_train[-10000:]\n",
        "y_val = y_train[-10000:]\n",
        "x_train = x_train[:-10000]\n",
        "y_train = y_train[:-10000]\n",
        "\n",
        "model.compile(optimizer=keras.optimizers.RMSprop(),\n",
        "              loss=keras.losses.SparseCategoricalCrossentropy(),\n",
        "              metrics=[keras.metrics.SparseCategoricalAccuracy()])\n",
        "\n",
        "history = model.fit(x_train, y_train,\n",
        "                    batch_size=64,\n",
        "                    epochs=3,\n",
        "                    # Monitoring validation loss and metrics\n",
        "                    # at the end of each eopch\n",
        "                    validation_data=(x_val, y_val))\n",
        "\n",
        "# The returned 'history' object holds a record\n",
        "# of the loss values and metric values during training\n",
        "print('\\nhistory dict: ', history.history)\n",
        "\n",
        "# Evaluate the model on the test data using `evaluate`\n",
        "print('\\n# Evaluate on the test data')\n",
        "results = model.evaluate(x_test, y_test, batch_size=128)\n",
        "print('test loss, test acc: ', results)\n",
        "\n",
        "# Generate preditions (probabilities -- the output of the last layer)\n",
        "# on new data using `predict`\n",
        "print('\\n# Generate predictions for 3 samples')\n",
        "predictions = model.predict(x_test[:3])\n",
        "print('predidctions shape: ', predictions.shape)"
      ],
      "execution_count": 0,
      "outputs": []
    },
    {
      "cell_type": "code",
      "metadata": {
        "id": "6xCAUTVH7zOZ",
        "colab_type": "code",
        "colab": {}
      },
      "source": [
        "# Model definition and compile steps for later reuse\n",
        "\n",
        "def un_compiled_model():\n",
        "  inputs = keras.Input(shape=(784, ), name='digits')\n",
        "  x = layers.Dense(64, activation='relu', name='dense_1')(inputs)\n",
        "  x = layers.Dense(64, activation='relu', name='dense_2')(x)\n",
        "  outputs = layers.Dense(10, activation='softmax', name='predictions')(x)\n",
        "  model = keras.Model(inputs, outputs)\n",
        "  return model\n",
        "\n",
        "def get_compiled_model():\n",
        "  model = un_compiled_model()\n",
        "  model.compile(optimizers=keras.optimizers.RMSprop(learning_rate=1e-3),\n",
        "                loss='sparse_categorical_crossentropy',\n",
        "                metrics=['sparse_categorical_accuracy'])\n",
        "  return model"
      ],
      "execution_count": 0,
      "outputs": []
    },
    {
      "cell_type": "markdown",
      "metadata": {
        "id": "kkoU8BsK-BjU",
        "colab_type": "text"
      },
      "source": [
        "### Many built-in optimizers, losses, and metrics are available\n",
        "\n",
        "Optimizers: \n",
        "- `SGD()` (with or without momentum) \n",
        "- `RMSprop()` \n",
        "- `Adam()` etc.\n",
        "\n",
        "Losses: \n",
        " - `MeanSquaredError()` \n",
        " - `KLDivergence()`\n",
        " - `CosineSimilarity()` .etc\n",
        "\n",
        "Metrics:\n",
        "- `AUC()`\n",
        "- `Precision()`\n",
        "- `Recall()` etc"
      ]
    },
    {
      "cell_type": "markdown",
      "metadata": {
        "id": "a16q-rAp_QB6",
        "colab_type": "text"
      },
      "source": [
        "### Custom losses\n",
        "There are two ways to provide custom losses with Keras. The first example creates a function that accepts inputs `y_true` and `y_pred`. The following example shows a loss function that computes the averate distance between the real data and the predictions:"
      ]
    },
    {
      "cell_type": "code",
      "metadata": {
        "id": "8F926qf89-hL",
        "colab_type": "code",
        "colab": {}
      },
      "source": [
        "def basic_loss_function(y_true, y_pred):\n",
        "  return tf.math.reduce_mean(y_true - y_pred)\n",
        "\n",
        "model.compile(optimizers=keras.optimizers.Adam(),\n",
        "              loss=basic_loss_function)\n",
        "\n",
        "model.fit(x_train, y_train, batch_size=64, epochs=3)"
      ],
      "execution_count": 0,
      "outputs": []
    },
    {
      "cell_type": "code",
      "metadata": {
        "id": "KtJVQXzBAK7u",
        "colab_type": "code",
        "colab": {}
      },
      "source": [
        ""
      ],
      "execution_count": 0,
      "outputs": []
    },
    {
      "cell_type": "markdown",
      "metadata": {
        "id": "fjnZKHCkAZb_",
        "colab_type": "text"
      },
      "source": [
        "If you need a loss function that takes in parameters besied `y_true` and `y_pred`, you can subclass the `tf.keras.losses.Loss` class and implement the following two methods:\n",
        "- `__init__(self)`: Accept parameters to pass during the call of your loss function\n",
        "- `call(self, y_true, y_tred)`: Use the target (`y_true`) and the model predictions (`y_pred`) to compute the model's loss\n",
        "\n",
        "Parameters pass into `__init__()` can be used duing `call()` when calculating loss.\n",
        "\n",
        "The following example shows how to implement a `WeightedCrossEntropy` loss function that calculates a `BiarnyCrossEntropy` loss, where the loss of a certain class or the whole function can be modified by a scalar"
      ]
    },
    {
      "cell_type": "code",
      "metadata": {
        "id": "JpuqU0u4BPPD",
        "colab_type": "code",
        "colab": {}
      },
      "source": [
        "class WeightedBinaryCrossEntropy(keras.losses.Loss):\n",
        "  \"\"\"\n",
        "  Args:\n",
        "    pos_weights: Scalar to affect the positive labels of the loss function.\n",
        "    weight: Scalar to affect the entirty of the loss function.\n",
        "    from_logits: Whether to compute loss from logits or the probability.\n",
        "    reduction: Type of tf.keras.losses.Reduction to apply to loss.\n",
        "    name: Name of the loss fucntion.\n",
        "  \"\"\"\n",
        "  def __init__(self, pos_weight, weight, from_logits=False,\n",
        "               reduction=keras.losses.Reduction.AUTO,\n",
        "               name='weighted_binary_crossentropy'):\n",
        "    super(WeightedBinaryCrossEntropy, self).__init__(reduction=reduction,\n",
        "                                                     name=name)\n",
        "    self.pos_weight = pos_weight\n",
        "    self.weight = weight\n",
        "    self.from_logits = from_logits\n",
        "  \n",
        "  def call(self, y_true, y_pred):\n",
        "    if not self.from_logits:\n",
        "      # Manually calculate the weighted cross entropy.\n",
        "      # Formula is q * z * - log(sigmoid(x)) + (1 - z) * -log(1 - sigmoid(x))\n",
        "      # where z are labels, x is logits, and q is the weight.\n",
        "      # Since the values passed are from sigmoid (assuming in this case)\n",
        "      # sigmoid(x) will be replaced by y_pred\n",
        "\n",
        "      # qz * -log(sigmoid(x)) 1e-6 is added as a epsilon to stop passing a zero\n",
        "      # into the log\n",
        "      x_1 = y_true * self.pos_weight * -tf.math.log(y_pred + 1e-6)\n",
        "\n",
        "      # (1 - z) * -log(1 - sigmoid(x)). Epsilon is added to prevent passing a zero\n",
        "      # into the log\n",
        "      x_2 = (1 - y_true) * -tf.math.log(1 - y_pred + 1e-6)\n",
        "\n",
        "      return tf.add(x_1, x_2) * self.weight\n",
        "    # Use built in function\n",
        "    return tf.nn.weighted_cross_entropy_with_logits(y_true, y_pred, self.pos_weight) * self.weight"
      ],
      "execution_count": 0,
      "outputs": []
    },
    {
      "cell_type": "code",
      "metadata": {
        "id": "Piy4YGY7E2B6",
        "colab_type": "code",
        "colab": {}
      },
      "source": [
        "model.compile(optimizer='adam',\n",
        "              loss=WeightedBinaryCrossEntropy(0.5, 2))"
      ],
      "execution_count": 0,
      "outputs": []
    },
    {
      "cell_type": "code",
      "metadata": {
        "id": "yOdClQyQE95p",
        "colab_type": "code",
        "colab": {}
      },
      "source": [
        "model.fit(x_train, y_train, batch_size=64, epochs=3)"
      ],
      "execution_count": 0,
      "outputs": []
    },
    {
      "cell_type": "markdown",
      "metadata": {
        "id": "XNPxqQj_Gw4d",
        "colab_type": "text"
      },
      "source": [
        "### Custom metrics\n",
        "If you need a metric that isn't part of the API, you can easily create custom metrics by subclassing the `Metric` class. You will need to implement 4 methods:\n",
        "- `__init__(self)`, in which you will create state variables for your metric.\n",
        "- `update_state(self, y_true, y_pred, sample_weight=None)`, which uses the targets `y_true` and the model predictions `y_pred` to update the state variables.\n",
        "- `result(self)`, which uses the state variables to compute the final results.\n",
        "- `reset_states(self)`, which reinitializes the state of the metric\n",
        "\n",
        "State update and results computation are kept separate (in `update_state()` and `result()`, respectively) because in some cases, results computation might be very expensive, and would only be done periodically.\n",
        "\n",
        "Here's a simple example showing how to implement a `CategoricalTruePositives` metric, that counts how many samples where correctly classified as belonging to a give class:"
      ]
    },
    {
      "cell_type": "code",
      "metadata": {
        "id": "z6Y44849FAg2",
        "colab_type": "code",
        "colab": {}
      },
      "source": [
        "class CategoricalTruePositives(keras.metrics.Metric):\n",
        "  def __init__(self, name='categorical_true_positives', **kwargs):\n",
        "    super(CategoricalTruePositives, self).__init__(name=name, **kwargs)\n",
        "    self.true_positives = self.add_weight(name='tp', initializer='zeros')\n",
        "\n",
        "  def update_state(self, y_true, y_pred, sample_weight=None):\n",
        "    y_pred = tf.reshape(tf.argmax(y_pred, axis=1), shape=(-1, 1))\n",
        "    values = tf.cast(y_true, 'int32') == tf.cast(y_pred, 'int32')\n",
        "    values = tf.cast(values, 'float32')\n",
        "    if sample_weight is not None:\n",
        "      sample_weight = tf.cast(sample_weight, 'float32')\n",
        "      values = tf.multiply(values, sample_weight)\n",
        "    self.true_positives.assign_add(tf.reduce_sum(values))\n",
        "  \n",
        "  def result(self):\n",
        "    return self.true_positives\n",
        "  \n",
        "  def reset_state(self):\n",
        "    # The state of the metric will be reset at the start of each epoch.\n",
        "    self.true_positives.assign(0.)\n"
      ],
      "execution_count": 0,
      "outputs": []
    },
    {
      "cell_type": "code",
      "metadata": {
        "id": "1MAp6F_GI-1B",
        "colab_type": "code",
        "colab": {}
      },
      "source": [
        "model.compile(optimizer=keras.optimizers.RMSprop(learning_rate=1e-3),\n",
        "              loss=keras.losses.SparseCategoricalCrossentropy(),\n",
        "              metrics=[CategoricalTruePositives()])"
      ],
      "execution_count": 0,
      "outputs": []
    },
    {
      "cell_type": "code",
      "metadata": {
        "id": "LohqxJM-JLdX",
        "colab_type": "code",
        "colab": {}
      },
      "source": [
        "model.fit(x_train, y_train,\n",
        "          batch_size=64,\n",
        "          epochs=3)"
      ],
      "execution_count": 0,
      "outputs": []
    },
    {
      "cell_type": "markdown",
      "metadata": {
        "id": "FJNmq4cyLAMw",
        "colab_type": "text"
      },
      "source": [
        "### Handling losses and metrics that don't fit the standard signiture\n",
        "The overwhelming majority of losses and metrics can be computed from `y_true` and `y_pred`, where `y_pred` is an output of your model. But not all or them. For instance, a regularization loss may only require the activation of a layer (there are no target in this case), and this activation may not be a model output.\n",
        "\n",
        "In such case, you can call `self.add_loss(loss_value)` from inside the `call` method of a custom layer. Here's a simple example that adds activity regularization (note that activity regularization is built-in in all Keras layers -- this layer is just for the sake of providing a concrete exmaple):"
      ]
    },
    {
      "cell_type": "code",
      "metadata": {
        "id": "4d_4K9boJO1X",
        "colab_type": "code",
        "colab": {}
      },
      "source": [
        "class ActivityRegularizationLayer(layers.Layer):\n",
        "  def call(self, inputs):\n",
        "    self.add_loss(tf.reduce_sum(inputs) * 0.1)\n",
        "    return inputs # Pass-through layer.\n",
        "\n",
        "inputs = keras.Input(shape=(784, ), name='digits')\n",
        "x = layers.Dense(64, activation='relu', name='dense_1')(inputs)\n",
        "\n",
        "# Insert activity regularization as a layer\n",
        "x = ActivityRegularizationLayer()(x)\n",
        "\n",
        "x = layers.Dense(64, activation='relu', name='dense_2')(x)\n",
        "outputs = layers.Dense(10, activation='softmax', name='predictions')(x)\n",
        "\n",
        "keras.Model(inputs, outputs)\n",
        "model.compile(optimizer=keras.optimizers.RMSprop(1e-3),\n",
        "              loss='sparse_categorical_crossentropy')\n",
        "\n",
        "# Thedisplayed loss will be much higher than before\n",
        "# due to the regularization component\n",
        "model.fit(x_train, y_train,\n",
        "          batch_size=64,\n",
        "          epochs=1)"
      ],
      "execution_count": 0,
      "outputs": []
    },
    {
      "cell_type": "markdown",
      "metadata": {
        "id": "71ikhsPINU7S",
        "colab_type": "text"
      },
      "source": [
        "You can do the same for logging metric values:"
      ]
    },
    {
      "cell_type": "code",
      "metadata": {
        "id": "yWrJGdztNG6S",
        "colab_type": "code",
        "colab": {}
      },
      "source": [
        "class MetricLoggingLayer(layers.Layer):\n",
        "\n",
        "  def call(self, inputs):\n",
        "    # The `aggregation` argument defines\n",
        "    # how to aggregate the per-batch values\n",
        "    # over each epoch:\n",
        "    # in this case we simply average them.\n",
        "    self.add_metric(keras.backend.std(inputs),\n",
        "                    name='std_of_activation',\n",
        "                    aggregation='mean')\n",
        "    return inputs  # Pass-through layer."
      ],
      "execution_count": 0,
      "outputs": []
    },
    {
      "cell_type": "code",
      "metadata": {
        "id": "opkzc90yNuCM",
        "colab_type": "code",
        "colab": {}
      },
      "source": [
        "inputs = keras.Input(shape=(784,), name='digits')\n",
        "x = layers.Dense(64, activation='relu', name='dense_1')(inputs)\n",
        "\n",
        "# Insert std logging as a layer.\n",
        "x = MetricLoggingLayer()(x)\n",
        "\n",
        "x = layers.Dense(64, activation='relu', name='dense_2')(x)\n",
        "outputs = layers.Dense(10, activation='softmax', name='predictions')(x)\n",
        "\n",
        "model = keras.Model(inputs=inputs, outputs=outputs)\n",
        "model.compile(optimizer=keras.optimizers.RMSprop(learning_rate=1e-3),\n",
        "              loss='sparse_categorical_crossentropy')\n",
        "model.fit(x_train, y_train,\n",
        "          batch_size=64,\n",
        "          epochs=1)"
      ],
      "execution_count": 0,
      "outputs": []
    },
    {
      "cell_type": "markdown",
      "metadata": {
        "id": "tt2A1zg6Pc9p",
        "colab_type": "text"
      },
      "source": [
        "In the `Functional API`, you can also call `model.add_loss(loss_tensor)`, or `model.add_metric(metric_tensor, name, aggregation)`.\n"
      ]
    },
    {
      "cell_type": "code",
      "metadata": {
        "id": "F13CiV4RNww-",
        "colab_type": "code",
        "colab": {}
      },
      "source": [
        "inputs = keras.Input(shape=(784,), name='digits')\n",
        "x1 = layers.Dense(64, activation='relu', name='dense_1')(inputs)\n",
        "x2 = layers.Dense(64, activation='relu', name='dense_2')(x1)\n",
        "outputs = layers.Dense(10, activation='softmax', name='predictions')(x2)\n",
        "model = keras.Model(inputs, outputs)"
      ],
      "execution_count": 0,
      "outputs": []
    },
    {
      "cell_type": "code",
      "metadata": {
        "id": "aaWYc-xXP-sh",
        "colab_type": "code",
        "colab": {}
      },
      "source": [
        "model.add_loss(tf.reduce_sum(x1) * 0.1)"
      ],
      "execution_count": 0,
      "outputs": []
    },
    {
      "cell_type": "code",
      "metadata": {
        "id": "7Kctgx2rQEMm",
        "colab_type": "code",
        "colab": {}
      },
      "source": [
        "model.add_metric(keras.backend.std(x1),\n",
        "                 name='std_of_activation',\n",
        "                 aggregation='mean')"
      ],
      "execution_count": 0,
      "outputs": []
    },
    {
      "cell_type": "code",
      "metadata": {
        "id": "L4VxhLIWQQ_s",
        "colab_type": "code",
        "colab": {}
      },
      "source": [
        "model.compile(optimizer=keras.optimizers.RMSprop(1e-3),\n",
        "              loss='sparse_categorical_crossentropy')"
      ],
      "execution_count": 0,
      "outputs": []
    },
    {
      "cell_type": "code",
      "metadata": {
        "id": "oLgHxkR-QWxc",
        "colab_type": "code",
        "colab": {}
      },
      "source": [
        "model.fit(x_train, y_train,\n",
        "          batch_size=64,\n",
        "          epochs=1)"
      ],
      "execution_count": 0,
      "outputs": []
    },
    {
      "cell_type": "markdown",
      "metadata": {
        "id": "fZXFvd1UQf8q",
        "colab_type": "text"
      },
      "source": [
        "### Automatically setting apart a validation holdout set\n",
        "In the first end-to-end example you saw, we used the `validation_data` argument to pass a tuple of Numpy arrays `(x_val, y_val)` to the model for evaluating a validation loss and validation metrics at the end of each epoch.\n",
        "\n",
        "Here's another option: the argument `validation_split` allows youto automatically reserve part of your training data for validation. The argument value represents the fraction of the data to be reserved for validation, so it should be set to a number higher than 0 and lower than 1.\n",
        "For instance, `validation_split=0.2` means \"use 20% of the data for validation\", and `validation_split=0.6` means \"use 60% of the data for validation.\"\n",
        "\n",
        "The way the validation is computed is by taking the last x% samples of the arrays received by the fit call, before any shuffling."
      ]
    },
    {
      "cell_type": "code",
      "metadata": {
        "id": "9tBvkjaoQZrn",
        "colab_type": "code",
        "colab": {}
      },
      "source": [
        "model = get_compiled_model()\n",
        "model.fit(x_train, y_train, batch_size=64, validation_split=0.2, epochs=3)"
      ],
      "execution_count": 0,
      "outputs": []
    },
    {
      "cell_type": "markdown",
      "metadata": {
        "id": "RnV20GkLSrfO",
        "colab_type": "text"
      },
      "source": [
        "### Training & evaluation from tf.data Datasets\n",
        "In the past few paragraphs, you've seen hot to handle losses, metrics, and optimizers, and you've seen how to use the `validation_data` and `validation_split` arguments in `fit`, when your data is passed as Numpy arrays.\n",
        "\n",
        "Let's now take a look at the case where your data comes in the form of a tf.data.Dataset\n",
        "\n",
        "The tf.data API is a set of utilities in TensorFlow 2.0 for loading and preprocessing data in a way that's fast and scalable.\n",
        "\n",
        "You can pass a Dataset instances directly to the methods `fit()`, `evaluate()`, and `predict()`:\n",
        "\n"
      ]
    },
    {
      "cell_type": "code",
      "metadata": {
        "id": "EsYlVbTaSFDB",
        "colab_type": "code",
        "colab": {}
      },
      "source": [
        "model = get_compiled_model()\n",
        "\n",
        "# First, let's create a training Data instance.\n",
        "train_dataset = tf.data.Dataset.from_tensor_slices((x_train, y_train))\n",
        "# Shuffle and slice the dataset.\n",
        "train_dataset = train_dataset.shuffle(buffer_size=1024).batch(64)\n",
        "\n",
        "# Now we get a test dataset.\n",
        "test_dataset = tf.data.Dataset.from_tensor_slices((x_test, y_test))\n",
        "test_dataset = test_dataset.batch(64)\n",
        "\n",
        "# Since the dataset already takes care of batching\n",
        "# we don't pass a `batch_size` argument.\n",
        "model.fit(train_dataset, epochs=3)\n",
        "\n",
        "# Youcna also evaluate or predict on a dataset\n",
        "print('\\n# Evaluate')\n",
        "model.evaluate(test_dataset)"
      ],
      "execution_count": 0,
      "outputs": []
    },
    {
      "cell_type": "markdown",
      "metadata": {
        "id": "_2YEGQ3jWDuq",
        "colab_type": "text"
      },
      "source": [
        "Note that the Dataset is reset at the end of each epoch, so it can be reused of the next epoch.\n",
        "\n",
        "If you want to run training only on a specific number of batches from this Dataset, you can pass the `steps_per_epoch` argument, which specifies how many training steps the model should run using this Dataset before moving on to the next epoch.\n",
        "\n",
        "If you do this, the dataset is not reset at the end of each epoch, instead we just keep drawing the next batches. The dataset will eventually run out of data (unless it is an infinitely-looping dataset)"
      ]
    },
    {
      "cell_type": "code",
      "metadata": {
        "id": "dDnI9HSrVML-",
        "colab_type": "code",
        "colab": {}
      },
      "source": [
        "model = get_compiled_model()\n",
        "\n",
        "train_dataset = tf.data.Dataset.from_tensor_slices((x_train, y_train))\n",
        "train_dataset = train_dataset.shuffle(buffer_size=1024).batch(64)\n",
        "\n",
        "# Only use the 100 batches per epoch (that is 64 * 100 samples)\n",
        "model.fit(train_dataset.take(100), epochs=3)"
      ],
      "execution_count": 0,
      "outputs": []
    },
    {
      "cell_type": "markdown",
      "metadata": {
        "id": "PFBjo_GgYC5-",
        "colab_type": "text"
      },
      "source": [
        "### Using a validation dataset\n",
        "You can pass a Dataset instance as the `validation_data` argument in `fit`:"
      ]
    },
    {
      "cell_type": "code",
      "metadata": {
        "id": "Kt0FhgETXlPz",
        "colab_type": "code",
        "colab": {}
      },
      "source": [
        "model = get_compiled_model()\n",
        "\n",
        "train_dataset = tf.data.Dataset.from_tensor_slices((x_train, y_train))\n",
        "train_dataset = train_dataset.shuffle(buffer_size=1024).batch(64)\n",
        "\n",
        "val_dataset = tf.data.Dataset.from_tensor_slices((x_val, y_val))\n",
        "val_dataset = val_dataset.batch(64)\n",
        "\n",
        "model.fit(train_dataset, epochs=3, validation_data=val_dataset)"
      ],
      "execution_count": 0,
      "outputs": []
    },
    {
      "cell_type": "markdown",
      "metadata": {
        "id": "-MvjhcxzYsp_",
        "colab_type": "text"
      },
      "source": [
        "At the end of each epoch, the model will iterate over the validation Dataset and compute the validation loss and validation metrics.\n",
        "\n",
        "If you want to run validation only on a specific number of batches from this Dataset, you can pass the `validation_steps` argument, which specifies how many validation steps the model should run with the validation Dataset before interrupting validation and moving on to the next epoch:"
      ]
    },
    {
      "cell_type": "code",
      "metadata": {
        "id": "fnu-WmauYhsR",
        "colab_type": "code",
        "colab": {}
      },
      "source": [
        "model = get_compiled_model()\n",
        "\n",
        "train_dataset = tf.data.Dataset.from_tensor_slices((x_train, y_train))\n",
        "train_dataset = train_dataset.shuffle(buffer_size=1024).batch(64)\n",
        "\n",
        "val_dataset = tf.data.Dataset.from_tensor_slices((x_val, y_val))\n",
        "val_dataset = val_dataset.batch(64)\n",
        "\n",
        "model.fit(train_dataset, epochs=3,\n",
        "          # Only run validation using the first 10 batches of the dataset\n",
        "          # using the `validation_steps` argument \n",
        "          validation_data=val_dataset, validation_steps=10)"
      ],
      "execution_count": 0,
      "outputs": []
    },
    {
      "cell_type": "markdown",
      "metadata": {
        "id": "6a5W0g5SZ-TK",
        "colab_type": "text"
      },
      "source": [
        "Note that the validation Dataset will be reset after each use (so that you will always be evaluating on the same samples from epoch to epoch).\n",
        "\n",
        "The argument `validation_split` (generating a holdout set from the training data) is not supported when training from Dataset objects, since this feature requires the ability to index the samples of the dataset, which is not possible in general without the Dataset API."
      ]
    },
    {
      "cell_type": "markdown",
      "metadata": {
        "id": "nYsdrKChbgD7",
        "colab_type": "text"
      },
      "source": [
        "### Other input formats supported\n",
        "Besides Numy arrays and TensorFlow Datasets, it's possible to train a Keras model using Pandas dataframes, or from Python generator that yield batches.\n",
        "\n",
        "In general, we recommend that you use Numpy input data if your data is small and fits in memory, and Datasets otherwise."
      ]
    },
    {
      "cell_type": "markdown",
      "metadata": {
        "id": "jmn4FL9Nb8Pf",
        "colab_type": "text"
      },
      "source": [
        "### Using sample weighting and class weighting\n",
        "Besides input and target data, it is possible to pass sample weights or class weights to a model when using `fit`:\n",
        "- When training from Numpy data: via `sample_weight` and `class_weight` arguments.\n",
        "- When training from Datasets: by having the Dataset return a tuple `(input_data, target_batch, sample_weight_batch)`.\n",
        "\n",
        "A \"sample weights\" array is an array of numbers that specify how much weight each sample in a batch should have in computing the total loss. It is commonly used in imbalanced classification problems (the idea being to give more weight to rarely-seen classes). When the weights used are ones and zeros, the array can be used as a mask for the loss function (entirely discarding the contribution of certain samples to the total loss).\n",
        "\n",
        "A \"cass weights\" dict is a more specific instance of the same concept: it maps class indices to the sample weight that should be used for samples belonging to this class. For instance, if class \"0\" is twice less represented than class \"1\" in your data, you could use `class_weight={0: 1., 1: 0.5}`."
      ]
    },
    {
      "cell_type": "code",
      "metadata": {
        "id": "GpxFYqGOZ0-H",
        "colab_type": "code",
        "colab": {}
      },
      "source": [
        "import numpy as np\n",
        "\n",
        "class_weight = {0: 1., 1: 1., 2: 1., 3: 1., 4: 1.,\n",
        "                # Set weight \"2\" for class \"5\"\n",
        "                # making this class 2x more important\n",
        "                5: 2., 6: 1., 7: 1., 8: 1., 9: 1.}\n",
        "print('Fit with class weight')\n",
        "model.fit(x_train, y_train,\n",
        "          class_weight=class_weight,\n",
        "          batch_size=64,\n",
        "          epochs=4)\n",
        "\n",
        "# Here's the sample example using `sample_weight` instead:\n",
        "sample_weight = np.ones(shape=(len(y_train),))\n",
        "sample_weight[y_train == 5] = 2.\n",
        "print('\\nFit with sample weight')\n",
        "model = get_compiled_model()\n",
        "model.fit(x_train, y_train,\n",
        "          sample_weight=sample_weight,\n",
        "          batch_size=64,\n",
        "          epochs=4)"
      ],
      "execution_count": 0,
      "outputs": []
    },
    {
      "cell_type": "code",
      "metadata": {
        "id": "Im2T0--6gFne",
        "colab_type": "code",
        "colab": {}
      },
      "source": [
        "sample_weight = np.ones(shape=(len(y_train), ))\n",
        "sample_weight[y_train==5] = 2.\n",
        "\n",
        "# Create a Dataset that includes sample weights\n",
        "# (3rd element in the return tuple).\n",
        "train_dataset = tf.data.Dataset.from_tensor_slices(\n",
        "    (x_train, y_train, sample_weight))\n",
        "  \n",
        "train_dataset = train_dataset.shuffle(buffer_size=1024).batch(64)\n",
        "model = get_compiled_model()\n",
        "model.fit(train_dataset, epochs=3)"
      ],
      "execution_count": 0,
      "outputs": []
    },
    {
      "cell_type": "markdown",
      "metadata": {
        "id": "yBMoGyZe6fbd",
        "colab_type": "text"
      },
      "source": [
        "### Passing data to multi-input, multi-output models\n",
        "Consider the following model, which has an image input of shape`(32, 32, 3)` (that's `(height, width, channels)`) and a timeseries input of shape `(None, 10)` (that's `(timesteps, features)`). Our model will have two outputs computed from the combination of these inputs: a \"score\" (of shape`(1,)`) and probability distribution over 5 classes (of shape `(10, ))."
      ]
    },
    {
      "cell_type": "code",
      "metadata": {
        "id": "PTr7Y7O4g-D_",
        "colab_type": "code",
        "colab": {}
      },
      "source": [
        "from tensorflow import keras\n",
        "from tensorflow.keras import layers\n",
        "\n",
        "image_input = keras.Input(shape=(32, 32, 3), name='img_input')\n",
        "timeseries_input = keras.Input(shape=(None, 10), name='ts_input')\n",
        "\n",
        "x1 = layers.Conv2D(3, 3)(image_input)\n",
        "x1 = layers.GlobalMaxPooling2D()(x1)\n",
        "\n",
        "x2 = layers.Conv1D(3, 3)(timeseries_input)\n",
        "x2 = layers.GlobalMaxPooling1D()(x2)\n",
        "\n",
        "x = layers.concatenate([x1, x2])\n",
        "\n",
        "score_output = layers.Dense(1, name='score_output')(x)\n",
        "class_output = layers.Dense(5, activation='softmax', name='class_output')(x)\n",
        "\n",
        "model = keras.Model(inputs=[image_input, timeseries_input],\n",
        "                    outputs=[score_output, class_output])"
      ],
      "execution_count": 0,
      "outputs": []
    },
    {
      "cell_type": "code",
      "metadata": {
        "id": "N2tTFa2q8LX9",
        "colab_type": "code",
        "colab": {}
      },
      "source": [
        "keras.utils.plot_model(model, 'multi_input_and_output_model.png', show_shapes=True)"
      ],
      "execution_count": 0,
      "outputs": []
    },
    {
      "cell_type": "markdown",
      "metadata": {
        "id": "UV4tQ44z_oRs",
        "colab_type": "text"
      },
      "source": [
        "At compilation time, we can specify different losses to different outputs, by passing loss functions as a list:"
      ]
    },
    {
      "cell_type": "code",
      "metadata": {
        "id": "IGgrZqtE8TRj",
        "colab_type": "code",
        "colab": {}
      },
      "source": [
        "model.compile(\n",
        "    optimizer=keras.optimizers.RMSprop(1e-3),\n",
        "    loss=[keras.losses.MeanSquaredError(),\n",
        "          keras.losses.CategoricalCrossentropy()]\n",
        ")"
      ],
      "execution_count": 0,
      "outputs": []
    },
    {
      "cell_type": "markdown",
      "metadata": {
        "id": "UjzubqrF_-PV",
        "colab_type": "text"
      },
      "source": [
        "If we only passed a single loss function to the model, the same loss function would be applied to every output, which is not appropriate here."
      ]
    },
    {
      "cell_type": "code",
      "metadata": {
        "id": "Tp6jm9_-_6r0",
        "colab_type": "code",
        "colab": {}
      },
      "source": [
        "# Since we gave names to our output layers,\n",
        "# we could also specify per-output losses and metrics via a dict:\n",
        "model.compile(\n",
        "    optimizer=keras.optimizers.RMSprop(1e-3),\n",
        "    loss={'score_output': keras.losses.MeanSquaredError(),\n",
        "          'class_output': keras.losses.CategoricalCrossentropy()},\n",
        "    metrics={\n",
        "        'score_output': [keras.metrics.MeanAbsolutePercentageError(),\n",
        "                         keras.metrics.MeanAbsoluteError()],\n",
        "        'class_output': [keras.metrics.CategoricalAccuracy()]})"
      ],
      "execution_count": 0,
      "outputs": []
    },
    {
      "cell_type": "markdown",
      "metadata": {
        "id": "N7dnCT3TAv6I",
        "colab_type": "text"
      },
      "source": [
        "We recommend the use of explicit names and dics if you have more than 2 outputs.\n",
        "\n",
        "It's possible to give different weights to different output-specific losses(for instance, one might wish to privilege the \"score\" loss in our example, by giving to 2x the importance of the class loss), using `loss_weight` argument:"
      ]
    },
    {
      "cell_type": "code",
      "metadata": {
        "id": "0Vf81tOsAub0",
        "colab_type": "code",
        "colab": {}
      },
      "source": [
        "model.compile(\n",
        "    optimizer='rmsprop',\n",
        "    loss={'score_output': 'mse',\n",
        "          'class_output': 'categorical_crossentropy'},\n",
        "    metrics={'score_output': ['mae', keras.metrics.MeanAbsolutePercentageError()],\n",
        "             'class_output': 'categorical_accuracy'},\n",
        "    loss_weight={'score_output': 2., 'class_output': 1.})"
      ],
      "execution_count": 0,
      "outputs": []
    },
    {
      "cell_type": "markdown",
      "metadata": {
        "id": "fTfmUUeUBvY7",
        "colab_type": "text"
      },
      "source": [
        "You could also chose not to compute a loss for certain outputs, if these outputs meant for prediction but not for training\n"
      ]
    },
    {
      "cell_type": "code",
      "metadata": {
        "id": "RJ0gvwaUBlIw",
        "colab_type": "code",
        "colab": {}
      },
      "source": [
        "# List loss version\n",
        "model.compile(\n",
        "    optimizer=keras.optimizers.RMSprop(1e-3),\n",
        "    loss=[None, keras.losses.CategoricalCrossentropy()])\n",
        "\n",
        "# Or dict loss version\n",
        "model.compile(\n",
        "    optimizer=keras.optimizers.RMSprop(1e-3),\n",
        "    loss={'class_output': keras.losses.CategoricalCrossentropy()})"
      ],
      "execution_count": 0,
      "outputs": []
    },
    {
      "cell_type": "markdown",
      "metadata": {
        "id": "D8yctIsUCD1b",
        "colab_type": "text"
      },
      "source": [
        "Passing data to a multi-input or multi-output model in `fit` works in a similar way as specifying a loss function in `compile`: you can pass lists of Numpy arrays (with 1:1 mapping to the outputs that received a loss function) or dicts mapping output names to Numpy arrays of training data."
      ]
    },
    {
      "cell_type": "code",
      "metadata": {
        "id": "tyDiPvAkB7mA",
        "colab_type": "code",
        "colab": {}
      },
      "source": [
        "model.compile(\n",
        "    optimizer='rmsprop',\n",
        "    loss=['mse', 'categorical_crossentropy'])\n",
        "\n",
        "# Generate dummy Numpy data\n",
        "img_data = np.random.random_sample(size=(100, 32, 32, 3))\n",
        "ts_data = np.random.random_sample(size=(100, 20, 10))\n",
        "score_targets = np.random.random_sample(size=(100, 1))\n",
        "class_targets = np.random.random_sample(size=(100, 5))\n",
        "\n",
        "model.fit([img_data, ts_data], [score_targets, class_targets],\n",
        "          batch_size=32,\n",
        "          epochs=3)\n",
        "\n",
        "model.fit({'img_input': img_data, 'ts_input': ts_data},\n",
        "          {'score_output': score_targets, 'class_output': class_targets},\n",
        "          batch_size=32,\n",
        "          epochs=3)"
      ],
      "execution_count": 0,
      "outputs": []
    },
    {
      "cell_type": "markdown",
      "metadata": {
        "id": "Fxo1zgOiDbzn",
        "colab_type": "text"
      },
      "source": [
        "Notice that we give label to output layer."
      ]
    },
    {
      "cell_type": "code",
      "metadata": {
        "id": "NQ_s32IzDSxB",
        "colab_type": "code",
        "colab": {}
      },
      "source": [
        "# Here's the Dataset use case: similarly as what we did for Numpy arrays,\n",
        "# the Dataset should return a tuple of dicts.\n",
        "train_dataset = tf.data.Dataset.from_tensor_slices(\n",
        "    ({'img_input': img_data, 'ts_input': ts_data},\n",
        "     {'score_output': score_targets, 'class_output': class_targets}))\n",
        "train_dataset = train_dataset.shuffle(1024).batch(64)\n",
        "\n",
        "model.fit(train_dataset, epochs=3)"
      ],
      "execution_count": 0,
      "outputs": []
    },
    {
      "cell_type": "markdown",
      "metadata": {
        "id": "uM_qmdomLPDm",
        "colab_type": "text"
      },
      "source": [
        "### Using callbacks\n",
        "Callbacks in Keras are objects that are called at different point during training (at the start of an epoch, at the end of btch, at the end of an epoch, etc) and which can be used to implement behavioirs such as:\n",
        "- Doing validation at different points during training (beyond the built-in per-epoch validation\n",
        "- Checkpointing the model at regular intervals or when it exceeds a certain accuracy threshold\n",
        "- Changing the learning rate of the model when training seems to be plateauing\n",
        "- Doing fine-tuning of the top layers when training seems to be plateauing\n",
        "- Sending email or instance message notifications when training ends or where a certain performance threshold is exceeded\n",
        "- Etc."
      ]
    },
    {
      "cell_type": "code",
      "metadata": {
        "id": "tnYaSDzvGNrq",
        "colab_type": "code",
        "colab": {}
      },
      "source": [
        "# Callbacks can be passed as a list to your call to `fit`\n",
        "model = get_compiled_model()\n",
        "\n",
        "callbacks = [\n",
        "    keras.callbacks.EarlyStopping(\n",
        "        # Stop training when `val_loss` is no longer improving\n",
        "        monitor='val_loss',\n",
        "        # \"no longer improving\" being defined as \"no better than 1e-2 less\"\n",
        "        min_delta=1e-2,\n",
        "        # \"no longer improving\" being further defined as \"for at least 2 epochs\"\n",
        "        patience=2,\n",
        "        verbose=1\n",
        "    )\n",
        "]\n",
        "model.fit(x_train, y_train,\n",
        "          epochs=20,\n",
        "          batch_size=64,\n",
        "          callbacks=callbacks,\n",
        "          validation_split=0.2)"
      ],
      "execution_count": 0,
      "outputs": []
    },
    {
      "cell_type": "markdown",
      "metadata": {
        "id": "fQR1eJnzM43i",
        "colab_type": "text"
      },
      "source": [
        "**Many built-in callbacks are available**\n",
        "- `ModelCheckpoint`: periodically save the model\n",
        "- `EarlyStopping`: Stop training when training is no longer improving the validation metrics.\n",
        "- `TensorBoard`: periodically write model logs that can be visualized in TensorBoard\n",
        "- `CSVLogger`: streams loss and metrics data to a CSV file\n",
        "- etc."
      ]
    },
    {
      "cell_type": "markdown",
      "metadata": {
        "id": "ugTfm4wjNOaZ",
        "colab_type": "text"
      },
      "source": [
        "### Writing your own callback\n",
        "You can create a custom callback by extending the base class keras.\n",
        "callbacks.Callback. A callback has access to its associated model through the class property `self.model`\n",
        "\n",
        "Here's a simple example saving a list of per-batch loss values during training:"
      ]
    },
    {
      "cell_type": "code",
      "metadata": {
        "id": "Tp1FAYBLMsTS",
        "colab_type": "code",
        "colab": {}
      },
      "source": [
        "class LossHistory(keras.callbacks.Callback):\n",
        "  def on_train_begin(self, logs):\n",
        "    self.losses = []\n",
        "  \n",
        "  def on_batch_end(self, batch, logs):\n",
        "    self.losses.append(logs.get('loss'))"
      ],
      "execution_count": 0,
      "outputs": []
    },
    {
      "cell_type": "markdown",
      "metadata": {
        "id": "gQQfBaQzNvcD",
        "colab_type": "text"
      },
      "source": [
        "## Checkpointing models\n",
        "When you're training model on relatively large datasets, it's crucial to save checkpoints of your model at frequent intervals."
      ]
    },
    {
      "cell_type": "code",
      "metadata": {
        "id": "FTYsuMI-NtiQ",
        "colab_type": "code",
        "colab": {}
      },
      "source": [
        "model = get_compiled_model()\n",
        "\n",
        "callbacks = [\n",
        "    keras.callbacks.ModelCheckpoint(\n",
        "        filepath='mymodel_{epoch}.h5',\n",
        "        # Path where to save the model\n",
        "        # The two parameters below mean that we will overwrite\n",
        "        # the current checkpoint if and only if\n",
        "        # the `val_loss` score has improved.\n",
        "        save_best_only=True,\n",
        "        monitor='val_loss',\n",
        "        verbose=1)\n",
        "]\n",
        "\n",
        "model.fit(x_train, y_train,\n",
        "          epochs=3,\n",
        "          batch_size=64,\n",
        "          callbacks=callbacks,\n",
        "          validation_split=0.2)"
      ],
      "execution_count": 0,
      "outputs": []
    },
    {
      "cell_type": "markdown",
      "metadata": {
        "id": "ZkwhpWX6O0LV",
        "colab_type": "text"
      },
      "source": [
        "Using learning rate schedules\n",
        "A common pattern when training deep learning models is to gradually reduce the learning as training progresses. This is generally known as \"learning rate decay\".\n",
        "\n",
        "The learning decay schedule could be static (fixed in advance, as a function of the current epoch or the current batch index), or dynamic (responding to the current behavior of the model, in particular the validation loss)."
      ]
    },
    {
      "cell_type": "markdown",
      "metadata": {
        "id": "FW5VI2mVO39a",
        "colab_type": "text"
      },
      "source": [
        "### passing a schedule to an optimizer\n",
        "You can easily use a static learning rate decay schedule by passing a schedule object as the `learning_rate` argument in your optimizer:"
      ]
    },
    {
      "cell_type": "code",
      "metadata": {
        "id": "SObHxWi-OUr5",
        "colab_type": "code",
        "colab": {}
      },
      "source": [
        "initial_learning_rate = 0.1\n",
        "lr_schedule = keras.optimizers.schedules.ExponentialDecay(\n",
        "    initial_learning_rate,\n",
        "    decay_steps=100000,\n",
        "    decay_rate=0.96,\n",
        "    staircase=True\n",
        ")\n",
        "\n",
        "optimizer = keras.optimizers.RMSprop(learning_rate=lr_schedule)"
      ],
      "execution_count": 0,
      "outputs": []
    },
    {
      "cell_type": "markdown",
      "metadata": {
        "id": "TPjGq9wAPWXN",
        "colab_type": "text"
      },
      "source": [
        "Several built-in schedules are available: ExponentialDecay, PiecewiseConstantDecay, PolynomialDecay, and InverseTimeDecay."
      ]
    },
    {
      "cell_type": "markdown",
      "metadata": {
        "id": "ijHFOJ_wPkDY",
        "colab_type": "text"
      },
      "source": [
        "### using callbacks to implement a dynamic learning rate schedule\n",
        "A dynamic learning rate schedule (for instance, decreasing the learning rate when the validation loss is no longer improving) cannot be achieved with these schedule objects since the optimizer does not have access to validation metrics.\n",
        "\n",
        "However, callbacks do have access to all metrics, including validation metrics! You can thus achieve this pattern by using a callbacks that modifies the current learning rate on the optimizer. In fact, this is even built-in as the `ReduceLROnPlateau` callback"
      ]
    },
    {
      "cell_type": "markdown",
      "metadata": {
        "id": "nIzmg-pRQCzN",
        "colab_type": "text"
      },
      "source": [
        "### Visualizing loss and metrics during training\n",
        "The best way to keep an eye on your model during training is use `TensorBoard`, a browser-based application that you can run locally that provides you with:\n",
        "- Live plots of the loss and metrics for training and evaluation\n",
        "- (optionally) Visualizations of the histograms of your layer activations\n",
        "- (optionally) 3D visualizitaions of the embedding spaces learned by your `Embedding` layers"
      ]
    },
    {
      "cell_type": "markdown",
      "metadata": {
        "id": "rFQI_vnaQl4Z",
        "colab_type": "text"
      },
      "source": [
        "### Using the TensorBoard callback\n",
        "The easiest way to use TensorBoard with a Keras model and the `fit` method is the `TensorBoard` callback.\n",
        "In the simplest case, just specify where you want the callback to write logs, and you're good to go:"
      ]
    },
    {
      "cell_type": "code",
      "metadata": {
        "id": "w5bqmbIFRB9W",
        "colab_type": "code",
        "colab": {}
      },
      "source": [
        "keras.callbacks.TensorBoard(\n",
        "  log_dir='/full_path_to_your_logs',\n",
        "  histogram_freq=0,  # How often to log histogram visualizations\n",
        "  embeddings_freq=0,  # How often to log embedding visualizations\n",
        "  update_freq='epoch')  # How often to write logs (default: once per epoch)"
      ],
      "execution_count": 0,
      "outputs": []
    },
    {
      "cell_type": "markdown",
      "metadata": {
        "id": "a4sqWL2qgz33",
        "colab_type": "text"
      },
      "source": [
        "## Writing your own training & evaluation loops from scratch\n",
        "\n",
        "If you want lower-level over your training & evaluation loops than what `fit()` and `evaluate()` provide, you should write your own. "
      ]
    },
    {
      "cell_type": "markdown",
      "metadata": {
        "id": "S5IaxDe4hKTJ",
        "colab_type": "text"
      },
      "source": [
        "### Using the GradientTape:\n",
        "\n",
        "Calling a model inside a `GradientTape` scope enables you to retrieve the gradients of the trainable weights of the layer with respect to a loss value. Using an optimizer instance, you can use these gradients to update these gradients to update these variables (which you can retrieve using `model.trainable_weights`)."
      ]
    },
    {
      "cell_type": "code",
      "metadata": {
        "id": "ElHFqR-9RGnq",
        "colab_type": "code",
        "colab": {}
      },
      "source": [
        "inputs = keras.Input(shape=(784,), name='digits')\n",
        "x = layers.Dense(64, activation='relu', name='dense_1')(inputs)\n",
        "x = layers.Dense(64, activation='relu', name='dense_2')(x)\n",
        "outputs = layers.Dense(10, activation='softmax', name='predictions')(x)\n",
        "model = keras.Model(inputs=inputs, outputs=outputs)\n",
        "\n",
        "# Instantiate an optimizer.\n",
        "optimizer = keras.optimizers.SGD(learning_rate=1e-3)\n",
        "# Instantiate a loss function.\n",
        "loss_fn = keras.losses.SparseCategoricalCrossentropy()\n",
        "\n",
        "# Prepare the training dataset.\n",
        "batch_size = 64\n",
        "train_dataset = tf.data.Dataset.from_tensor_slices((x_train, y_train))\n",
        "train_dataset = train_dataset.shuffle(buffer_size=1024).batch(batch_size)\n",
        "\n",
        "# Iterate over epochs.\n",
        "for epoch in range(3):\n",
        "  print('Start of epoch %d' % (epoch, ))\n",
        "\n",
        "  # Iterate over the batches of the dataset.\n",
        "  for step, (x_batch_train, y_batch_train) in enumerate(train_dataset):\n",
        "\n",
        "    # Open a GradientTape to record the operations run\n",
        "    # during the forward pass, which enable autodifferentiation.\n",
        "    with tf.GradientTape() as tape:\n",
        "\n",
        "      # Run the forward pass of the layer.\n",
        "      # The operations that the layer applies\n",
        "      # to its inputs are going to be recorded\n",
        "      # on the GradientTape\n",
        "      logits = model(x_batch_train) # Logits for this minibatch\n",
        "\n",
        "      # Compute the loss value for this minibatch\n",
        "      loss_value = loss_fn(y_batch_train, logits)\n",
        "    \n",
        "    # Use the gradient tape to automatically retrieve\n",
        "    # the gradients of the trainable variables with respect to the loss.\n",
        "    grads = tape.gradient(loss_value, model.trainable_weights)\n",
        "\n",
        "    # Run one step of gradient descent by updating\n",
        "    # the value of the variables to minimize the loss.\n",
        "    optimizer.apply_gradients(zip(grads, model.trainable_weights))\n",
        "\n",
        "    # Log every 200 batches\n",
        "    if step % 200 == 0:\n",
        "      print('Training loss (for one batch) at step %s: %s' % (step, float(loss_value)))\n",
        "      print('Seen so far: %s samples' % ((step + 1) * 64))"
      ],
      "execution_count": 0,
      "outputs": []
    },
    {
      "cell_type": "markdown",
      "metadata": {
        "id": "2WY1KGBFj-Qh",
        "colab_type": "text"
      },
      "source": [
        "### Low-level handling of metrics\n",
        "\n",
        "Let's add metrics to the mix. You can readily reuse the built-in metrics (or custom ones you wrote) in such training loops written from scratch.\n",
        "- Instantiate the metric at the start of the loop\n",
        "- Call `metric.update_state()` after each batch\n",
        "- Call `metric.result()` when you need to display the current value of the metric\n",
        "- Call `metric.reset_states()` when you need to clear the state of the metric(typically at the end of an epoch).\n"
      ]
    },
    {
      "cell_type": "code",
      "metadata": {
        "id": "Fpt1dok4j4yk",
        "colab_type": "code",
        "colab": {}
      },
      "source": [
        "# Compute `SparseCategoricalAccuracy` on validation data at the end of each epcoh\n",
        "\n",
        "# Get model\n",
        "inputs = keras.Input(shape=(784,), name='digits')\n",
        "x = layers.Dense(64, activation='relu', name='dense_1')(inputs)\n",
        "x = layers.Dense(64, activation='relu', name='dense_2')(x)\n",
        "outputs = layers.Dense(10, activation='softmax', name='predictions')(x)\n",
        "model = keras.Model(inputs=inputs, outputs=outputs)\n",
        "\n",
        "optimizer = keras.optimizers.SGD(learning_rate=1e-3)\n",
        "loss_nf = keras.losses.SparseCategoricalCrossentropy()\n",
        "\n",
        "# Prepare the metrics.\n",
        "train_acc_metric = keras.metrics.SparseCategoricalAccuracy()\n",
        "val_acc_metric = keras.metrics.SparseCategoricalAccuracy()\n",
        "\n",
        "# Prepare the training dataset.\n",
        "batch_size = 64\n",
        "train_dataset = tf.data.Dataset.from_tensor_slices((x_train, y_train))\n",
        "train_dataset = train_dataset.shuffle(buffer_size=1024).batch(batch_size)\n",
        "\n",
        "# Prepare the validation dataset.\n",
        "val_dataset = tf.data.Dataset.from_tensor_slices((x_val, y_val))\n",
        "val_dataset = val_dataset.batch(64)"
      ],
      "execution_count": 0,
      "outputs": []
    },
    {
      "cell_type": "code",
      "metadata": {
        "id": "JReWTZbOk2a1",
        "colab_type": "code",
        "colab": {}
      },
      "source": [
        "for epoch in range(3):\n",
        "  print('Start of epoch %d' % (epoch, ))\n",
        "\n",
        "  # Iterate over the batches of the dataset\n",
        "  for stpe, (x_batch_train, y_batch_train) in enumerate(train_dataset):\n",
        "    with tf.GradientTape() as tape:\n",
        "      logits = model(x_batch_train)\n",
        "      loss_value = loss_fn(y_batch_train, logits)\n",
        "    grads = tape.gradient(loss_value, model.trainable_weights)\n",
        "    optimizer.apply_gradients(zip(grads, model.trainable_weights))\n",
        "\n",
        "    # Update training metric.\n",
        "    train_acc_metric(y_batch_train, logits)\n",
        "\n",
        "    # Log every 200 batches.\n",
        "    if step % 200 == 0:\n",
        "      print('Training loss (for one batch) at step %s: %s' % (step, float(loss_value)))\n",
        "      print('Seen so far: %s samples' % ((step + 1) * 64))\n",
        "\n",
        "  # Display metrics at the end of each epoch.\n",
        "  train_acc = train_acc_metric.result()\n",
        "  print('Training acc over epoch: %s' % (float(train_acc),))\n",
        "  # Reset training metrics at the end of each epoch\n",
        "  train_acc_metric.reset_states()\n",
        "\n",
        "  # Run a validation loop at the end of each epoch.\n",
        "  for x_batch_val, y_batch_val in val_dataset:\n",
        "    val_logits = model(x_batch_val)\n",
        "    # Update val metrics\n",
        "    val_acc_metric(y_batch_val, val_logits)\n",
        "  val_acc = val_acc_metric.result()\n",
        "  val_acc_metric.reset_states()\n",
        "  print('Validation acc: %s' % (float(val_acc), ))\n"
      ],
      "execution_count": 0,
      "outputs": []
    },
    {
      "cell_type": "markdown",
      "metadata": {
        "id": "TrTSuO0Fm5XD",
        "colab_type": "text"
      },
      "source": [
        "### Low-level handling of extra losses\n",
        "You saw in the previous section that it is possible for regularization losses to be added by a layer by calling `self.add_loss(value)` in the `call` method.\n",
        "\n",
        "In the general case, you will want to take these losses into account in your custom training loops (unless you've written the model yourself and you already know that it creates no such losses"
      ]
    },
    {
      "cell_type": "code",
      "metadata": {
        "id": "d_pb5hB8lKdA",
        "colab_type": "code",
        "colab": {}
      },
      "source": [
        "class ActivityRegularizationLayer(layers.Layer):\n",
        "  def call(self, inputs):\n",
        "    self.add_loss(1e-2 * tf.reduce_sum(inputs))\n",
        "    return inputs"
      ],
      "execution_count": 0,
      "outputs": []
    },
    {
      "cell_type": "code",
      "metadata": {
        "id": "LGghCy3hn2ZX",
        "colab_type": "code",
        "colab": {}
      },
      "source": [
        "inputs = keras.Input(shape=(784,), name='digits')\n",
        "x = layers.Dense(64, activation='relu', name='dense_1')(inputs)\n",
        "# Insert activity regularization as a layer\n",
        "x = ActivityRegularizationLayer()(x)\n",
        "x = layers.Dense(64, activation='relu', name='dense_2')(x)\n",
        "outputs = layers.Dense(10, activation='softmax', name='predictions')(x)\n",
        "\n",
        "model = keras.Model(inputs=inputs, outputs=outputs)"
      ],
      "execution_count": 0,
      "outputs": []
    },
    {
      "cell_type": "code",
      "metadata": {
        "id": "dqHpYQTmn4Bs",
        "colab_type": "code",
        "colab": {}
      },
      "source": [
        "logits = model(x_train[:64])"
      ],
      "execution_count": 0,
      "outputs": []
    },
    {
      "cell_type": "markdown",
      "metadata": {
        "id": "7C2Ex4gioIMY",
        "colab_type": "text"
      },
      "source": [
        "the losses it creates during the forward pass are added to the `model.losses` attribute:"
      ]
    },
    {
      "cell_type": "code",
      "metadata": {
        "id": "bkd9PErPn8ZH",
        "colab_type": "code",
        "colab": {}
      },
      "source": [
        "logits = model(x_train[:64])\n",
        "print(model.losses)"
      ],
      "execution_count": 0,
      "outputs": []
    },
    {
      "cell_type": "code",
      "metadata": {
        "id": "0q7wPGLuoSL8",
        "colab_type": "code",
        "colab": {}
      },
      "source": [
        "logits[0]"
      ],
      "execution_count": 0,
      "outputs": []
    },
    {
      "cell_type": "markdown",
      "metadata": {
        "id": "BBzv0ZFvpBc6",
        "colab_type": "text"
      },
      "source": [
        "The tracked losses are first cleared at the start of the model `__call__`, so you will only see the losses created during this one forward pass. For instance, calling the model repeatedly and then querying `losses` only displays the latest losses, created during the last call:\n"
      ]
    },
    {
      "cell_type": "code",
      "metadata": {
        "id": "vRmkhs6Moxqa",
        "colab_type": "code",
        "colab": {}
      },
      "source": [
        "logits = model(x_train[:64])\n",
        "logits = model(x_train[64: 128])\n",
        "logits = model(x_train[128: 192])\n",
        "print(model.losses)"
      ],
      "execution_count": 0,
      "outputs": []
    },
    {
      "cell_type": "markdown",
      "metadata": {
        "id": "_ZzdbR6IpRnQ",
        "colab_type": "text"
      },
      "source": [
        "To take these losses into account during training, all you have to do is to modify your training loop to add `sum(model.losses)` to your total loss:"
      ]
    },
    {
      "cell_type": "code",
      "metadata": {
        "id": "0Rt8DNiCpQD8",
        "colab_type": "code",
        "colab": {}
      },
      "source": [
        "optimizer = keras.optimizers.SGD(learning_rate=1e-3)\n",
        "\n",
        "for epoch in range(3):\n",
        "  print('Start of epoch %d' % (epoch, ))\n",
        "\n",
        "  for step, (x_batch_train, y_batch_train) in enumerate(train_dataset):\n",
        "    with tf.GradientTape() as tape:\n",
        "      logits = model(x_batch_train)\n",
        "      loss_value = loss_fn(y_batch_train, logits)\n",
        "\n",
        "      loss_value += sum(model.losses)\n",
        "    \n",
        "    grads = tape.gradient(loss_value, model.trainable_weights)\n",
        "    optimizer.apply_gradients(zip(grads, model.trainable_weights))\n",
        "\n",
        "    if stpe % 200 == 0:\n",
        "      print('Training loss (for one batch) at step %s: %s' % (step, float(loss_value)))\n",
        "      print('Seen so far: %s samples' % ((step + 1) * 64))"
      ],
      "execution_count": 0,
      "outputs": []
    },
    {
      "cell_type": "code",
      "metadata": {
        "id": "M3NbbFDIp2N6",
        "colab_type": "code",
        "colab": {}
      },
      "source": [
        ""
      ],
      "execution_count": 0,
      "outputs": []
    }
  ]
}