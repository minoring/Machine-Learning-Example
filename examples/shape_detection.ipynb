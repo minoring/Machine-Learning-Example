{
  "nbformat": 4,
  "nbformat_minor": 0,
  "metadata": {
    "colab": {
      "name": "shape_detection.ipynb",
      "provenance": [],
      "private_outputs": true
    },
    "kernelspec": {
      "name": "python3",
      "display_name": "Python 3"
    },
    "accelerator": "GPU"
  },
  "cells": [
    {
      "cell_type": "markdown",
      "metadata": {
        "id": "ajljpwjPiYBD",
        "colab_type": "text"
      },
      "source": [
        "https://towardsdatascience.com/object-detection-with-neural-networks-a4e2c46b4491"
      ]
    },
    {
      "cell_type": "markdown",
      "metadata": {
        "id": "bSdRAvgPiryw",
        "colab_type": "text"
      },
      "source": [
        "## Single rectangle"
      ]
    },
    {
      "cell_type": "code",
      "metadata": {
        "id": "8-fojQN9iVF5",
        "colab_type": "code",
        "colab": {}
      },
      "source": [
        "import numpy as np\n",
        "import matplotlib.pyplot as plt\n",
        "import matplotlib\n",
        "\n",
        "%matplotlib inline"
      ],
      "execution_count": 0,
      "outputs": []
    },
    {
      "cell_type": "code",
      "metadata": {
        "id": "dUotC5CAiiNj",
        "colab_type": "code",
        "colab": {}
      },
      "source": [
        "# Create images with random rectangles and bounding boxes. \n",
        "num_imgs = 50000\n",
        "\n",
        "img_size = 8\n",
        "min_object_size = 1\n",
        "max_object_size = 4\n",
        "num_objects = 1\n",
        "\n",
        "bboxes = np.zeros((num_imgs, num_objects, 4))\n",
        "imgs = np.zeros((num_imgs, img_size, img_size))  # set background to 0\n",
        "\n",
        "for i_img in range(num_imgs):\n",
        "    for i_object in range(num_objects):\n",
        "        w, h = np.random.randint(min_object_size, max_object_size, size=2)\n",
        "        x = np.random.randint(0, img_size - w)\n",
        "        y = np.random.randint(0, img_size - h)\n",
        "        imgs[i_img, x:x+w, y:y+h] = 1.  # set rectangle to 1\n",
        "        bboxes[i_img, i_object] = [x, y, w, h]\n",
        "        \n",
        "imgs.shape, bboxes.shape"
      ],
      "execution_count": 0,
      "outputs": []
    },
    {
      "cell_type": "code",
      "metadata": {
        "id": "ocC31RIai1sn",
        "colab_type": "code",
        "colab": {}
      },
      "source": [
        "i = 0\n",
        "plt.imshow(imgs[i].T, cmap='Greys', interpolation='none', origin='lower', extent=[0, img_size, 0, img_size])\n",
        "for bbox in bboxes[i]:\n",
        "    plt.gca().add_patch(matplotlib.patches.Rectangle((bbox[0], bbox[1]), bbox[2], bbox[3], ec='r', fc='none'))"
      ],
      "execution_count": 0,
      "outputs": []
    },
    {
      "cell_type": "code",
      "metadata": {
        "id": "4nAuKO_6kse_",
        "colab_type": "code",
        "colab": {}
      },
      "source": [
        "# Reshape and normalize the image data to mean 0 and std 1. \n",
        "X = (imgs.reshape(num_imgs, -1) - np.mean(imgs)) / np.std(imgs)\n",
        "X.shape, np.mean(X), np.std(X)"
      ],
      "execution_count": 0,
      "outputs": []
    },
    {
      "cell_type": "code",
      "metadata": {
        "id": "2BmiDvltrBT8",
        "colab_type": "code",
        "colab": {}
      },
      "source": [
        "# Normalize x, y, w, h by img_size, so that all values are between 0 and 1.\n",
        "# Important: Do not shift to negative values (e.g. by setting to mean 0), because the IOU calculation needs positive w and h.\n",
        "y = bboxes.reshape(num_imgs, -1) / img_size\n",
        "y.shape, np.mean(y), np.std(y)"
      ],
      "execution_count": 0,
      "outputs": []
    },
    {
      "cell_type": "code",
      "metadata": {
        "id": "FHJFatEGshsw",
        "colab_type": "code",
        "colab": {}
      },
      "source": [
        "# Split training and test.\n",
        "i = int(0.8 * num_imgs)\n",
        "train_X = X[:i]\n",
        "test_X = X[i:]\n",
        "train_y = y[:i]\n",
        "test_y = y[i:]\n",
        "test_imgs = imgs[i:]\n",
        "test_bboxes = bboxes[i:]"
      ],
      "execution_count": 0,
      "outputs": []
    },
    {
      "cell_type": "code",
      "metadata": {
        "id": "C2ZayRE5tE50",
        "colab_type": "code",
        "colab": {}
      },
      "source": [
        "%tensorflow_version 2.x\n",
        "\n",
        "import tensorflow as tf\n",
        "from tensorflow.keras.models import Sequential\n",
        "from tensorflow.keras.layers import Dense, Activation, Dropout\n",
        "from tensorflow.keras.optimizers import SGD\n",
        "\n",
        "model = Sequential([\n",
        "        Dense(200, input_dim=X.shape[-1]), \n",
        "        Activation('relu'), \n",
        "        Dropout(0.2), \n",
        "        Dense(y.shape[-1])\n",
        "    ])\n",
        "\n",
        "model.compile(optimizer=tf.keras.optimizers.Adam(learning_rate=1e-1), loss='mse')"
      ],
      "execution_count": 0,
      "outputs": []
    },
    {
      "cell_type": "code",
      "metadata": {
        "id": "x8F7H7Okte8Q",
        "colab_type": "code",
        "colab": {}
      },
      "source": [
        "# Train.\n",
        "model.fit(train_X, train_y, epochs=30, validation_data=(test_X, test_y), verbose=2)"
      ],
      "execution_count": 0,
      "outputs": []
    },
    {
      "cell_type": "code",
      "metadata": {
        "id": "hhAyfr2ituFA",
        "colab_type": "code",
        "colab": {}
      },
      "source": [
        "# Predict bounding boxes on the test images.\n",
        "pred_y = model.predict(test_X)\n",
        "pred_bboxes = pred_y * img_size\n",
        "pred_bboxes = pred_bboxes.reshape(len(pred_bboxes), num_objects, -1)\n",
        "pred_bboxes.shape"
      ],
      "execution_count": 0,
      "outputs": []
    },
    {
      "cell_type": "code",
      "metadata": {
        "id": "fdtVMJLeuzXB",
        "colab_type": "code",
        "colab": {}
      },
      "source": [
        "def IOU(bbox1, bbox2):\n",
        "    '''Calculate overlap between two bounding boxes [x, y, w, h] as the area of intersection over the area of unity'''\n",
        "    x1, y1, w1, h1 = bbox1[0], bbox1[1], bbox1[2], bbox1[3]\n",
        "    x2, y2, w2, h2 = bbox2[0], bbox2[1], bbox2[2], bbox2[3]\n",
        "\n",
        "    w_I = min(x1 + w1, x2 + w2) - max(x1, x2)\n",
        "    h_I = min(y1 + h1, y2 + h2) - max(y1, y2)\n",
        "    if w_I <= 0 or h_I <= 0:  # no overlap\n",
        "        return 0.\n",
        "    I = w_I * h_I\n",
        "\n",
        "    U = w1 * h1 + w2 * h2 - I\n",
        "\n",
        "    return I / U"
      ],
      "execution_count": 0,
      "outputs": []
    },
    {
      "cell_type": "code",
      "metadata": {
        "id": "Wsx6caVLxj0X",
        "colab_type": "code",
        "colab": {}
      },
      "source": [
        "# Show a few images and predicted bounding boxes from the test dataset. \n",
        "plt.figure(figsize=(12, 3))\n",
        "for i_subplot in range(1, 5):\n",
        "    plt.subplot(1, 4, i_subplot)\n",
        "    i = np.random.randint(len(test_imgs))\n",
        "    plt.imshow(test_imgs[i].T, cmap='Greys', interpolation='none', origin='lower', extent=[0, img_size, 0, img_size])\n",
        "    for pred_bbox, exp_bbox in zip(pred_bboxes[i], test_bboxes[i]):\n",
        "        plt.gca().add_patch(matplotlib.patches.Rectangle((pred_bbox[0], pred_bbox[1]), pred_bbox[2], pred_bbox[3], ec='r', fc='none'))\n",
        "        plt.annotate('IOU: {:.2f}'.format(IOU(pred_bbox, exp_bbox)), (pred_bbox[0], pred_bbox[1]+pred_bbox[3]+0.2), color='r')"
      ],
      "execution_count": 0,
      "outputs": []
    },
    {
      "cell_type": "code",
      "metadata": {
        "id": "U3ECMeD3zgpg",
        "colab_type": "code",
        "colab": {}
      },
      "source": [
        "# Calculate the mean IOU (overlap) between the predicted and expected bounding boxes on the test dataset.\n",
        "summed_IOU = 0.\n",
        "for pred_bbox, test_bbox in zip(pred_bboxes.reshape(-1, 4), test_bboxes.reshape(-1, 4)):\n",
        "  summed_IOU += IOU(pred_bbox, test_bbox)\n",
        "\n",
        "mean_IOU = summed_IOU / len(pred_bboxes)\n",
        "print(mean_IOU)"
      ],
      "execution_count": 0,
      "outputs": []
    },
    {
      "cell_type": "code",
      "metadata": {
        "id": "dad3wjir0msY",
        "colab_type": "code",
        "colab": {}
      },
      "source": [
        ""
      ],
      "execution_count": 0,
      "outputs": []
    }
  ]
}