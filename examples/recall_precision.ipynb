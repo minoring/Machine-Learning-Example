{
  "nbformat": 4,
  "nbformat_minor": 0,
  "metadata": {
    "colab": {
      "name": "recall_precision.ipynb",
      "provenance": [],
      "private_outputs": true,
      "collapsed_sections": []
    },
    "kernelspec": {
      "name": "python3",
      "display_name": "Python 3"
    }
  },
  "cells": [
    {
      "cell_type": "markdown",
      "metadata": {
        "id": "7V9Qo-GezjCL",
        "colab_type": "text"
      },
      "source": [
        "Beyond Accuracy: Precision and Recall\n",
        "\n",
        "https://towardsdatascience.com/beyond-accuracy-precision-and-recall-3da06bea9f6c"
      ]
    },
    {
      "cell_type": "code",
      "metadata": {
        "id": "zzIX4iHYtgKF",
        "colab_type": "code",
        "colab": {}
      },
      "source": [
        "import numpy as np\n",
        "import pandas as pd\n",
        "\n",
        "import matplotlib.pyplot as plt\n",
        "\n",
        "import seaborn as sns\n",
        "\n",
        "from IPython.core.pylabtools import figsize\n",
        "figsize(10, 8)"
      ],
      "execution_count": 0,
      "outputs": []
    },
    {
      "cell_type": "markdown",
      "metadata": {
        "id": "ILkRIfHqt-SO",
        "colab_type": "text"
      },
      "source": [
        "## Confusnion Matrix Numbers"
      ]
    },
    {
      "cell_type": "code",
      "metadata": {
        "id": "RJpOu8qqtvd6",
        "colab_type": "code",
        "colab": {}
      },
      "source": [
        "results = pd.DataFrame({'fn': [0,   2,  4,  8, 11, 13, 18,  21,  33, 40, 50],\n",
        "                        'fp': [50, 47, 40, 31, 23, 16, 12,  11,   4,  3,  0],\n",
        "                        'threshold': [0.0, 0.1, 0.2, 0.3, 0.4, 0.5, 0.6, 0.7, 0.8, 0.9, 1.0],\n",
        "                        'tn': [0,   3,  9, 16, 22, 29, 34,  38,  43, 45, 50],\n",
        "                        'tp': [50, 48, 47, 45, 44, 42, 36,  30,  20, 12, 0],\n",
        "                       })"
      ],
      "execution_count": 0,
      "outputs": []
    },
    {
      "cell_type": "code",
      "metadata": {
        "id": "BgUYKntkuoZG",
        "colab_type": "code",
        "colab": {}
      },
      "source": [
        "results"
      ],
      "execution_count": 0,
      "outputs": []
    },
    {
      "cell_type": "code",
      "metadata": {
        "id": "sUytigjrvCU-",
        "colab_type": "code",
        "colab": {}
      },
      "source": [
        "i = results.iterrows()\n",
        "val = next(i)[1]\n",
        "print(val)\n",
        "fn, fp, t, tn, tp = val\n",
        "print(fn)"
      ],
      "execution_count": 0,
      "outputs": []
    },
    {
      "cell_type": "markdown",
      "metadata": {
        "id": "mFgJfJZQuCqt",
        "colab_type": "text"
      },
      "source": [
        "## Calculate Precision, Recall, F1, TPR, FPR"
      ]
    },
    {
      "cell_type": "code",
      "metadata": {
        "id": "Lmx5erI9t3sI",
        "colab_type": "code",
        "colab": {}
      },
      "source": [
        "def calculate_metrics(results):\n",
        "  roc = pd.DataFrame(index=results['threshold'], columns=['recall', 'precision', 'f1', 'tpr', 'fpr'])\n",
        "\n",
        "  for i in results.iterrows():\n",
        "    fn, fp, t, tn, tp = i[1]\n",
        "    assert tp + fp + tn + fn == 100, 'Patients must add up to 100'\n",
        "\n",
        "    recall = tp / (tp + fn)\n",
        "\n",
        "    if tp == fp == 0:\n",
        "      precision = 0\n",
        "      true_positive_rate = 0\n",
        "    else:\n",
        "      precision = tp / (tp + fp)\n",
        "      true_positive_rate = tp / (tp + fn)\n",
        "    \n",
        "    if precision == recall == 0:\n",
        "      f1 = 0\n",
        "    else:\n",
        "      f1 = 2 * (precision * recall) / (precision + recall)\n",
        "\n",
        "    false_positive_rate = fp / (fp + tn)\n",
        "\n",
        "    roc.loc[t, 'recall'] = recall\n",
        "    roc.loc[t, 'precision'] = precision\n",
        "    roc.loc[t, 'f1'] = f1\n",
        "    roc.loc[t, 'tpr'] = true_positive_rate\n",
        "    roc.loc[t, 'fpr'] = false_positive_rate\n",
        "  \n",
        "  return roc"
      ],
      "execution_count": 0,
      "outputs": []
    },
    {
      "cell_type": "code",
      "metadata": {
        "id": "W0fnXiWXwrm9",
        "colab_type": "code",
        "colab": {}
      },
      "source": [
        "roc = calculate_metrics(results)\n",
        "roc.reset_index()"
      ],
      "execution_count": 0,
      "outputs": []
    },
    {
      "cell_type": "markdown",
      "metadata": {
        "id": "piOIIYoxyUg4",
        "colab_type": "text"
      },
      "source": [
        "## Receiver Operating Characteristic Curve"
      ]
    },
    {
      "cell_type": "code",
      "metadata": {
        "id": "ahU1P8TZwudt",
        "colab_type": "code",
        "colab": {}
      },
      "source": [
        "plt.style.use('seaborn-dark-palette')\n",
        "thresholds = [str(t) for t in results['threshold']]\n",
        "plt.plot(roc['fpr'], roc['tpr'], 'bo-', label = 'model')\n",
        "plt.plot(list(np.linspace(0, 1, num = 10)), list(np.linspace(0, 1, num = 10)), 'ro--', label = 'naive classifier')\n",
        "for x, y, s in zip(roc['fpr'], roc['tpr'], thresholds):\n",
        "    plt.text(x - 0.04,y + 0.02, s, fontdict={'size': 14})\n",
        "\n",
        "plt.legend(prop={'size':14})\n",
        "plt.ylabel('True Positive Rate', size = 16)\n",
        "plt.xlabel('False Positive Rate', size = 16)\n",
        "plt.title('Receiver Operating Characteristic Curve', size = 20);"
      ],
      "execution_count": 0,
      "outputs": []
    },
    {
      "cell_type": "code",
      "metadata": {
        "id": "8IoYYkP7zQr6",
        "colab_type": "code",
        "colab": {}
      },
      "source": [
        ""
      ],
      "execution_count": 0,
      "outputs": []
    },
    {
      "cell_type": "code",
      "metadata": {
        "id": "l-Cz2APhzhgI",
        "colab_type": "code",
        "colab": {}
      },
      "source": [
        ""
      ],
      "execution_count": 0,
      "outputs": []
    }
  ]
}