{
  "nbformat": 4,
  "nbformat_minor": 0,
  "metadata": {
    "colab": {
      "name": "1-2-Text-Analysis-Using-nltk.text.ipynb",
      "version": "0.3.2",
      "provenance": []
    },
    "kernelspec": {
      "name": "python3",
      "display_name": "Python 3"
    },
    "accelerator": "GPU"
  },
  "cells": [
    {
      "cell_type": "code",
      "metadata": {
        "id": "yqkitFQ3vYzl",
        "colab_type": "code",
        "colab": {
          "base_uri": "https://localhost:8080/",
          "height": 119
        },
        "outputId": "24bc6bff-5343-4e3c-ff81-d7cce63f5674"
      },
      "source": [
        "import nltk\n",
        "from nltk.tokenize import word_tokenize\n",
        "from nltk.text import Text\n",
        "nltk.download('punkt')\n",
        "nltk.download('stopwords')\n",
        "nltk.download('reuters')"
      ],
      "execution_count": 24,
      "outputs": [
        {
          "output_type": "stream",
          "text": [
            "[nltk_data] Downloading package punkt to /root/nltk_data...\n",
            "[nltk_data]   Package punkt is already up-to-date!\n",
            "[nltk_data] Downloading package stopwords to /root/nltk_data...\n",
            "[nltk_data]   Package stopwords is already up-to-date!\n",
            "[nltk_data] Downloading package reuters to /root/nltk_data...\n"
          ],
          "name": "stdout"
        },
        {
          "output_type": "execute_result",
          "data": {
            "text/plain": [
              "True"
            ]
          },
          "metadata": {
            "tags": []
          },
          "execution_count": 24
        }
      ]
    },
    {
      "cell_type": "code",
      "metadata": {
        "id": "_lNKfS9pvbcg",
        "colab_type": "code",
        "colab": {
          "base_uri": "https://localhost:8080/",
          "height": 34
        },
        "outputId": "ba3522f8-0e6d-4fb7-9acc-3138bf1805db"
      },
      "source": [
        "my_string = \"Two plus two is four, minus one that's three — quick maths. Every day man's on the block. Smoke trees. See your girl in the park, that girl is an uckers. When the thing went quack quack quack, your men were ducking! Hold tight Asznee, my brother. He's got a pumpy. Hold tight my man, my guy. He's got a frisbee. I trap, trap, trap on the phone. Moving that cornflakes, rice crispies. Hold tight my girl Whitney.\"\n",
        "tokens = word_tokenize(my_string)\n",
        "tokens = [word.lower() for word in tokens]\n",
        "tokens[:5]"
      ],
      "execution_count": 8,
      "outputs": [
        {
          "output_type": "execute_result",
          "data": {
            "text/plain": [
              "['two', 'plus', 'two', 'is', 'four']"
            ]
          },
          "metadata": {
            "tags": []
          },
          "execution_count": 8
        }
      ]
    },
    {
      "cell_type": "code",
      "metadata": {
        "id": "AEOoyeF1v4ug",
        "colab_type": "code",
        "colab": {
          "base_uri": "https://localhost:8080/",
          "height": 34
        },
        "outputId": "bda51380-33c6-4ace-9260-882ea8b21ad2"
      },
      "source": [
        "t = Text(tokens)\n",
        "t\n",
        "# This method of converting raw strings to NLTK Text instances \n",
        "# can be used when reading text from a file."
      ],
      "execution_count": 10,
      "outputs": [
        {
          "output_type": "execute_result",
          "data": {
            "text/plain": [
              "<Text: two plus two is four , minus one...>"
            ]
          },
          "metadata": {
            "tags": []
          },
          "execution_count": 10
        }
      ]
    },
    {
      "cell_type": "code",
      "metadata": {
        "id": "X4iGmCHawiAD",
        "colab_type": "code",
        "colab": {
          "base_uri": "https://localhost:8080/",
          "height": 71
        },
        "outputId": "8f6e07ba-429d-46f4-d07f-a2fcba85039c"
      },
      "source": [
        "# Finds words and displays a context window.\n",
        "# 용어 색인이란 뜻이네\n",
        "t.concordance('uckers')"
      ],
      "execution_count": 12,
      "outputs": [
        {
          "output_type": "stream",
          "text": [
            "Displaying 1 of 1 matches:\n",
            " girl in the park , that girl is an uckers . when the thing went quack quack q\n"
          ],
          "name": "stdout"
        }
      ]
    },
    {
      "cell_type": "code",
      "metadata": {
        "id": "hOM8hHN-w7P9",
        "colab_type": "code",
        "colab": {
          "base_uri": "https://localhost:8080/",
          "height": 34
        },
        "outputId": "9a3a0ebc-b36a-4372-f04e-869bf46b90cf"
      },
      "source": [
        "t.collocations()"
      ],
      "execution_count": 15,
      "outputs": [
        {
          "output_type": "stream",
          "text": [
            "hold tight; quack quack\n"
          ],
          "name": "stdout"
        }
      ]
    },
    {
      "cell_type": "code",
      "metadata": {
        "id": "pJWwKEiGxPMQ",
        "colab_type": "code",
        "colab": {
          "base_uri": "https://localhost:8080/",
          "height": 34
        },
        "outputId": "aa4d15cc-b454-45ac-d2e7-b4d4261af0d9"
      },
      "source": [
        "t.count('quack')"
      ],
      "execution_count": 16,
      "outputs": [
        {
          "output_type": "execute_result",
          "data": {
            "text/plain": [
              "3"
            ]
          },
          "metadata": {
            "tags": []
          },
          "execution_count": 16
        }
      ]
    },
    {
      "cell_type": "code",
      "metadata": {
        "id": "Y6Rv4I9LxhTm",
        "colab_type": "code",
        "colab": {
          "base_uri": "https://localhost:8080/",
          "height": 34
        },
        "outputId": "5edcfd3c-c0df-476c-af88-fa8757b52f33"
      },
      "source": [
        "t.index('two')"
      ],
      "execution_count": 17,
      "outputs": [
        {
          "output_type": "execute_result",
          "data": {
            "text/plain": [
              "0"
            ]
          },
          "metadata": {
            "tags": []
          },
          "execution_count": 17
        }
      ]
    },
    {
      "cell_type": "code",
      "metadata": {
        "id": "uH75RU_jxiVB",
        "colab_type": "code",
        "colab": {
          "base_uri": "https://localhost:8080/",
          "height": 34
        },
        "outputId": "8cb79e86-bc0b-416c-b3a4-6c8eceaae8a5"
      },
      "source": [
        "t.similar('brother')\n",
        "# Distributional similarity: \n",
        "# find other words which appear in the same contexts as the specified word; \n",
        "# list most similar words first."
      ],
      "execution_count": 18,
      "outputs": [
        {
          "output_type": "stream",
          "text": [
            "guy\n"
          ],
          "name": "stdout"
        }
      ]
    },
    {
      "cell_type": "code",
      "metadata": {
        "id": "mNeVJhIMxmDP",
        "colab_type": "code",
        "colab": {
          "base_uri": "https://localhost:8080/",
          "height": 295
        },
        "outputId": "cb1453eb-0e71-4f9e-be29-2e8dafe6203e"
      },
      "source": [
        "t.dispersion_plot(['man', 'thing', 'quack'])\n",
        "# Reveals patterns in word positions. \n",
        "# Each stripe represents an instance of a word, and each row represents the entire text."
      ],
      "execution_count": 20,
      "outputs": [
        {
          "output_type": "display_data",
          "data": {
            "image/png": "[encoded data removed]",
            "text/plain": [
              "<Figure size 432x288 with 1 Axes>"
            ]
          },
          "metadata": {
            "tags": []
          }
        }
      ]
    },
    {
      "cell_type": "code",
      "metadata": {
        "id": "_2XVWBJPx2BE",
        "colab_type": "code",
        "colab": {
          "base_uri": "https://localhost:8080/",
          "height": 303
        },
        "outputId": "2cb4db50-9829-4980-8854-61596a665836"
      },
      "source": [
        "t.plot(20) # plots 20 most common tokens"
      ],
      "execution_count": 21,
      "outputs": [
        {
          "output_type": "display_data",
          "data": {
            "image/png": "[encoded data removed]",
            "text/plain": [
              "<Figure size 432x288 with 1 Axes>"
            ]
          },
          "metadata": {
            "tags": []
          }
        }
      ]
    },
    {
      "cell_type": "code",
      "metadata": {
        "id": "MRuhJzXqyFnY",
        "colab_type": "code",
        "colab": {
          "base_uri": "https://localhost:8080/",
          "height": 969
        },
        "outputId": "993e493a-18d4-4244-b5ec-f542aa24c16e"
      },
      "source": [
        "t.vocab()"
      ],
      "execution_count": 22,
      "outputs": [
        {
          "output_type": "execute_result",
          "data": {
            "text/plain": [
              "FreqDist({'!': 1,\n",
              "          \"'s\": 4,\n",
              "          ',': 8,\n",
              "          '.': 11,\n",
              "          'a': 2,\n",
              "          'an': 1,\n",
              "          'asznee': 1,\n",
              "          'block': 1,\n",
              "          'brother': 1,\n",
              "          'cornflakes': 1,\n",
              "          'crispies': 1,\n",
              "          'day': 1,\n",
              "          'ducking': 1,\n",
              "          'every': 1,\n",
              "          'four': 1,\n",
              "          'frisbee': 1,\n",
              "          'girl': 3,\n",
              "          'got': 2,\n",
              "          'guy': 1,\n",
              "          'he': 2,\n",
              "          'hold': 3,\n",
              "          'i': 1,\n",
              "          'in': 1,\n",
              "          'is': 2,\n",
              "          'man': 2,\n",
              "          'maths': 1,\n",
              "          'men': 1,\n",
              "          'minus': 1,\n",
              "          'moving': 1,\n",
              "          'my': 4,\n",
              "          'on': 2,\n",
              "          'one': 1,\n",
              "          'park': 1,\n",
              "          'phone': 1,\n",
              "          'plus': 1,\n",
              "          'pumpy': 1,\n",
              "          'quack': 3,\n",
              "          'quick': 1,\n",
              "          'rice': 1,\n",
              "          'see': 1,\n",
              "          'smoke': 1,\n",
              "          'that': 3,\n",
              "          'the': 4,\n",
              "          'thing': 1,\n",
              "          'three': 1,\n",
              "          'tight': 3,\n",
              "          'trap': 3,\n",
              "          'trees': 1,\n",
              "          'two': 2,\n",
              "          'uckers': 1,\n",
              "          'went': 1,\n",
              "          'were': 1,\n",
              "          'when': 1,\n",
              "          'whitney': 1,\n",
              "          'your': 2,\n",
              "          '—': 1})"
            ]
          },
          "metadata": {
            "tags": []
          },
          "execution_count": 22
        }
      ]
    },
    {
      "cell_type": "code",
      "metadata": {
        "id": "F0O9w-VJyH5c",
        "colab_type": "code",
        "colab": {
          "base_uri": "https://localhost:8080/",
          "height": 88
        },
        "outputId": "89f5ae97-e63f-4dcb-9ee7-baddb27095aa"
      },
      "source": [
        "# reuters is a corpus of news documents. \n",
        "# More specifically, reuters is a corpus reader for the Reuters corpus \n",
        "# which provides us with methods to access the corpus:\n",
        "from nltk.corpus import reuters\n",
        "text = Text(reuters.words()) # .words() isone method corpus readers provide for reading data from a corpus.\n",
        "text.common_contexts(['August', 'June'])\n",
        "\n",
        "# # It seems that .common_contexts() takes 2 words which are used similarly and displays where they are used similarly. \n",
        "# It also seems that '_' indicates where the words would be in the text."
      ],
      "execution_count": 26,
      "outputs": [
        {
          "output_type": "stream",
          "text": [
            "in_1986 and_and by_. begins_1 paid_1986 in_, early_. or_, /_shipment\n",
            "of_. last_. for_shipment for_to on_3 on_12 on_19 last_when in_.\n",
            "in_1987 -_.\n"
          ],
          "name": "stdout"
        }
      ]
    },
    {
      "cell_type": "code",
      "metadata": {
        "id": "8eLjI63HyxtZ",
        "colab_type": "code",
        "colab": {}
      },
      "source": [
        ""
      ],
      "execution_count": 0,
      "outputs": []
    }
  ]
}