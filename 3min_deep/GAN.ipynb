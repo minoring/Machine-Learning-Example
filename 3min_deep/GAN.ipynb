{
 "cells": [
  {
   "cell_type": "code",
   "execution_count": 3,
   "metadata": {},
   "outputs": [
    {
     "name": "stdout",
     "output_type": "stream",
     "text": [
      "Extracting ./mnist/data/train-images-idx3-ubyte.gz\n",
      "Extracting ./mnist/data/train-labels-idx1-ubyte.gz\n",
      "Extracting ./mnist/data/t10k-images-idx3-ubyte.gz\n",
      "Extracting ./mnist/data/t10k-labels-idx1-ubyte.gz\n"
     ]
    }
   ],
   "source": [
    "# Generator vs Discriminator\n",
    "import tensorflow as tf\n",
    "import matplotlib.pyplot as plt\n",
    "import numpy as np\n",
    "\n",
    "from tensorflow.examples.tutorials.mnist import input_data\n",
    "mnist = input_data.read_data_sets(\"./mnist/data/\", one_hot=True)"
   ]
  },
  {
   "cell_type": "code",
   "execution_count": 4,
   "metadata": {},
   "outputs": [],
   "source": [
    "# Hyperparameters\n",
    "total_epoch = 100\n",
    "batch_size = 100\n",
    "learning_rate = 0.0002\n",
    "n_hidden = 256\n",
    "n_input = 28 * 28\n",
    "n_noise = 128"
   ]
  },
  {
   "cell_type": "code",
   "execution_count": 5,
   "metadata": {},
   "outputs": [],
   "source": [
    "# GAN is unsupervised learning\n",
    "# Discriminator gets real image, fake image\n",
    "# Generator gets noise\n",
    "# Z is noise\n",
    "X = tf.placeholder(tf.float32, [None, n_input])\n",
    "Z = tf.placeholder(tf.float32, [None, n_noise])"
   ]
  },
  {
   "cell_type": "code",
   "execution_count": 7,
   "metadata": {},
   "outputs": [],
   "source": [
    "# W1 for hidden layer\n",
    "# W2 for output layer. Same with image. 28 * 28.\n",
    "G_W1 = tf.Variable(tf.random_normal([n_noise, n_hidden], stddev=0.01))\n",
    "G_b1 = tf.Variable(tf.zeros([n_hidden]))\n",
    "G_W2 = tf.Variable(tf.random_normal([n_hidden, n_input], stddev=0.01))\n",
    "G_b2 = tf.Variable(tf.zeros([n_input]))"
   ]
  },
  {
   "cell_type": "code",
   "execution_count": 8,
   "metadata": {},
   "outputs": [],
   "source": [
    "# 실제 이미지를 판별하는 구부자 신경망과 생성한 이미지를 판별하는 구분자 신경망은 같은 변수를 사용해야 함.\n",
    "# 같은 신겨망으로 구분을 시켜야 진짜 이미지와 가짜 이미지를 구분하는 특징들을 동시에 잡아낼 수 있음\n",
    "\n",
    "# 은닉층을 생성자와 동일하게 구성.\n",
    "# 구분자는 진짜와 얼마나 가까운가를 판단하는 값으로, 0 ~ 1사이의 값을 가짐.\n",
    "D_W1 = tf.Variable(tf.random_normal([n_input, n_hidden], stddev=0.01))\n",
    "D_b1 = tf.Variable(tf.zeros([n_hidden]))\n",
    "D_W2 = tf.Variable(tf.random_normal([n_hidden, 1], stddev=0.01))\n",
    "D_b2 = tf.Variable(tf.zeros([1]))"
   ]
  },
  {
   "cell_type": "code",
   "execution_count": 9,
   "metadata": {},
   "outputs": [],
   "source": [
    "# Generator network\n",
    "def generator(noise_z):\n",
    "    hidden = tf.nn.relu(\n",
    "            tf.matmul(noize_z, G_W1) + G_b1)\n",
    "    \n",
    "    output = tf.nn.sigmoid(\n",
    "            tf.matmul(hidden, G_W2) + G_b2)\n",
    "    \n",
    "    return output"
   ]
  },
  {
   "cell_type": "code",
   "execution_count": 15,
   "metadata": {},
   "outputs": [],
   "source": [
    "# Generator network\n",
    "def generator(noise_z):\n",
    "    hidden = tf.nn.relu(\n",
    "            tf.matmul(noise_z, G_W1) + G_b1)\n",
    "    \n",
    "    output = tf.nn.sigmoid(\n",
    "            tf.matmul(hidden, G_W2) + G_b2)\n",
    "    \n",
    "    return output\n",
    "\n",
    "# 생성자는 무작위로 생성한 노이즈를 받아 가중치와 편향을 반영하여 은닉층을 만들고,\n",
    "# 은닉층에서 실제 이미지와 같은 크기의 결과값을 출력하는 구성"
   ]
  },
  {
   "cell_type": "code",
   "execution_count": 16,
   "metadata": {},
   "outputs": [],
   "source": [
    "def discriminator(inputs):\n",
    "    hidden = tf.nn.relu(\n",
    "            tf.matmul(inputs, D_W1) + D_b1)\n",
    "    \n",
    "    output = tf.nn.sigmoid(\n",
    "            tf.matmul(hidden, D_W2) + D_b2)\n",
    "    \n",
    "    return output\n",
    "# 구분자는 0~1의 스칼라 값을 출력."
   ]
  },
  {
   "cell_type": "code",
   "execution_count": 17,
   "metadata": {},
   "outputs": [],
   "source": [
    "# 무작위한 노이즈를 만들어주는 함수\n",
    "def get_noise(batch_size, n_noise):\n",
    "    return np.random.normal(size=(batch_size, n_noise))"
   ]
  },
  {
   "cell_type": "code",
   "execution_count": 18,
   "metadata": {},
   "outputs": [],
   "source": [
    "# 노이즈 Z를 이용해 가짜이미지를 만들 생성자 G를 만들고\n",
    "# 이 G가 만든 가짜 이미지와 진짜 이미지 X를 구분자에 넣어 입력한 이미지가 진짜인지 판별하게 함\n",
    "G = generator(Z)\n",
    "D_gene = discriminator(G)\n",
    "D_real = discriminator(X)"
   ]
  },
  {
   "cell_type": "code",
   "execution_count": 19,
   "metadata": {},
   "outputs": [],
   "source": [
    "# 손실값은 두개가 필요\n",
    "# 생성자가 만든 이미지를 구분자가 가짜라고 판단하는 손실값 (경찰 학습용)\n",
    "# 진짜라고 판단하도록 하는 손실값 (위조지폐범 학습용)\n",
    "loss_D = tf.reduce_mean(tf.log(D_real) + tf.log(1 - D_gene))"
   ]
  },
  {
   "cell_type": "code",
   "execution_count": 20,
   "metadata": {},
   "outputs": [],
   "source": [
    "# 위조지폐범 학습은 가짜 이미지 판별값 D_gene를 1에 가깝게 만들기만 하면 됨\n",
    "# 즉 가짜이미지를 넣어도 진짜 같다고 판별해야 함\n",
    "# loss_G = tf.reduce_mean(tf.log(D_gene))"
   ]
  },
  {
   "cell_type": "code",
   "execution_count": 21,
   "metadata": {},
   "outputs": [],
   "source": [
    "D_var_list = [D_W1, D_b1, D_W2, D_b2]\n",
    "G_var_list = [G_W1, G_b1, G_W2, G_b2]"
   ]
  },
  {
   "cell_type": "code",
   "execution_count": 23,
   "metadata": {},
   "outputs": [],
   "source": [
    "train_D = tf.train.AdamOptimizer(learning_rate).minimize(-loss_D,\n",
    "                                                        var_list=D_var_list)\n",
    "train_G = tf.train.AdamOptimizer(learning_rate).minimize(-loss_G,\n",
    "                                                        var_list=G_var_list)"
   ]
  },
  {
   "cell_type": "code",
   "execution_count": 24,
   "metadata": {},
   "outputs": [],
   "source": [
    "sess = tf.Session()\n",
    "sess.run(tf.global_variables_initializer())\n",
    "\n",
    "total_batch = int(mnist.train.num_examples / batch_size)\n",
    "loss_val_D, loss_val_G = 0, 0"
   ]
  },
  {
   "cell_type": "code",
   "execution_count": null,
   "metadata": {},
   "outputs": [],
   "source": [
    "for epoch in range(total_epoch):\n",
    "    for i in range(total_batch):\n",
    "        batch_xs, batch_ys = mnist.train.next_batch(batch_size)\n",
    "        noise = get_noise(batch_size, n_noise)\n",
    "        \n",
    "        _, loss_val_D = sess.run([train_D, loss_D],\n",
    "                                 feed_dict = {X: batch_xs, Z: noise})\n",
    "        _, loss_val_G = sess.run([train_G, loss_G],\n",
    "                                 feed_dict = {Z: noise})\n",
    "        \n",
    "    print('Epoch:', '%04d' % epoch,\n",
    "        'D loss: {:.4}'.format(loss_val_D),\n",
    "        'G loss: {:.4}'.format(loss_val_G))"
   ]
  },
  {
   "cell_type": "code",
   "execution_count": 26,
   "metadata": {},
   "outputs": [],
   "source": [
    "if epoch == 0 or (epoch + 1) % 10 == 0:\n",
    "    sample_size = 10\n",
    "    noise = get_noise(sample_size, n_noise)\n",
    "    samples = sess.run(G, feed_dict = {Z: noise})\n",
    "    \n",
    "    fig, ax = plt.subplots(1, sample_size, figsize=(sample_size, 1))\n",
    "    \n",
    "    for i in range(sample_size):\n",
    "        ax[i].set_axis_off()\n",
    "        ax[i].imshow(np.reshape(samples[i], (28, 28)))\n",
    "        \n",
    "    plt.savefig('samples/{}.png'.format(str(epoch)))"
   ]
  },
  {
   "cell_type": "code",
   "execution_count": null,
   "metadata": {},
   "outputs": [],
   "source": []
  }
 ],
 "metadata": {
  "kernelspec": {
   "display_name": "Python 3",
   "language": "python",
   "name": "python3"
  },
  "language_info": {
   "codemirror_mode": {
    "name": "ipython",
    "version": 3
   },
   "file_extension": ".py",
   "mimetype": "text/x-python",
   "name": "python",
   "nbconvert_exporter": "python",
   "pygments_lexer": "ipython3",
   "version": "3.6.8"
  }
 },
 "nbformat": 4,
 "nbformat_minor": 2
}
