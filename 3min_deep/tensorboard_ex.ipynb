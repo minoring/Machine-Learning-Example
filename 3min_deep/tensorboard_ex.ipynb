{
 "cells": [
  {
   "cell_type": "code",
   "execution_count": 1,
   "metadata": {},
   "outputs": [],
   "source": [
    "import tensorflow as tf\n",
    "import numpy as np\n",
    "\n",
    "data = np.loadtxt('./data.csv', delimiter=',',\n",
    "                  unpack=True, dtype='float32')\n",
    "x_data = np.transpose(data[0:2])\n",
    "y_data = np.transpose(data[2:])"
   ]
  },
  {
   "cell_type": "code",
   "execution_count": 2,
   "metadata": {},
   "outputs": [
    {
     "name": "stdout",
     "output_type": "stream",
     "text": [
      "WARNING:tensorflow:From /anaconda3/envs/ml/lib/python3.6/site-packages/tensorflow/python/framework/op_def_library.py:263: colocate_with (from tensorflow.python.framework.ops) is deprecated and will be removed in a future version.\n",
      "Instructions for updating:\n",
      "Colocations handled automatically by placer.\n"
     ]
    }
   ],
   "source": [
    "global_step = tf.Variable(0, trainable=False, name='global_step')"
   ]
  },
  {
   "cell_type": "code",
   "execution_count": 3,
   "metadata": {},
   "outputs": [],
   "source": [
    "X = tf.placeholder(tf.float32)\n",
    "Y = tf.placeholder(tf.float32)\n",
    "\n",
    "with tf.name_scope('layer1'):\n",
    "    W1 = tf.Variable(tf.random_uniform([2, 10], -1., 1.), name='W1')\n",
    "    L1 = tf.nn.relu(tf.matmul(X, W1))\n",
    "\n",
    "with tf.name_scope('layer2'):\n",
    "    W2 = tf.Variable(tf.random_uniform([10, 20], -1., 1.), name='W2')\n",
    "    L2 = tf.nn.relu(tf.matmul(L1, W2))\n",
    "\n",
    "with tf.name_scope('output'):\n",
    "    W3 = tf.Variable(tf.random_uniform([20, 3], -1., 1.), name='W3')\n",
    "    model = tf.matmul(L2, W3)\n",
    "\n",
    "with tf.name_scope('optimizer'):\n",
    "    cost = tf.reduce_mean(\n",
    "        tf.nn.softmax_cross_entropy_with_logits_v2(labels=Y,\n",
    "                                                   logits=model))\n",
    "\n",
    "    optimizer = tf.train.AdamOptimizer(learning_rate=0.01)\n",
    "    train_op = optimizer.minimize(cost, global_step=global_step)"
   ]
  },
  {
   "cell_type": "code",
   "execution_count": 4,
   "metadata": {},
   "outputs": [
    {
     "data": {
      "text/plain": [
       "<tf.Tensor 'cost:0' shape=() dtype=string>"
      ]
     },
     "execution_count": 4,
     "metadata": {},
     "output_type": "execute_result"
    }
   ],
   "source": [
    "tf.summary.scalar('cost', cost)"
   ]
  },
  {
   "cell_type": "code",
   "execution_count": 5,
   "metadata": {},
   "outputs": [],
   "source": [
    "sess = tf.Session()\n",
    "saver = tf.train.Saver(tf.global_variables())"
   ]
  },
  {
   "cell_type": "code",
   "execution_count": 7,
   "metadata": {},
   "outputs": [],
   "source": [
    "ckpt = tf.train.get_checkpoint_state('./model')\n",
    "if ckpt and tf.train.checkpoint_exists(ckpt.model_checkpoint_path):\n",
    "    saver.restore(sess, ckpt.model_checkpoint_path)\n",
    "else:\n",
    "    sess.run(tf.global_variables_initializer())"
   ]
  },
  {
   "cell_type": "code",
   "execution_count": 10,
   "metadata": {},
   "outputs": [],
   "source": [
    "merged = tf.summary.merge_all()\n",
    "writer = tf.summary.FileWriter('./logs', sess.graph)"
   ]
  },
  {
   "cell_type": "code",
   "execution_count": 11,
   "metadata": {},
   "outputs": [
    {
     "name": "stdout",
     "output_type": "stream",
     "text": [
      "Step: 3,  Cost: 1.616688\n",
      "Step: 4,  Cost: 1.498244\n",
      "Step: 5,  Cost: 1.394814\n",
      "Step: 6,  Cost: 1.304067\n",
      "Step: 7,  Cost: 1.225103\n",
      "Step: 8,  Cost: 1.156908\n",
      "Step: 9,  Cost: 1.098591\n",
      "Step: 10,  Cost: 1.047167\n",
      "Step: 11,  Cost: 1.003380\n",
      "Step: 12,  Cost: 0.966646\n",
      "Step: 13,  Cost: 0.935756\n",
      "Step: 14,  Cost: 0.910038\n",
      "Step: 15,  Cost: 0.889336\n",
      "Step: 16,  Cost: 0.872261\n",
      "Step: 17,  Cost: 0.858054\n",
      "Step: 18,  Cost: 0.846335\n",
      "Step: 19,  Cost: 0.836567\n",
      "Step: 20,  Cost: 0.828206\n",
      "Step: 21,  Cost: 0.821052\n",
      "Step: 22,  Cost: 0.814881\n",
      "Step: 23,  Cost: 0.809539\n",
      "Step: 24,  Cost: 0.805299\n",
      "Step: 25,  Cost: 0.801443\n",
      "Step: 26,  Cost: 0.798068\n",
      "Step: 27,  Cost: 0.795248\n",
      "Step: 28,  Cost: 0.793056\n",
      "Step: 29,  Cost: 0.791552\n",
      "Step: 30,  Cost: 0.790771\n",
      "Step: 31,  Cost: 0.790521\n",
      "Step: 32,  Cost: 0.790759\n",
      "Step: 33,  Cost: 0.791423\n",
      "Step: 34,  Cost: 0.792443\n",
      "Step: 35,  Cost: 0.793748\n",
      "Step: 36,  Cost: 0.795260\n",
      "Step: 37,  Cost: 0.796906\n",
      "Step: 38,  Cost: 0.798614\n",
      "Step: 39,  Cost: 0.800321\n",
      "Step: 40,  Cost: 0.801967\n",
      "Step: 41,  Cost: 0.803507\n",
      "Step: 42,  Cost: 0.804900\n",
      "Step: 43,  Cost: 0.806100\n",
      "Step: 44,  Cost: 0.807103\n",
      "Step: 45,  Cost: 0.807907\n",
      "Step: 46,  Cost: 0.808513\n",
      "Step: 47,  Cost: 0.808928\n",
      "Step: 48,  Cost: 0.809166\n",
      "Step: 49,  Cost: 0.809244\n",
      "Step: 50,  Cost: 0.809182\n",
      "Step: 51,  Cost: 0.808725\n",
      "Step: 52,  Cost: 0.807438\n",
      "Step: 53,  Cost: 0.805875\n",
      "Step: 54,  Cost: 0.804009\n",
      "Step: 55,  Cost: 0.802407\n",
      "Step: 56,  Cost: 0.800688\n",
      "Step: 57,  Cost: 0.799070\n",
      "Step: 58,  Cost: 0.797615\n",
      "Step: 59,  Cost: 0.796361\n",
      "Step: 60,  Cost: 0.795330\n",
      "Step: 61,  Cost: 0.794523\n",
      "Step: 62,  Cost: 0.793923\n",
      "Step: 63,  Cost: 0.793502\n",
      "Step: 64,  Cost: 0.793216\n",
      "Step: 65,  Cost: 0.793015\n",
      "Step: 66,  Cost: 0.792844\n",
      "Step: 67,  Cost: 0.792647\n",
      "Step: 68,  Cost: 0.792377\n",
      "Step: 69,  Cost: 0.791997\n",
      "Step: 70,  Cost: 0.791491\n",
      "Step: 71,  Cost: 0.790858\n",
      "Step: 72,  Cost: 0.790117\n",
      "Step: 73,  Cost: 0.789300\n",
      "Step: 74,  Cost: 0.788444\n",
      "Step: 75,  Cost: 0.787590\n",
      "Step: 76,  Cost: 0.786772\n",
      "Step: 77,  Cost: 0.786020\n",
      "Step: 78,  Cost: 0.785353\n",
      "Step: 79,  Cost: 0.784781\n",
      "Step: 80,  Cost: 0.784308\n",
      "Step: 81,  Cost: 0.783930\n",
      "Step: 82,  Cost: 0.783639\n",
      "Step: 83,  Cost: 0.783427\n",
      "Step: 84,  Cost: 0.783282\n",
      "Step: 85,  Cost: 0.783192\n",
      "Step: 86,  Cost: 0.783146\n",
      "Step: 87,  Cost: 0.783131\n",
      "Step: 88,  Cost: 0.783134\n",
      "Step: 89,  Cost: 0.783144\n",
      "Step: 90,  Cost: 0.783150\n",
      "Step: 91,  Cost: 0.783141\n",
      "Step: 92,  Cost: 0.783110\n",
      "Step: 93,  Cost: 0.783055\n",
      "Step: 94,  Cost: 0.782973\n",
      "Step: 95,  Cost: 0.782868\n",
      "Step: 96,  Cost: 0.782745\n",
      "Step: 97,  Cost: 0.782611\n",
      "Step: 98,  Cost: 0.782474\n",
      "Step: 99,  Cost: 0.782341\n",
      "Step: 100,  Cost: 0.782218\n",
      "Step: 101,  Cost: 0.782095\n",
      "Step: 102,  Cost: 0.782035\n"
     ]
    }
   ],
   "source": [
    "for _ in range(100):\n",
    "    sess.run(train_op, feed_dict={X: x_data, Y: y_data})\n",
    "    \n",
    "    print('Step: %d, ' % sess.run(global_step),\n",
    "          'Cost: %3f'  % sess.run(cost, feed_dict={X: x_data, Y: y_data}))"
   ]
  },
  {
   "cell_type": "code",
   "execution_count": 14,
   "metadata": {},
   "outputs": [],
   "source": [
    "summary = sess.run(merged, feed_dict={X: x_data, Y: y_data})\n",
    "writer.add_summary(summary, global_step=sess.run(global_step))"
   ]
  },
  {
   "cell_type": "code",
   "execution_count": 16,
   "metadata": {},
   "outputs": [
    {
     "data": {
      "text/plain": [
       "'./model/dnn.ckpt-102'"
      ]
     },
     "execution_count": 16,
     "metadata": {},
     "output_type": "execute_result"
    }
   ],
   "source": [
    "saver.save(sess, './model/dnn.ckpt', global_step=global_step)"
   ]
  },
  {
   "cell_type": "code",
   "execution_count": 17,
   "metadata": {},
   "outputs": [
    {
     "name": "stdout",
     "output_type": "stream",
     "text": [
      "Predicition:  [0 1 2 0 0 2]\n",
      "Label:  [0 1 2 0 0 2]\n",
      "Accuracy: 1.00\n"
     ]
    }
   ],
   "source": [
    "prediction = tf.argmax(model, 1)\n",
    "target = tf.argmax(Y, 1)\n",
    "print('Predicition: ', sess.run(prediction, feed_dict={X: x_data}))\n",
    "print('Label: ', sess.run(target, feed_dict={Y: y_data}))\n",
    "\n",
    "is_correct = tf.equal(prediction, target)\n",
    "accuracy = tf.reduce_mean(tf.cast(is_correct, tf.float32))\n",
    "print('Accuracy: %.2f' % sess.run(accuracy, feed_dict={X: x_data, Y: y_data}))"
   ]
  },
  {
   "cell_type": "code",
   "execution_count": null,
   "metadata": {},
   "outputs": [],
   "source": []
  }
 ],
 "metadata": {
  "kernelspec": {
   "display_name": "Python 3",
   "language": "python",
   "name": "python3"
  },
  "language_info": {
   "codemirror_mode": {
    "name": "ipython",
    "version": 3
   },
   "file_extension": ".py",
   "mimetype": "text/x-python",
   "name": "python",
   "nbconvert_exporter": "python",
   "pygments_lexer": "ipython3",
   "version": "3.6.8"
  }
 },
 "nbformat": 4,
 "nbformat_minor": 2
}
