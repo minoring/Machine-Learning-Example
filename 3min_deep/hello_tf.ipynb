{
 "cells": [
  {
   "cell_type": "code",
   "execution_count": 1,
   "metadata": {},
   "outputs": [],
   "source": [
    "import tensorflow as tf"
   ]
  },
  {
   "cell_type": "code",
   "execution_count": 2,
   "metadata": {},
   "outputs": [
    {
     "name": "stdout",
     "output_type": "stream",
     "text": [
      "Tensor(\"Const:0\", shape=(), dtype=string)\n"
     ]
    }
   ],
   "source": [
    "hello = tf.constant('Hello, TensorFlow!')\n",
    "print(hello)"
   ]
  },
  {
   "cell_type": "code",
   "execution_count": 3,
   "metadata": {},
   "outputs": [
    {
     "name": "stdout",
     "output_type": "stream",
     "text": [
      "Tensor(\"Add:0\", shape=(), dtype=int32)\n"
     ]
    }
   ],
   "source": [
    "a = tf.constant(10)\n",
    "b = tf.constant(32)\n",
    "c = tf.add(a, b)\n",
    "print(c)"
   ]
  },
  {
   "cell_type": "code",
   "execution_count": 4,
   "metadata": {},
   "outputs": [
    {
     "name": "stdout",
     "output_type": "stream",
     "text": [
      "b'Hello, TensorFlow!'\n",
      "[10, 32, 42]\n"
     ]
    }
   ],
   "source": [
    "sess = tf.Session()\n",
    "\n",
    "print(sess.run(hello))\n",
    "print(sess.run([a, b, c]))\n",
    "\n",
    "sess.close()"
   ]
  },
  {
   "cell_type": "code",
   "execution_count": 6,
   "metadata": {},
   "outputs": [
    {
     "name": "stdout",
     "output_type": "stream",
     "text": [
      "Tensor(\"Placeholder:0\", shape=(?, 3), dtype=float32)\n"
     ]
    }
   ],
   "source": [
    "# None 은 크기가 정해지지 않았음을 의미\n",
    "# Place holder\n",
    "X = tf.placeholder(tf.float32, [None, 3])\n",
    "print(X)"
   ]
  },
  {
   "cell_type": "code",
   "execution_count": 7,
   "metadata": {},
   "outputs": [],
   "source": [
    "x_data = [[1, 2, 3], [4, 5, 6]]"
   ]
  },
  {
   "cell_type": "code",
   "execution_count": 25,
   "metadata": {},
   "outputs": [
    {
     "name": "stdout",
     "output_type": "stream",
     "text": [
      "<tf.Variable 'Variable_8:0' shape=(3, 2) dtype=float32_ref>\n"
     ]
    }
   ],
   "source": [
    "W = tf.Variable(tf.random_normal([3, 2]))\n",
    "b = tf.Variable(tf.random_normal([2, 1]))\n",
    "print(W)"
   ]
  },
  {
   "cell_type": "code",
   "execution_count": 9,
   "metadata": {},
   "outputs": [],
   "source": [
    "expr = tf.matmul(X, W) + b"
   ]
  },
  {
   "cell_type": "code",
   "execution_count": 12,
   "metadata": {},
   "outputs": [
    {
     "name": "stdout",
     "output_type": "stream",
     "text": [
      "===x_data===\n",
      "[[1, 2, 3], [4, 5, 6]]\n",
      "===W===\n",
      "[[ 0.67562765  1.1451643 ]\n",
      " [ 0.01155582 -0.7488072 ]\n",
      " [-2.6337466   0.6994884 ]]\n",
      "===b===\n",
      "[[ 0.96336997]\n",
      " [-1.510045  ]]\n",
      "===expr===\n",
      "[[ -6.2391305   2.709385 ]\n",
      " [-14.552236    3.5235062]]\n"
     ]
    }
   ],
   "source": [
    "sess = tf.Session()\n",
    "sess.run(tf.global_variables_initializer())\n",
    "\n",
    "print('===x_data===')\n",
    "print(x_data)\n",
    "print('===W===')\n",
    "print(sess.run(W))\n",
    "print('===b===')\n",
    "print(sess.run(b))\n",
    "print('===expr===')\n",
    "print(sess.run(expr, feed_dict={X: x_data}))\n",
    "\n",
    "sess.close()"
   ]
  },
  {
   "cell_type": "code",
   "execution_count": 13,
   "metadata": {},
   "outputs": [],
   "source": [
    "## Linear regression\n",
    "x_data = [1, 2, 3]\n",
    "y_data = [1, 2, 3]\n",
    "\n",
    "W = tf.Variable(tf.random_uniform([1], -1.0, 1.0))\n",
    "b = tf.Variable(tf.random_uniform([1], -1.0, 1.0))"
   ]
  },
  {
   "cell_type": "code",
   "execution_count": 16,
   "metadata": {},
   "outputs": [],
   "source": [
    "X = tf.placeholder(tf.float32, name='X')\n",
    "Y = tf.placeholder(tf.float32, name='Y')"
   ]
  },
  {
   "cell_type": "code",
   "execution_count": 17,
   "metadata": {},
   "outputs": [],
   "source": [
    "hypothesis = W * X + b"
   ]
  },
  {
   "cell_type": "code",
   "execution_count": 18,
   "metadata": {},
   "outputs": [],
   "source": [
    "cost = tf.reduce_mean(tf.square(hypothesis - Y))"
   ]
  },
  {
   "cell_type": "code",
   "execution_count": 19,
   "metadata": {},
   "outputs": [
    {
     "name": "stdout",
     "output_type": "stream",
     "text": [
      "WARNING:tensorflow:From /anaconda3/envs/ml/lib/python3.6/site-packages/tensorflow/python/ops/math_ops.py:3066: to_int32 (from tensorflow.python.ops.math_ops) is deprecated and will be removed in a future version.\n",
      "Instructions for updating:\n",
      "Use tf.cast instead.\n"
     ]
    }
   ],
   "source": [
    "optimizer = tf.train.GradientDescentOptimizer(learning_rate=0.1)\n",
    "train_op = optimizer.minimize(cost)"
   ]
  },
  {
   "cell_type": "code",
   "execution_count": 22,
   "metadata": {},
   "outputs": [
    {
     "name": "stdout",
     "output_type": "stream",
     "text": [
      "0 12.895633 [0.7159767] [1.0571475]\n",
      "1 0.2929992 [0.5582061] [0.95932734]\n",
      "2 0.13585773 [0.5868162] [0.9441795]\n",
      "3 0.12769355 [0.59478265] [0.9206171]\n",
      "4 0.12160751 [0.60473865] [0.8985806]\n",
      "5 0.1158309 [0.61421704] [0.87696904]\n",
      "6 0.11032883 [0.6234935] [0.8558884]\n",
      "7 0.105088115 [0.63254416] [0.8353133]\n",
      "8 0.10009632 [0.64137757] [0.815233]\n",
      "9 0.09534172 [0.64999866] [0.79563534]\n",
      "10 0.090812914 [0.65841246] [0.7765088]\n",
      "11 0.086499214 [0.66662395] [0.75784206]\n",
      "12 0.082390465 [0.67463815] [0.7396241]\n",
      "13 0.07847687 [0.6824596] [0.721844]\n",
      "14 0.07474912 [0.69009304] [0.7044914]\n",
      "15 0.07119849 [0.69754297] [0.6875559]\n",
      "16 0.06781653 [0.70481384] [0.67102754]\n",
      "17 0.06459517 [0.7119099] [0.6548965]\n",
      "18 0.06152684 [0.71883535] [0.63915324]\n",
      "19 0.05860429 [0.7255944] [0.6237885]\n",
      "20 0.055820584 [0.7321909] [0.608793]\n",
      "21 0.053169016 [0.7386288] [0.59415805]\n",
      "22 0.050643474 [0.7449121] [0.57987493]\n",
      "23 0.04823786 [0.75104415] [0.56593513]\n",
      "24 0.04594655 [0.75702894] [0.55233043]\n",
      "25 0.04376403 [0.7628698] [0.5390528]\n",
      "26 0.041685224 [0.76857024] [0.5260943]\n",
      "27 0.039705124 [0.77413356] [0.51344734]\n",
      "28 0.037819136 [0.7795633] [0.5011045]\n",
      "29 0.036022704 [0.78486246] [0.48905826]\n",
      "30 0.03431158 [0.79003423] [0.47730163]\n",
      "31 0.03268176 [0.7950816] [0.4658276]\n",
      "32 0.031129329 [0.8000077] [0.45462942]\n",
      "33 0.029650683 [0.8048154] [0.44370046]\n",
      "34 0.028242221 [0.8095074] [0.43303418]\n",
      "35 0.026900707 [0.8140868] [0.42262435]\n",
      "36 0.025622921 [0.8185561] [0.41246477]\n",
      "37 0.024405792 [0.8229178] [0.4025494]\n",
      "38 0.023246534 [0.8271748] [0.3928724]\n",
      "39 0.022142285 [0.83132935] [0.383428]\n",
      "40 0.021090502 [0.8353841] [0.37421066]\n",
      "41 0.020088706 [0.83934134] [0.36521488]\n",
      "42 0.019134479 [0.8432035] [0.35643536]\n",
      "43 0.018225573 [0.84697276] [0.3478669]\n",
      "44 0.01735983 [0.8506514] [0.3395044]\n",
      "45 0.016535213 [0.8542416] [0.33134294]\n",
      "46 0.015749795 [0.8577456] [0.3233777]\n",
      "47 0.015001674 [0.86116534] [0.31560394]\n",
      "48 0.014289066 [0.8645028] [0.30801702]\n",
      "49 0.013610343 [0.86776006] [0.3006125]\n",
      "50 0.012963851 [0.870939] [0.29338598]\n",
      "51 0.012348042 [0.87404156] [0.28633317]\n",
      "52 0.011761506 [0.87706953] [0.27944994]\n",
      "53 0.0112028085 [0.8800247] [0.27273214]\n",
      "54 0.010670688 [0.8829088] [0.26617584]\n",
      "55 0.0101638185 [0.8857236] [0.25977716]\n",
      "56 0.00968103 [0.8884707] [0.2535323]\n",
      "57 0.0092211785 [0.8911518] [0.24743755]\n",
      "58 0.00878317 [0.8937685] [0.24148934]\n",
      "59 0.008365949 [0.8963222] [0.23568407]\n",
      "60 0.007968561 [0.8988145] [0.23001838]\n",
      "61 0.0075900424 [0.9012469] [0.2244889]\n",
      "62 0.007229516 [0.9036209] [0.21909235]\n",
      "63 0.0068861046 [0.9059378] [0.21382554]\n",
      "64 0.006559014 [0.90819895] [0.20868531]\n",
      "65 0.006247446 [0.91040576] [0.20366865]\n",
      "66 0.0059506986 [0.91255957] [0.19877261]\n",
      "67 0.0056680287 [0.9146616] [0.19399425]\n",
      "68 0.0053987964 [0.9167131] [0.18933077]\n",
      "69 0.0051423577 [0.91871524] [0.18477938]\n",
      "70 0.0048980867 [0.92066926] [0.1803374]\n",
      "71 0.004665421 [0.92257637] [0.17600222]\n",
      "72 0.00444381 [0.9244375] [0.17177123]\n",
      "73 0.00423273 [0.926254] [0.16764197]\n",
      "74 0.0040316735 [0.92802685] [0.163612]\n",
      "75 0.0038401652 [0.929757] [0.15967886]\n",
      "76 0.003657752 [0.9314456] [0.1558403]\n",
      "77 0.003484003 [0.93309355] [0.15209398]\n",
      "78 0.0033185165 [0.934702] [0.14843777]\n",
      "79 0.0031608834 [0.93627167] [0.14486942]\n",
      "80 0.0030107412 [0.9378037] [0.14138688]\n",
      "81 0.0028677266 [0.9392988] [0.13798803]\n",
      "82 0.0027315065 [0.94075805] [0.1346709]\n",
      "83 0.0026017544 [0.9421822] [0.13143349]\n",
      "84 0.0024781688 [0.94357204] [0.1282739]\n",
      "85 0.0023604592 [0.9449285] [0.12519029]\n",
      "86 0.0022483363 [0.94625247] [0.12218083]\n",
      "87 0.0021415313 [0.94754446] [0.11924366]\n",
      "88 0.002039814 [0.9488055] [0.11637716]\n",
      "89 0.0019429236 [0.95003617] [0.11357953]\n",
      "90 0.0018506264 [0.95123726] [0.11084915]\n",
      "91 0.0017627253 [0.95240945] [0.1081844]\n",
      "92 0.0016789961 [0.95355356] [0.10558374]\n",
      "93 0.0015992448 [0.95467013] [0.10304558]\n",
      "94 0.0015232755 [0.9557598] [0.10056843]\n",
      "95 0.0014509152 [0.9568232] [0.0981508]\n",
      "96 0.001382003 [0.95786124] [0.09579136]\n",
      "97 0.0013163532 [0.95887417] [0.09348858]\n",
      "98 0.001253825 [0.9598628] [0.0912412]\n",
      "99 0.0011942671 [0.9608277] [0.08904783]\n",
      "X: 5, Y: [4.8931866]\n",
      "X: 2.5, Y: [2.4911172]\n"
     ]
    }
   ],
   "source": [
    "with tf.Session() as sess:\n",
    "    sess.run(tf.global_variables_initializer())\n",
    "    for step in range(100):\n",
    "        _, cost_val = sess.run([train_op, cost], feed_dict={X: x_data,\n",
    "                                                           Y: y_data})\n",
    "        print(step, cost_val, sess.run(W), sess.run(b))\n",
    "    \n",
    "    print('X: 5, Y:', sess.run(hypothesis, feed_dict={X: 5}))\n",
    "    print('X: 2.5, Y:', sess.run(hypothesis, feed_dict={X: 2.5}))"
   ]
  }
 ],
 "metadata": {
  "kernelspec": {
   "display_name": "Python 3",
   "language": "python",
   "name": "python3"
  },
  "language_info": {
   "codemirror_mode": {
    "name": "ipython",
    "version": 3
   },
   "file_extension": ".py",
   "mimetype": "text/x-python",
   "name": "python",
   "nbconvert_exporter": "python",
   "pygments_lexer": "ipython3",
   "version": "3.6.8"
  }
 },
 "nbformat": 4,
 "nbformat_minor": 2
}
