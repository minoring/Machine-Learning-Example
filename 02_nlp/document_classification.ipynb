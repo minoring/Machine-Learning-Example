{
 "cells": [
  {
   "cell_type": "code",
   "execution_count": 1,
   "metadata": {},
   "outputs": [],
   "source": [
    "import csv\n",
    "import pickle\n",
    "import gensim\n",
    "\n",
    "from gensim import models\n",
    "from sklearn.linear_model import LogisticRegression\n",
    "from sklearn.model_selection import train_test_split\n",
    "from sklearn.metrics import classification_report\n",
    "from sklearn.metrics import confusion_matrix"
   ]
  },
  {
   "cell_type": "code",
   "execution_count": 2,
   "metadata": {},
   "outputs": [],
   "source": [
    "dataset_file_name = './dataset/corpus.csv'\n",
    "model_file_name = 'logistic.pk1'"
   ]
  },
  {
   "cell_type": "code",
   "execution_count": 3,
   "metadata": {},
   "outputs": [],
   "source": [
    "# Change csv file format\n",
    "\n",
    "with open(dataset_file_name, 'r') as f:\n",
    "    csv.field_size_limit(1000000)\n",
    "    document_sentence_data = list(csv.reader(f))"
   ]
  },
  {
   "cell_type": "code",
   "execution_count": 4,
   "metadata": {},
   "outputs": [],
   "source": [
    "texts = []\n",
    "label_ids = []\n",
    "id_of_label = {}\n",
    "IDX_OF_LABEL, IDX_OF_SENTENCES = 0, 1\n",
    "sum_letters = []\n",
    "\n",
    "for counter, row in enumerate(document_sentence_data):\n",
    "    if counter == 0:\n",
    "        continue\n",
    "        \n",
    "    label = row[IDX_OF_LABEL]\n",
    "    \n",
    "    if label not in id_of_label:\n",
    "        # If Label dose not have id (e.g. 1, 2, ...) create id.\n",
    "        id_of_label[label] = len(id_of_label)\n",
    "    \n",
    "    label_ids.append(id_of_label[label])\n",
    "    word_list = row[IDX_OF_SENTENCES].split(' ')\n",
    "    texts.append(word_list)\n",
    "\n",
    "label_of_id = { ids: label for label, ids in id_of_label.items() }\n"
   ]
  },
  {
   "cell_type": "code",
   "execution_count": 5,
   "metadata": {},
   "outputs": [],
   "source": [
    "# Split train data and test data.\n",
    "X_train_texts, X_test_texts, y_train, y_test = \\\n",
    "        train_test_split(\n",
    "            texts, \n",
    "            label_ids, \n",
    "            test_size=0.2,\n",
    "            random_state=42)\n"
   ]
  },
  {
   "cell_type": "code",
   "execution_count": 6,
   "metadata": {},
   "outputs": [],
   "source": [
    "# From training text data, create matrix which weighed TF-IDF.\n",
    "\n",
    "text_data_dic = gensim.corpora.Dictionary(X_train_texts)\n",
    "\n",
    "# Create corpus Bag of words of dictionary of texts.\n",
    "corpus = [ text_data_dic.doc2bow(text) for text in X_train_texts ]\n",
    "\n",
    "# Weight corpus using TF-IDF.\n",
    "tfidf_model = models.TfidfModel(corpus)\n",
    "tfidf_corpus = tfidf_model[corpus]\n",
    "\n",
    "num_words = len(text_data_dic)\n",
    "X_train_tfidf = gensim.matutils.corpus2dense(\n",
    "        tfidf_corpus, \n",
    "        num_terms=num_words,\n",
    "        ).T"
   ]
  },
  {
   "cell_type": "code",
   "execution_count": 7,
   "metadata": {},
   "outputs": [],
   "source": [
    "# From text data, create matrix which weighed by TF-IDF\n",
    "\n",
    "corpus = [ text_data_dic.doc2bow(text) for text in X_test_texts ]\n",
    "\n",
    "# Weight corpus using TF-IDF.\n",
    "tfidf_corpus = tfidf_model[corpus]\n",
    "\n",
    "num_words = len(text_data_dic)\n",
    "X_test_tfidf = gensim.matutils.corpus2dense(\n",
    "        tfidf_corpus, \n",
    "        num_terms=num_words,\n",
    "        ).T"
   ]
  },
  {
   "cell_type": "code",
   "execution_count": 8,
   "metadata": {},
   "outputs": [
    {
     "name": "stderr",
     "output_type": "stream",
     "text": [
      "/anaconda3/envs/myenv/lib/python3.6/site-packages/sklearn/linear_model/logistic.py:433: FutureWarning: Default solver will be changed to 'lbfgs' in 0.22. Specify a solver to silence this warning.\n",
      "  FutureWarning)\n"
     ]
    },
    {
     "data": {
      "text/plain": [
       "LogisticRegression(C=1, class_weight=None, dual=False, fit_intercept=True,\n",
       "          intercept_scaling=1, max_iter=100, multi_class='warn',\n",
       "          n_jobs=None, penalty='l2', random_state=None, solver='warn',\n",
       "          tol=0.0001, verbose=0, warm_start=False)"
      ]
     },
     "execution_count": 8,
     "metadata": {},
     "output_type": "execute_result"
    }
   ],
   "source": [
    "clf = LogisticRegression(C=1)\n",
    "clf.fit(X_train_tfidf, y_train)"
   ]
  },
  {
   "cell_type": "code",
   "execution_count": 9,
   "metadata": {},
   "outputs": [
    {
     "name": "stdout",
     "output_type": "stream",
     "text": [
      "              precision    recall  f1-score   support\n",
      "\n",
      "  humanities       0.92      0.87      0.90       460\n",
      "     science       0.87      0.92      0.89       434\n",
      "\n",
      "   micro avg       0.89      0.89      0.89       894\n",
      "   macro avg       0.90      0.90      0.89       894\n",
      "weighted avg       0.90      0.89      0.89       894\n",
      "\n",
      "[[402  58]\n",
      " [ 36 398]]\n"
     ]
    }
   ],
   "source": [
    "# Evaluate classifier using test data.\n",
    "y_pred = clf.predict(X_test_tfidf)\n",
    "target_names = list(label_of_id.values())\n",
    "\n",
    "print(classification_report(\n",
    "    y_test,\n",
    "    y_pred,\n",
    "    target_names=target_names))\n",
    "\n",
    "print(confusion_matrix(y_test, y_pred))"
   ]
  },
  {
   "cell_type": "code",
   "execution_count": null,
   "metadata": {},
   "outputs": [],
   "source": []
  },
  {
   "cell_type": "code",
   "execution_count": null,
   "metadata": {},
   "outputs": [],
   "source": []
  },
  {
   "cell_type": "code",
   "execution_count": null,
   "metadata": {},
   "outputs": [],
   "source": []
  }
 ],
 "metadata": {
  "kernelspec": {
   "display_name": "Python 3",
   "language": "python",
   "name": "python3"
  },
  "language_info": {
   "codemirror_mode": {
    "name": "ipython",
    "version": 3
   },
   "file_extension": ".py",
   "mimetype": "text/x-python",
   "name": "python",
   "nbconvert_exporter": "python",
   "pygments_lexer": "ipython3",
   "version": "3.6.8"
  }
 },
 "nbformat": 4,
 "nbformat_minor": 2
}
